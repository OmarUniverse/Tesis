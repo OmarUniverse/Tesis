{
 "cells": [
  {
   "cell_type": "markdown",
   "metadata": {},
   "source": [
    "# Papapetrou spacetime: basic computations\n",
    "\n",
    "This notebook shows how to use SageMath to compute the Christoffel symbols of the metric with respect to standard coordinates in Schwarzschild spacetime, as well as the Riemann curvature tensor and the Kretschmann scalar. The corresponding tools have been developed within the [SageManifolds](https://sagemanifolds.obspm.fr) project.\n",
    "\n",
    "A more advanced notebook about Schwarzschild spacetime, involving many coordinate charts, more tensor calculus and graphical outputs, is available [here](http://nbviewer.jupyter.org/github/sagemanifolds/SageManifolds/blob/master/Worksheets/v1.3/SM_Schwarzschild.ipynb).\n",
    "\n",
    "Click [here](https://raw.githubusercontent.com/sagemanifolds/SageManifolds/master/Worksheets/v1.3/SM_basic_Schwarzschild.ipynb) to download the notebook file (ipynb format). To run it, you must start SageMath with the Jupyter interface, via the command `sage -n jupyter`"
   ]
  },
  {
   "cell_type": "markdown",
   "metadata": {},
   "source": [
    "*NB:* a version of SageMath at least equal to 8.2 is required to run this notebook:"
   ]
  },
  {
   "cell_type": "code",
   "execution_count": 1,
   "metadata": {},
   "outputs": [
    {
     "data": {
      "text/plain": [
       "'SageMath version 9.1, Release Date: 2020-05-20'"
      ]
     },
     "execution_count": 1,
     "metadata": {},
     "output_type": "execute_result"
    }
   ],
   "source": [
    "version()"
   ]
  },
  {
   "cell_type": "code",
   "execution_count": 2,
   "metadata": {},
   "outputs": [],
   "source": [
    "from sage.manifolds.operators import grad"
   ]
  },
  {
   "cell_type": "code",
   "execution_count": 3,
   "metadata": {},
   "outputs": [],
   "source": [
    "from sage.manifolds.operators import div"
   ]
  },
  {
   "cell_type": "code",
   "execution_count": 4,
   "metadata": {},
   "outputs": [],
   "source": [
    "from sage.manifolds.operators import laplacian"
   ]
  },
  {
   "cell_type": "markdown",
   "metadata": {},
   "source": [
    "First we set up the notebook to display mathematical objects via LaTeX rendering:"
   ]
  },
  {
   "cell_type": "code",
   "execution_count": 81,
   "metadata": {},
   "outputs": [],
   "source": [
    "%display latex\n"
   ]
  },
  {
   "cell_type": "markdown",
   "metadata": {},
   "source": [
    "## Spacetime manifold\n",
    "\n",
    "We declare the spacetime manifold as a 4-dimensional Lorentzian manifold:"
   ]
  },
  {
   "cell_type": "code",
   "execution_count": 6,
   "metadata": {},
   "outputs": [
    {
     "name": "stdout",
     "output_type": "stream",
     "text": [
      "4-dimensional Lorentzian manifold M\n"
     ]
    }
   ],
   "source": [
    "M = Manifold(4, 'M', structure='Lorentzian')\n",
    "print(M)"
   ]
  },
  {
   "cell_type": "markdown",
   "metadata": {},
   "source": [
    "## Standard coordinates\n",
    "\n",
    "The standard **Schwarzschild-Droste coordinates** are introduced via the method `chart()` applied to the manifold object `M`. Note that the argument of `chart()` is a raw string (hence the prefix `r` in front of it), which \n",
    "defines the range of each coordinate, if different from $(-\\infty, +\\infty)$, as well as its LaTeX symbol, if different from the Python symbol to denote the coordinate. The Python variables for each coordinate are declared within the `<...>` operator on the left-hand side, `X` denoting the Python variable chosen for the coordinate chart."
   ]
  },
  {
   "cell_type": "code",
   "execution_count": 7,
   "metadata": {},
   "outputs": [
    {
     "data": {
      "text/html": [
       "<html><script type=\"math/tex; mode=display\">\\newcommand{\\Bold}[1]{\\mathbf{#1}}\\left(M,(t, {\\rho}, {\\phi}, z)\\right)</script></html>"
      ],
      "text/plain": [
       "Chart (M, (t, rh, ph, z))"
      ]
     },
     "execution_count": 7,
     "metadata": {},
     "output_type": "execute_result"
    }
   ],
   "source": [
    "X.<t,rh,ph,z> = M.chart(r\"t rh:(0,+oo):\\rho ph:(0,2*pi):\\phi z:(-oo,+oo)\")\n",
    "X"
   ]
  },
  {
   "cell_type": "code",
   "execution_count": 8,
   "metadata": {},
   "outputs": [
    {
     "data": {
      "text/html": [
       "<html><script type=\"math/tex; mode=display\">\\newcommand{\\Bold}[1]{\\mathbf{#1}}\\left(t, {\\rho}, {\\phi}, z\\right)</script></html>"
      ],
      "text/plain": [
       "(t, rh, ph, z)"
      ]
     },
     "execution_count": 8,
     "metadata": {},
     "output_type": "execute_result"
    }
   ],
   "source": [
    "X[:]"
   ]
  },
  {
   "cell_type": "code",
   "execution_count": 9,
   "metadata": {},
   "outputs": [
    {
     "data": {
      "text/html": [
       "<html><script type=\"math/tex; mode=display\">\\newcommand{\\Bold}[1]{\\mathbf{#1}}\\left({\\rho}, z\\right)</script></html>"
      ],
      "text/plain": [
       "(rh, z)"
      ]
     },
     "execution_count": 9,
     "metadata": {},
     "output_type": "execute_result"
    }
   ],
   "source": [
    "X[1], X[3]"
   ]
  },
  {
   "cell_type": "markdown",
   "metadata": {},
   "source": [
    "## Metric tensor\n",
    "\n",
    "We introduce first the mass parameter $m$ as a symbolic variable, via the function `var()`:"
   ]
  },
  {
   "cell_type": "code",
   "execution_count": 67,
   "metadata": {},
   "outputs": [
    {
     "data": {
      "text/html": [
       "<html><script type=\"math/tex; mode=display\">\\newcommand{\\Bold}[1]{\\mathbf{#1}}g = -f\\left({\\rho}, z\\right) \\mathrm{d} t\\otimes \\mathrm{d} t + \\frac{e^{\\left(2 \\, r\\left({\\rho}, z\\right)\\right)}}{f\\left({\\rho}, z\\right)} \\mathrm{d} {\\rho}\\otimes \\mathrm{d} {\\rho} + \\frac{{\\rho}^{2}}{f\\left({\\rho}, z\\right)} \\mathrm{d} {\\phi}\\otimes \\mathrm{d} {\\phi} + \\frac{e^{\\left(2 \\, r\\left({\\rho}, z\\right)\\right)}}{f\\left({\\rho}, z\\right)} \\mathrm{d} z\\otimes \\mathrm{d} z</script></html>"
      ],
      "text/plain": [
       "g = -f(rh, z) dt*dt + e^(2*r(rh, z))/f(rh, z) drh*drh + rh^2/f(rh, z) dph*dph + e^(2*r(rh, z))/f(rh, z) dz*dz"
      ]
     },
     "execution_count": 67,
     "metadata": {},
     "output_type": "execute_result"
    }
   ],
   "source": [
    "g = M.metric('g')\n",
    "f = function('f')\n",
    "r = function('r')\n",
    "g[0,0] = -f(rh,z)\n",
    "g[1,1] = 1/f(rh,z)*exp(2*r(rh,z))\n",
    "g[2,2] = 1/f(rh,z)*rh^2\n",
    "g[3,3] = 1/f(rh,z) *exp(2*r(rh,z))\n",
    "g.display()"
   ]
  },
  {
   "cell_type": "markdown",
   "metadata": {},
   "source": [
    "The metric tensor of the Lorentzian manifold `M` is returned by the method `metric()`; we initialize its components in the chart `X`, which is the default (unique) chart on `M`:"
   ]
  },
  {
   "cell_type": "markdown",
   "metadata": {},
   "source": [
    "Viewing the metric components as a matrix:"
   ]
  },
  {
   "cell_type": "code",
   "execution_count": 68,
   "metadata": {},
   "outputs": [
    {
     "data": {
      "text/html": [
       "<html><script type=\"math/tex; mode=display\">\\newcommand{\\Bold}[1]{\\mathbf{#1}}\\left(\\begin{array}{rrrr}\n",
       "-f\\left({\\rho}, z\\right) & 0 & 0 & 0 \\\\\n",
       "0 & \\frac{e^{\\left(2 \\, r\\left({\\rho}, z\\right)\\right)}}{f\\left({\\rho}, z\\right)} & 0 & 0 \\\\\n",
       "0 & 0 & \\frac{{\\rho}^{2}}{f\\left({\\rho}, z\\right)} & 0 \\\\\n",
       "0 & 0 & 0 & \\frac{e^{\\left(2 \\, r\\left({\\rho}, z\\right)\\right)}}{f\\left({\\rho}, z\\right)}\n",
       "\\end{array}\\right)</script></html>"
      ],
      "text/plain": [
       "[              -f(rh, z)                       0                       0                       0]\n",
       "[                      0 e^(2*r(rh, z))/f(rh, z)                       0                       0]\n",
       "[                      0                       0           rh^2/f(rh, z)                       0]\n",
       "[                      0                       0                       0 e^(2*r(rh, z))/f(rh, z)]"
      ]
     },
     "execution_count": 68,
     "metadata": {},
     "output_type": "execute_result"
    }
   ],
   "source": [
    "g[:]"
   ]
  },
  {
   "cell_type": "markdown",
   "metadata": {},
   "source": [
    "Accessing to a specific component:"
   ]
  },
  {
   "cell_type": "code",
   "execution_count": 69,
   "metadata": {},
   "outputs": [
    {
     "data": {
      "text/html": [
       "<html><script type=\"math/tex; mode=display\">\\newcommand{\\Bold}[1]{\\mathbf{#1}}-f\\left({\\rho}, z\\right)</script></html>"
      ],
      "text/plain": [
       "-f(rh, z)"
      ]
     },
     "execution_count": 69,
     "metadata": {},
     "output_type": "execute_result"
    }
   ],
   "source": [
    "g[0,0]"
   ]
  },
  {
   "cell_type": "markdown",
   "metadata": {},
   "source": [
    "## Christoffel symbols\n",
    "\n",
    "The Christoffel symbols of $g$ with respect to the Schwarzschild-Droste coordinates are\n",
    "printed by the method `christoffel_symbols_display()` applied to the metric object `g`. By \n",
    "default, only the nonzero symbols and the nonredundant ones (taking into account the symmetry of the last two indices) are displayed. Type `g.christoffel_symbols_display?` to see all possible options."
   ]
  },
  {
   "cell_type": "code",
   "execution_count": 70,
   "metadata": {},
   "outputs": [
    {
     "data": {
      "text/html": [
       "<html><script type=\"math/tex; mode=display\">\\newcommand{\\Bold}[1]{\\mathbf{#1}}\\begin{array}{lcl} \\Gamma_{ \\phantom{\\, t} \\, t \\, {\\rho} }^{ \\, t \\phantom{\\, t} \\phantom{\\, {\\rho}} } & = & \\frac{\\frac{\\partial\\,f}{\\partial {\\rho}}}{2 \\, f\\left({\\rho}, z\\right)} \\\\ \\Gamma_{ \\phantom{\\, t} \\, t \\, z }^{ \\, t \\phantom{\\, t} \\phantom{\\, z} } & = & \\frac{\\frac{\\partial\\,f}{\\partial z}}{2 \\, f\\left({\\rho}, z\\right)} \\\\ \\Gamma_{ \\phantom{\\, {\\rho}} \\, t \\, t }^{ \\, {\\rho} \\phantom{\\, t} \\phantom{\\, t} } & = & \\frac{1}{2} \\, e^{\\left(-2 \\, r\\left({\\rho}, z\\right)\\right)} f\\left({\\rho}, z\\right) \\frac{\\partial\\,f}{\\partial {\\rho}} \\\\ \\Gamma_{ \\phantom{\\, {\\rho}} \\, {\\rho} \\, {\\rho} }^{ \\, {\\rho} \\phantom{\\, {\\rho}} \\phantom{\\, {\\rho}} } & = & \\frac{2 \\, f\\left({\\rho}, z\\right) \\frac{\\partial\\,r}{\\partial {\\rho}} - \\frac{\\partial\\,f}{\\partial {\\rho}}}{2 \\, f\\left({\\rho}, z\\right)} \\\\ \\Gamma_{ \\phantom{\\, {\\rho}} \\, {\\rho} \\, z }^{ \\, {\\rho} \\phantom{\\, {\\rho}} \\phantom{\\, z} } & = & \\frac{2 \\, f\\left({\\rho}, z\\right) \\frac{\\partial\\,r}{\\partial z} - \\frac{\\partial\\,f}{\\partial z}}{2 \\, f\\left({\\rho}, z\\right)} \\\\ \\Gamma_{ \\phantom{\\, {\\rho}} \\, {\\phi} \\, {\\phi} }^{ \\, {\\rho} \\phantom{\\, {\\phi}} \\phantom{\\, {\\phi}} } & = & \\frac{{\\left({\\rho}^{2} \\frac{\\partial\\,f}{\\partial {\\rho}} - 2 \\, {\\rho} f\\left({\\rho}, z\\right)\\right)} e^{\\left(-2 \\, r\\left({\\rho}, z\\right)\\right)}}{2 \\, f\\left({\\rho}, z\\right)} \\\\ \\Gamma_{ \\phantom{\\, {\\rho}} \\, z \\, z }^{ \\, {\\rho} \\phantom{\\, z} \\phantom{\\, z} } & = & -\\frac{2 \\, f\\left({\\rho}, z\\right) \\frac{\\partial\\,r}{\\partial {\\rho}} - \\frac{\\partial\\,f}{\\partial {\\rho}}}{2 \\, f\\left({\\rho}, z\\right)} \\\\ \\Gamma_{ \\phantom{\\, {\\phi}} \\, {\\rho} \\, {\\phi} }^{ \\, {\\phi} \\phantom{\\, {\\rho}} \\phantom{\\, {\\phi}} } & = & -\\frac{{\\rho} \\frac{\\partial\\,f}{\\partial {\\rho}} - 2 \\, f\\left({\\rho}, z\\right)}{2 \\, {\\rho} f\\left({\\rho}, z\\right)} \\\\ \\Gamma_{ \\phantom{\\, {\\phi}} \\, {\\phi} \\, z }^{ \\, {\\phi} \\phantom{\\, {\\phi}} \\phantom{\\, z} } & = & -\\frac{\\frac{\\partial\\,f}{\\partial z}}{2 \\, f\\left({\\rho}, z\\right)} \\\\ \\Gamma_{ \\phantom{\\, z} \\, t \\, t }^{ \\, z \\phantom{\\, t} \\phantom{\\, t} } & = & \\frac{1}{2} \\, e^{\\left(-2 \\, r\\left({\\rho}, z\\right)\\right)} f\\left({\\rho}, z\\right) \\frac{\\partial\\,f}{\\partial z} \\\\ \\Gamma_{ \\phantom{\\, z} \\, {\\rho} \\, {\\rho} }^{ \\, z \\phantom{\\, {\\rho}} \\phantom{\\, {\\rho}} } & = & -\\frac{2 \\, f\\left({\\rho}, z\\right) \\frac{\\partial\\,r}{\\partial z} - \\frac{\\partial\\,f}{\\partial z}}{2 \\, f\\left({\\rho}, z\\right)} \\\\ \\Gamma_{ \\phantom{\\, z} \\, {\\rho} \\, z }^{ \\, z \\phantom{\\, {\\rho}} \\phantom{\\, z} } & = & \\frac{2 \\, f\\left({\\rho}, z\\right) \\frac{\\partial\\,r}{\\partial {\\rho}} - \\frac{\\partial\\,f}{\\partial {\\rho}}}{2 \\, f\\left({\\rho}, z\\right)} \\\\ \\Gamma_{ \\phantom{\\, z} \\, {\\phi} \\, {\\phi} }^{ \\, z \\phantom{\\, {\\phi}} \\phantom{\\, {\\phi}} } & = & \\frac{{\\rho}^{2} e^{\\left(-2 \\, r\\left({\\rho}, z\\right)\\right)} \\frac{\\partial\\,f}{\\partial z}}{2 \\, f\\left({\\rho}, z\\right)} \\\\ \\Gamma_{ \\phantom{\\, z} \\, z \\, z }^{ \\, z \\phantom{\\, z} \\phantom{\\, z} } & = & \\frac{2 \\, f\\left({\\rho}, z\\right) \\frac{\\partial\\,r}{\\partial z} - \\frac{\\partial\\,f}{\\partial z}}{2 \\, f\\left({\\rho}, z\\right)} \\end{array}</script></html>"
      ],
      "text/plain": [
       "Gam^t_t,rh = 1/2*d(f)/drh/f(rh, z) \n",
       "Gam^t_t,z = 1/2*d(f)/dz/f(rh, z) \n",
       "Gam^rh_t,t = 1/2*e^(-2*r(rh, z))*f(rh, z)*d(f)/drh \n",
       "Gam^rh_rh,rh = 1/2*(2*f(rh, z)*d(r)/drh - d(f)/drh)/f(rh, z) \n",
       "Gam^rh_rh,z = 1/2*(2*f(rh, z)*d(r)/dz - d(f)/dz)/f(rh, z) \n",
       "Gam^rh_ph,ph = 1/2*(rh^2*d(f)/drh - 2*rh*f(rh, z))*e^(-2*r(rh, z))/f(rh, z) \n",
       "Gam^rh_z,z = -1/2*(2*f(rh, z)*d(r)/drh - d(f)/drh)/f(rh, z) \n",
       "Gam^ph_rh,ph = -1/2*(rh*d(f)/drh - 2*f(rh, z))/(rh*f(rh, z)) \n",
       "Gam^ph_ph,z = -1/2*d(f)/dz/f(rh, z) \n",
       "Gam^z_t,t = 1/2*e^(-2*r(rh, z))*f(rh, z)*d(f)/dz \n",
       "Gam^z_rh,rh = -1/2*(2*f(rh, z)*d(r)/dz - d(f)/dz)/f(rh, z) \n",
       "Gam^z_rh,z = 1/2*(2*f(rh, z)*d(r)/drh - d(f)/drh)/f(rh, z) \n",
       "Gam^z_ph,ph = 1/2*rh^2*e^(-2*r(rh, z))*d(f)/dz/f(rh, z) \n",
       "Gam^z_z,z = 1/2*(2*f(rh, z)*d(r)/dz - d(f)/dz)/f(rh, z) "
      ]
     },
     "execution_count": 70,
     "metadata": {},
     "output_type": "execute_result"
    }
   ],
   "source": [
    "g.christoffel_symbols_display()"
   ]
  },
  {
   "cell_type": "markdown",
   "metadata": {},
   "source": [
    "Accessing to a Christoffel symbol specified by its indices:"
   ]
  },
  {
   "cell_type": "code",
   "execution_count": 71,
   "metadata": {},
   "outputs": [
    {
     "data": {
      "text/html": [
       "<html><script type=\"math/tex; mode=display\">\\newcommand{\\Bold}[1]{\\mathbf{#1}}\\frac{\\frac{\\partial\\,f}{\\partial {\\rho}}}{2 \\, f\\left({\\rho}, z\\right)}</script></html>"
      ],
      "text/plain": [
       "1/2*d(f)/drh/f(rh, z)"
      ]
     },
     "execution_count": 71,
     "metadata": {},
     "output_type": "execute_result"
    }
   ],
   "source": [
    "g.christoffel_symbols()[0,0,1]"
   ]
  },
  {
   "cell_type": "markdown",
   "metadata": {},
   "source": [
    "Checking the symmetry on the last two indices:"
   ]
  },
  {
   "cell_type": "code",
   "execution_count": 72,
   "metadata": {},
   "outputs": [
    {
     "data": {
      "text/html": [
       "<html><script type=\"math/tex; mode=display\">\\newcommand{\\Bold}[1]{\\mathbf{#1}}\\mathrm{True}</script></html>"
      ],
      "text/plain": [
       "True"
      ]
     },
     "execution_count": 72,
     "metadata": {},
     "output_type": "execute_result"
    }
   ],
   "source": [
    "g.christoffel_symbols()[0,0,1] == g.christoffel_symbols()[0,1,0]"
   ]
  },
  {
   "cell_type": "markdown",
   "metadata": {},
   "source": [
    "## Cálculo del tensor de Ricci\n",
    "\n"
   ]
  },
  {
   "cell_type": "code",
   "execution_count": 73,
   "metadata": {},
   "outputs": [
    {
     "data": {
      "text/html": [
       "<html><script type=\"math/tex; mode=display\">\\newcommand{\\Bold}[1]{\\mathbf{#1}}\\mathrm{Ric}\\left(g\\right)</script></html>"
      ],
      "text/plain": [
       "Field of symmetric bilinear forms Ric(g) on the 4-dimensional Lorentzian manifold M"
      ]
     },
     "execution_count": 73,
     "metadata": {},
     "output_type": "execute_result"
    }
   ],
   "source": [
    "g.ricci()"
   ]
  },
  {
   "cell_type": "code",
   "execution_count": 74,
   "metadata": {},
   "outputs": [
    {
     "data": {
      "text/html": [
       "<html><script type=\"math/tex; mode=display\">\\newcommand{\\Bold}[1]{\\mathbf{#1}}\\mathrm{Ric}\\left(g\\right) = -\\frac{{\\left({\\rho} \\left(\\frac{\\partial\\,f}{\\partial {\\rho}}\\right)^{2} - {\\rho} f\\left({\\rho}, z\\right) \\frac{\\partial^2\\,f}{\\partial {\\rho} ^ 2} + {\\rho} \\left(\\frac{\\partial\\,f}{\\partial z}\\right)^{2} - {\\rho} f\\left({\\rho}, z\\right) \\frac{\\partial^2\\,f}{\\partial z ^ 2} - f\\left({\\rho}, z\\right) \\frac{\\partial\\,f}{\\partial {\\rho}}\\right)} e^{\\left(-2 \\, r\\left({\\rho}, z\\right)\\right)}}{2 \\, {\\rho}} \\mathrm{d} t\\otimes \\mathrm{d} t + \\left( -\\frac{2 \\, {\\rho} f\\left({\\rho}, z\\right)^{2} \\frac{\\partial^2\\,r}{\\partial {\\rho} ^ 2} + 2 \\, {\\rho} f\\left({\\rho}, z\\right)^{2} \\frac{\\partial^2\\,r}{\\partial z ^ 2} + 2 \\, {\\rho} \\left(\\frac{\\partial\\,f}{\\partial {\\rho}}\\right)^{2} - {\\rho} f\\left({\\rho}, z\\right) \\frac{\\partial^2\\,f}{\\partial {\\rho} ^ 2} + {\\rho} \\left(\\frac{\\partial\\,f}{\\partial z}\\right)^{2} - {\\rho} f\\left({\\rho}, z\\right) \\frac{\\partial^2\\,f}{\\partial z ^ 2} - 2 \\, f\\left({\\rho}, z\\right)^{2} \\frac{\\partial\\,r}{\\partial {\\rho}} - f\\left({\\rho}, z\\right) \\frac{\\partial\\,f}{\\partial {\\rho}}}{2 \\, {\\rho} f\\left({\\rho}, z\\right)^{2}} \\right) \\mathrm{d} {\\rho}\\otimes \\mathrm{d} {\\rho} + \\left( -\\frac{{\\rho} \\frac{\\partial\\,f}{\\partial {\\rho}} \\frac{\\partial\\,f}{\\partial z} - 2 \\, f\\left({\\rho}, z\\right)^{2} \\frac{\\partial\\,r}{\\partial z}}{2 \\, {\\rho} f\\left({\\rho}, z\\right)^{2}} \\right) \\mathrm{d} {\\rho}\\otimes \\mathrm{d} z -\\frac{{\\left({\\rho}^{2} \\left(\\frac{\\partial\\,f}{\\partial {\\rho}}\\right)^{2} - {\\rho}^{2} f\\left({\\rho}, z\\right) \\frac{\\partial^2\\,f}{\\partial {\\rho} ^ 2} + {\\rho}^{2} \\left(\\frac{\\partial\\,f}{\\partial z}\\right)^{2} - {\\rho}^{2} f\\left({\\rho}, z\\right) \\frac{\\partial^2\\,f}{\\partial z ^ 2} - {\\rho} f\\left({\\rho}, z\\right) \\frac{\\partial\\,f}{\\partial {\\rho}}\\right)} e^{\\left(-2 \\, r\\left({\\rho}, z\\right)\\right)}}{2 \\, f\\left({\\rho}, z\\right)^{2}} \\mathrm{d} {\\phi}\\otimes \\mathrm{d} {\\phi} + \\left( -\\frac{{\\rho} \\frac{\\partial\\,f}{\\partial {\\rho}} \\frac{\\partial\\,f}{\\partial z} - 2 \\, f\\left({\\rho}, z\\right)^{2} \\frac{\\partial\\,r}{\\partial z}}{2 \\, {\\rho} f\\left({\\rho}, z\\right)^{2}} \\right) \\mathrm{d} z\\otimes \\mathrm{d} {\\rho} + \\left( -\\frac{2 \\, {\\rho} f\\left({\\rho}, z\\right)^{2} \\frac{\\partial^2\\,r}{\\partial {\\rho} ^ 2} + 2 \\, {\\rho} f\\left({\\rho}, z\\right)^{2} \\frac{\\partial^2\\,r}{\\partial z ^ 2} + {\\rho} \\left(\\frac{\\partial\\,f}{\\partial {\\rho}}\\right)^{2} - {\\rho} f\\left({\\rho}, z\\right) \\frac{\\partial^2\\,f}{\\partial {\\rho} ^ 2} + 2 \\, {\\rho} \\left(\\frac{\\partial\\,f}{\\partial z}\\right)^{2} - {\\rho} f\\left({\\rho}, z\\right) \\frac{\\partial^2\\,f}{\\partial z ^ 2} + 2 \\, f\\left({\\rho}, z\\right)^{2} \\frac{\\partial\\,r}{\\partial {\\rho}} - f\\left({\\rho}, z\\right) \\frac{\\partial\\,f}{\\partial {\\rho}}}{2 \\, {\\rho} f\\left({\\rho}, z\\right)^{2}} \\right) \\mathrm{d} z\\otimes \\mathrm{d} z</script></html>"
      ],
      "text/plain": [
       "Ric(g) = -1/2*(rh*(d(f)/drh)^2 - rh*f(rh, z)*d^2(f)/drh^2 + rh*(d(f)/dz)^2 - rh*f(rh, z)*d^2(f)/dz^2 - f(rh, z)*d(f)/drh)*e^(-2*r(rh, z))/rh dt*dt - 1/2*(2*rh*f(rh, z)^2*d^2(r)/drh^2 + 2*rh*f(rh, z)^2*d^2(r)/dz^2 + 2*rh*(d(f)/drh)^2 - rh*f(rh, z)*d^2(f)/drh^2 + rh*(d(f)/dz)^2 - rh*f(rh, z)*d^2(f)/dz^2 - 2*f(rh, z)^2*d(r)/drh - f(rh, z)*d(f)/drh)/(rh*f(rh, z)^2) drh*drh - 1/2*(rh*d(f)/drh*d(f)/dz - 2*f(rh, z)^2*d(r)/dz)/(rh*f(rh, z)^2) drh*dz - 1/2*(rh^2*(d(f)/drh)^2 - rh^2*f(rh, z)*d^2(f)/drh^2 + rh^2*(d(f)/dz)^2 - rh^2*f(rh, z)*d^2(f)/dz^2 - rh*f(rh, z)*d(f)/drh)*e^(-2*r(rh, z))/f(rh, z)^2 dph*dph - 1/2*(rh*d(f)/drh*d(f)/dz - 2*f(rh, z)^2*d(r)/dz)/(rh*f(rh, z)^2) dz*drh - 1/2*(2*rh*f(rh, z)^2*d^2(r)/drh^2 + 2*rh*f(rh, z)^2*d^2(r)/dz^2 + rh*(d(f)/drh)^2 - rh*f(rh, z)*d^2(f)/drh^2 + 2*rh*(d(f)/dz)^2 - rh*f(rh, z)*d^2(f)/dz^2 + 2*f(rh, z)^2*d(r)/drh - f(rh, z)*d(f)/drh)/(rh*f(rh, z)^2) dz*dz"
      ]
     },
     "execution_count": 74,
     "metadata": {},
     "output_type": "execute_result"
    }
   ],
   "source": [
    "g.ricci().display()"
   ]
  },
  {
   "cell_type": "markdown",
   "metadata": {},
   "source": [
    "## Resolviendo la ecuación de Einstein"
   ]
  },
  {
   "cell_type": "code",
   "execution_count": 75,
   "metadata": {
    "scrolled": true
   },
   "outputs": [
    {
     "name": "stdout",
     "output_type": "stream",
     "text": [
      "Field of symmetric bilinear forms E on the 4-dimensional Lorentzian manifold M\n"
     ]
    },
    {
     "data": {
      "text/html": [
       "<html><script type=\"math/tex; mode=display\">\\newcommand{\\Bold}[1]{\\mathbf{#1}}\\begin{array}{lcl} E_{ \\, t \\, t }^{ \\phantom{\\, t}\\phantom{\\, t} } & = & -\\frac{{\\left({\\rho} \\left(\\frac{\\partial\\,f}{\\partial {\\rho}}\\right)^{2} - {\\rho} f\\left({\\rho}, z\\right) \\frac{\\partial^2\\,f}{\\partial {\\rho} ^ 2} + {\\rho} \\left(\\frac{\\partial\\,f}{\\partial z}\\right)^{2} - {\\rho} f\\left({\\rho}, z\\right) \\frac{\\partial^2\\,f}{\\partial z ^ 2} - f\\left({\\rho}, z\\right) \\frac{\\partial\\,f}{\\partial {\\rho}}\\right)} e^{\\left(-2 \\, r\\left({\\rho}, z\\right)\\right)}}{2 \\, {\\rho}} \\\\ E_{ \\, {\\rho} \\, {\\rho} }^{ \\phantom{\\, {\\rho}}\\phantom{\\, {\\rho}} } & = & -\\frac{2 \\, {\\rho} f\\left({\\rho}, z\\right)^{2} \\frac{\\partial^2\\,r}{\\partial {\\rho} ^ 2} + 2 \\, {\\rho} f\\left({\\rho}, z\\right)^{2} \\frac{\\partial^2\\,r}{\\partial z ^ 2} + 2 \\, {\\rho} \\left(\\frac{\\partial\\,f}{\\partial {\\rho}}\\right)^{2} - {\\rho} f\\left({\\rho}, z\\right) \\frac{\\partial^2\\,f}{\\partial {\\rho} ^ 2} + {\\rho} \\left(\\frac{\\partial\\,f}{\\partial z}\\right)^{2} - {\\rho} f\\left({\\rho}, z\\right) \\frac{\\partial^2\\,f}{\\partial z ^ 2} - 2 \\, f\\left({\\rho}, z\\right)^{2} \\frac{\\partial\\,r}{\\partial {\\rho}} - f\\left({\\rho}, z\\right) \\frac{\\partial\\,f}{\\partial {\\rho}}}{2 \\, {\\rho} f\\left({\\rho}, z\\right)^{2}} \\\\ E_{ \\, {\\rho} \\, z }^{ \\phantom{\\, {\\rho}}\\phantom{\\, z} } & = & -\\frac{{\\rho} \\frac{\\partial\\,f}{\\partial {\\rho}} \\frac{\\partial\\,f}{\\partial z} - 2 \\, f\\left({\\rho}, z\\right)^{2} \\frac{\\partial\\,r}{\\partial z}}{2 \\, {\\rho} f\\left({\\rho}, z\\right)^{2}} \\\\ E_{ \\, {\\phi} \\, {\\phi} }^{ \\phantom{\\, {\\phi}}\\phantom{\\, {\\phi}} } & = & -\\frac{{\\left({\\rho}^{2} \\left(\\frac{\\partial\\,f}{\\partial {\\rho}}\\right)^{2} - {\\rho}^{2} f\\left({\\rho}, z\\right) \\frac{\\partial^2\\,f}{\\partial {\\rho} ^ 2} + {\\rho}^{2} \\left(\\frac{\\partial\\,f}{\\partial z}\\right)^{2} - {\\rho}^{2} f\\left({\\rho}, z\\right) \\frac{\\partial^2\\,f}{\\partial z ^ 2} - {\\rho} f\\left({\\rho}, z\\right) \\frac{\\partial\\,f}{\\partial {\\rho}}\\right)} e^{\\left(-2 \\, r\\left({\\rho}, z\\right)\\right)}}{2 \\, f\\left({\\rho}, z\\right)^{2}} \\\\ E_{ \\, z \\, {\\rho} }^{ \\phantom{\\, z}\\phantom{\\, {\\rho}} } & = & -\\frac{{\\rho} \\frac{\\partial\\,f}{\\partial {\\rho}} \\frac{\\partial\\,f}{\\partial z} - 2 \\, f\\left({\\rho}, z\\right)^{2} \\frac{\\partial\\,r}{\\partial z}}{2 \\, {\\rho} f\\left({\\rho}, z\\right)^{2}} \\\\ E_{ \\, z \\, z }^{ \\phantom{\\, z}\\phantom{\\, z} } & = & -\\frac{2 \\, {\\rho} f\\left({\\rho}, z\\right)^{2} \\frac{\\partial^2\\,r}{\\partial {\\rho} ^ 2} + 2 \\, {\\rho} f\\left({\\rho}, z\\right)^{2} \\frac{\\partial^2\\,r}{\\partial z ^ 2} + {\\rho} \\left(\\frac{\\partial\\,f}{\\partial {\\rho}}\\right)^{2} - {\\rho} f\\left({\\rho}, z\\right) \\frac{\\partial^2\\,f}{\\partial {\\rho} ^ 2} + 2 \\, {\\rho} \\left(\\frac{\\partial\\,f}{\\partial z}\\right)^{2} - {\\rho} f\\left({\\rho}, z\\right) \\frac{\\partial^2\\,f}{\\partial z ^ 2} + 2 \\, f\\left({\\rho}, z\\right)^{2} \\frac{\\partial\\,r}{\\partial {\\rho}} - f\\left({\\rho}, z\\right) \\frac{\\partial\\,f}{\\partial {\\rho}}}{2 \\, {\\rho} f\\left({\\rho}, z\\right)^{2}} \\end{array}</script></html>"
      ],
      "text/plain": [
       "E_t,t = -1/2*(rh*(d(f)/drh)^2 - rh*f(rh, z)*d^2(f)/drh^2 + rh*(d(f)/dz)^2 - rh*f(rh, z)*d^2(f)/dz^2 - f(rh, z)*d(f)/drh)*e^(-2*r(rh, z))/rh \n",
       "E_rh,rh = -1/2*(2*rh*f(rh, z)^2*d^2(r)/drh^2 + 2*rh*f(rh, z)^2*d^2(r)/dz^2 + 2*rh*(d(f)/drh)^2 - rh*f(rh, z)*d^2(f)/drh^2 + rh*(d(f)/dz)^2 - rh*f(rh, z)*d^2(f)/dz^2 - 2*f(rh, z)^2*d(r)/drh - f(rh, z)*d(f)/drh)/(rh*f(rh, z)^2) \n",
       "E_rh,z = -1/2*(rh*d(f)/drh*d(f)/dz - 2*f(rh, z)^2*d(r)/dz)/(rh*f(rh, z)^2) \n",
       "E_ph,ph = -1/2*(rh^2*(d(f)/drh)^2 - rh^2*f(rh, z)*d^2(f)/drh^2 + rh^2*(d(f)/dz)^2 - rh^2*f(rh, z)*d^2(f)/dz^2 - rh*f(rh, z)*d(f)/drh)*e^(-2*r(rh, z))/f(rh, z)^2 \n",
       "E_z,rh = -1/2*(rh*d(f)/drh*d(f)/dz - 2*f(rh, z)^2*d(r)/dz)/(rh*f(rh, z)^2) \n",
       "E_z,z = -1/2*(2*rh*f(rh, z)^2*d^2(r)/drh^2 + 2*rh*f(rh, z)^2*d^2(r)/dz^2 + rh*(d(f)/drh)^2 - rh*f(rh, z)*d^2(f)/drh^2 + 2*rh*(d(f)/dz)^2 - rh*f(rh, z)*d^2(f)/dz^2 + 2*f(rh, z)^2*d(r)/drh - f(rh, z)*d(f)/drh)/(rh*f(rh, z)^2) "
      ]
     },
     "execution_count": 75,
     "metadata": {},
     "output_type": "execute_result"
    }
   ],
   "source": [
    "EE= g.ricci()\n",
    "EE.set_name('E')\n",
    "print(EE)\n",
    "EE.display_comp()\n"
   ]
  },
  {
   "cell_type": "markdown",
   "metadata": {},
   "source": [
    "#### Ecuación 1"
   ]
  },
  {
   "cell_type": "markdown",
   "metadata": {},
   "source": [
    "Simplificamos las ecuaciones y les asignamos nuevas variables eq añadidas con su respectivo número como eq0 y así sucesivamente.\n",
    "\n"
   ]
  },
  {
   "cell_type": "code",
   "execution_count": 108,
   "metadata": {},
   "outputs": [
    {
     "data": {
      "text/html": [
       "<html><script type=\"math/tex; mode=display\">\\newcommand{\\Bold}[1]{\\mathbf{#1}}-{\\rho} \\left(\\frac{\\partial\\,f}{\\partial {\\rho}}\\right)^{2} + {\\rho} f\\left({\\rho}, z\\right) \\frac{\\partial^2\\,f}{\\partial {\\rho} ^ 2} - {\\rho} \\left(\\frac{\\partial\\,f}{\\partial z}\\right)^{2} + {\\rho} f\\left({\\rho}, z\\right) \\frac{\\partial^2\\,f}{\\partial z ^ 2} + f\\left({\\rho}, z\\right) \\frac{\\partial\\,f}{\\partial {\\rho}}</script></html>"
      ],
      "text/plain": [
       "-rh*(d(f)/drh)^2 + rh*f(rh, z)*d^2(f)/drh^2 - rh*(d(f)/dz)^2 + rh*f(rh, z)*d^2(f)/dz^2 + f(rh, z)*d(f)/drh"
      ]
     },
     "execution_count": 108,
     "metadata": {},
     "output_type": "execute_result"
    }
   ],
   "source": [
    "eq1=EE[0,0]*exp(2*r(rh,z))*2*rh;eq1"
   ]
  },
  {
   "cell_type": "markdown",
   "metadata": {},
   "source": [
    "La ecuación 1 es:\n",
    "\n",
    "$$\\newcommand{\\Bold}[1]{\\mathbf{#1}}-{\\rho} \\left(\\frac{\\partial\\,f}{\\partial {\\rho}}\\right)^{2} + {\\rho} f\\left({\\rho}, z\\right) \\frac{\\partial^2\\,f}{\\partial {\\rho} ^ 2} - {\\rho} \\left(\\frac{\\partial\\,f}{\\partial z}\\right)^{2} + {\\rho} f\\left({\\rho}, z\\right) \\frac{\\partial^2\\,f}{\\partial z ^ 2} + f\\left({\\rho}, z\\right) \\frac{\\partial\\,f}{\\partial {\\rho}}=0$$"
   ]
  },
  {
   "cell_type": "markdown",
   "metadata": {},
   "source": [
    "#### Ecuación 2"
   ]
  },
  {
   "cell_type": "markdown",
   "metadata": {},
   "source": [
    "Simplificamos la ecuación 2 y le asignamos su variable eq2."
   ]
  },
  {
   "cell_type": "code",
   "execution_count": 115,
   "metadata": {},
   "outputs": [
    {
     "data": {
      "text/html": [
       "<html><script type=\"math/tex; mode=display\">\\newcommand{\\Bold}[1]{\\mathbf{#1}}-2 \\, {\\rho} f\\left({\\rho}, z\\right)^{2} \\frac{\\partial^2\\,r}{\\partial {\\rho} ^ 2} - 2 \\, {\\rho} f\\left({\\rho}, z\\right)^{2} \\frac{\\partial^2\\,r}{\\partial z ^ 2} - 2 \\, {\\rho} \\left(\\frac{\\partial\\,f}{\\partial {\\rho}}\\right)^{2} + {\\rho} f\\left({\\rho}, z\\right) \\frac{\\partial^2\\,f}{\\partial {\\rho} ^ 2} - {\\rho} \\left(\\frac{\\partial\\,f}{\\partial z}\\right)^{2} + {\\rho} f\\left({\\rho}, z\\right) \\frac{\\partial^2\\,f}{\\partial z ^ 2} + 2 \\, f\\left({\\rho}, z\\right)^{2} \\frac{\\partial\\,r}{\\partial {\\rho}} + f\\left({\\rho}, z\\right) \\frac{\\partial\\,f}{\\partial {\\rho}}</script></html>"
      ],
      "text/plain": [
       "-2*rh*f(rh, z)^2*d^2(r)/drh^2 - 2*rh*f(rh, z)^2*d^2(r)/dz^2 - 2*rh*(d(f)/drh)^2 + rh*f(rh, z)*d^2(f)/drh^2 - rh*(d(f)/dz)^2 + rh*f(rh, z)*d^2(f)/dz^2 + 2*f(rh, z)^2*d(r)/drh + f(rh, z)*d(f)/drh"
      ]
     },
     "execution_count": 115,
     "metadata": {},
     "output_type": "execute_result"
    }
   ],
   "source": [
    "eq2= EE[1,1]*2*rh*f(rh,z)**2;eq2\n",
    "\n"
   ]
  },
  {
   "cell_type": "markdown",
   "metadata": {},
   "source": [
    "La ecuación 2 es:"
   ]
  },
  {
   "cell_type": "markdown",
   "metadata": {},
   "source": [
    "$$\\newcommand{\\Bold}[1]{\\mathbf{#1}}-2 \\, {\\rho} f\\left({\\rho}, z\\right)^{2} \\frac{\\partial^2\\,r}{\\partial {\\rho} ^ 2} - 2 \\, {\\rho} f\\left({\\rho}, z\\right)^{2} \\frac{\\partial^2\\,r}{\\partial z ^ 2} - 2 \\, {\\rho} \\left(\\frac{\\partial\\,f}{\\partial {\\rho}}\\right)^{2} + {\\rho} f\\left({\\rho}, z\\right) \\frac{\\partial^2\\,f}{\\partial {\\rho} ^ 2} - {\\rho} \\left(\\frac{\\partial\\,f}{\\partial z}\\right)^{2} + {\\rho} f\\left({\\rho}, z\\right) \\frac{\\partial^2\\,f}{\\partial z ^ 2} + 2 \\, f\\left({\\rho}, z\\right)^{2} \\frac{\\partial\\,r}{\\partial {\\rho}} + f\\left({\\rho}, z\\right) \\frac{\\partial\\,f}{\\partial {\\rho}}=0 $$"
   ]
  },
  {
   "cell_type": "markdown",
   "metadata": {},
   "source": [
    "#### Ecuación 3"
   ]
  },
  {
   "cell_type": "markdown",
   "metadata": {},
   "source": [
    "Asignamos la variable eq3 a la ecuación 3 y la simplificamos:"
   ]
  },
  {
   "cell_type": "code",
   "execution_count": 110,
   "metadata": {},
   "outputs": [
    {
     "data": {
      "text/html": [
       "<html><script type=\"math/tex; mode=display\">\\newcommand{\\Bold}[1]{\\mathbf{#1}}-{\\rho} \\frac{\\partial\\,f}{\\partial {\\rho}} \\frac{\\partial\\,f}{\\partial z} + 2 \\, f\\left({\\rho}, z\\right)^{2} \\frac{\\partial\\,r}{\\partial z}</script></html>"
      ],
      "text/plain": [
       "-rh*d(f)/drh*d(f)/dz + 2*f(rh, z)^2*d(r)/dz"
      ]
     },
     "execution_count": 110,
     "metadata": {},
     "output_type": "execute_result"
    }
   ],
   "source": [
    "eq2= EE[1,3]*2*rh*f(rh,z)**2;eq2"
   ]
  },
  {
   "cell_type": "markdown",
   "metadata": {},
   "source": [
    "La ecuación 3 es:\n",
    "$$\\newcommand{\\Bold}[1]{\\mathbf{#1}}-{\\rho} \\frac{\\partial\\,f}{\\partial {\\rho}} \\frac{\\partial\\,f}{\\partial z} + 2 \\, f\\left({\\rho}, z\\right)^{2} \\frac{\\partial\\,r}{\\partial z}=0$$"
   ]
  },
  {
   "cell_type": "markdown",
   "metadata": {},
   "source": [
    "#### Ecuación 4 "
   ]
  },
  {
   "cell_type": "markdown",
   "metadata": {},
   "source": [
    "Asignamos a la ecuación 4 la variable eq4 y la simplificamos:"
   ]
  },
  {
   "cell_type": "code",
   "execution_count": 111,
   "metadata": {},
   "outputs": [
    {
     "data": {
      "text/html": [
       "<html><script type=\"math/tex; mode=display\">\\newcommand{\\Bold}[1]{\\mathbf{#1}}-{\\rho} \\left(\\frac{\\partial\\,f}{\\partial {\\rho}}\\right)^{2} + {\\rho} f\\left({\\rho}, z\\right) \\frac{\\partial^2\\,f}{\\partial {\\rho} ^ 2} - {\\rho} \\left(\\frac{\\partial\\,f}{\\partial z}\\right)^{2} + {\\rho} f\\left({\\rho}, z\\right) \\frac{\\partial^2\\,f}{\\partial z ^ 2} + f\\left({\\rho}, z\\right) \\frac{\\partial\\,f}{\\partial {\\rho}}</script></html>"
      ],
      "text/plain": [
       "-rh*(d(f)/drh)^2 + rh*f(rh, z)*d^2(f)/drh^2 - rh*(d(f)/dz)^2 + rh*f(rh, z)*d^2(f)/dz^2 + f(rh, z)*d(f)/drh"
      ]
     },
     "execution_count": 111,
     "metadata": {},
     "output_type": "execute_result"
    }
   ],
   "source": [
    "eq3= EE[2,2]*exp(2*r(rh,z))*2*f(rh,z)**2\n",
    "eq3.collect_common_factors()\n",
    "eq3= eq3/rh;eq3\n"
   ]
  },
  {
   "cell_type": "markdown",
   "metadata": {},
   "source": [
    "La ecuación 3 es:\n",
    "$$\\newcommand{\\Bold}[1]{\\mathbf{#1}}-{\\rho} \\left(\\frac{\\partial\\,f}{\\partial {\\rho}}\\right)^{2} + {\\rho} f\\left({\\rho}, z\\right) \\frac{\\partial^2\\,f}{\\partial {\\rho} ^ 2} - {\\rho} \\left(\\frac{\\partial\\,f}{\\partial z}\\right)^{2} + {\\rho} f\\left({\\rho}, z\\right) \\frac{\\partial^2\\,f}{\\partial z ^ 2} + f\\left({\\rho}, z\\right) \\frac{\\partial\\,f}{\\partial {\\rho}}=0$$"
   ]
  },
  {
   "cell_type": "markdown",
   "metadata": {},
   "source": [
    "#### Ecuación 5"
   ]
  },
  {
   "cell_type": "markdown",
   "metadata": {},
   "source": [
    "Le asignamos la variable eq5 a la ecuación 5 y la simplificamos:"
   ]
  },
  {
   "cell_type": "code",
   "execution_count": 114,
   "metadata": {},
   "outputs": [
    {
     "data": {
      "text/html": [
       "<html><script type=\"math/tex; mode=display\">\\newcommand{\\Bold}[1]{\\mathbf{#1}}-2 \\, {\\rho} f\\left({\\rho}, z\\right)^{2} \\frac{\\partial^2\\,r}{\\partial {\\rho} ^ 2} - 2 \\, {\\rho} f\\left({\\rho}, z\\right)^{2} \\frac{\\partial^2\\,r}{\\partial z ^ 2} - {\\rho} \\left(\\frac{\\partial\\,f}{\\partial {\\rho}}\\right)^{2} + {\\rho} f\\left({\\rho}, z\\right) \\frac{\\partial^2\\,f}{\\partial {\\rho} ^ 2} - 2 \\, {\\rho} \\left(\\frac{\\partial\\,f}{\\partial z}\\right)^{2} + {\\rho} f\\left({\\rho}, z\\right) \\frac{\\partial^2\\,f}{\\partial z ^ 2} - 2 \\, f\\left({\\rho}, z\\right)^{2} \\frac{\\partial\\,r}{\\partial {\\rho}} + f\\left({\\rho}, z\\right) \\frac{\\partial\\,f}{\\partial {\\rho}}</script></html>"
      ],
      "text/plain": [
       "-2*rh*f(rh, z)^2*d^2(r)/drh^2 - 2*rh*f(rh, z)^2*d^2(r)/dz^2 - rh*(d(f)/drh)^2 + rh*f(rh, z)*d^2(f)/drh^2 - 2*rh*(d(f)/dz)^2 + rh*f(rh, z)*d^2(f)/dz^2 - 2*f(rh, z)^2*d(r)/drh + f(rh, z)*d(f)/drh"
      ]
     },
     "execution_count": 114,
     "metadata": {},
     "output_type": "execute_result"
    }
   ],
   "source": [
    "eq5=EE[3,3]*2*rh*f(rh,z)**2;eq5"
   ]
  },
  {
   "cell_type": "markdown",
   "metadata": {},
   "source": [
    "La ecuación 5 es : \n",
    "$$\\newcommand{\\Bold}[1]{\\mathbf{#1}}-2 \\, {\\rho} f\\left({\\rho}, z\\right)^{2} \\frac{\\partial^2\\,r}{\\partial {\\rho} ^ 2} - 2 \\, {\\rho} f\\left({\\rho}, z\\right)^{2} \\frac{\\partial^2\\,r}{\\partial z ^ 2} - {\\rho} \\left(\\frac{\\partial\\,f}{\\partial {\\rho}}\\right)^{2} + {\\rho} f\\left({\\rho}, z\\right) \\frac{\\partial^2\\,f}{\\partial {\\rho} ^ 2} - 2 \\, {\\rho} \\left(\\frac{\\partial\\,f}{\\partial z}\\right)^{2} + {\\rho} f\\left({\\rho}, z\\right) \\frac{\\partial^2\\,f}{\\partial z ^ 2} - 2 \\, f\\left({\\rho}, z\\right)^{2} \\frac{\\partial\\,r}{\\partial {\\rho}} + f\\left({\\rho}, z\\right) \\frac{\\partial\\,f}{\\partial {\\rho}}=0$$"
   ]
  },
  {
   "cell_type": "markdown",
   "metadata": {},
   "source": [
    "#### Lista de ecuaciones"
   ]
  },
  {
   "cell_type": "markdown",
   "metadata": {},
   "source": [
    "$$\\newcommand{\\Bold}[1]{\\mathbf{#1}}-{\\rho} \\left(\\frac{\\partial\\,f}{\\partial {\\rho}}\\right)^{2} + {\\rho} f\\left({\\rho}, z\\right) \\frac{\\partial^2\\,f}{\\partial {\\rho} ^ 2} - {\\rho} \\left(\\frac{\\partial\\,f}{\\partial z}\\right)^{2} + {\\rho} f\\left({\\rho}, z\\right) \\frac{\\partial^2\\,f}{\\partial z ^ 2} + f\\left({\\rho}, z\\right) \\frac{\\partial\\,f}{\\partial {\\rho}}=0$$\n",
    "\n",
    "$$\\newcommand{\\Bold}[1]{\\mathbf{#1}}-2 \\, {\\rho} f\\left({\\rho}, z\\right)^{2} \\frac{\\partial^2\\,r}{\\partial {\\rho} ^ 2} - 2 \\, {\\rho} f\\left({\\rho}, z\\right)^{2} \\frac{\\partial^2\\,r}{\\partial z ^ 2} - 2 \\, {\\rho} \\left(\\frac{\\partial\\,f}{\\partial {\\rho}}\\right)^{2} + {\\rho} f\\left({\\rho}, z\\right) \\frac{\\partial^2\\,f}{\\partial {\\rho} ^ 2} - {\\rho} \\left(\\frac{\\partial\\,f}{\\partial z}\\right)^{2} + {\\rho} f\\left({\\rho}, z\\right) \\frac{\\partial^2\\,f}{\\partial z ^ 2} + 2 \\, f\\left({\\rho}, z\\right)^{2} \\frac{\\partial\\,r}{\\partial {\\rho}} + f\\left({\\rho}, z\\right) \\frac{\\partial\\,f}{\\partial {\\rho}}=0 $$\n",
    "\n",
    "$$\\newcommand{\\Bold}[1]{\\mathbf{#1}}-{\\rho} \\frac{\\partial\\,f}{\\partial {\\rho}} \\frac{\\partial\\,f}{\\partial z} + 2 \\, f\\left({\\rho}, z\\right)^{2} \\frac{\\partial\\,r}{\\partial z}=0$$\n",
    "\n",
    "$$\\newcommand{\\Bold}[1]{\\mathbf{#1}}-{\\rho} \\left(\\frac{\\partial\\,f}{\\partial {\\rho}}\\right)^{2} + {\\rho} f\\left({\\rho}, z\\right) \\frac{\\partial^2\\,f}{\\partial {\\rho} ^ 2} - {\\rho} \\left(\\frac{\\partial\\,f}{\\partial z}\\right)^{2} + {\\rho} f\\left({\\rho}, z\\right) \\frac{\\partial^2\\,f}{\\partial z ^ 2} + f\\left({\\rho}, z\\right) \\frac{\\partial\\,f}{\\partial {\\rho}}=0$$\n",
    "\n",
    "$$\\newcommand{\\Bold}[1]{\\mathbf{#1}}-2 \\, {\\rho} f\\left({\\rho}, z\\right)^{2} \\frac{\\partial^2\\,r}{\\partial {\\rho} ^ 2} - 2 \\, {\\rho} f\\left({\\rho}, z\\right)^{2} \\frac{\\partial^2\\,r}{\\partial z ^ 2} - {\\rho} \\left(\\frac{\\partial\\,f}{\\partial {\\rho}}\\right)^{2} + {\\rho} f\\left({\\rho}, z\\right) \\frac{\\partial^2\\,f}{\\partial {\\rho} ^ 2} - 2 \\, {\\rho} \\left(\\frac{\\partial\\,f}{\\partial z}\\right)^{2} + {\\rho} f\\left({\\rho}, z\\right) \\frac{\\partial^2\\,f}{\\partial z ^ 2} - 2 \\, f\\left({\\rho}, z\\right)^{2} \\frac{\\partial\\,r}{\\partial {\\rho}} + f\\left({\\rho}, z\\right) \\frac{\\partial\\,f}{\\partial {\\rho}}=0$$\n"
   ]
  },
  {
   "cell_type": "markdown",
   "metadata": {},
   "source": [
    "#### Tratamiento de las ecuaciones"
   ]
  },
  {
   "cell_type": "markdown",
   "metadata": {},
   "source": [
    "#### Resultado 1 "
   ]
  },
  {
   "cell_type": "markdown",
   "metadata": {},
   "source": [
    "Tomamos la ecuación número 1 y la ordenamos apropiadamente:\n",
    "\n",
    "$$  {\\rho} f\\left({\\rho}, z\\right) \\frac{\\partial^2\\,f}{\\partial {\\rho} ^ 2}+\n",
    "{\\rho} f\\left({\\rho}, z\\right) \\frac{\\partial^2\\,f}{\\partial z ^ 2} + f\\left({\\rho}, z\\right) \\frac{\\partial\\,f}{\\partial {\\rho}}=  \\newcommand{\\Bold}[1]{\\mathbf{#1}}{\\rho} \\left(\\frac{\\partial\\,f}{\\partial {\\rho}}\\right)^{2}\n",
    "+{\\rho}\\left(\\frac{\\partial\\,f}{\\partial z}\\right)^{2}$$\n",
    "\n",
    "Definimos los operadores diferenciales:\n",
    "$$\\Delta f = \\frac{\\partial^2\\,f}{\\partial {\\rho} ^ 2}+  \\frac{\\partial^2\\,f}{\\partial z ^ 2} + \\frac{1}{\\rho} \\frac{\\partial\\,f}{\\partial {\\rho}}$$\n",
    "\n",
    "$$ \\vec{\\nabla}f= \\frac{\\partial f}{\\partial \\rho}\\partial \\rho +\\frac{\\partial f}{\\partial z}\\partial z $$\n",
    "\n",
    "Usando los operadores obtenemos: \n",
    "$$\\rho f\\Delta f = \\rho (\\vec{\\nabla}f)^{2} $$\n",
    "\n",
    "Finalmente el resultado 1 es:\n",
    "\n",
    "$$ f\\Delta f = (\\vec{\\nabla}f)^{2} $$"
   ]
  },
  {
   "cell_type": "markdown",
   "metadata": {},
   "source": [
    "#### Resultado 2"
   ]
  },
  {
   "cell_type": "markdown",
   "metadata": {},
   "source": [
    "Juntamos las ecuaciones eq2 y eq5 y las restamos. A esa combinación la llamamos c1."
   ]
  },
  {
   "cell_type": "code",
   "execution_count": 117,
   "metadata": {},
   "outputs": [
    {
     "data": {
      "text/html": [
       "<html><script type=\"math/tex; mode=display\">\\newcommand{\\Bold}[1]{\\mathbf{#1}}-{\\rho} \\left(\\frac{\\partial\\,f}{\\partial {\\rho}}\\right)^{2} + {\\rho} \\left(\\frac{\\partial\\,f}{\\partial z}\\right)^{2} + 4 \\, f\\left({\\rho}, z\\right)^{2} \\frac{\\partial\\,r}{\\partial {\\rho}}</script></html>"
      ],
      "text/plain": [
       "-rh*(d(f)/drh)^2 + rh*(d(f)/dz)^2 + 4*f(rh, z)^2*d(r)/drh"
      ]
     },
     "execution_count": 117,
     "metadata": {},
     "output_type": "execute_result"
    }
   ],
   "source": [
    "c1= (eq2 - eq5); c1"
   ]
  },
  {
   "cell_type": "markdown",
   "metadata": {},
   "source": [
    "Escribimos la ecuación resultante:\n",
    "$$\\newcommand{\\Bold}[1]{\\mathbf{#1}}-{\\rho} \\left(\\frac{\\partial\\,f}{\\partial {\\rho}}\\right)^{2} + {\\rho} \\left(\\frac{\\partial\\,f}{\\partial z}\\right)^{2} + 4 \\, f\\left({\\rho}, z\\right)^{2} \\frac{\\partial\\,r}{\\partial {\\rho}} =0$$\n",
    "Ordenando los términos, obtenemos finalmente:\n",
    "$$ \\frac{\\partial\\,r}{\\partial {\\rho}}=\\rho f\\left({\\rho}, z\\right)^{-2}\\left(\\newcommand{\\Bold}[1]{\\mathbf{#1}} \\left(\\frac{\\partial\\,f}{\\partial {\\rho}}\\right)^{2} -  \\left(\\frac{\\partial\\,f}{\\partial z}\\right)^{2}\\right) $$\n"
   ]
  },
  {
   "cell_type": "markdown",
   "metadata": {},
   "source": [
    "#### Resultado 3 "
   ]
  },
  {
   "cell_type": "markdown",
   "metadata": {},
   "source": [
    "Añadimos  las ecuaciones 1 y 5:"
   ]
  },
  {
   "cell_type": "code",
   "execution_count": 118,
   "metadata": {},
   "outputs": [
    {
     "data": {
      "text/html": [
       "<html><script type=\"math/tex; mode=display\">\\newcommand{\\Bold}[1]{\\mathbf{#1}}-4 \\, {\\rho} f\\left({\\rho}, z\\right)^{2} \\frac{\\partial^2\\,r}{\\partial {\\rho} ^ 2} - 4 \\, {\\rho} f\\left({\\rho}, z\\right)^{2} \\frac{\\partial^2\\,r}{\\partial z ^ 2} - 3 \\, {\\rho} \\left(\\frac{\\partial\\,f}{\\partial {\\rho}}\\right)^{2} + 2 \\, {\\rho} f\\left({\\rho}, z\\right) \\frac{\\partial^2\\,f}{\\partial {\\rho} ^ 2} - 3 \\, {\\rho} \\left(\\frac{\\partial\\,f}{\\partial z}\\right)^{2} + 2 \\, {\\rho} f\\left({\\rho}, z\\right) \\frac{\\partial^2\\,f}{\\partial z ^ 2} + 2 \\, f\\left({\\rho}, z\\right) \\frac{\\partial\\,f}{\\partial {\\rho}}</script></html>"
      ],
      "text/plain": [
       "-4*rh*f(rh, z)^2*d^2(r)/drh^2 - 4*rh*f(rh, z)^2*d^2(r)/dz^2 - 3*rh*(d(f)/drh)^2 + 2*rh*f(rh, z)*d^2(f)/drh^2 - 3*rh*(d(f)/dz)^2 + 2*rh*f(rh, z)*d^2(f)/dz^2 + 2*f(rh, z)*d(f)/drh"
      ]
     },
     "execution_count": 118,
     "metadata": {},
     "output_type": "execute_result"
    }
   ],
   "source": [
    "c2= (eq2+eq5);c2\n"
   ]
  },
  {
   "cell_type": "markdown",
   "metadata": {},
   "source": [
    "Combinamos las ecuación 1 con la combinación c2:"
   ]
  },
  {
   "cell_type": "code",
   "execution_count": 121,
   "metadata": {},
   "outputs": [
    {
     "data": {
      "text/html": [
       "<html><script type=\"math/tex; mode=display\">\\newcommand{\\Bold}[1]{\\mathbf{#1}}-4 \\, {\\rho} f\\left({\\rho}, z\\right)^{2} \\frac{\\partial^2\\,r}{\\partial {\\rho} ^ 2} - 4 \\, {\\rho} f\\left({\\rho}, z\\right)^{2} \\frac{\\partial^2\\,r}{\\partial z ^ 2} - {\\rho} \\left(\\frac{\\partial\\,f}{\\partial {\\rho}}\\right)^{2} - {\\rho} \\left(\\frac{\\partial\\,f}{\\partial z}\\right)^{2}</script></html>"
      ],
      "text/plain": [
       "-4*rh*f(rh, z)^2*d^2(r)/drh^2 - 4*rh*f(rh, z)^2*d^2(r)/dz^2 - rh*(d(f)/drh)^2 - rh*(d(f)/dz)^2"
      ]
     },
     "execution_count": 121,
     "metadata": {},
     "output_type": "execute_result"
    }
   ],
   "source": [
    "c3= c2-2*eq1;c3"
   ]
  },
  {
   "cell_type": "markdown",
   "metadata": {},
   "source": [
    "Factorizamos $\\rho$"
   ]
  },
  {
   "cell_type": "code",
   "execution_count": 122,
   "metadata": {},
   "outputs": [
    {
     "data": {
      "text/html": [
       "<html><script type=\"math/tex; mode=display\">\\newcommand{\\Bold}[1]{\\mathbf{#1}}-{\\left(4 \\, f\\left({\\rho}, z\\right)^{2} \\frac{\\partial^2\\,r}{\\partial {\\rho} ^ 2} + 4 \\, f\\left({\\rho}, z\\right)^{2} \\frac{\\partial^2\\,r}{\\partial z ^ 2} + \\left(\\frac{\\partial\\,f}{\\partial {\\rho}}\\right)^{2} + \\left(\\frac{\\partial\\,f}{\\partial z}\\right)^{2}\\right)} {\\rho}</script></html>"
      ],
      "text/plain": [
       "-(4*f(rh, z)^2*d^2(r)/drh^2 + 4*f(rh, z)^2*d^2(r)/dz^2 + (d(f)/drh)^2 + (d(f)/dz)^2)*rh"
      ]
     },
     "execution_count": 122,
     "metadata": {},
     "output_type": "execute_result"
    }
   ],
   "source": [
    "c3.factor()"
   ]
  },
  {
   "cell_type": "markdown",
   "metadata": {},
   "source": [
    "Eliminamos $\\rho$ por la igualdad y obtenemos:"
   ]
  },
  {
   "cell_type": "markdown",
   "metadata": {},
   "source": [
    "$$\\newcommand{\\Bold}[1]{\\mathbf{#1}}{4 \\, f\\left({\\rho}, z\\right)^{2} \\frac{\\partial^2\\,r}{\\partial {\\rho} ^ 2} + 4 \\, f\\left({\\rho}, z\\right)^{2} \\frac{\\partial^2\\,r}{\\partial z ^ 2} + \\left(\\frac{\\partial\\,f}{\\partial {\\rho}}\\right)^{2} + \\left(\\frac{\\partial\\,f}{\\partial z}\\right)^{2}}=0 $$"
   ]
  },
  {
   "cell_type": "markdown",
   "metadata": {},
   "source": [
    "Ordenamos los términos:\n",
    "\n",
    "$$\\newcommand{\\Bold}[1]{\\mathbf{#1}}{\\,  \\frac{\\partial^2\\,r}{\\partial {\\rho} ^ 2} +  \\,  \\frac{\\partial^2\\,r}{\\partial z ^ 2} = -\\frac{f\\left({\\rho}, z\\right)^{-2}}{4}\\left(\\left(\\frac{\\partial\\,f}{\\partial {\\rho}}\\right)^{2} + \\left(\\frac{\\partial\\,f}{\\partial z}\\right)^{2}\\right)}$$\n",
    "\n",
    "Utilizamos los operadores definidos, obtenemos finalmente:\n",
    "\n",
    "\n",
    "$$\\newcommand{\\Bold}[1]{\\mathbf{#1}}{\\,  \\frac{\\partial^2\\,r}{\\partial {\\rho} ^ 2} +  \\,  \\frac{\\partial^2\\,r}{\\partial z ^ 2} = -\\frac{f\\left({\\rho}, z\\right)^{-2}}{4}\\left( \\vec{\\nabla}f\\right)^{2}}$$\n",
    "\n"
   ]
  },
  {
   "cell_type": "markdown",
   "metadata": {},
   "source": [
    "#### Resultado 4"
   ]
  },
  {
   "cell_type": "markdown",
   "metadata": {},
   "source": [
    "Usamos la ecuación 4 y simplemente la despejamos:\n",
    "\n",
    "La ecuación 3 es:\n",
    "$$\\newcommand{\\Bold}[1]{\\mathbf{#1}}  \\,  \\frac{\\partial\\,r}{\\partial z}= \\frac{\\rho f\\left({\\rho}, z\\right)^{-2}}{2} \\frac{\\partial\\,f}{\\partial {\\rho}} \\frac{\\partial\\,f}{\\partial z}$$"
   ]
  },
  {
   "cell_type": "markdown",
   "metadata": {},
   "source": [
    "## Curvature tensor\n",
    "\n",
    "The Riemann curvature tensor is obtained by the method `riemann()`:"
   ]
  },
  {
   "cell_type": "code",
   "execution_count": 123,
   "metadata": {},
   "outputs": [
    {
     "name": "stdout",
     "output_type": "stream",
     "text": [
      "Tensor field Riem(g) of type (1,3) on the 4-dimensional Lorentzian manifold M\n"
     ]
    }
   ],
   "source": [
    "R = g.riemann()\n",
    "print(R)"
   ]
  },
  {
   "cell_type": "markdown",
   "metadata": {},
   "source": [
    "Contrary to the Ricci tensor, it is not identically zero:"
   ]
  },
  {
   "cell_type": "code",
   "execution_count": 124,
   "metadata": {},
   "outputs": [
    {
     "data": {
      "text/html": [
       "<html><script type=\"math/tex; mode=display\">\\newcommand{\\Bold}[1]{\\mathbf{#1}}\\mathrm{Riem}\\left(g\\right) = \\left( \\frac{2 \\, f\\left({\\rho}, z\\right) \\frac{\\partial\\,f}{\\partial {\\rho}} \\frac{\\partial\\,r}{\\partial {\\rho}} - 2 \\, f\\left({\\rho}, z\\right) \\frac{\\partial\\,f}{\\partial z} \\frac{\\partial\\,r}{\\partial z} - 2 \\, f\\left({\\rho}, z\\right) \\frac{\\partial^2\\,f}{\\partial {\\rho} ^ 2} + \\frac{\\partial\\,f}{\\partial z}^{2}}{4 \\, f\\left({\\rho}, z\\right)^{2}} \\right) \\frac{\\partial}{\\partial t }\\otimes \\mathrm{d} {\\rho}\\otimes \\mathrm{d} t\\otimes \\mathrm{d} {\\rho} + \\left( \\frac{2 \\, f\\left({\\rho}, z\\right) \\frac{\\partial\\,f}{\\partial z} \\frac{\\partial\\,r}{\\partial {\\rho}} + 2 \\, f\\left({\\rho}, z\\right) \\frac{\\partial\\,f}{\\partial {\\rho}} \\frac{\\partial\\,r}{\\partial z} - 2 \\, f\\left({\\rho}, z\\right) \\frac{\\partial^2\\,f}{\\partial {\\rho}\\partial z} - \\frac{\\partial\\,f}{\\partial {\\rho}} \\frac{\\partial\\,f}{\\partial z}}{4 \\, f\\left({\\rho}, z\\right)^{2}} \\right) \\frac{\\partial}{\\partial t }\\otimes \\mathrm{d} {\\rho}\\otimes \\mathrm{d} t\\otimes \\mathrm{d} z + \\left( -\\frac{2 \\, f\\left({\\rho}, z\\right) \\frac{\\partial\\,f}{\\partial {\\rho}} \\frac{\\partial\\,r}{\\partial {\\rho}} - 2 \\, f\\left({\\rho}, z\\right) \\frac{\\partial\\,f}{\\partial z} \\frac{\\partial\\,r}{\\partial z} - 2 \\, f\\left({\\rho}, z\\right) \\frac{\\partial^2\\,f}{\\partial {\\rho} ^ 2} + \\frac{\\partial\\,f}{\\partial z}^{2}}{4 \\, f\\left({\\rho}, z\\right)^{2}} \\right) \\frac{\\partial}{\\partial t }\\otimes \\mathrm{d} {\\rho}\\otimes \\mathrm{d} {\\rho}\\otimes \\mathrm{d} t + \\left( -\\frac{2 \\, f\\left({\\rho}, z\\right) \\frac{\\partial\\,f}{\\partial z} \\frac{\\partial\\,r}{\\partial {\\rho}} + 2 \\, f\\left({\\rho}, z\\right) \\frac{\\partial\\,f}{\\partial {\\rho}} \\frac{\\partial\\,r}{\\partial z} - 2 \\, f\\left({\\rho}, z\\right) \\frac{\\partial^2\\,f}{\\partial {\\rho}\\partial z} - \\frac{\\partial\\,f}{\\partial {\\rho}} \\frac{\\partial\\,f}{\\partial z}}{4 \\, f\\left({\\rho}, z\\right)^{2}} \\right) \\frac{\\partial}{\\partial t }\\otimes \\mathrm{d} {\\rho}\\otimes \\mathrm{d} z\\otimes \\mathrm{d} t + \\frac{{\\left({\\rho}^{2} \\left(\\frac{\\partial\\,f}{\\partial {\\rho}}\\right)^{2} + {\\rho}^{2} \\left(\\frac{\\partial\\,f}{\\partial z}\\right)^{2} - 2 \\, {\\rho} f\\left({\\rho}, z\\right) \\frac{\\partial\\,f}{\\partial {\\rho}}\\right)} e^{\\left(-2 \\, r\\left({\\rho}, z\\right)\\right)}}{4 \\, f\\left({\\rho}, z\\right)^{2}} \\frac{\\partial}{\\partial t }\\otimes \\mathrm{d} {\\phi}\\otimes \\mathrm{d} t\\otimes \\mathrm{d} {\\phi} -\\frac{{\\left({\\rho}^{2} \\left(\\frac{\\partial\\,f}{\\partial {\\rho}}\\right)^{2} + {\\rho}^{2} \\left(\\frac{\\partial\\,f}{\\partial z}\\right)^{2} - 2 \\, {\\rho} f\\left({\\rho}, z\\right) \\frac{\\partial\\,f}{\\partial {\\rho}}\\right)} e^{\\left(-2 \\, r\\left({\\rho}, z\\right)\\right)}}{4 \\, f\\left({\\rho}, z\\right)^{2}} \\frac{\\partial}{\\partial t }\\otimes \\mathrm{d} {\\phi}\\otimes \\mathrm{d} {\\phi}\\otimes \\mathrm{d} t + \\left( \\frac{2 \\, f\\left({\\rho}, z\\right) \\frac{\\partial\\,f}{\\partial z} \\frac{\\partial\\,r}{\\partial {\\rho}} + 2 \\, f\\left({\\rho}, z\\right) \\frac{\\partial\\,f}{\\partial {\\rho}} \\frac{\\partial\\,r}{\\partial z} - 2 \\, f\\left({\\rho}, z\\right) \\frac{\\partial^2\\,f}{\\partial {\\rho}\\partial z} - \\frac{\\partial\\,f}{\\partial {\\rho}} \\frac{\\partial\\,f}{\\partial z}}{4 \\, f\\left({\\rho}, z\\right)^{2}} \\right) \\frac{\\partial}{\\partial t }\\otimes \\mathrm{d} z\\otimes \\mathrm{d} t\\otimes \\mathrm{d} {\\rho} + \\left( -\\frac{2 \\, f\\left({\\rho}, z\\right) \\frac{\\partial\\,f}{\\partial {\\rho}} \\frac{\\partial\\,r}{\\partial {\\rho}} - 2 \\, f\\left({\\rho}, z\\right) \\frac{\\partial\\,f}{\\partial z} \\frac{\\partial\\,r}{\\partial z} - \\frac{\\partial\\,f}{\\partial {\\rho}}^{2} + 2 \\, f\\left({\\rho}, z\\right) \\frac{\\partial^2\\,f}{\\partial z ^ 2}}{4 \\, f\\left({\\rho}, z\\right)^{2}} \\right) \\frac{\\partial}{\\partial t }\\otimes \\mathrm{d} z\\otimes \\mathrm{d} t\\otimes \\mathrm{d} z + \\left( -\\frac{2 \\, f\\left({\\rho}, z\\right) \\frac{\\partial\\,f}{\\partial z} \\frac{\\partial\\,r}{\\partial {\\rho}} + 2 \\, f\\left({\\rho}, z\\right) \\frac{\\partial\\,f}{\\partial {\\rho}} \\frac{\\partial\\,r}{\\partial z} - 2 \\, f\\left({\\rho}, z\\right) \\frac{\\partial^2\\,f}{\\partial {\\rho}\\partial z} - \\frac{\\partial\\,f}{\\partial {\\rho}} \\frac{\\partial\\,f}{\\partial z}}{4 \\, f\\left({\\rho}, z\\right)^{2}} \\right) \\frac{\\partial}{\\partial t }\\otimes \\mathrm{d} z\\otimes \\mathrm{d} {\\rho}\\otimes \\mathrm{d} t + \\left( \\frac{2 \\, f\\left({\\rho}, z\\right) \\frac{\\partial\\,f}{\\partial {\\rho}} \\frac{\\partial\\,r}{\\partial {\\rho}} - 2 \\, f\\left({\\rho}, z\\right) \\frac{\\partial\\,f}{\\partial z} \\frac{\\partial\\,r}{\\partial z} - \\frac{\\partial\\,f}{\\partial {\\rho}}^{2} + 2 \\, f\\left({\\rho}, z\\right) \\frac{\\partial^2\\,f}{\\partial z ^ 2}}{4 \\, f\\left({\\rho}, z\\right)^{2}} \\right) \\frac{\\partial}{\\partial t }\\otimes \\mathrm{d} z\\otimes \\mathrm{d} z\\otimes \\mathrm{d} t + \\frac{1}{4} \\, {\\left(2 \\, f\\left({\\rho}, z\\right) \\frac{\\partial\\,f}{\\partial {\\rho}} \\frac{\\partial\\,r}{\\partial {\\rho}} - 2 \\, f\\left({\\rho}, z\\right) \\frac{\\partial\\,f}{\\partial z} \\frac{\\partial\\,r}{\\partial z} - 2 \\, f\\left({\\rho}, z\\right) \\frac{\\partial^2\\,f}{\\partial {\\rho} ^ 2} + \\frac{\\partial\\,f}{\\partial z}^{2}\\right)} e^{\\left(-2 \\, r\\left({\\rho}, z\\right)\\right)} \\frac{\\partial}{\\partial {\\rho} }\\otimes \\mathrm{d} t\\otimes \\mathrm{d} t\\otimes \\mathrm{d} {\\rho} + \\frac{1}{4} \\, {\\left(2 \\, f\\left({\\rho}, z\\right) \\frac{\\partial\\,f}{\\partial z} \\frac{\\partial\\,r}{\\partial {\\rho}} + 2 \\, f\\left({\\rho}, z\\right) \\frac{\\partial\\,f}{\\partial {\\rho}} \\frac{\\partial\\,r}{\\partial z} - 2 \\, f\\left({\\rho}, z\\right) \\frac{\\partial^2\\,f}{\\partial {\\rho}\\partial z} - \\frac{\\partial\\,f}{\\partial {\\rho}} \\frac{\\partial\\,f}{\\partial z}\\right)} e^{\\left(-2 \\, r\\left({\\rho}, z\\right)\\right)} \\frac{\\partial}{\\partial {\\rho} }\\otimes \\mathrm{d} t\\otimes \\mathrm{d} t\\otimes \\mathrm{d} z -\\frac{1}{4} \\, {\\left(2 \\, f\\left({\\rho}, z\\right) \\frac{\\partial\\,f}{\\partial {\\rho}} \\frac{\\partial\\,r}{\\partial {\\rho}} - 2 \\, f\\left({\\rho}, z\\right) \\frac{\\partial\\,f}{\\partial z} \\frac{\\partial\\,r}{\\partial z} - 2 \\, f\\left({\\rho}, z\\right) \\frac{\\partial^2\\,f}{\\partial {\\rho} ^ 2} + \\frac{\\partial\\,f}{\\partial z}^{2}\\right)} e^{\\left(-2 \\, r\\left({\\rho}, z\\right)\\right)} \\frac{\\partial}{\\partial {\\rho} }\\otimes \\mathrm{d} t\\otimes \\mathrm{d} {\\rho}\\otimes \\mathrm{d} t -\\frac{1}{4} \\, {\\left(2 \\, f\\left({\\rho}, z\\right) \\frac{\\partial\\,f}{\\partial z} \\frac{\\partial\\,r}{\\partial {\\rho}} + 2 \\, f\\left({\\rho}, z\\right) \\frac{\\partial\\,f}{\\partial {\\rho}} \\frac{\\partial\\,r}{\\partial z} - 2 \\, f\\left({\\rho}, z\\right) \\frac{\\partial^2\\,f}{\\partial {\\rho}\\partial z} - \\frac{\\partial\\,f}{\\partial {\\rho}} \\frac{\\partial\\,f}{\\partial z}\\right)} e^{\\left(-2 \\, r\\left({\\rho}, z\\right)\\right)} \\frac{\\partial}{\\partial {\\rho} }\\otimes \\mathrm{d} t\\otimes \\mathrm{d} z\\otimes \\mathrm{d} t + \\frac{{\\left(2 \\, {\\rho}^{2} f\\left({\\rho}, z\\right) \\frac{\\partial\\,f}{\\partial z} \\frac{\\partial\\,r}{\\partial z} - 2 \\, {\\rho}^{2} \\left(\\frac{\\partial\\,f}{\\partial {\\rho}}\\right)^{2} + 2 \\, {\\rho}^{2} f\\left({\\rho}, z\\right) \\frac{\\partial^2\\,f}{\\partial {\\rho} ^ 2} - {\\rho}^{2} \\frac{\\partial\\,f}{\\partial z}^{2} + 2 \\, {\\rho} f\\left({\\rho}, z\\right) \\frac{\\partial\\,f}{\\partial {\\rho}} - 2 \\, {\\left({\\rho}^{2} f\\left({\\rho}, z\\right) \\frac{\\partial\\,f}{\\partial {\\rho}} - 2 \\, {\\rho} f\\left({\\rho}, z\\right)^{2}\\right)} \\frac{\\partial\\,r}{\\partial {\\rho}}\\right)} e^{\\left(-2 \\, r\\left({\\rho}, z\\right)\\right)}}{4 \\, f\\left({\\rho}, z\\right)^{2}} \\frac{\\partial}{\\partial {\\rho} }\\otimes \\mathrm{d} {\\phi}\\otimes \\mathrm{d} {\\rho}\\otimes \\mathrm{d} {\\phi} -\\frac{{\\left(2 \\, {\\rho}^{2} f\\left({\\rho}, z\\right) \\frac{\\partial\\,f}{\\partial z} \\frac{\\partial\\,r}{\\partial z} - 2 \\, {\\rho}^{2} \\left(\\frac{\\partial\\,f}{\\partial {\\rho}}\\right)^{2} + 2 \\, {\\rho}^{2} f\\left({\\rho}, z\\right) \\frac{\\partial^2\\,f}{\\partial {\\rho} ^ 2} - {\\rho}^{2} \\frac{\\partial\\,f}{\\partial z}^{2} + 2 \\, {\\rho} f\\left({\\rho}, z\\right) \\frac{\\partial\\,f}{\\partial {\\rho}} - 2 \\, {\\left({\\rho}^{2} f\\left({\\rho}, z\\right) \\frac{\\partial\\,f}{\\partial {\\rho}} - 2 \\, {\\rho} f\\left({\\rho}, z\\right)^{2}\\right)} \\frac{\\partial\\,r}{\\partial {\\rho}}\\right)} e^{\\left(-2 \\, r\\left({\\rho}, z\\right)\\right)}}{4 \\, f\\left({\\rho}, z\\right)^{2}} \\frac{\\partial}{\\partial {\\rho} }\\otimes \\mathrm{d} {\\phi}\\otimes \\mathrm{d} {\\phi}\\otimes \\mathrm{d} {\\rho} + \\frac{{\\left(2 \\, {\\rho}^{2} f\\left({\\rho}, z\\right) \\frac{\\partial\\,f}{\\partial z} \\frac{\\partial\\,r}{\\partial {\\rho}} - 2 \\, {\\rho}^{2} f\\left({\\rho}, z\\right) \\frac{\\partial^2\\,f}{\\partial {\\rho}\\partial z} + {\\rho}^{2} \\frac{\\partial\\,f}{\\partial {\\rho}} \\frac{\\partial\\,f}{\\partial z} + 2 \\, {\\left({\\rho}^{2} f\\left({\\rho}, z\\right) \\frac{\\partial\\,f}{\\partial {\\rho}} - 2 \\, {\\rho} f\\left({\\rho}, z\\right)^{2}\\right)} \\frac{\\partial\\,r}{\\partial z}\\right)} e^{\\left(-2 \\, r\\left({\\rho}, z\\right)\\right)}}{4 \\, f\\left({\\rho}, z\\right)^{2}} \\frac{\\partial}{\\partial {\\rho} }\\otimes \\mathrm{d} {\\phi}\\otimes \\mathrm{d} {\\phi}\\otimes \\mathrm{d} z -\\frac{{\\left(2 \\, {\\rho}^{2} f\\left({\\rho}, z\\right) \\frac{\\partial\\,f}{\\partial z} \\frac{\\partial\\,r}{\\partial {\\rho}} - 2 \\, {\\rho}^{2} f\\left({\\rho}, z\\right) \\frac{\\partial^2\\,f}{\\partial {\\rho}\\partial z} + {\\rho}^{2} \\frac{\\partial\\,f}{\\partial {\\rho}} \\frac{\\partial\\,f}{\\partial z} + 2 \\, {\\left({\\rho}^{2} f\\left({\\rho}, z\\right) \\frac{\\partial\\,f}{\\partial {\\rho}} - 2 \\, {\\rho} f\\left({\\rho}, z\\right)^{2}\\right)} \\frac{\\partial\\,r}{\\partial z}\\right)} e^{\\left(-2 \\, r\\left({\\rho}, z\\right)\\right)}}{4 \\, f\\left({\\rho}, z\\right)^{2}} \\frac{\\partial}{\\partial {\\rho} }\\otimes \\mathrm{d} {\\phi}\\otimes \\mathrm{d} z\\otimes \\mathrm{d} {\\phi} + \\left( -\\frac{2 \\, f\\left({\\rho}, z\\right)^{2} \\frac{\\partial^2\\,r}{\\partial {\\rho} ^ 2} + 2 \\, f\\left({\\rho}, z\\right)^{2} \\frac{\\partial^2\\,r}{\\partial z ^ 2} + \\left(\\frac{\\partial\\,f}{\\partial {\\rho}}\\right)^{2} - f\\left({\\rho}, z\\right) \\frac{\\partial^2\\,f}{\\partial {\\rho} ^ 2} + \\left(\\frac{\\partial\\,f}{\\partial z}\\right)^{2} - f\\left({\\rho}, z\\right) \\frac{\\partial^2\\,f}{\\partial z ^ 2}}{2 \\, f\\left({\\rho}, z\\right)^{2}} \\right) \\frac{\\partial}{\\partial {\\rho} }\\otimes \\mathrm{d} z\\otimes \\mathrm{d} {\\rho}\\otimes \\mathrm{d} z + \\left( \\frac{2 \\, f\\left({\\rho}, z\\right)^{2} \\frac{\\partial^2\\,r}{\\partial {\\rho} ^ 2} + 2 \\, f\\left({\\rho}, z\\right)^{2} \\frac{\\partial^2\\,r}{\\partial z ^ 2} + \\left(\\frac{\\partial\\,f}{\\partial {\\rho}}\\right)^{2} - f\\left({\\rho}, z\\right) \\frac{\\partial^2\\,f}{\\partial {\\rho} ^ 2} + \\left(\\frac{\\partial\\,f}{\\partial z}\\right)^{2} - f\\left({\\rho}, z\\right) \\frac{\\partial^2\\,f}{\\partial z ^ 2}}{2 \\, f\\left({\\rho}, z\\right)^{2}} \\right) \\frac{\\partial}{\\partial {\\rho} }\\otimes \\mathrm{d} z\\otimes \\mathrm{d} z\\otimes \\mathrm{d} {\\rho} + \\frac{{\\left({\\rho} \\left(\\frac{\\partial\\,f}{\\partial {\\rho}}\\right)^{2} + {\\rho} \\left(\\frac{\\partial\\,f}{\\partial z}\\right)^{2} - 2 \\, f\\left({\\rho}, z\\right) \\frac{\\partial\\,f}{\\partial {\\rho}}\\right)} e^{\\left(-2 \\, r\\left({\\rho}, z\\right)\\right)}}{4 \\, {\\rho}} \\frac{\\partial}{\\partial {\\phi} }\\otimes \\mathrm{d} t\\otimes \\mathrm{d} t\\otimes \\mathrm{d} {\\phi} -\\frac{{\\left({\\rho} \\left(\\frac{\\partial\\,f}{\\partial {\\rho}}\\right)^{2} + {\\rho} \\left(\\frac{\\partial\\,f}{\\partial z}\\right)^{2} - 2 \\, f\\left({\\rho}, z\\right) \\frac{\\partial\\,f}{\\partial {\\rho}}\\right)} e^{\\left(-2 \\, r\\left({\\rho}, z\\right)\\right)}}{4 \\, {\\rho}} \\frac{\\partial}{\\partial {\\phi} }\\otimes \\mathrm{d} t\\otimes \\mathrm{d} {\\phi}\\otimes \\mathrm{d} t + \\left( -\\frac{2 \\, {\\rho} f\\left({\\rho}, z\\right) \\frac{\\partial\\,f}{\\partial z} \\frac{\\partial\\,r}{\\partial z} - 2 \\, {\\rho} \\left(\\frac{\\partial\\,f}{\\partial {\\rho}}\\right)^{2} + 2 \\, {\\rho} f\\left({\\rho}, z\\right) \\frac{\\partial^2\\,f}{\\partial {\\rho} ^ 2} - {\\rho} \\frac{\\partial\\,f}{\\partial z}^{2} + 2 \\, f\\left({\\rho}, z\\right) \\frac{\\partial\\,f}{\\partial {\\rho}} - 2 \\, {\\left({\\rho} f\\left({\\rho}, z\\right) \\frac{\\partial\\,f}{\\partial {\\rho}} - 2 \\, f\\left({\\rho}, z\\right)^{2}\\right)} \\frac{\\partial\\,r}{\\partial {\\rho}}}{4 \\, {\\rho} f\\left({\\rho}, z\\right)^{2}} \\right) \\frac{\\partial}{\\partial {\\phi} }\\otimes \\mathrm{d} {\\rho}\\otimes \\mathrm{d} {\\rho}\\otimes \\mathrm{d} {\\phi} + \\left( \\frac{2 \\, {\\rho} f\\left({\\rho}, z\\right) \\frac{\\partial\\,f}{\\partial z} \\frac{\\partial\\,r}{\\partial z} - 2 \\, {\\rho} \\left(\\frac{\\partial\\,f}{\\partial {\\rho}}\\right)^{2} + 2 \\, {\\rho} f\\left({\\rho}, z\\right) \\frac{\\partial^2\\,f}{\\partial {\\rho} ^ 2} - {\\rho} \\frac{\\partial\\,f}{\\partial z}^{2} + 2 \\, f\\left({\\rho}, z\\right) \\frac{\\partial\\,f}{\\partial {\\rho}} - 2 \\, {\\left({\\rho} f\\left({\\rho}, z\\right) \\frac{\\partial\\,f}{\\partial {\\rho}} - 2 \\, f\\left({\\rho}, z\\right)^{2}\\right)} \\frac{\\partial\\,r}{\\partial {\\rho}}}{4 \\, {\\rho} f\\left({\\rho}, z\\right)^{2}} \\right) \\frac{\\partial}{\\partial {\\phi} }\\otimes \\mathrm{d} {\\rho}\\otimes \\mathrm{d} {\\phi}\\otimes \\mathrm{d} {\\rho} + \\left( -\\frac{2 \\, {\\rho} f\\left({\\rho}, z\\right) \\frac{\\partial\\,f}{\\partial z} \\frac{\\partial\\,r}{\\partial {\\rho}} - 2 \\, {\\rho} f\\left({\\rho}, z\\right) \\frac{\\partial^2\\,f}{\\partial {\\rho}\\partial z} + {\\rho} \\frac{\\partial\\,f}{\\partial {\\rho}} \\frac{\\partial\\,f}{\\partial z} + 2 \\, {\\left({\\rho} f\\left({\\rho}, z\\right) \\frac{\\partial\\,f}{\\partial {\\rho}} - 2 \\, f\\left({\\rho}, z\\right)^{2}\\right)} \\frac{\\partial\\,r}{\\partial z}}{4 \\, {\\rho} f\\left({\\rho}, z\\right)^{2}} \\right) \\frac{\\partial}{\\partial {\\phi} }\\otimes \\mathrm{d} {\\rho}\\otimes \\mathrm{d} {\\phi}\\otimes \\mathrm{d} z + \\left( \\frac{2 \\, {\\rho} f\\left({\\rho}, z\\right) \\frac{\\partial\\,f}{\\partial z} \\frac{\\partial\\,r}{\\partial {\\rho}} - 2 \\, {\\rho} f\\left({\\rho}, z\\right) \\frac{\\partial^2\\,f}{\\partial {\\rho}\\partial z} + {\\rho} \\frac{\\partial\\,f}{\\partial {\\rho}} \\frac{\\partial\\,f}{\\partial z} + 2 \\, {\\left({\\rho} f\\left({\\rho}, z\\right) \\frac{\\partial\\,f}{\\partial {\\rho}} - 2 \\, f\\left({\\rho}, z\\right)^{2}\\right)} \\frac{\\partial\\,r}{\\partial z}}{4 \\, {\\rho} f\\left({\\rho}, z\\right)^{2}} \\right) \\frac{\\partial}{\\partial {\\phi} }\\otimes \\mathrm{d} {\\rho}\\otimes \\mathrm{d} z\\otimes \\mathrm{d} {\\phi} + \\left( \\frac{2 \\, {\\rho} f\\left({\\rho}, z\\right) \\frac{\\partial\\,f}{\\partial z} \\frac{\\partial\\,r}{\\partial {\\rho}} - 2 \\, {\\rho} f\\left({\\rho}, z\\right) \\frac{\\partial^2\\,f}{\\partial {\\rho}\\partial z} + {\\rho} \\frac{\\partial\\,f}{\\partial {\\rho}} \\frac{\\partial\\,f}{\\partial z} + 2 \\, {\\left({\\rho} f\\left({\\rho}, z\\right) \\frac{\\partial\\,f}{\\partial {\\rho}} - 2 \\, f\\left({\\rho}, z\\right)^{2}\\right)} \\frac{\\partial\\,r}{\\partial z}}{4 \\, {\\rho} f\\left({\\rho}, z\\right)^{2}} \\right) \\frac{\\partial}{\\partial {\\phi} }\\otimes \\mathrm{d} z\\otimes \\mathrm{d} {\\rho}\\otimes \\mathrm{d} {\\phi} + \\left( -\\frac{2 \\, {\\rho} f\\left({\\rho}, z\\right) \\frac{\\partial\\,f}{\\partial z} \\frac{\\partial\\,r}{\\partial {\\rho}} - 2 \\, {\\rho} f\\left({\\rho}, z\\right) \\frac{\\partial^2\\,f}{\\partial {\\rho}\\partial z} + {\\rho} \\frac{\\partial\\,f}{\\partial {\\rho}} \\frac{\\partial\\,f}{\\partial z} + 2 \\, {\\left({\\rho} f\\left({\\rho}, z\\right) \\frac{\\partial\\,f}{\\partial {\\rho}} - 2 \\, f\\left({\\rho}, z\\right)^{2}\\right)} \\frac{\\partial\\,r}{\\partial z}}{4 \\, {\\rho} f\\left({\\rho}, z\\right)^{2}} \\right) \\frac{\\partial}{\\partial {\\phi} }\\otimes \\mathrm{d} z\\otimes \\mathrm{d} {\\phi}\\otimes \\mathrm{d} {\\rho} + \\left( -\\frac{2 \\, {\\rho} f\\left({\\rho}, z\\right) \\frac{\\partial\\,f}{\\partial z} \\frac{\\partial\\,r}{\\partial z} + {\\rho} \\left(\\frac{\\partial\\,f}{\\partial {\\rho}}\\right)^{2} + 2 \\, {\\rho} \\frac{\\partial\\,f}{\\partial z}^{2} - 2 \\, {\\rho} f\\left({\\rho}, z\\right) \\frac{\\partial^2\\,f}{\\partial z ^ 2} - 2 \\, f\\left({\\rho}, z\\right) \\frac{\\partial\\,f}{\\partial {\\rho}} - 2 \\, {\\left({\\rho} f\\left({\\rho}, z\\right) \\frac{\\partial\\,f}{\\partial {\\rho}} - 2 \\, f\\left({\\rho}, z\\right)^{2}\\right)} \\frac{\\partial\\,r}{\\partial {\\rho}}}{4 \\, {\\rho} f\\left({\\rho}, z\\right)^{2}} \\right) \\frac{\\partial}{\\partial {\\phi} }\\otimes \\mathrm{d} z\\otimes \\mathrm{d} {\\phi}\\otimes \\mathrm{d} z + \\left( \\frac{2 \\, {\\rho} f\\left({\\rho}, z\\right) \\frac{\\partial\\,f}{\\partial z} \\frac{\\partial\\,r}{\\partial z} + {\\rho} \\left(\\frac{\\partial\\,f}{\\partial {\\rho}}\\right)^{2} + 2 \\, {\\rho} \\frac{\\partial\\,f}{\\partial z}^{2} - 2 \\, {\\rho} f\\left({\\rho}, z\\right) \\frac{\\partial^2\\,f}{\\partial z ^ 2} - 2 \\, f\\left({\\rho}, z\\right) \\frac{\\partial\\,f}{\\partial {\\rho}} - 2 \\, {\\left({\\rho} f\\left({\\rho}, z\\right) \\frac{\\partial\\,f}{\\partial {\\rho}} - 2 \\, f\\left({\\rho}, z\\right)^{2}\\right)} \\frac{\\partial\\,r}{\\partial {\\rho}}}{4 \\, {\\rho} f\\left({\\rho}, z\\right)^{2}} \\right) \\frac{\\partial}{\\partial {\\phi} }\\otimes \\mathrm{d} z\\otimes \\mathrm{d} z\\otimes \\mathrm{d} {\\phi} + \\frac{1}{4} \\, {\\left(2 \\, f\\left({\\rho}, z\\right) \\frac{\\partial\\,f}{\\partial z} \\frac{\\partial\\,r}{\\partial {\\rho}} + 2 \\, f\\left({\\rho}, z\\right) \\frac{\\partial\\,f}{\\partial {\\rho}} \\frac{\\partial\\,r}{\\partial z} - 2 \\, f\\left({\\rho}, z\\right) \\frac{\\partial^2\\,f}{\\partial {\\rho}\\partial z} - \\frac{\\partial\\,f}{\\partial {\\rho}} \\frac{\\partial\\,f}{\\partial z}\\right)} e^{\\left(-2 \\, r\\left({\\rho}, z\\right)\\right)} \\frac{\\partial}{\\partial z }\\otimes \\mathrm{d} t\\otimes \\mathrm{d} t\\otimes \\mathrm{d} {\\rho} -\\frac{1}{4} \\, {\\left(2 \\, f\\left({\\rho}, z\\right) \\frac{\\partial\\,f}{\\partial {\\rho}} \\frac{\\partial\\,r}{\\partial {\\rho}} - 2 \\, f\\left({\\rho}, z\\right) \\frac{\\partial\\,f}{\\partial z} \\frac{\\partial\\,r}{\\partial z} - \\frac{\\partial\\,f}{\\partial {\\rho}}^{2} + 2 \\, f\\left({\\rho}, z\\right) \\frac{\\partial^2\\,f}{\\partial z ^ 2}\\right)} e^{\\left(-2 \\, r\\left({\\rho}, z\\right)\\right)} \\frac{\\partial}{\\partial z }\\otimes \\mathrm{d} t\\otimes \\mathrm{d} t\\otimes \\mathrm{d} z -\\frac{1}{4} \\, {\\left(2 \\, f\\left({\\rho}, z\\right) \\frac{\\partial\\,f}{\\partial z} \\frac{\\partial\\,r}{\\partial {\\rho}} + 2 \\, f\\left({\\rho}, z\\right) \\frac{\\partial\\,f}{\\partial {\\rho}} \\frac{\\partial\\,r}{\\partial z} - 2 \\, f\\left({\\rho}, z\\right) \\frac{\\partial^2\\,f}{\\partial {\\rho}\\partial z} - \\frac{\\partial\\,f}{\\partial {\\rho}} \\frac{\\partial\\,f}{\\partial z}\\right)} e^{\\left(-2 \\, r\\left({\\rho}, z\\right)\\right)} \\frac{\\partial}{\\partial z }\\otimes \\mathrm{d} t\\otimes \\mathrm{d} {\\rho}\\otimes \\mathrm{d} t + \\frac{1}{4} \\, {\\left(2 \\, f\\left({\\rho}, z\\right) \\frac{\\partial\\,f}{\\partial {\\rho}} \\frac{\\partial\\,r}{\\partial {\\rho}} - 2 \\, f\\left({\\rho}, z\\right) \\frac{\\partial\\,f}{\\partial z} \\frac{\\partial\\,r}{\\partial z} - \\frac{\\partial\\,f}{\\partial {\\rho}}^{2} + 2 \\, f\\left({\\rho}, z\\right) \\frac{\\partial^2\\,f}{\\partial z ^ 2}\\right)} e^{\\left(-2 \\, r\\left({\\rho}, z\\right)\\right)} \\frac{\\partial}{\\partial z }\\otimes \\mathrm{d} t\\otimes \\mathrm{d} z\\otimes \\mathrm{d} t + \\left( \\frac{2 \\, f\\left({\\rho}, z\\right)^{2} \\frac{\\partial^2\\,r}{\\partial {\\rho} ^ 2} + 2 \\, f\\left({\\rho}, z\\right)^{2} \\frac{\\partial^2\\,r}{\\partial z ^ 2} + \\left(\\frac{\\partial\\,f}{\\partial {\\rho}}\\right)^{2} - f\\left({\\rho}, z\\right) \\frac{\\partial^2\\,f}{\\partial {\\rho} ^ 2} + \\left(\\frac{\\partial\\,f}{\\partial z}\\right)^{2} - f\\left({\\rho}, z\\right) \\frac{\\partial^2\\,f}{\\partial z ^ 2}}{2 \\, f\\left({\\rho}, z\\right)^{2}} \\right) \\frac{\\partial}{\\partial z }\\otimes \\mathrm{d} {\\rho}\\otimes \\mathrm{d} {\\rho}\\otimes \\mathrm{d} z + \\left( -\\frac{2 \\, f\\left({\\rho}, z\\right)^{2} \\frac{\\partial^2\\,r}{\\partial {\\rho} ^ 2} + 2 \\, f\\left({\\rho}, z\\right)^{2} \\frac{\\partial^2\\,r}{\\partial z ^ 2} + \\left(\\frac{\\partial\\,f}{\\partial {\\rho}}\\right)^{2} - f\\left({\\rho}, z\\right) \\frac{\\partial^2\\,f}{\\partial {\\rho} ^ 2} + \\left(\\frac{\\partial\\,f}{\\partial z}\\right)^{2} - f\\left({\\rho}, z\\right) \\frac{\\partial^2\\,f}{\\partial z ^ 2}}{2 \\, f\\left({\\rho}, z\\right)^{2}} \\right) \\frac{\\partial}{\\partial z }\\otimes \\mathrm{d} {\\rho}\\otimes \\mathrm{d} z\\otimes \\mathrm{d} {\\rho} -\\frac{{\\left(2 \\, {\\rho}^{2} f\\left({\\rho}, z\\right) \\frac{\\partial\\,f}{\\partial z} \\frac{\\partial\\,r}{\\partial {\\rho}} - 2 \\, {\\rho}^{2} f\\left({\\rho}, z\\right) \\frac{\\partial^2\\,f}{\\partial {\\rho}\\partial z} + {\\rho}^{2} \\frac{\\partial\\,f}{\\partial {\\rho}} \\frac{\\partial\\,f}{\\partial z} + 2 \\, {\\left({\\rho}^{2} f\\left({\\rho}, z\\right) \\frac{\\partial\\,f}{\\partial {\\rho}} - 2 \\, {\\rho} f\\left({\\rho}, z\\right)^{2}\\right)} \\frac{\\partial\\,r}{\\partial z}\\right)} e^{\\left(-2 \\, r\\left({\\rho}, z\\right)\\right)}}{4 \\, f\\left({\\rho}, z\\right)^{2}} \\frac{\\partial}{\\partial z }\\otimes \\mathrm{d} {\\phi}\\otimes \\mathrm{d} {\\rho}\\otimes \\mathrm{d} {\\phi} + \\frac{{\\left(2 \\, {\\rho}^{2} f\\left({\\rho}, z\\right) \\frac{\\partial\\,f}{\\partial z} \\frac{\\partial\\,r}{\\partial {\\rho}} - 2 \\, {\\rho}^{2} f\\left({\\rho}, z\\right) \\frac{\\partial^2\\,f}{\\partial {\\rho}\\partial z} + {\\rho}^{2} \\frac{\\partial\\,f}{\\partial {\\rho}} \\frac{\\partial\\,f}{\\partial z} + 2 \\, {\\left({\\rho}^{2} f\\left({\\rho}, z\\right) \\frac{\\partial\\,f}{\\partial {\\rho}} - 2 \\, {\\rho} f\\left({\\rho}, z\\right)^{2}\\right)} \\frac{\\partial\\,r}{\\partial z}\\right)} e^{\\left(-2 \\, r\\left({\\rho}, z\\right)\\right)}}{4 \\, f\\left({\\rho}, z\\right)^{2}} \\frac{\\partial}{\\partial z }\\otimes \\mathrm{d} {\\phi}\\otimes \\mathrm{d} {\\phi}\\otimes \\mathrm{d} {\\rho} + \\frac{{\\left(2 \\, {\\rho}^{2} f\\left({\\rho}, z\\right) \\frac{\\partial\\,f}{\\partial z} \\frac{\\partial\\,r}{\\partial z} + {\\rho}^{2} \\left(\\frac{\\partial\\,f}{\\partial {\\rho}}\\right)^{2} + 2 \\, {\\rho}^{2} \\frac{\\partial\\,f}{\\partial z}^{2} - 2 \\, {\\rho}^{2} f\\left({\\rho}, z\\right) \\frac{\\partial^2\\,f}{\\partial z ^ 2} - 2 \\, {\\rho} f\\left({\\rho}, z\\right) \\frac{\\partial\\,f}{\\partial {\\rho}} - 2 \\, {\\left({\\rho}^{2} f\\left({\\rho}, z\\right) \\frac{\\partial\\,f}{\\partial {\\rho}} - 2 \\, {\\rho} f\\left({\\rho}, z\\right)^{2}\\right)} \\frac{\\partial\\,r}{\\partial {\\rho}}\\right)} e^{\\left(-2 \\, r\\left({\\rho}, z\\right)\\right)}}{4 \\, f\\left({\\rho}, z\\right)^{2}} \\frac{\\partial}{\\partial z }\\otimes \\mathrm{d} {\\phi}\\otimes \\mathrm{d} {\\phi}\\otimes \\mathrm{d} z -\\frac{{\\left(2 \\, {\\rho}^{2} f\\left({\\rho}, z\\right) \\frac{\\partial\\,f}{\\partial z} \\frac{\\partial\\,r}{\\partial z} + {\\rho}^{2} \\left(\\frac{\\partial\\,f}{\\partial {\\rho}}\\right)^{2} + 2 \\, {\\rho}^{2} \\frac{\\partial\\,f}{\\partial z}^{2} - 2 \\, {\\rho}^{2} f\\left({\\rho}, z\\right) \\frac{\\partial^2\\,f}{\\partial z ^ 2} - 2 \\, {\\rho} f\\left({\\rho}, z\\right) \\frac{\\partial\\,f}{\\partial {\\rho}} - 2 \\, {\\left({\\rho}^{2} f\\left({\\rho}, z\\right) \\frac{\\partial\\,f}{\\partial {\\rho}} - 2 \\, {\\rho} f\\left({\\rho}, z\\right)^{2}\\right)} \\frac{\\partial\\,r}{\\partial {\\rho}}\\right)} e^{\\left(-2 \\, r\\left({\\rho}, z\\right)\\right)}}{4 \\, f\\left({\\rho}, z\\right)^{2}} \\frac{\\partial}{\\partial z }\\otimes \\mathrm{d} {\\phi}\\otimes \\mathrm{d} z\\otimes \\mathrm{d} {\\phi}</script></html>"
      ],
      "text/plain": [
       "Riem(g) = 1/4*(2*f(rh, z)*d(f)/drh*d(r)/drh - 2*f(rh, z)*d(f)/dz*d(r)/dz - 2*f(rh, z)*d^2(f)/drh^2 + d(f)/dz^2)/f(rh, z)^2 d/dt*drh*dt*drh + 1/4*(2*f(rh, z)*d(f)/dz*d(r)/drh + 2*f(rh, z)*d(f)/drh*d(r)/dz - 2*f(rh, z)*d^2(f)/drhdz - d(f)/drh*d(f)/dz)/f(rh, z)^2 d/dt*drh*dt*dz - 1/4*(2*f(rh, z)*d(f)/drh*d(r)/drh - 2*f(rh, z)*d(f)/dz*d(r)/dz - 2*f(rh, z)*d^2(f)/drh^2 + d(f)/dz^2)/f(rh, z)^2 d/dt*drh*drh*dt - 1/4*(2*f(rh, z)*d(f)/dz*d(r)/drh + 2*f(rh, z)*d(f)/drh*d(r)/dz - 2*f(rh, z)*d^2(f)/drhdz - d(f)/drh*d(f)/dz)/f(rh, z)^2 d/dt*drh*dz*dt + 1/4*(rh^2*(d(f)/drh)^2 + rh^2*(d(f)/dz)^2 - 2*rh*f(rh, z)*d(f)/drh)*e^(-2*r(rh, z))/f(rh, z)^2 d/dt*dph*dt*dph - 1/4*(rh^2*(d(f)/drh)^2 + rh^2*(d(f)/dz)^2 - 2*rh*f(rh, z)*d(f)/drh)*e^(-2*r(rh, z))/f(rh, z)^2 d/dt*dph*dph*dt + 1/4*(2*f(rh, z)*d(f)/dz*d(r)/drh + 2*f(rh, z)*d(f)/drh*d(r)/dz - 2*f(rh, z)*d^2(f)/drhdz - d(f)/drh*d(f)/dz)/f(rh, z)^2 d/dt*dz*dt*drh - 1/4*(2*f(rh, z)*d(f)/drh*d(r)/drh - 2*f(rh, z)*d(f)/dz*d(r)/dz - d(f)/drh^2 + 2*f(rh, z)*d^2(f)/dz^2)/f(rh, z)^2 d/dt*dz*dt*dz - 1/4*(2*f(rh, z)*d(f)/dz*d(r)/drh + 2*f(rh, z)*d(f)/drh*d(r)/dz - 2*f(rh, z)*d^2(f)/drhdz - d(f)/drh*d(f)/dz)/f(rh, z)^2 d/dt*dz*drh*dt + 1/4*(2*f(rh, z)*d(f)/drh*d(r)/drh - 2*f(rh, z)*d(f)/dz*d(r)/dz - d(f)/drh^2 + 2*f(rh, z)*d^2(f)/dz^2)/f(rh, z)^2 d/dt*dz*dz*dt + 1/4*(2*f(rh, z)*d(f)/drh*d(r)/drh - 2*f(rh, z)*d(f)/dz*d(r)/dz - 2*f(rh, z)*d^2(f)/drh^2 + d(f)/dz^2)*e^(-2*r(rh, z)) d/drh*dt*dt*drh + 1/4*(2*f(rh, z)*d(f)/dz*d(r)/drh + 2*f(rh, z)*d(f)/drh*d(r)/dz - 2*f(rh, z)*d^2(f)/drhdz - d(f)/drh*d(f)/dz)*e^(-2*r(rh, z)) d/drh*dt*dt*dz - 1/4*(2*f(rh, z)*d(f)/drh*d(r)/drh - 2*f(rh, z)*d(f)/dz*d(r)/dz - 2*f(rh, z)*d^2(f)/drh^2 + d(f)/dz^2)*e^(-2*r(rh, z)) d/drh*dt*drh*dt - 1/4*(2*f(rh, z)*d(f)/dz*d(r)/drh + 2*f(rh, z)*d(f)/drh*d(r)/dz - 2*f(rh, z)*d^2(f)/drhdz - d(f)/drh*d(f)/dz)*e^(-2*r(rh, z)) d/drh*dt*dz*dt + 1/4*(2*rh^2*f(rh, z)*d(f)/dz*d(r)/dz - 2*rh^2*(d(f)/drh)^2 + 2*rh^2*f(rh, z)*d^2(f)/drh^2 - rh^2*d(f)/dz^2 + 2*rh*f(rh, z)*d(f)/drh - 2*(rh^2*f(rh, z)*d(f)/drh - 2*rh*f(rh, z)^2)*d(r)/drh)*e^(-2*r(rh, z))/f(rh, z)^2 d/drh*dph*drh*dph - 1/4*(2*rh^2*f(rh, z)*d(f)/dz*d(r)/dz - 2*rh^2*(d(f)/drh)^2 + 2*rh^2*f(rh, z)*d^2(f)/drh^2 - rh^2*d(f)/dz^2 + 2*rh*f(rh, z)*d(f)/drh - 2*(rh^2*f(rh, z)*d(f)/drh - 2*rh*f(rh, z)^2)*d(r)/drh)*e^(-2*r(rh, z))/f(rh, z)^2 d/drh*dph*dph*drh + 1/4*(2*rh^2*f(rh, z)*d(f)/dz*d(r)/drh - 2*rh^2*f(rh, z)*d^2(f)/drhdz + rh^2*d(f)/drh*d(f)/dz + 2*(rh^2*f(rh, z)*d(f)/drh - 2*rh*f(rh, z)^2)*d(r)/dz)*e^(-2*r(rh, z))/f(rh, z)^2 d/drh*dph*dph*dz - 1/4*(2*rh^2*f(rh, z)*d(f)/dz*d(r)/drh - 2*rh^2*f(rh, z)*d^2(f)/drhdz + rh^2*d(f)/drh*d(f)/dz + 2*(rh^2*f(rh, z)*d(f)/drh - 2*rh*f(rh, z)^2)*d(r)/dz)*e^(-2*r(rh, z))/f(rh, z)^2 d/drh*dph*dz*dph - 1/2*(2*f(rh, z)^2*d^2(r)/drh^2 + 2*f(rh, z)^2*d^2(r)/dz^2 + (d(f)/drh)^2 - f(rh, z)*d^2(f)/drh^2 + (d(f)/dz)^2 - f(rh, z)*d^2(f)/dz^2)/f(rh, z)^2 d/drh*dz*drh*dz + 1/2*(2*f(rh, z)^2*d^2(r)/drh^2 + 2*f(rh, z)^2*d^2(r)/dz^2 + (d(f)/drh)^2 - f(rh, z)*d^2(f)/drh^2 + (d(f)/dz)^2 - f(rh, z)*d^2(f)/dz^2)/f(rh, z)^2 d/drh*dz*dz*drh + 1/4*(rh*(d(f)/drh)^2 + rh*(d(f)/dz)^2 - 2*f(rh, z)*d(f)/drh)*e^(-2*r(rh, z))/rh d/dph*dt*dt*dph - 1/4*(rh*(d(f)/drh)^2 + rh*(d(f)/dz)^2 - 2*f(rh, z)*d(f)/drh)*e^(-2*r(rh, z))/rh d/dph*dt*dph*dt - 1/4*(2*rh*f(rh, z)*d(f)/dz*d(r)/dz - 2*rh*(d(f)/drh)^2 + 2*rh*f(rh, z)*d^2(f)/drh^2 - rh*d(f)/dz^2 + 2*f(rh, z)*d(f)/drh - 2*(rh*f(rh, z)*d(f)/drh - 2*f(rh, z)^2)*d(r)/drh)/(rh*f(rh, z)^2) d/dph*drh*drh*dph + 1/4*(2*rh*f(rh, z)*d(f)/dz*d(r)/dz - 2*rh*(d(f)/drh)^2 + 2*rh*f(rh, z)*d^2(f)/drh^2 - rh*d(f)/dz^2 + 2*f(rh, z)*d(f)/drh - 2*(rh*f(rh, z)*d(f)/drh - 2*f(rh, z)^2)*d(r)/drh)/(rh*f(rh, z)^2) d/dph*drh*dph*drh - 1/4*(2*rh*f(rh, z)*d(f)/dz*d(r)/drh - 2*rh*f(rh, z)*d^2(f)/drhdz + rh*d(f)/drh*d(f)/dz + 2*(rh*f(rh, z)*d(f)/drh - 2*f(rh, z)^2)*d(r)/dz)/(rh*f(rh, z)^2) d/dph*drh*dph*dz + 1/4*(2*rh*f(rh, z)*d(f)/dz*d(r)/drh - 2*rh*f(rh, z)*d^2(f)/drhdz + rh*d(f)/drh*d(f)/dz + 2*(rh*f(rh, z)*d(f)/drh - 2*f(rh, z)^2)*d(r)/dz)/(rh*f(rh, z)^2) d/dph*drh*dz*dph + 1/4*(2*rh*f(rh, z)*d(f)/dz*d(r)/drh - 2*rh*f(rh, z)*d^2(f)/drhdz + rh*d(f)/drh*d(f)/dz + 2*(rh*f(rh, z)*d(f)/drh - 2*f(rh, z)^2)*d(r)/dz)/(rh*f(rh, z)^2) d/dph*dz*drh*dph - 1/4*(2*rh*f(rh, z)*d(f)/dz*d(r)/drh - 2*rh*f(rh, z)*d^2(f)/drhdz + rh*d(f)/drh*d(f)/dz + 2*(rh*f(rh, z)*d(f)/drh - 2*f(rh, z)^2)*d(r)/dz)/(rh*f(rh, z)^2) d/dph*dz*dph*drh - 1/4*(2*rh*f(rh, z)*d(f)/dz*d(r)/dz + rh*(d(f)/drh)^2 + 2*rh*d(f)/dz^2 - 2*rh*f(rh, z)*d^2(f)/dz^2 - 2*f(rh, z)*d(f)/drh - 2*(rh*f(rh, z)*d(f)/drh - 2*f(rh, z)^2)*d(r)/drh)/(rh*f(rh, z)^2) d/dph*dz*dph*dz + 1/4*(2*rh*f(rh, z)*d(f)/dz*d(r)/dz + rh*(d(f)/drh)^2 + 2*rh*d(f)/dz^2 - 2*rh*f(rh, z)*d^2(f)/dz^2 - 2*f(rh, z)*d(f)/drh - 2*(rh*f(rh, z)*d(f)/drh - 2*f(rh, z)^2)*d(r)/drh)/(rh*f(rh, z)^2) d/dph*dz*dz*dph + 1/4*(2*f(rh, z)*d(f)/dz*d(r)/drh + 2*f(rh, z)*d(f)/drh*d(r)/dz - 2*f(rh, z)*d^2(f)/drhdz - d(f)/drh*d(f)/dz)*e^(-2*r(rh, z)) d/dz*dt*dt*drh - 1/4*(2*f(rh, z)*d(f)/drh*d(r)/drh - 2*f(rh, z)*d(f)/dz*d(r)/dz - d(f)/drh^2 + 2*f(rh, z)*d^2(f)/dz^2)*e^(-2*r(rh, z)) d/dz*dt*dt*dz - 1/4*(2*f(rh, z)*d(f)/dz*d(r)/drh + 2*f(rh, z)*d(f)/drh*d(r)/dz - 2*f(rh, z)*d^2(f)/drhdz - d(f)/drh*d(f)/dz)*e^(-2*r(rh, z)) d/dz*dt*drh*dt + 1/4*(2*f(rh, z)*d(f)/drh*d(r)/drh - 2*f(rh, z)*d(f)/dz*d(r)/dz - d(f)/drh^2 + 2*f(rh, z)*d^2(f)/dz^2)*e^(-2*r(rh, z)) d/dz*dt*dz*dt + 1/2*(2*f(rh, z)^2*d^2(r)/drh^2 + 2*f(rh, z)^2*d^2(r)/dz^2 + (d(f)/drh)^2 - f(rh, z)*d^2(f)/drh^2 + (d(f)/dz)^2 - f(rh, z)*d^2(f)/dz^2)/f(rh, z)^2 d/dz*drh*drh*dz - 1/2*(2*f(rh, z)^2*d^2(r)/drh^2 + 2*f(rh, z)^2*d^2(r)/dz^2 + (d(f)/drh)^2 - f(rh, z)*d^2(f)/drh^2 + (d(f)/dz)^2 - f(rh, z)*d^2(f)/dz^2)/f(rh, z)^2 d/dz*drh*dz*drh - 1/4*(2*rh^2*f(rh, z)*d(f)/dz*d(r)/drh - 2*rh^2*f(rh, z)*d^2(f)/drhdz + rh^2*d(f)/drh*d(f)/dz + 2*(rh^2*f(rh, z)*d(f)/drh - 2*rh*f(rh, z)^2)*d(r)/dz)*e^(-2*r(rh, z))/f(rh, z)^2 d/dz*dph*drh*dph + 1/4*(2*rh^2*f(rh, z)*d(f)/dz*d(r)/drh - 2*rh^2*f(rh, z)*d^2(f)/drhdz + rh^2*d(f)/drh*d(f)/dz + 2*(rh^2*f(rh, z)*d(f)/drh - 2*rh*f(rh, z)^2)*d(r)/dz)*e^(-2*r(rh, z))/f(rh, z)^2 d/dz*dph*dph*drh + 1/4*(2*rh^2*f(rh, z)*d(f)/dz*d(r)/dz + rh^2*(d(f)/drh)^2 + 2*rh^2*d(f)/dz^2 - 2*rh^2*f(rh, z)*d^2(f)/dz^2 - 2*rh*f(rh, z)*d(f)/drh - 2*(rh^2*f(rh, z)*d(f)/drh - 2*rh*f(rh, z)^2)*d(r)/drh)*e^(-2*r(rh, z))/f(rh, z)^2 d/dz*dph*dph*dz - 1/4*(2*rh^2*f(rh, z)*d(f)/dz*d(r)/dz + rh^2*(d(f)/drh)^2 + 2*rh^2*d(f)/dz^2 - 2*rh^2*f(rh, z)*d^2(f)/dz^2 - 2*rh*f(rh, z)*d(f)/drh - 2*(rh^2*f(rh, z)*d(f)/drh - 2*rh*f(rh, z)^2)*d(r)/drh)*e^(-2*r(rh, z))/f(rh, z)^2 d/dz*dph*dz*dph"
      ]
     },
     "execution_count": 124,
     "metadata": {},
     "output_type": "execute_result"
    }
   ],
   "source": [
    "R.display()"
   ]
  },
  {
   "cell_type": "code",
   "execution_count": 292,
   "metadata": {},
   "outputs": [
    {
     "data": {
      "text/html": [
       "<html><script type=\"math/tex; mode=display\">\\newcommand{\\Bold}[1]{\\mathbf{#1}}\\left[\\left[\\left[\\left[0, 0, 0, 0\\right], \\left[0, 0, 0, 0\\right], \\left[0, 0, 0, 0\\right], \\left[0, 0, 0, 0\\right]\\right], \\left[\\left[0, \\frac{2 \\, f\\left({\\rho}, z\\right) \\frac{\\partial\\,f}{\\partial {\\rho}} \\frac{\\partial\\,r}{\\partial {\\rho}} - 2 \\, f\\left({\\rho}, z\\right) \\frac{\\partial\\,f}{\\partial z} \\frac{\\partial\\,r}{\\partial z} - 2 \\, f\\left({\\rho}, z\\right) \\frac{\\partial^2\\,f}{\\partial {\\rho} ^ 2} + \\frac{\\partial\\,f}{\\partial z}^{2}}{4 \\, f\\left({\\rho}, z\\right)^{2}}, 0, \\frac{2 \\, f\\left({\\rho}, z\\right) \\frac{\\partial\\,f}{\\partial z} \\frac{\\partial\\,r}{\\partial {\\rho}} + 2 \\, f\\left({\\rho}, z\\right) \\frac{\\partial\\,f}{\\partial {\\rho}} \\frac{\\partial\\,r}{\\partial z} - 2 \\, f\\left({\\rho}, z\\right) \\frac{\\partial^2\\,f}{\\partial {\\rho}\\partial z} - \\frac{\\partial\\,f}{\\partial {\\rho}} \\frac{\\partial\\,f}{\\partial z}}{4 \\, f\\left({\\rho}, z\\right)^{2}}\\right], \\left[-\\frac{2 \\, f\\left({\\rho}, z\\right) \\frac{\\partial\\,f}{\\partial {\\rho}} \\frac{\\partial\\,r}{\\partial {\\rho}} - 2 \\, f\\left({\\rho}, z\\right) \\frac{\\partial\\,f}{\\partial z} \\frac{\\partial\\,r}{\\partial z} - 2 \\, f\\left({\\rho}, z\\right) \\frac{\\partial^2\\,f}{\\partial {\\rho} ^ 2} + \\frac{\\partial\\,f}{\\partial z}^{2}}{4 \\, f\\left({\\rho}, z\\right)^{2}}, 0, 0, 0\\right], \\left[0, 0, 0, 0\\right], \\left[-\\frac{2 \\, f\\left({\\rho}, z\\right) \\frac{\\partial\\,f}{\\partial z} \\frac{\\partial\\,r}{\\partial {\\rho}} + 2 \\, f\\left({\\rho}, z\\right) \\frac{\\partial\\,f}{\\partial {\\rho}} \\frac{\\partial\\,r}{\\partial z} - 2 \\, f\\left({\\rho}, z\\right) \\frac{\\partial^2\\,f}{\\partial {\\rho}\\partial z} - \\frac{\\partial\\,f}{\\partial {\\rho}} \\frac{\\partial\\,f}{\\partial z}}{4 \\, f\\left({\\rho}, z\\right)^{2}}, 0, 0, 0\\right]\\right], \\left[\\left[0, 0, \\frac{{\\left({\\rho}^{2} \\left(\\frac{\\partial\\,f}{\\partial {\\rho}}\\right)^{2} + {\\rho}^{2} \\left(\\frac{\\partial\\,f}{\\partial z}\\right)^{2} - 2 \\, {\\rho} f\\left({\\rho}, z\\right) \\frac{\\partial\\,f}{\\partial {\\rho}}\\right)} e^{\\left(-2 \\, r\\left({\\rho}, z\\right)\\right)}}{4 \\, f\\left({\\rho}, z\\right)^{2}}, 0\\right], \\left[0, 0, 0, 0\\right], \\left[-\\frac{{\\left({\\rho}^{2} \\left(\\frac{\\partial\\,f}{\\partial {\\rho}}\\right)^{2} + {\\rho}^{2} \\left(\\frac{\\partial\\,f}{\\partial z}\\right)^{2} - 2 \\, {\\rho} f\\left({\\rho}, z\\right) \\frac{\\partial\\,f}{\\partial {\\rho}}\\right)} e^{\\left(-2 \\, r\\left({\\rho}, z\\right)\\right)}}{4 \\, f\\left({\\rho}, z\\right)^{2}}, 0, 0, 0\\right], \\left[0, 0, 0, 0\\right]\\right], \\left[\\left[0, \\frac{2 \\, f\\left({\\rho}, z\\right) \\frac{\\partial\\,f}{\\partial z} \\frac{\\partial\\,r}{\\partial {\\rho}} + 2 \\, f\\left({\\rho}, z\\right) \\frac{\\partial\\,f}{\\partial {\\rho}} \\frac{\\partial\\,r}{\\partial z} - 2 \\, f\\left({\\rho}, z\\right) \\frac{\\partial^2\\,f}{\\partial {\\rho}\\partial z} - \\frac{\\partial\\,f}{\\partial {\\rho}} \\frac{\\partial\\,f}{\\partial z}}{4 \\, f\\left({\\rho}, z\\right)^{2}}, 0, -\\frac{2 \\, f\\left({\\rho}, z\\right) \\frac{\\partial\\,f}{\\partial {\\rho}} \\frac{\\partial\\,r}{\\partial {\\rho}} - 2 \\, f\\left({\\rho}, z\\right) \\frac{\\partial\\,f}{\\partial z} \\frac{\\partial\\,r}{\\partial z} - \\frac{\\partial\\,f}{\\partial {\\rho}}^{2} + 2 \\, f\\left({\\rho}, z\\right) \\frac{\\partial^2\\,f}{\\partial z ^ 2}}{4 \\, f\\left({\\rho}, z\\right)^{2}}\\right], \\left[-\\frac{2 \\, f\\left({\\rho}, z\\right) \\frac{\\partial\\,f}{\\partial z} \\frac{\\partial\\,r}{\\partial {\\rho}} + 2 \\, f\\left({\\rho}, z\\right) \\frac{\\partial\\,f}{\\partial {\\rho}} \\frac{\\partial\\,r}{\\partial z} - 2 \\, f\\left({\\rho}, z\\right) \\frac{\\partial^2\\,f}{\\partial {\\rho}\\partial z} - \\frac{\\partial\\,f}{\\partial {\\rho}} \\frac{\\partial\\,f}{\\partial z}}{4 \\, f\\left({\\rho}, z\\right)^{2}}, 0, 0, 0\\right], \\left[0, 0, 0, 0\\right], \\left[\\frac{2 \\, f\\left({\\rho}, z\\right) \\frac{\\partial\\,f}{\\partial {\\rho}} \\frac{\\partial\\,r}{\\partial {\\rho}} - 2 \\, f\\left({\\rho}, z\\right) \\frac{\\partial\\,f}{\\partial z} \\frac{\\partial\\,r}{\\partial z} - \\frac{\\partial\\,f}{\\partial {\\rho}}^{2} + 2 \\, f\\left({\\rho}, z\\right) \\frac{\\partial^2\\,f}{\\partial z ^ 2}}{4 \\, f\\left({\\rho}, z\\right)^{2}}, 0, 0, 0\\right]\\right]\\right], \\left[\\left[\\left[0, \\frac{1}{4} \\, {\\left(2 \\, f\\left({\\rho}, z\\right) \\frac{\\partial\\,f}{\\partial {\\rho}} \\frac{\\partial\\,r}{\\partial {\\rho}} - 2 \\, f\\left({\\rho}, z\\right) \\frac{\\partial\\,f}{\\partial z} \\frac{\\partial\\,r}{\\partial z} - 2 \\, f\\left({\\rho}, z\\right) \\frac{\\partial^2\\,f}{\\partial {\\rho} ^ 2} + \\frac{\\partial\\,f}{\\partial z}^{2}\\right)} e^{\\left(-2 \\, r\\left({\\rho}, z\\right)\\right)}, 0, \\frac{1}{4} \\, {\\left(2 \\, f\\left({\\rho}, z\\right) \\frac{\\partial\\,f}{\\partial z} \\frac{\\partial\\,r}{\\partial {\\rho}} + 2 \\, f\\left({\\rho}, z\\right) \\frac{\\partial\\,f}{\\partial {\\rho}} \\frac{\\partial\\,r}{\\partial z} - 2 \\, f\\left({\\rho}, z\\right) \\frac{\\partial^2\\,f}{\\partial {\\rho}\\partial z} - \\frac{\\partial\\,f}{\\partial {\\rho}} \\frac{\\partial\\,f}{\\partial z}\\right)} e^{\\left(-2 \\, r\\left({\\rho}, z\\right)\\right)}\\right], \\left[-\\frac{1}{4} \\, {\\left(2 \\, f\\left({\\rho}, z\\right) \\frac{\\partial\\,f}{\\partial {\\rho}} \\frac{\\partial\\,r}{\\partial {\\rho}} - 2 \\, f\\left({\\rho}, z\\right) \\frac{\\partial\\,f}{\\partial z} \\frac{\\partial\\,r}{\\partial z} - 2 \\, f\\left({\\rho}, z\\right) \\frac{\\partial^2\\,f}{\\partial {\\rho} ^ 2} + \\frac{\\partial\\,f}{\\partial z}^{2}\\right)} e^{\\left(-2 \\, r\\left({\\rho}, z\\right)\\right)}, 0, 0, 0\\right], \\left[0, 0, 0, 0\\right], \\left[-\\frac{1}{4} \\, {\\left(2 \\, f\\left({\\rho}, z\\right) \\frac{\\partial\\,f}{\\partial z} \\frac{\\partial\\,r}{\\partial {\\rho}} + 2 \\, f\\left({\\rho}, z\\right) \\frac{\\partial\\,f}{\\partial {\\rho}} \\frac{\\partial\\,r}{\\partial z} - 2 \\, f\\left({\\rho}, z\\right) \\frac{\\partial^2\\,f}{\\partial {\\rho}\\partial z} - \\frac{\\partial\\,f}{\\partial {\\rho}} \\frac{\\partial\\,f}{\\partial z}\\right)} e^{\\left(-2 \\, r\\left({\\rho}, z\\right)\\right)}, 0, 0, 0\\right]\\right], \\left[\\left[0, 0, 0, 0\\right], \\left[0, 0, 0, 0\\right], \\left[0, 0, 0, 0\\right], \\left[0, 0, 0, 0\\right]\\right], \\left[\\left[0, 0, 0, 0\\right], \\left[0, 0, \\frac{{\\left(2 \\, {\\rho}^{2} f\\left({\\rho}, z\\right) \\frac{\\partial\\,f}{\\partial z} \\frac{\\partial\\,r}{\\partial z} - 2 \\, {\\rho}^{2} \\left(\\frac{\\partial\\,f}{\\partial {\\rho}}\\right)^{2} + 2 \\, {\\rho}^{2} f\\left({\\rho}, z\\right) \\frac{\\partial^2\\,f}{\\partial {\\rho} ^ 2} - {\\rho}^{2} \\frac{\\partial\\,f}{\\partial z}^{2} + 2 \\, {\\rho} f\\left({\\rho}, z\\right) \\frac{\\partial\\,f}{\\partial {\\rho}} - 2 \\, {\\left({\\rho}^{2} f\\left({\\rho}, z\\right) \\frac{\\partial\\,f}{\\partial {\\rho}} - 2 \\, {\\rho} f\\left({\\rho}, z\\right)^{2}\\right)} \\frac{\\partial\\,r}{\\partial {\\rho}}\\right)} e^{\\left(-2 \\, r\\left({\\rho}, z\\right)\\right)}}{4 \\, f\\left({\\rho}, z\\right)^{2}}, 0\\right], \\left[0, -\\frac{{\\left(2 \\, {\\rho}^{2} f\\left({\\rho}, z\\right) \\frac{\\partial\\,f}{\\partial z} \\frac{\\partial\\,r}{\\partial z} - 2 \\, {\\rho}^{2} \\left(\\frac{\\partial\\,f}{\\partial {\\rho}}\\right)^{2} + 2 \\, {\\rho}^{2} f\\left({\\rho}, z\\right) \\frac{\\partial^2\\,f}{\\partial {\\rho} ^ 2} - {\\rho}^{2} \\frac{\\partial\\,f}{\\partial z}^{2} + 2 \\, {\\rho} f\\left({\\rho}, z\\right) \\frac{\\partial\\,f}{\\partial {\\rho}} - 2 \\, {\\left({\\rho}^{2} f\\left({\\rho}, z\\right) \\frac{\\partial\\,f}{\\partial {\\rho}} - 2 \\, {\\rho} f\\left({\\rho}, z\\right)^{2}\\right)} \\frac{\\partial\\,r}{\\partial {\\rho}}\\right)} e^{\\left(-2 \\, r\\left({\\rho}, z\\right)\\right)}}{4 \\, f\\left({\\rho}, z\\right)^{2}}, 0, \\frac{{\\left(2 \\, {\\rho}^{2} f\\left({\\rho}, z\\right) \\frac{\\partial\\,f}{\\partial z} \\frac{\\partial\\,r}{\\partial {\\rho}} - 2 \\, {\\rho}^{2} f\\left({\\rho}, z\\right) \\frac{\\partial^2\\,f}{\\partial {\\rho}\\partial z} + {\\rho}^{2} \\frac{\\partial\\,f}{\\partial {\\rho}} \\frac{\\partial\\,f}{\\partial z} + 2 \\, {\\left({\\rho}^{2} f\\left({\\rho}, z\\right) \\frac{\\partial\\,f}{\\partial {\\rho}} - 2 \\, {\\rho} f\\left({\\rho}, z\\right)^{2}\\right)} \\frac{\\partial\\,r}{\\partial z}\\right)} e^{\\left(-2 \\, r\\left({\\rho}, z\\right)\\right)}}{4 \\, f\\left({\\rho}, z\\right)^{2}}\\right], \\left[0, 0, -\\frac{{\\left(2 \\, {\\rho}^{2} f\\left({\\rho}, z\\right) \\frac{\\partial\\,f}{\\partial z} \\frac{\\partial\\,r}{\\partial {\\rho}} - 2 \\, {\\rho}^{2} f\\left({\\rho}, z\\right) \\frac{\\partial^2\\,f}{\\partial {\\rho}\\partial z} + {\\rho}^{2} \\frac{\\partial\\,f}{\\partial {\\rho}} \\frac{\\partial\\,f}{\\partial z} + 2 \\, {\\left({\\rho}^{2} f\\left({\\rho}, z\\right) \\frac{\\partial\\,f}{\\partial {\\rho}} - 2 \\, {\\rho} f\\left({\\rho}, z\\right)^{2}\\right)} \\frac{\\partial\\,r}{\\partial z}\\right)} e^{\\left(-2 \\, r\\left({\\rho}, z\\right)\\right)}}{4 \\, f\\left({\\rho}, z\\right)^{2}}, 0\\right]\\right], \\left[\\left[0, 0, 0, 0\\right], \\left[0, 0, 0, -\\frac{2 \\, f\\left({\\rho}, z\\right)^{2} \\frac{\\partial^2\\,r}{\\partial {\\rho} ^ 2} + 2 \\, f\\left({\\rho}, z\\right)^{2} \\frac{\\partial^2\\,r}{\\partial z ^ 2} + \\left(\\frac{\\partial\\,f}{\\partial {\\rho}}\\right)^{2} - f\\left({\\rho}, z\\right) \\frac{\\partial^2\\,f}{\\partial {\\rho} ^ 2} + \\left(\\frac{\\partial\\,f}{\\partial z}\\right)^{2} - f\\left({\\rho}, z\\right) \\frac{\\partial^2\\,f}{\\partial z ^ 2}}{2 \\, f\\left({\\rho}, z\\right)^{2}}\\right], \\left[0, 0, 0, 0\\right], \\left[0, \\frac{2 \\, f\\left({\\rho}, z\\right)^{2} \\frac{\\partial^2\\,r}{\\partial {\\rho} ^ 2} + 2 \\, f\\left({\\rho}, z\\right)^{2} \\frac{\\partial^2\\,r}{\\partial z ^ 2} + \\left(\\frac{\\partial\\,f}{\\partial {\\rho}}\\right)^{2} - f\\left({\\rho}, z\\right) \\frac{\\partial^2\\,f}{\\partial {\\rho} ^ 2} + \\left(\\frac{\\partial\\,f}{\\partial z}\\right)^{2} - f\\left({\\rho}, z\\right) \\frac{\\partial^2\\,f}{\\partial z ^ 2}}{2 \\, f\\left({\\rho}, z\\right)^{2}}, 0, 0\\right]\\right]\\right], \\left[\\left[\\left[0, 0, \\frac{{\\left({\\rho} \\left(\\frac{\\partial\\,f}{\\partial {\\rho}}\\right)^{2} + {\\rho} \\left(\\frac{\\partial\\,f}{\\partial z}\\right)^{2} - 2 \\, f\\left({\\rho}, z\\right) \\frac{\\partial\\,f}{\\partial {\\rho}}\\right)} e^{\\left(-2 \\, r\\left({\\rho}, z\\right)\\right)}}{4 \\, {\\rho}}, 0\\right], \\left[0, 0, 0, 0\\right], \\left[-\\frac{{\\left({\\rho} \\left(\\frac{\\partial\\,f}{\\partial {\\rho}}\\right)^{2} + {\\rho} \\left(\\frac{\\partial\\,f}{\\partial z}\\right)^{2} - 2 \\, f\\left({\\rho}, z\\right) \\frac{\\partial\\,f}{\\partial {\\rho}}\\right)} e^{\\left(-2 \\, r\\left({\\rho}, z\\right)\\right)}}{4 \\, {\\rho}}, 0, 0, 0\\right], \\left[0, 0, 0, 0\\right]\\right], \\left[\\left[0, 0, 0, 0\\right], \\left[0, 0, -\\frac{2 \\, {\\rho} f\\left({\\rho}, z\\right) \\frac{\\partial\\,f}{\\partial z} \\frac{\\partial\\,r}{\\partial z} - 2 \\, {\\rho} \\left(\\frac{\\partial\\,f}{\\partial {\\rho}}\\right)^{2} + 2 \\, {\\rho} f\\left({\\rho}, z\\right) \\frac{\\partial^2\\,f}{\\partial {\\rho} ^ 2} - {\\rho} \\frac{\\partial\\,f}{\\partial z}^{2} + 2 \\, f\\left({\\rho}, z\\right) \\frac{\\partial\\,f}{\\partial {\\rho}} - 2 \\, {\\left({\\rho} f\\left({\\rho}, z\\right) \\frac{\\partial\\,f}{\\partial {\\rho}} - 2 \\, f\\left({\\rho}, z\\right)^{2}\\right)} \\frac{\\partial\\,r}{\\partial {\\rho}}}{4 \\, {\\rho} f\\left({\\rho}, z\\right)^{2}}, 0\\right], \\left[0, \\frac{2 \\, {\\rho} f\\left({\\rho}, z\\right) \\frac{\\partial\\,f}{\\partial z} \\frac{\\partial\\,r}{\\partial z} - 2 \\, {\\rho} \\left(\\frac{\\partial\\,f}{\\partial {\\rho}}\\right)^{2} + 2 \\, {\\rho} f\\left({\\rho}, z\\right) \\frac{\\partial^2\\,f}{\\partial {\\rho} ^ 2} - {\\rho} \\frac{\\partial\\,f}{\\partial z}^{2} + 2 \\, f\\left({\\rho}, z\\right) \\frac{\\partial\\,f}{\\partial {\\rho}} - 2 \\, {\\left({\\rho} f\\left({\\rho}, z\\right) \\frac{\\partial\\,f}{\\partial {\\rho}} - 2 \\, f\\left({\\rho}, z\\right)^{2}\\right)} \\frac{\\partial\\,r}{\\partial {\\rho}}}{4 \\, {\\rho} f\\left({\\rho}, z\\right)^{2}}, 0, -\\frac{2 \\, {\\rho} f\\left({\\rho}, z\\right) \\frac{\\partial\\,f}{\\partial z} \\frac{\\partial\\,r}{\\partial {\\rho}} - 2 \\, {\\rho} f\\left({\\rho}, z\\right) \\frac{\\partial^2\\,f}{\\partial {\\rho}\\partial z} + {\\rho} \\frac{\\partial\\,f}{\\partial {\\rho}} \\frac{\\partial\\,f}{\\partial z} + 2 \\, {\\left({\\rho} f\\left({\\rho}, z\\right) \\frac{\\partial\\,f}{\\partial {\\rho}} - 2 \\, f\\left({\\rho}, z\\right)^{2}\\right)} \\frac{\\partial\\,r}{\\partial z}}{4 \\, {\\rho} f\\left({\\rho}, z\\right)^{2}}\\right], \\left[0, 0, \\frac{2 \\, {\\rho} f\\left({\\rho}, z\\right) \\frac{\\partial\\,f}{\\partial z} \\frac{\\partial\\,r}{\\partial {\\rho}} - 2 \\, {\\rho} f\\left({\\rho}, z\\right) \\frac{\\partial^2\\,f}{\\partial {\\rho}\\partial z} + {\\rho} \\frac{\\partial\\,f}{\\partial {\\rho}} \\frac{\\partial\\,f}{\\partial z} + 2 \\, {\\left({\\rho} f\\left({\\rho}, z\\right) \\frac{\\partial\\,f}{\\partial {\\rho}} - 2 \\, f\\left({\\rho}, z\\right)^{2}\\right)} \\frac{\\partial\\,r}{\\partial z}}{4 \\, {\\rho} f\\left({\\rho}, z\\right)^{2}}, 0\\right]\\right], \\left[\\left[0, 0, 0, 0\\right], \\left[0, 0, 0, 0\\right], \\left[0, 0, 0, 0\\right], \\left[0, 0, 0, 0\\right]\\right], \\left[\\left[0, 0, 0, 0\\right], \\left[0, 0, \\frac{2 \\, {\\rho} f\\left({\\rho}, z\\right) \\frac{\\partial\\,f}{\\partial z} \\frac{\\partial\\,r}{\\partial {\\rho}} - 2 \\, {\\rho} f\\left({\\rho}, z\\right) \\frac{\\partial^2\\,f}{\\partial {\\rho}\\partial z} + {\\rho} \\frac{\\partial\\,f}{\\partial {\\rho}} \\frac{\\partial\\,f}{\\partial z} + 2 \\, {\\left({\\rho} f\\left({\\rho}, z\\right) \\frac{\\partial\\,f}{\\partial {\\rho}} - 2 \\, f\\left({\\rho}, z\\right)^{2}\\right)} \\frac{\\partial\\,r}{\\partial z}}{4 \\, {\\rho} f\\left({\\rho}, z\\right)^{2}}, 0\\right], \\left[0, -\\frac{2 \\, {\\rho} f\\left({\\rho}, z\\right) \\frac{\\partial\\,f}{\\partial z} \\frac{\\partial\\,r}{\\partial {\\rho}} - 2 \\, {\\rho} f\\left({\\rho}, z\\right) \\frac{\\partial^2\\,f}{\\partial {\\rho}\\partial z} + {\\rho} \\frac{\\partial\\,f}{\\partial {\\rho}} \\frac{\\partial\\,f}{\\partial z} + 2 \\, {\\left({\\rho} f\\left({\\rho}, z\\right) \\frac{\\partial\\,f}{\\partial {\\rho}} - 2 \\, f\\left({\\rho}, z\\right)^{2}\\right)} \\frac{\\partial\\,r}{\\partial z}}{4 \\, {\\rho} f\\left({\\rho}, z\\right)^{2}}, 0, -\\frac{2 \\, {\\rho} f\\left({\\rho}, z\\right) \\frac{\\partial\\,f}{\\partial z} \\frac{\\partial\\,r}{\\partial z} + {\\rho} \\left(\\frac{\\partial\\,f}{\\partial {\\rho}}\\right)^{2} + 2 \\, {\\rho} \\frac{\\partial\\,f}{\\partial z}^{2} - 2 \\, {\\rho} f\\left({\\rho}, z\\right) \\frac{\\partial^2\\,f}{\\partial z ^ 2} - 2 \\, f\\left({\\rho}, z\\right) \\frac{\\partial\\,f}{\\partial {\\rho}} - 2 \\, {\\left({\\rho} f\\left({\\rho}, z\\right) \\frac{\\partial\\,f}{\\partial {\\rho}} - 2 \\, f\\left({\\rho}, z\\right)^{2}\\right)} \\frac{\\partial\\,r}{\\partial {\\rho}}}{4 \\, {\\rho} f\\left({\\rho}, z\\right)^{2}}\\right], \\left[0, 0, \\frac{2 \\, {\\rho} f\\left({\\rho}, z\\right) \\frac{\\partial\\,f}{\\partial z} \\frac{\\partial\\,r}{\\partial z} + {\\rho} \\left(\\frac{\\partial\\,f}{\\partial {\\rho}}\\right)^{2} + 2 \\, {\\rho} \\frac{\\partial\\,f}{\\partial z}^{2} - 2 \\, {\\rho} f\\left({\\rho}, z\\right) \\frac{\\partial^2\\,f}{\\partial z ^ 2} - 2 \\, f\\left({\\rho}, z\\right) \\frac{\\partial\\,f}{\\partial {\\rho}} - 2 \\, {\\left({\\rho} f\\left({\\rho}, z\\right) \\frac{\\partial\\,f}{\\partial {\\rho}} - 2 \\, f\\left({\\rho}, z\\right)^{2}\\right)} \\frac{\\partial\\,r}{\\partial {\\rho}}}{4 \\, {\\rho} f\\left({\\rho}, z\\right)^{2}}, 0\\right]\\right]\\right], \\left[\\left[\\left[0, \\frac{1}{4} \\, {\\left(2 \\, f\\left({\\rho}, z\\right) \\frac{\\partial\\,f}{\\partial z} \\frac{\\partial\\,r}{\\partial {\\rho}} + 2 \\, f\\left({\\rho}, z\\right) \\frac{\\partial\\,f}{\\partial {\\rho}} \\frac{\\partial\\,r}{\\partial z} - 2 \\, f\\left({\\rho}, z\\right) \\frac{\\partial^2\\,f}{\\partial {\\rho}\\partial z} - \\frac{\\partial\\,f}{\\partial {\\rho}} \\frac{\\partial\\,f}{\\partial z}\\right)} e^{\\left(-2 \\, r\\left({\\rho}, z\\right)\\right)}, 0, -\\frac{1}{4} \\, {\\left(2 \\, f\\left({\\rho}, z\\right) \\frac{\\partial\\,f}{\\partial {\\rho}} \\frac{\\partial\\,r}{\\partial {\\rho}} - 2 \\, f\\left({\\rho}, z\\right) \\frac{\\partial\\,f}{\\partial z} \\frac{\\partial\\,r}{\\partial z} - \\frac{\\partial\\,f}{\\partial {\\rho}}^{2} + 2 \\, f\\left({\\rho}, z\\right) \\frac{\\partial^2\\,f}{\\partial z ^ 2}\\right)} e^{\\left(-2 \\, r\\left({\\rho}, z\\right)\\right)}\\right], \\left[-\\frac{1}{4} \\, {\\left(2 \\, f\\left({\\rho}, z\\right) \\frac{\\partial\\,f}{\\partial z} \\frac{\\partial\\,r}{\\partial {\\rho}} + 2 \\, f\\left({\\rho}, z\\right) \\frac{\\partial\\,f}{\\partial {\\rho}} \\frac{\\partial\\,r}{\\partial z} - 2 \\, f\\left({\\rho}, z\\right) \\frac{\\partial^2\\,f}{\\partial {\\rho}\\partial z} - \\frac{\\partial\\,f}{\\partial {\\rho}} \\frac{\\partial\\,f}{\\partial z}\\right)} e^{\\left(-2 \\, r\\left({\\rho}, z\\right)\\right)}, 0, 0, 0\\right], \\left[0, 0, 0, 0\\right], \\left[\\frac{1}{4} \\, {\\left(2 \\, f\\left({\\rho}, z\\right) \\frac{\\partial\\,f}{\\partial {\\rho}} \\frac{\\partial\\,r}{\\partial {\\rho}} - 2 \\, f\\left({\\rho}, z\\right) \\frac{\\partial\\,f}{\\partial z} \\frac{\\partial\\,r}{\\partial z} - \\frac{\\partial\\,f}{\\partial {\\rho}}^{2} + 2 \\, f\\left({\\rho}, z\\right) \\frac{\\partial^2\\,f}{\\partial z ^ 2}\\right)} e^{\\left(-2 \\, r\\left({\\rho}, z\\right)\\right)}, 0, 0, 0\\right]\\right], \\left[\\left[0, 0, 0, 0\\right], \\left[0, 0, 0, \\frac{2 \\, f\\left({\\rho}, z\\right)^{2} \\frac{\\partial^2\\,r}{\\partial {\\rho} ^ 2} + 2 \\, f\\left({\\rho}, z\\right)^{2} \\frac{\\partial^2\\,r}{\\partial z ^ 2} + \\left(\\frac{\\partial\\,f}{\\partial {\\rho}}\\right)^{2} - f\\left({\\rho}, z\\right) \\frac{\\partial^2\\,f}{\\partial {\\rho} ^ 2} + \\left(\\frac{\\partial\\,f}{\\partial z}\\right)^{2} - f\\left({\\rho}, z\\right) \\frac{\\partial^2\\,f}{\\partial z ^ 2}}{2 \\, f\\left({\\rho}, z\\right)^{2}}\\right], \\left[0, 0, 0, 0\\right], \\left[0, -\\frac{2 \\, f\\left({\\rho}, z\\right)^{2} \\frac{\\partial^2\\,r}{\\partial {\\rho} ^ 2} + 2 \\, f\\left({\\rho}, z\\right)^{2} \\frac{\\partial^2\\,r}{\\partial z ^ 2} + \\left(\\frac{\\partial\\,f}{\\partial {\\rho}}\\right)^{2} - f\\left({\\rho}, z\\right) \\frac{\\partial^2\\,f}{\\partial {\\rho} ^ 2} + \\left(\\frac{\\partial\\,f}{\\partial z}\\right)^{2} - f\\left({\\rho}, z\\right) \\frac{\\partial^2\\,f}{\\partial z ^ 2}}{2 \\, f\\left({\\rho}, z\\right)^{2}}, 0, 0\\right]\\right], \\left[\\left[0, 0, 0, 0\\right], \\left[0, 0, -\\frac{{\\left(2 \\, {\\rho}^{2} f\\left({\\rho}, z\\right) \\frac{\\partial\\,f}{\\partial z} \\frac{\\partial\\,r}{\\partial {\\rho}} - 2 \\, {\\rho}^{2} f\\left({\\rho}, z\\right) \\frac{\\partial^2\\,f}{\\partial {\\rho}\\partial z} + {\\rho}^{2} \\frac{\\partial\\,f}{\\partial {\\rho}} \\frac{\\partial\\,f}{\\partial z} + 2 \\, {\\left({\\rho}^{2} f\\left({\\rho}, z\\right) \\frac{\\partial\\,f}{\\partial {\\rho}} - 2 \\, {\\rho} f\\left({\\rho}, z\\right)^{2}\\right)} \\frac{\\partial\\,r}{\\partial z}\\right)} e^{\\left(-2 \\, r\\left({\\rho}, z\\right)\\right)}}{4 \\, f\\left({\\rho}, z\\right)^{2}}, 0\\right], \\left[0, \\frac{{\\left(2 \\, {\\rho}^{2} f\\left({\\rho}, z\\right) \\frac{\\partial\\,f}{\\partial z} \\frac{\\partial\\,r}{\\partial {\\rho}} - 2 \\, {\\rho}^{2} f\\left({\\rho}, z\\right) \\frac{\\partial^2\\,f}{\\partial {\\rho}\\partial z} + {\\rho}^{2} \\frac{\\partial\\,f}{\\partial {\\rho}} \\frac{\\partial\\,f}{\\partial z} + 2 \\, {\\left({\\rho}^{2} f\\left({\\rho}, z\\right) \\frac{\\partial\\,f}{\\partial {\\rho}} - 2 \\, {\\rho} f\\left({\\rho}, z\\right)^{2}\\right)} \\frac{\\partial\\,r}{\\partial z}\\right)} e^{\\left(-2 \\, r\\left({\\rho}, z\\right)\\right)}}{4 \\, f\\left({\\rho}, z\\right)^{2}}, 0, \\frac{{\\left(2 \\, {\\rho}^{2} f\\left({\\rho}, z\\right) \\frac{\\partial\\,f}{\\partial z} \\frac{\\partial\\,r}{\\partial z} + {\\rho}^{2} \\left(\\frac{\\partial\\,f}{\\partial {\\rho}}\\right)^{2} + 2 \\, {\\rho}^{2} \\frac{\\partial\\,f}{\\partial z}^{2} - 2 \\, {\\rho}^{2} f\\left({\\rho}, z\\right) \\frac{\\partial^2\\,f}{\\partial z ^ 2} - 2 \\, {\\rho} f\\left({\\rho}, z\\right) \\frac{\\partial\\,f}{\\partial {\\rho}} - 2 \\, {\\left({\\rho}^{2} f\\left({\\rho}, z\\right) \\frac{\\partial\\,f}{\\partial {\\rho}} - 2 \\, {\\rho} f\\left({\\rho}, z\\right)^{2}\\right)} \\frac{\\partial\\,r}{\\partial {\\rho}}\\right)} e^{\\left(-2 \\, r\\left({\\rho}, z\\right)\\right)}}{4 \\, f\\left({\\rho}, z\\right)^{2}}\\right], \\left[0, 0, -\\frac{{\\left(2 \\, {\\rho}^{2} f\\left({\\rho}, z\\right) \\frac{\\partial\\,f}{\\partial z} \\frac{\\partial\\,r}{\\partial z} + {\\rho}^{2} \\left(\\frac{\\partial\\,f}{\\partial {\\rho}}\\right)^{2} + 2 \\, {\\rho}^{2} \\frac{\\partial\\,f}{\\partial z}^{2} - 2 \\, {\\rho}^{2} f\\left({\\rho}, z\\right) \\frac{\\partial^2\\,f}{\\partial z ^ 2} - 2 \\, {\\rho} f\\left({\\rho}, z\\right) \\frac{\\partial\\,f}{\\partial {\\rho}} - 2 \\, {\\left({\\rho}^{2} f\\left({\\rho}, z\\right) \\frac{\\partial\\,f}{\\partial {\\rho}} - 2 \\, {\\rho} f\\left({\\rho}, z\\right)^{2}\\right)} \\frac{\\partial\\,r}{\\partial {\\rho}}\\right)} e^{\\left(-2 \\, r\\left({\\rho}, z\\right)\\right)}}{4 \\, f\\left({\\rho}, z\\right)^{2}}, 0\\right]\\right], \\left[\\left[0, 0, 0, 0\\right], \\left[0, 0, 0, 0\\right], \\left[0, 0, 0, 0\\right], \\left[0, 0, 0, 0\\right]\\right]\\right]\\right]</script></html>"
      ],
      "text/plain": [
       "[[[[0, 0, 0, 0], [0, 0, 0, 0], [0, 0, 0, 0], [0, 0, 0, 0]],\n",
       "  [[0,\n",
       "    1/4*(2*f(rh, z)*d(f)/drh*d(r)/drh - 2*f(rh, z)*d(f)/dz*d(r)/dz - 2*f(rh, z)*d^2(f)/drh^2 + d(f)/dz^2)/f(rh, z)^2,\n",
       "    0,\n",
       "    1/4*(2*f(rh, z)*d(f)/dz*d(r)/drh + 2*f(rh, z)*d(f)/drh*d(r)/dz - 2*f(rh, z)*d^2(f)/drhdz - d(f)/drh*d(f)/dz)/f(rh, z)^2],\n",
       "   [-1/4*(2*f(rh, z)*d(f)/drh*d(r)/drh - 2*f(rh, z)*d(f)/dz*d(r)/dz - 2*f(rh, z)*d^2(f)/drh^2 + d(f)/dz^2)/f(rh, z)^2,\n",
       "    0,\n",
       "    0,\n",
       "    0],\n",
       "   [0, 0, 0, 0],\n",
       "   [-1/4*(2*f(rh, z)*d(f)/dz*d(r)/drh + 2*f(rh, z)*d(f)/drh*d(r)/dz - 2*f(rh, z)*d^2(f)/drhdz - d(f)/drh*d(f)/dz)/f(rh, z)^2,\n",
       "    0,\n",
       "    0,\n",
       "    0]],\n",
       "  [[0,\n",
       "    0,\n",
       "    1/4*(rh^2*(d(f)/drh)^2 + rh^2*(d(f)/dz)^2 - 2*rh*f(rh, z)*d(f)/drh)*e^(-2*r(rh, z))/f(rh, z)^2,\n",
       "    0],\n",
       "   [0, 0, 0, 0],\n",
       "   [-1/4*(rh^2*(d(f)/drh)^2 + rh^2*(d(f)/dz)^2 - 2*rh*f(rh, z)*d(f)/drh)*e^(-2*r(rh, z))/f(rh, z)^2,\n",
       "    0,\n",
       "    0,\n",
       "    0],\n",
       "   [0, 0, 0, 0]],\n",
       "  [[0,\n",
       "    1/4*(2*f(rh, z)*d(f)/dz*d(r)/drh + 2*f(rh, z)*d(f)/drh*d(r)/dz - 2*f(rh, z)*d^2(f)/drhdz - d(f)/drh*d(f)/dz)/f(rh, z)^2,\n",
       "    0,\n",
       "    -1/4*(2*f(rh, z)*d(f)/drh*d(r)/drh - 2*f(rh, z)*d(f)/dz*d(r)/dz - d(f)/drh^2 + 2*f(rh, z)*d^2(f)/dz^2)/f(rh, z)^2],\n",
       "   [-1/4*(2*f(rh, z)*d(f)/dz*d(r)/drh + 2*f(rh, z)*d(f)/drh*d(r)/dz - 2*f(rh, z)*d^2(f)/drhdz - d(f)/drh*d(f)/dz)/f(rh, z)^2,\n",
       "    0,\n",
       "    0,\n",
       "    0],\n",
       "   [0, 0, 0, 0],\n",
       "   [1/4*(2*f(rh, z)*d(f)/drh*d(r)/drh - 2*f(rh, z)*d(f)/dz*d(r)/dz - d(f)/drh^2 + 2*f(rh, z)*d^2(f)/dz^2)/f(rh, z)^2,\n",
       "    0,\n",
       "    0,\n",
       "    0]]],\n",
       " [[[0,\n",
       "    1/4*(2*f(rh, z)*d(f)/drh*d(r)/drh - 2*f(rh, z)*d(f)/dz*d(r)/dz - 2*f(rh, z)*d^2(f)/drh^2 + d(f)/dz^2)*e^(-2*r(rh, z)),\n",
       "    0,\n",
       "    1/4*(2*f(rh, z)*d(f)/dz*d(r)/drh + 2*f(rh, z)*d(f)/drh*d(r)/dz - 2*f(rh, z)*d^2(f)/drhdz - d(f)/drh*d(f)/dz)*e^(-2*r(rh, z))],\n",
       "   [-1/4*(2*f(rh, z)*d(f)/drh*d(r)/drh - 2*f(rh, z)*d(f)/dz*d(r)/dz - 2*f(rh, z)*d^2(f)/drh^2 + d(f)/dz^2)*e^(-2*r(rh, z)),\n",
       "    0,\n",
       "    0,\n",
       "    0],\n",
       "   [0, 0, 0, 0],\n",
       "   [-1/4*(2*f(rh, z)*d(f)/dz*d(r)/drh + 2*f(rh, z)*d(f)/drh*d(r)/dz - 2*f(rh, z)*d^2(f)/drhdz - d(f)/drh*d(f)/dz)*e^(-2*r(rh, z)),\n",
       "    0,\n",
       "    0,\n",
       "    0]],\n",
       "  [[0, 0, 0, 0], [0, 0, 0, 0], [0, 0, 0, 0], [0, 0, 0, 0]],\n",
       "  [[0, 0, 0, 0],\n",
       "   [0,\n",
       "    0,\n",
       "    1/4*(2*rh^2*f(rh, z)*d(f)/dz*d(r)/dz - 2*rh^2*(d(f)/drh)^2 + 2*rh^2*f(rh, z)*d^2(f)/drh^2 - rh^2*d(f)/dz^2 + 2*rh*f(rh, z)*d(f)/drh - 2*(rh^2*f(rh, z)*d(f)/drh - 2*rh*f(rh, z)^2)*d(r)/drh)*e^(-2*r(rh, z))/f(rh, z)^2,\n",
       "    0],\n",
       "   [0,\n",
       "    -1/4*(2*rh^2*f(rh, z)*d(f)/dz*d(r)/dz - 2*rh^2*(d(f)/drh)^2 + 2*rh^2*f(rh, z)*d^2(f)/drh^2 - rh^2*d(f)/dz^2 + 2*rh*f(rh, z)*d(f)/drh - 2*(rh^2*f(rh, z)*d(f)/drh - 2*rh*f(rh, z)^2)*d(r)/drh)*e^(-2*r(rh, z))/f(rh, z)^2,\n",
       "    0,\n",
       "    1/4*(2*rh^2*f(rh, z)*d(f)/dz*d(r)/drh - 2*rh^2*f(rh, z)*d^2(f)/drhdz + rh^2*d(f)/drh*d(f)/dz + 2*(rh^2*f(rh, z)*d(f)/drh - 2*rh*f(rh, z)^2)*d(r)/dz)*e^(-2*r(rh, z))/f(rh, z)^2],\n",
       "   [0,\n",
       "    0,\n",
       "    -1/4*(2*rh^2*f(rh, z)*d(f)/dz*d(r)/drh - 2*rh^2*f(rh, z)*d^2(f)/drhdz + rh^2*d(f)/drh*d(f)/dz + 2*(rh^2*f(rh, z)*d(f)/drh - 2*rh*f(rh, z)^2)*d(r)/dz)*e^(-2*r(rh, z))/f(rh, z)^2,\n",
       "    0]],\n",
       "  [[0, 0, 0, 0],\n",
       "   [0,\n",
       "    0,\n",
       "    0,\n",
       "    -1/2*(2*f(rh, z)^2*d^2(r)/drh^2 + 2*f(rh, z)^2*d^2(r)/dz^2 + (d(f)/drh)^2 - f(rh, z)*d^2(f)/drh^2 + (d(f)/dz)^2 - f(rh, z)*d^2(f)/dz^2)/f(rh, z)^2],\n",
       "   [0, 0, 0, 0],\n",
       "   [0,\n",
       "    1/2*(2*f(rh, z)^2*d^2(r)/drh^2 + 2*f(rh, z)^2*d^2(r)/dz^2 + (d(f)/drh)^2 - f(rh, z)*d^2(f)/drh^2 + (d(f)/dz)^2 - f(rh, z)*d^2(f)/dz^2)/f(rh, z)^2,\n",
       "    0,\n",
       "    0]]],\n",
       " [[[0,\n",
       "    0,\n",
       "    1/4*(rh*(d(f)/drh)^2 + rh*(d(f)/dz)^2 - 2*f(rh, z)*d(f)/drh)*e^(-2*r(rh, z))/rh,\n",
       "    0],\n",
       "   [0, 0, 0, 0],\n",
       "   [-1/4*(rh*(d(f)/drh)^2 + rh*(d(f)/dz)^2 - 2*f(rh, z)*d(f)/drh)*e^(-2*r(rh, z))/rh,\n",
       "    0,\n",
       "    0,\n",
       "    0],\n",
       "   [0, 0, 0, 0]],\n",
       "  [[0, 0, 0, 0],\n",
       "   [0,\n",
       "    0,\n",
       "    -1/4*(2*rh*f(rh, z)*d(f)/dz*d(r)/dz - 2*rh*(d(f)/drh)^2 + 2*rh*f(rh, z)*d^2(f)/drh^2 - rh*d(f)/dz^2 + 2*f(rh, z)*d(f)/drh - 2*(rh*f(rh, z)*d(f)/drh - 2*f(rh, z)^2)*d(r)/drh)/(rh*f(rh, z)^2),\n",
       "    0],\n",
       "   [0,\n",
       "    1/4*(2*rh*f(rh, z)*d(f)/dz*d(r)/dz - 2*rh*(d(f)/drh)^2 + 2*rh*f(rh, z)*d^2(f)/drh^2 - rh*d(f)/dz^2 + 2*f(rh, z)*d(f)/drh - 2*(rh*f(rh, z)*d(f)/drh - 2*f(rh, z)^2)*d(r)/drh)/(rh*f(rh, z)^2),\n",
       "    0,\n",
       "    -1/4*(2*rh*f(rh, z)*d(f)/dz*d(r)/drh - 2*rh*f(rh, z)*d^2(f)/drhdz + rh*d(f)/drh*d(f)/dz + 2*(rh*f(rh, z)*d(f)/drh - 2*f(rh, z)^2)*d(r)/dz)/(rh*f(rh, z)^2)],\n",
       "   [0,\n",
       "    0,\n",
       "    1/4*(2*rh*f(rh, z)*d(f)/dz*d(r)/drh - 2*rh*f(rh, z)*d^2(f)/drhdz + rh*d(f)/drh*d(f)/dz + 2*(rh*f(rh, z)*d(f)/drh - 2*f(rh, z)^2)*d(r)/dz)/(rh*f(rh, z)^2),\n",
       "    0]],\n",
       "  [[0, 0, 0, 0], [0, 0, 0, 0], [0, 0, 0, 0], [0, 0, 0, 0]],\n",
       "  [[0, 0, 0, 0],\n",
       "   [0,\n",
       "    0,\n",
       "    1/4*(2*rh*f(rh, z)*d(f)/dz*d(r)/drh - 2*rh*f(rh, z)*d^2(f)/drhdz + rh*d(f)/drh*d(f)/dz + 2*(rh*f(rh, z)*d(f)/drh - 2*f(rh, z)^2)*d(r)/dz)/(rh*f(rh, z)^2),\n",
       "    0],\n",
       "   [0,\n",
       "    -1/4*(2*rh*f(rh, z)*d(f)/dz*d(r)/drh - 2*rh*f(rh, z)*d^2(f)/drhdz + rh*d(f)/drh*d(f)/dz + 2*(rh*f(rh, z)*d(f)/drh - 2*f(rh, z)^2)*d(r)/dz)/(rh*f(rh, z)^2),\n",
       "    0,\n",
       "    -1/4*(2*rh*f(rh, z)*d(f)/dz*d(r)/dz + rh*(d(f)/drh)^2 + 2*rh*d(f)/dz^2 - 2*rh*f(rh, z)*d^2(f)/dz^2 - 2*f(rh, z)*d(f)/drh - 2*(rh*f(rh, z)*d(f)/drh - 2*f(rh, z)^2)*d(r)/drh)/(rh*f(rh, z)^2)],\n",
       "   [0,\n",
       "    0,\n",
       "    1/4*(2*rh*f(rh, z)*d(f)/dz*d(r)/dz + rh*(d(f)/drh)^2 + 2*rh*d(f)/dz^2 - 2*rh*f(rh, z)*d^2(f)/dz^2 - 2*f(rh, z)*d(f)/drh - 2*(rh*f(rh, z)*d(f)/drh - 2*f(rh, z)^2)*d(r)/drh)/(rh*f(rh, z)^2),\n",
       "    0]]],\n",
       " [[[0,\n",
       "    1/4*(2*f(rh, z)*d(f)/dz*d(r)/drh + 2*f(rh, z)*d(f)/drh*d(r)/dz - 2*f(rh, z)*d^2(f)/drhdz - d(f)/drh*d(f)/dz)*e^(-2*r(rh, z)),\n",
       "    0,\n",
       "    -1/4*(2*f(rh, z)*d(f)/drh*d(r)/drh - 2*f(rh, z)*d(f)/dz*d(r)/dz - d(f)/drh^2 + 2*f(rh, z)*d^2(f)/dz^2)*e^(-2*r(rh, z))],\n",
       "   [-1/4*(2*f(rh, z)*d(f)/dz*d(r)/drh + 2*f(rh, z)*d(f)/drh*d(r)/dz - 2*f(rh, z)*d^2(f)/drhdz - d(f)/drh*d(f)/dz)*e^(-2*r(rh, z)),\n",
       "    0,\n",
       "    0,\n",
       "    0],\n",
       "   [0, 0, 0, 0],\n",
       "   [1/4*(2*f(rh, z)*d(f)/drh*d(r)/drh - 2*f(rh, z)*d(f)/dz*d(r)/dz - d(f)/drh^2 + 2*f(rh, z)*d^2(f)/dz^2)*e^(-2*r(rh, z)),\n",
       "    0,\n",
       "    0,\n",
       "    0]],\n",
       "  [[0, 0, 0, 0],\n",
       "   [0,\n",
       "    0,\n",
       "    0,\n",
       "    1/2*(2*f(rh, z)^2*d^2(r)/drh^2 + 2*f(rh, z)^2*d^2(r)/dz^2 + (d(f)/drh)^2 - f(rh, z)*d^2(f)/drh^2 + (d(f)/dz)^2 - f(rh, z)*d^2(f)/dz^2)/f(rh, z)^2],\n",
       "   [0, 0, 0, 0],\n",
       "   [0,\n",
       "    -1/2*(2*f(rh, z)^2*d^2(r)/drh^2 + 2*f(rh, z)^2*d^2(r)/dz^2 + (d(f)/drh)^2 - f(rh, z)*d^2(f)/drh^2 + (d(f)/dz)^2 - f(rh, z)*d^2(f)/dz^2)/f(rh, z)^2,\n",
       "    0,\n",
       "    0]],\n",
       "  [[0, 0, 0, 0],\n",
       "   [0,\n",
       "    0,\n",
       "    -1/4*(2*rh^2*f(rh, z)*d(f)/dz*d(r)/drh - 2*rh^2*f(rh, z)*d^2(f)/drhdz + rh^2*d(f)/drh*d(f)/dz + 2*(rh^2*f(rh, z)*d(f)/drh - 2*rh*f(rh, z)^2)*d(r)/dz)*e^(-2*r(rh, z))/f(rh, z)^2,\n",
       "    0],\n",
       "   [0,\n",
       "    1/4*(2*rh^2*f(rh, z)*d(f)/dz*d(r)/drh - 2*rh^2*f(rh, z)*d^2(f)/drhdz + rh^2*d(f)/drh*d(f)/dz + 2*(rh^2*f(rh, z)*d(f)/drh - 2*rh*f(rh, z)^2)*d(r)/dz)*e^(-2*r(rh, z))/f(rh, z)^2,\n",
       "    0,\n",
       "    1/4*(2*rh^2*f(rh, z)*d(f)/dz*d(r)/dz + rh^2*(d(f)/drh)^2 + 2*rh^2*d(f)/dz^2 - 2*rh^2*f(rh, z)*d^2(f)/dz^2 - 2*rh*f(rh, z)*d(f)/drh - 2*(rh^2*f(rh, z)*d(f)/drh - 2*rh*f(rh, z)^2)*d(r)/drh)*e^(-2*r(rh, z))/f(rh, z)^2],\n",
       "   [0,\n",
       "    0,\n",
       "    -1/4*(2*rh^2*f(rh, z)*d(f)/dz*d(r)/dz + rh^2*(d(f)/drh)^2 + 2*rh^2*d(f)/dz^2 - 2*rh^2*f(rh, z)*d^2(f)/dz^2 - 2*rh*f(rh, z)*d(f)/drh - 2*(rh^2*f(rh, z)*d(f)/drh - 2*rh*f(rh, z)^2)*d(r)/drh)*e^(-2*r(rh, z))/f(rh, z)^2,\n",
       "    0]],\n",
       "  [[0, 0, 0, 0], [0, 0, 0, 0], [0, 0, 0, 0], [0, 0, 0, 0]]]]"
      ]
     },
     "execution_count": 292,
     "metadata": {},
     "output_type": "execute_result"
    }
   ],
   "source": [
    "R[:]"
   ]
  },
  {
   "cell_type": "markdown",
   "metadata": {},
   "source": [
    "The component $R^0_{\\ \\,101} = R^t_{\\ \\,trt}$ of the Riemann tensor:"
   ]
  },
  {
   "cell_type": "code",
   "execution_count": 293,
   "metadata": {},
   "outputs": [
    {
     "data": {
      "text/html": [
       "<html><script type=\"math/tex; mode=display\">\\newcommand{\\Bold}[1]{\\mathbf{#1}}\\frac{2 \\, f\\left({\\rho}, z\\right) \\frac{\\partial\\,f}{\\partial {\\rho}} \\frac{\\partial\\,r}{\\partial {\\rho}} - 2 \\, f\\left({\\rho}, z\\right) \\frac{\\partial\\,f}{\\partial z} \\frac{\\partial\\,r}{\\partial z} - 2 \\, f\\left({\\rho}, z\\right) \\frac{\\partial^2\\,f}{\\partial {\\rho} ^ 2} + \\frac{\\partial\\,f}{\\partial z}^{2}}{4 \\, f\\left({\\rho}, z\\right)^{2}}</script></html>"
      ],
      "text/plain": [
       "1/4*(2*f(rh, z)*d(f)/drh*d(r)/drh - 2*f(rh, z)*d(f)/dz*d(r)/dz - 2*f(rh, z)*d^2(f)/drh^2 + d(f)/dz^2)/f(rh, z)^2"
      ]
     },
     "execution_count": 293,
     "metadata": {},
     "output_type": "execute_result"
    }
   ],
   "source": [
    "R[0,1,0,1]"
   ]
  },
  {
   "cell_type": "markdown",
   "metadata": {},
   "source": [
    "## Kretschmann scalar\n",
    "\n",
    "The Kretschmann scalar is the \"square\" of the Riemann tensor defined by \n",
    "$$ K = R_{abcd} R^{abcd}$$\n",
    "To compute it, we must first form the tensor fields whose components are $R_{abcd}$ and \n",
    "$R^{abcd}$. They are obtained by respectively lowering and raising the indices of the components $R^a_{\\ \\, bcd}$ of the Riemann tensor, via the metric $g$. These two operations are performed by the methods `down()` and `up()`. The contraction is performed by summation on repeated indices, using LaTeX notations:"
   ]
  },
  {
   "cell_type": "code",
   "execution_count": 294,
   "metadata": {},
   "outputs": [
    {
     "data": {
      "text/html": [
       "<html><script type=\"math/tex; mode=display\">\\newcommand{\\Bold}[1]{\\mathbf{#1}}\\mbox{Scalar field on the 4-dimensional Lorentzian manifold M}</script></html>"
      ],
      "text/plain": [
       "Scalar field on the 4-dimensional Lorentzian manifold M"
      ]
     },
     "execution_count": 294,
     "metadata": {},
     "output_type": "execute_result"
    }
   ],
   "source": [
    "K = R.down(g)['_{abcd}'] * R.up(g)['^{abcd}']\n",
    "K"
   ]
  },
  {
   "cell_type": "code",
   "execution_count": 295,
   "metadata": {},
   "outputs": [
    {
     "data": {
      "text/html": [
       "<html><script type=\"math/tex; mode=display\">\\newcommand{\\Bold}[1]{\\mathbf{#1}}\\begin{array}{llcl} & M & \\longrightarrow & \\mathbb{R} \\\\ & \\left(t, {\\rho}, {\\phi}, z\\right) & \\longmapsto & \\frac{{\\left(16 \\, {\\rho}^{2} f\\left({\\rho}, z\\right)^{4} \\left(\\frac{\\partial^2\\,r}{\\partial {\\rho} ^ 2}\\right)^{2} + 16 \\, {\\rho}^{2} f\\left({\\rho}, z\\right)^{4} \\left(\\frac{\\partial^2\\,r}{\\partial z ^ 2}\\right)^{2} + 11 \\, {\\rho}^{2} \\left(\\frac{\\partial\\,f}{\\partial {\\rho}}\\right)^{4} + 12 \\, {\\rho}^{2} f\\left({\\rho}, z\\right)^{2} \\left(\\frac{\\partial^2\\,f}{\\partial {\\rho} ^ 2}\\right)^{2} + 16 \\, {\\rho}^{2} f\\left({\\rho}, z\\right)^{2} \\left(\\frac{\\partial^2\\,f}{\\partial {\\rho}\\partial z}\\right)^{2} + 11 \\, {\\rho}^{2} \\left(\\frac{\\partial\\,f}{\\partial z}\\right)^{4} + 12 \\, {\\rho}^{2} f\\left({\\rho}, z\\right)^{2} \\left(\\frac{\\partial^2\\,f}{\\partial z ^ 2}\\right)^{2} - 16 \\, {\\rho} f\\left({\\rho}, z\\right) \\left(\\frac{\\partial\\,f}{\\partial {\\rho}}\\right)^{3} + 12 \\, f\\left({\\rho}, z\\right)^{2} \\left(\\frac{\\partial\\,f}{\\partial {\\rho}}\\right)^{2} + 2 \\, {\\left(11 \\, {\\rho}^{2} \\left(\\frac{\\partial\\,f}{\\partial {\\rho}}\\right)^{2} - 8 \\, {\\rho}^{2} f\\left({\\rho}, z\\right) \\frac{\\partial^2\\,f}{\\partial {\\rho} ^ 2} - 8 \\, {\\rho} f\\left({\\rho}, z\\right) \\frac{\\partial\\,f}{\\partial {\\rho}}\\right)} \\left(\\frac{\\partial\\,f}{\\partial z}\\right)^{2} + 16 \\, {\\left({\\rho}^{2} f\\left({\\rho}, z\\right)^{2} \\left(\\frac{\\partial\\,f}{\\partial {\\rho}}\\right)^{2} + {\\rho}^{2} f\\left({\\rho}, z\\right)^{2} \\left(\\frac{\\partial\\,f}{\\partial z}\\right)^{2} - 2 \\, {\\rho} f\\left({\\rho}, z\\right)^{3} \\frac{\\partial\\,f}{\\partial {\\rho}} + 2 \\, f\\left({\\rho}, z\\right)^{4}\\right)} \\left(\\frac{\\partial\\,r}{\\partial {\\rho}}\\right)^{2} + 16 \\, {\\left({\\rho}^{2} f\\left({\\rho}, z\\right)^{2} \\left(\\frac{\\partial\\,f}{\\partial {\\rho}}\\right)^{2} + {\\rho}^{2} f\\left({\\rho}, z\\right)^{2} \\left(\\frac{\\partial\\,f}{\\partial z}\\right)^{2} - 2 \\, {\\rho} f\\left({\\rho}, z\\right)^{3} \\frac{\\partial\\,f}{\\partial {\\rho}} + 2 \\, f\\left({\\rho}, z\\right)^{4}\\right)} \\left(\\frac{\\partial\\,r}{\\partial z}\\right)^{2} - 8 \\, {\\left(2 \\, {\\rho}^{2} f\\left({\\rho}, z\\right) \\left(\\frac{\\partial\\,f}{\\partial {\\rho}}\\right)^{2} - {\\rho} f\\left({\\rho}, z\\right)^{2} \\frac{\\partial\\,f}{\\partial {\\rho}}\\right)} \\frac{\\partial^2\\,f}{\\partial {\\rho} ^ 2} - 8 \\, {\\left(2 \\, {\\rho}^{2} f\\left({\\rho}, z\\right) \\left(\\frac{\\partial\\,f}{\\partial {\\rho}}\\right)^{2} - {\\rho}^{2} f\\left({\\rho}, z\\right)^{2} \\frac{\\partial^2\\,f}{\\partial {\\rho} ^ 2} + 2 \\, {\\rho}^{2} f\\left({\\rho}, z\\right) \\left(\\frac{\\partial\\,f}{\\partial z}\\right)^{2} - {\\rho} f\\left({\\rho}, z\\right)^{2} \\frac{\\partial\\,f}{\\partial {\\rho}}\\right)} \\frac{\\partial^2\\,f}{\\partial z ^ 2} - 8 \\, {\\left(4 \\, {\\rho}^{2} f\\left({\\rho}, z\\right)^{2} \\frac{\\partial^2\\,f}{\\partial {\\rho}\\partial z} \\frac{\\partial\\,f}{\\partial z} + {\\rho} f\\left({\\rho}, z\\right)^{2} \\left(\\frac{\\partial\\,f}{\\partial {\\rho}}\\right)^{2} - {\\rho} f\\left({\\rho}, z\\right)^{2} \\left(\\frac{\\partial\\,f}{\\partial z}\\right)^{2} + 2 \\, {\\left({\\rho}^{2} f\\left({\\rho}, z\\right)^{2} \\frac{\\partial\\,f}{\\partial {\\rho}} - {\\rho} f\\left({\\rho}, z\\right)^{3}\\right)} \\frac{\\partial^2\\,f}{\\partial {\\rho} ^ 2} - 2 \\, {\\left({\\rho}^{2} f\\left({\\rho}, z\\right)^{2} \\frac{\\partial\\,f}{\\partial {\\rho}} - {\\rho} f\\left({\\rho}, z\\right)^{3}\\right)} \\frac{\\partial^2\\,f}{\\partial z ^ 2}\\right)} \\frac{\\partial\\,r}{\\partial {\\rho}} + 16 \\, {\\left({\\rho}^{2} f\\left({\\rho}, z\\right)^{2} \\left(\\frac{\\partial\\,f}{\\partial {\\rho}}\\right)^{2} - {\\rho}^{2} f\\left({\\rho}, z\\right)^{3} \\frac{\\partial^2\\,f}{\\partial {\\rho} ^ 2} + {\\rho}^{2} f\\left({\\rho}, z\\right)^{2} \\left(\\frac{\\partial\\,f}{\\partial z}\\right)^{2} - {\\rho}^{2} f\\left({\\rho}, z\\right)^{3} \\frac{\\partial^2\\,f}{\\partial z ^ 2}\\right)} \\frac{\\partial^2\\,r}{\\partial {\\rho} ^ 2} - 16 \\, {\\left({\\rho}^{2} f\\left({\\rho}, z\\right)^{2} \\frac{\\partial\\,f}{\\partial z} \\frac{\\partial^2\\,f}{\\partial z ^ 2} + 2 \\, {\\left({\\rho}^{2} f\\left({\\rho}, z\\right)^{2} \\frac{\\partial\\,f}{\\partial {\\rho}} - {\\rho} f\\left({\\rho}, z\\right)^{3}\\right)} \\frac{\\partial^2\\,f}{\\partial {\\rho}\\partial z} - {\\left({\\rho}^{2} f\\left({\\rho}, z\\right)^{2} \\frac{\\partial^2\\,f}{\\partial {\\rho} ^ 2} - {\\rho} f\\left({\\rho}, z\\right)^{2} \\frac{\\partial\\,f}{\\partial {\\rho}}\\right)} \\frac{\\partial\\,f}{\\partial z}\\right)} \\frac{\\partial\\,r}{\\partial z} + 16 \\, {\\left(2 \\, {\\rho}^{2} f\\left({\\rho}, z\\right)^{4} \\frac{\\partial^2\\,r}{\\partial {\\rho} ^ 2} + {\\rho}^{2} f\\left({\\rho}, z\\right)^{2} \\left(\\frac{\\partial\\,f}{\\partial {\\rho}}\\right)^{2} - {\\rho}^{2} f\\left({\\rho}, z\\right)^{3} \\frac{\\partial^2\\,f}{\\partial {\\rho} ^ 2} + {\\rho}^{2} f\\left({\\rho}, z\\right)^{2} \\left(\\frac{\\partial\\,f}{\\partial z}\\right)^{2} - {\\rho}^{2} f\\left({\\rho}, z\\right)^{3} \\frac{\\partial^2\\,f}{\\partial z ^ 2}\\right)} \\frac{\\partial^2\\,r}{\\partial z ^ 2}\\right)} e^{\\left(-4 \\, r\\left({\\rho}, z\\right)\\right)}}{4 \\, {\\rho}^{2} f\\left({\\rho}, z\\right)^{2}} \\end{array}</script></html>"
      ],
      "text/plain": [
       "M --> R\n",
       "(t, rh, ph, z) |--> 1/4*(16*rh^2*f(rh, z)^4*(d^2(r)/drh^2)^2 + 16*rh^2*f(rh, z)^4*(d^2(r)/dz^2)^2 + 11*rh^2*(d(f)/drh)^4 + 12*rh^2*f(rh, z)^2*(d^2(f)/drh^2)^2 + 16*rh^2*f(rh, z)^2*(d^2(f)/drhdz)^2 + 11*rh^2*(d(f)/dz)^4 + 12*rh^2*f(rh, z)^2*(d^2(f)/dz^2)^2 - 16*rh*f(rh, z)*(d(f)/drh)^3 + 12*f(rh, z)^2*(d(f)/drh)^2 + 2*(11*rh^2*(d(f)/drh)^2 - 8*rh^2*f(rh, z)*d^2(f)/drh^2 - 8*rh*f(rh, z)*d(f)/drh)*(d(f)/dz)^2 + 16*(rh^2*f(rh, z)^2*(d(f)/drh)^2 + rh^2*f(rh, z)^2*(d(f)/dz)^2 - 2*rh*f(rh, z)^3*d(f)/drh + 2*f(rh, z)^4)*(d(r)/drh)^2 + 16*(rh^2*f(rh, z)^2*(d(f)/drh)^2 + rh^2*f(rh, z)^2*(d(f)/dz)^2 - 2*rh*f(rh, z)^3*d(f)/drh + 2*f(rh, z)^4)*(d(r)/dz)^2 - 8*(2*rh^2*f(rh, z)*(d(f)/drh)^2 - rh*f(rh, z)^2*d(f)/drh)*d^2(f)/drh^2 - 8*(2*rh^2*f(rh, z)*(d(f)/drh)^2 - rh^2*f(rh, z)^2*d^2(f)/drh^2 + 2*rh^2*f(rh, z)*(d(f)/dz)^2 - rh*f(rh, z)^2*d(f)/drh)*d^2(f)/dz^2 - 8*(4*rh^2*f(rh, z)^2*d^2(f)/drhdz*d(f)/dz + rh*f(rh, z)^2*(d(f)/drh)^2 - rh*f(rh, z)^2*(d(f)/dz)^2 + 2*(rh^2*f(rh, z)^2*d(f)/drh - rh*f(rh, z)^3)*d^2(f)/drh^2 - 2*(rh^2*f(rh, z)^2*d(f)/drh - rh*f(rh, z)^3)*d^2(f)/dz^2)*d(r)/drh + 16*(rh^2*f(rh, z)^2*(d(f)/drh)^2 - rh^2*f(rh, z)^3*d^2(f)/drh^2 + rh^2*f(rh, z)^2*(d(f)/dz)^2 - rh^2*f(rh, z)^3*d^2(f)/dz^2)*d^2(r)/drh^2 - 16*(rh^2*f(rh, z)^2*d(f)/dz*d^2(f)/dz^2 + 2*(rh^2*f(rh, z)^2*d(f)/drh - rh*f(rh, z)^3)*d^2(f)/drhdz - (rh^2*f(rh, z)^2*d^2(f)/drh^2 - rh*f(rh, z)^2*d(f)/drh)*d(f)/dz)*d(r)/dz + 16*(2*rh^2*f(rh, z)^4*d^2(r)/drh^2 + rh^2*f(rh, z)^2*(d(f)/drh)^2 - rh^2*f(rh, z)^3*d^2(f)/drh^2 + rh^2*f(rh, z)^2*(d(f)/dz)^2 - rh^2*f(rh, z)^3*d^2(f)/dz^2)*d^2(r)/dz^2)*e^(-4*r(rh, z))/(rh^2*f(rh, z)^2)"
      ]
     },
     "execution_count": 295,
     "metadata": {},
     "output_type": "execute_result"
    }
   ],
   "source": [
    "K.display()"
   ]
  },
  {
   "cell_type": "markdown",
   "metadata": {},
   "source": [
    "The symbolic expression representing the scalar field $K$ is returned by the method `expr()`:"
   ]
  },
  {
   "cell_type": "code",
   "execution_count": 296,
   "metadata": {},
   "outputs": [
    {
     "data": {
      "text/html": [
       "<html><script type=\"math/tex; mode=display\">\\newcommand{\\Bold}[1]{\\mathbf{#1}}\\frac{{\\left(16 \\, {\\rho}^{2} f\\left({\\rho}, z\\right)^{4} \\frac{\\partial^{2}}{(\\partial {\\rho})^{2}}r\\left({\\rho}, z\\right)^{2} + 16 \\, {\\rho}^{2} f\\left({\\rho}, z\\right)^{4} \\frac{\\partial^{2}}{(\\partial z)^{2}}r\\left({\\rho}, z\\right)^{2} + 11 \\, {\\rho}^{2} \\frac{\\partial}{\\partial {\\rho}}f\\left({\\rho}, z\\right)^{4} + 12 \\, {\\rho}^{2} f\\left({\\rho}, z\\right)^{2} \\frac{\\partial^{2}}{(\\partial {\\rho})^{2}}f\\left({\\rho}, z\\right)^{2} + 16 \\, {\\rho}^{2} f\\left({\\rho}, z\\right)^{2} \\frac{\\partial^{2}}{\\partial {\\rho}\\partial z}f\\left({\\rho}, z\\right)^{2} + 11 \\, {\\rho}^{2} \\frac{\\partial}{\\partial z}f\\left({\\rho}, z\\right)^{4} + 12 \\, {\\rho}^{2} f\\left({\\rho}, z\\right)^{2} \\frac{\\partial^{2}}{(\\partial z)^{2}}f\\left({\\rho}, z\\right)^{2} - 16 \\, {\\rho} f\\left({\\rho}, z\\right) \\frac{\\partial}{\\partial {\\rho}}f\\left({\\rho}, z\\right)^{3} + 12 \\, f\\left({\\rho}, z\\right)^{2} \\frac{\\partial}{\\partial {\\rho}}f\\left({\\rho}, z\\right)^{2} + 2 \\, {\\left(11 \\, {\\rho}^{2} \\frac{\\partial}{\\partial {\\rho}}f\\left({\\rho}, z\\right)^{2} - 8 \\, {\\rho}^{2} f\\left({\\rho}, z\\right) \\frac{\\partial^{2}}{(\\partial {\\rho})^{2}}f\\left({\\rho}, z\\right) - 8 \\, {\\rho} f\\left({\\rho}, z\\right) \\frac{\\partial}{\\partial {\\rho}}f\\left({\\rho}, z\\right)\\right)} \\frac{\\partial}{\\partial z}f\\left({\\rho}, z\\right)^{2} + 16 \\, {\\left({\\rho}^{2} f\\left({\\rho}, z\\right)^{2} \\frac{\\partial}{\\partial {\\rho}}f\\left({\\rho}, z\\right)^{2} + {\\rho}^{2} f\\left({\\rho}, z\\right)^{2} \\frac{\\partial}{\\partial z}f\\left({\\rho}, z\\right)^{2} - 2 \\, {\\rho} f\\left({\\rho}, z\\right)^{3} \\frac{\\partial}{\\partial {\\rho}}f\\left({\\rho}, z\\right) + 2 \\, f\\left({\\rho}, z\\right)^{4}\\right)} \\frac{\\partial}{\\partial {\\rho}}r\\left({\\rho}, z\\right)^{2} + 16 \\, {\\left({\\rho}^{2} f\\left({\\rho}, z\\right)^{2} \\frac{\\partial}{\\partial {\\rho}}f\\left({\\rho}, z\\right)^{2} + {\\rho}^{2} f\\left({\\rho}, z\\right)^{2} \\frac{\\partial}{\\partial z}f\\left({\\rho}, z\\right)^{2} - 2 \\, {\\rho} f\\left({\\rho}, z\\right)^{3} \\frac{\\partial}{\\partial {\\rho}}f\\left({\\rho}, z\\right) + 2 \\, f\\left({\\rho}, z\\right)^{4}\\right)} \\frac{\\partial}{\\partial z}r\\left({\\rho}, z\\right)^{2} - 8 \\, {\\left(2 \\, {\\rho}^{2} f\\left({\\rho}, z\\right) \\frac{\\partial}{\\partial {\\rho}}f\\left({\\rho}, z\\right)^{2} - {\\rho} f\\left({\\rho}, z\\right)^{2} \\frac{\\partial}{\\partial {\\rho}}f\\left({\\rho}, z\\right)\\right)} \\frac{\\partial^{2}}{(\\partial {\\rho})^{2}}f\\left({\\rho}, z\\right) - 8 \\, {\\left(2 \\, {\\rho}^{2} f\\left({\\rho}, z\\right) \\frac{\\partial}{\\partial {\\rho}}f\\left({\\rho}, z\\right)^{2} - {\\rho}^{2} f\\left({\\rho}, z\\right)^{2} \\frac{\\partial^{2}}{(\\partial {\\rho})^{2}}f\\left({\\rho}, z\\right) + 2 \\, {\\rho}^{2} f\\left({\\rho}, z\\right) \\frac{\\partial}{\\partial z}f\\left({\\rho}, z\\right)^{2} - {\\rho} f\\left({\\rho}, z\\right)^{2} \\frac{\\partial}{\\partial {\\rho}}f\\left({\\rho}, z\\right)\\right)} \\frac{\\partial^{2}}{(\\partial z)^{2}}f\\left({\\rho}, z\\right) - 8 \\, {\\left(4 \\, {\\rho}^{2} f\\left({\\rho}, z\\right)^{2} \\frac{\\partial^{2}}{\\partial {\\rho}\\partial z}f\\left({\\rho}, z\\right) \\frac{\\partial}{\\partial z}f\\left({\\rho}, z\\right) + {\\rho} f\\left({\\rho}, z\\right)^{2} \\frac{\\partial}{\\partial {\\rho}}f\\left({\\rho}, z\\right)^{2} - {\\rho} f\\left({\\rho}, z\\right)^{2} \\frac{\\partial}{\\partial z}f\\left({\\rho}, z\\right)^{2} + 2 \\, {\\left({\\rho}^{2} f\\left({\\rho}, z\\right)^{2} \\frac{\\partial}{\\partial {\\rho}}f\\left({\\rho}, z\\right) - {\\rho} f\\left({\\rho}, z\\right)^{3}\\right)} \\frac{\\partial^{2}}{(\\partial {\\rho})^{2}}f\\left({\\rho}, z\\right) - 2 \\, {\\left({\\rho}^{2} f\\left({\\rho}, z\\right)^{2} \\frac{\\partial}{\\partial {\\rho}}f\\left({\\rho}, z\\right) - {\\rho} f\\left({\\rho}, z\\right)^{3}\\right)} \\frac{\\partial^{2}}{(\\partial z)^{2}}f\\left({\\rho}, z\\right)\\right)} \\frac{\\partial}{\\partial {\\rho}}r\\left({\\rho}, z\\right) + 16 \\, {\\left({\\rho}^{2} f\\left({\\rho}, z\\right)^{2} \\frac{\\partial}{\\partial {\\rho}}f\\left({\\rho}, z\\right)^{2} - {\\rho}^{2} f\\left({\\rho}, z\\right)^{3} \\frac{\\partial^{2}}{(\\partial {\\rho})^{2}}f\\left({\\rho}, z\\right) + {\\rho}^{2} f\\left({\\rho}, z\\right)^{2} \\frac{\\partial}{\\partial z}f\\left({\\rho}, z\\right)^{2} - {\\rho}^{2} f\\left({\\rho}, z\\right)^{3} \\frac{\\partial^{2}}{(\\partial z)^{2}}f\\left({\\rho}, z\\right)\\right)} \\frac{\\partial^{2}}{(\\partial {\\rho})^{2}}r\\left({\\rho}, z\\right) - 16 \\, {\\left({\\rho}^{2} f\\left({\\rho}, z\\right)^{2} \\frac{\\partial}{\\partial z}f\\left({\\rho}, z\\right) \\frac{\\partial^{2}}{(\\partial z)^{2}}f\\left({\\rho}, z\\right) + 2 \\, {\\left({\\rho}^{2} f\\left({\\rho}, z\\right)^{2} \\frac{\\partial}{\\partial {\\rho}}f\\left({\\rho}, z\\right) - {\\rho} f\\left({\\rho}, z\\right)^{3}\\right)} \\frac{\\partial^{2}}{\\partial {\\rho}\\partial z}f\\left({\\rho}, z\\right) - {\\left({\\rho}^{2} f\\left({\\rho}, z\\right)^{2} \\frac{\\partial^{2}}{(\\partial {\\rho})^{2}}f\\left({\\rho}, z\\right) - {\\rho} f\\left({\\rho}, z\\right)^{2} \\frac{\\partial}{\\partial {\\rho}}f\\left({\\rho}, z\\right)\\right)} \\frac{\\partial}{\\partial z}f\\left({\\rho}, z\\right)\\right)} \\frac{\\partial}{\\partial z}r\\left({\\rho}, z\\right) + 16 \\, {\\left(2 \\, {\\rho}^{2} f\\left({\\rho}, z\\right)^{4} \\frac{\\partial^{2}}{(\\partial {\\rho})^{2}}r\\left({\\rho}, z\\right) + {\\rho}^{2} f\\left({\\rho}, z\\right)^{2} \\frac{\\partial}{\\partial {\\rho}}f\\left({\\rho}, z\\right)^{2} - {\\rho}^{2} f\\left({\\rho}, z\\right)^{3} \\frac{\\partial^{2}}{(\\partial {\\rho})^{2}}f\\left({\\rho}, z\\right) + {\\rho}^{2} f\\left({\\rho}, z\\right)^{2} \\frac{\\partial}{\\partial z}f\\left({\\rho}, z\\right)^{2} - {\\rho}^{2} f\\left({\\rho}, z\\right)^{3} \\frac{\\partial^{2}}{(\\partial z)^{2}}f\\left({\\rho}, z\\right)\\right)} \\frac{\\partial^{2}}{(\\partial z)^{2}}r\\left({\\rho}, z\\right)\\right)} e^{\\left(-4 \\, r\\left({\\rho}, z\\right)\\right)}}{4 \\, {\\rho}^{2} f\\left({\\rho}, z\\right)^{2}}</script></html>"
      ],
      "text/plain": [
       "1/4*(16*rh^2*f(rh, z)^4*diff(r(rh, z), rh, rh)^2 + 16*rh^2*f(rh, z)^4*diff(r(rh, z), z, z)^2 + 11*rh^2*diff(f(rh, z), rh)^4 + 12*rh^2*f(rh, z)^2*diff(f(rh, z), rh, rh)^2 + 16*rh^2*f(rh, z)^2*diff(f(rh, z), rh, z)^2 + 11*rh^2*diff(f(rh, z), z)^4 + 12*rh^2*f(rh, z)^2*diff(f(rh, z), z, z)^2 - 16*rh*f(rh, z)*diff(f(rh, z), rh)^3 + 12*f(rh, z)^2*diff(f(rh, z), rh)^2 + 2*(11*rh^2*diff(f(rh, z), rh)^2 - 8*rh^2*f(rh, z)*diff(f(rh, z), rh, rh) - 8*rh*f(rh, z)*diff(f(rh, z), rh))*diff(f(rh, z), z)^2 + 16*(rh^2*f(rh, z)^2*diff(f(rh, z), rh)^2 + rh^2*f(rh, z)^2*diff(f(rh, z), z)^2 - 2*rh*f(rh, z)^3*diff(f(rh, z), rh) + 2*f(rh, z)^4)*diff(r(rh, z), rh)^2 + 16*(rh^2*f(rh, z)^2*diff(f(rh, z), rh)^2 + rh^2*f(rh, z)^2*diff(f(rh, z), z)^2 - 2*rh*f(rh, z)^3*diff(f(rh, z), rh) + 2*f(rh, z)^4)*diff(r(rh, z), z)^2 - 8*(2*rh^2*f(rh, z)*diff(f(rh, z), rh)^2 - rh*f(rh, z)^2*diff(f(rh, z), rh))*diff(f(rh, z), rh, rh) - 8*(2*rh^2*f(rh, z)*diff(f(rh, z), rh)^2 - rh^2*f(rh, z)^2*diff(f(rh, z), rh, rh) + 2*rh^2*f(rh, z)*diff(f(rh, z), z)^2 - rh*f(rh, z)^2*diff(f(rh, z), rh))*diff(f(rh, z), z, z) - 8*(4*rh^2*f(rh, z)^2*diff(f(rh, z), rh, z)*diff(f(rh, z), z) + rh*f(rh, z)^2*diff(f(rh, z), rh)^2 - rh*f(rh, z)^2*diff(f(rh, z), z)^2 + 2*(rh^2*f(rh, z)^2*diff(f(rh, z), rh) - rh*f(rh, z)^3)*diff(f(rh, z), rh, rh) - 2*(rh^2*f(rh, z)^2*diff(f(rh, z), rh) - rh*f(rh, z)^3)*diff(f(rh, z), z, z))*diff(r(rh, z), rh) + 16*(rh^2*f(rh, z)^2*diff(f(rh, z), rh)^2 - rh^2*f(rh, z)^3*diff(f(rh, z), rh, rh) + rh^2*f(rh, z)^2*diff(f(rh, z), z)^2 - rh^2*f(rh, z)^3*diff(f(rh, z), z, z))*diff(r(rh, z), rh, rh) - 16*(rh^2*f(rh, z)^2*diff(f(rh, z), z)*diff(f(rh, z), z, z) + 2*(rh^2*f(rh, z)^2*diff(f(rh, z), rh) - rh*f(rh, z)^3)*diff(f(rh, z), rh, z) - (rh^2*f(rh, z)^2*diff(f(rh, z), rh, rh) - rh*f(rh, z)^2*diff(f(rh, z), rh))*diff(f(rh, z), z))*diff(r(rh, z), z) + 16*(2*rh^2*f(rh, z)^4*diff(r(rh, z), rh, rh) + rh^2*f(rh, z)^2*diff(f(rh, z), rh)^2 - rh^2*f(rh, z)^3*diff(f(rh, z), rh, rh) + rh^2*f(rh, z)^2*diff(f(rh, z), z)^2 - rh^2*f(rh, z)^3*diff(f(rh, z), z, z))*diff(r(rh, z), z, z))*e^(-4*r(rh, z))/(rh^2*f(rh, z)^2)"
      ]
     },
     "execution_count": 296,
     "metadata": {},
     "output_type": "execute_result"
    }
   ],
   "source": [
    "K.expr()"
   ]
  }
 ],
 "metadata": {
  "kernelspec": {
   "display_name": "SageMath 9.1",
   "language": "sage",
   "name": "sagemath"
  },
  "language_info": {
   "codemirror_mode": {
    "name": "ipython",
    "version": 3
   },
   "file_extension": ".py",
   "mimetype": "text/x-python",
   "name": "python",
   "nbconvert_exporter": "python",
   "pygments_lexer": "ipython3",
   "version": "3.7.3"
  }
 },
 "nbformat": 4,
 "nbformat_minor": 2
}
