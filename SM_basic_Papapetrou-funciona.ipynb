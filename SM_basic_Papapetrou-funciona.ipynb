{
 "cells": [
  {
   "cell_type": "markdown",
   "metadata": {},
   "source": [
    "# Papapetrou spacetime: basic computations\n",
    "\n",
    "This notebook shows how to use SageMath to compute the Christoffel symbols of the metric with respect to standard coordinates in Schwarzschild spacetime, as well as the Riemann curvature tensor and the Kretschmann scalar. The corresponding tools have been developed within the [SageManifolds](https://sagemanifolds.obspm.fr) project.\n",
    "\n",
    "A more advanced notebook about Schwarzschild spacetime, involving many coordinate charts, more tensor calculus and graphical outputs, is available [here](http://nbviewer.jupyter.org/github/sagemanifolds/SageManifolds/blob/master/Worksheets/v1.3/SM_Schwarzschild.ipynb).\n",
    "\n",
    "Click [here](https://raw.githubusercontent.com/sagemanifolds/SageManifolds/master/Worksheets/v1.3/SM_basic_Schwarzschild.ipynb) to download the notebook file (ipynb format). To run it, you must start SageMath with the Jupyter interface, via the command `sage -n jupyter`"
   ]
  },
  {
   "cell_type": "markdown",
   "metadata": {},
   "source": [
    "*NB:* a version of SageMath at least equal to 8.2 is required to run this notebook:"
   ]
  },
  {
   "cell_type": "code",
   "execution_count": 1,
   "metadata": {},
   "outputs": [
    {
     "data": {
      "text/plain": [
       "'SageMath version 9.1, Release Date: 2020-05-20'"
      ]
     },
     "execution_count": 1,
     "metadata": {},
     "output_type": "execute_result"
    }
   ],
   "source": [
    "\n",
    "\n",
    "version()"
   ]
  },
  {
   "cell_type": "code",
   "execution_count": 2,
   "metadata": {},
   "outputs": [],
   "source": [
    "from sage.manifolds.operators import grad"
   ]
  },
  {
   "cell_type": "code",
   "execution_count": 3,
   "metadata": {},
   "outputs": [],
   "source": [
    "from sage.manifolds.operators import div"
   ]
  },
  {
   "cell_type": "code",
   "execution_count": 4,
   "metadata": {},
   "outputs": [],
   "source": [
    "from sage.manifolds.operators import laplacian"
   ]
  },
  {
   "cell_type": "markdown",
   "metadata": {},
   "source": [
    "First we set up the notebook to display mathematical objects via LaTeX rendering:"
   ]
  },
  {
   "cell_type": "code",
   "execution_count": 5,
   "metadata": {},
   "outputs": [],
   "source": [
    "%display latex\n"
   ]
  },
  {
   "cell_type": "markdown",
   "metadata": {},
   "source": [
    "## Spacetime manifold\n",
    "\n",
    "We declare the spacetime manifold as a 4-dimensional Lorentzian manifold:"
   ]
  },
  {
   "cell_type": "code",
   "execution_count": 6,
   "metadata": {},
   "outputs": [
    {
     "name": "stdout",
     "output_type": "stream",
     "text": [
      "4-dimensional Lorentzian manifold M\n"
     ]
    }
   ],
   "source": [
    "M = Manifold(4, 'M', structure='Lorentzian')\n",
    "print(M)"
   ]
  },
  {
   "cell_type": "code",
   "execution_count": 8,
   "metadata": {},
   "outputs": [
    {
     "data": {
      "text/html": [
       "<html><script type=\"math/tex; mode=display\">\\newcommand{\\Bold}[1]{\\mathbf{#1}}\\left(M,(t, {\\rho}, {\\phi}, z)\\right)</script></html>"
      ],
      "text/plain": [
       "Chart (M, (t, rh, ph, z))"
      ]
     },
     "execution_count": 8,
     "metadata": {},
     "output_type": "execute_result"
    }
   ],
   "source": [
    "X.<t,rh,ph,z> = M.chart(r\"t rh:(0,+oo):\\rho ph:(0,2*pi):\\phi z:(-oo,+oo)\")\n",
    "X"
   ]
  },
  {
   "cell_type": "markdown",
   "metadata": {},
   "source": [
    "## Metric tensor\n",
    "\n",
    "We introduce first the mass parameter $m$ as a symbolic variable, via the function `var()`:"
   ]
  },
  {
   "cell_type": "code",
   "execution_count": 164,
   "metadata": {},
   "outputs": [
    {
     "name": "stdout",
     "output_type": "stream",
     "text": [
      "w=/0\n"
     ]
    },
    {
     "data": {
      "text/html": [
       "<html><script type=\"math/tex; mode=display\">\\newcommand{\\Bold}[1]{\\mathbf{#1}}g = -f\\left({\\rho}, z\\right) \\mathrm{d} t\\otimes \\mathrm{d} t + f\\left({\\rho}, z\\right) \\omega\\left({\\rho}, z\\right) \\mathrm{d} t\\otimes \\mathrm{d} {\\phi} + \\frac{e^{\\left(2 \\, \\gamma\\left({\\rho}, z\\right)\\right)}}{f\\left({\\rho}, z\\right)} \\mathrm{d} {\\rho}\\otimes \\mathrm{d} {\\rho} + f\\left({\\rho}, z\\right) \\omega\\left({\\rho}, z\\right) \\mathrm{d} {\\phi}\\otimes \\mathrm{d} t + \\left( -f\\left({\\rho}, z\\right) \\omega\\left({\\rho}, z\\right)^{2} + \\frac{{\\rho}^{2}}{f\\left({\\rho}, z\\right)} \\right) \\mathrm{d} {\\phi}\\otimes \\mathrm{d} {\\phi} + \\frac{e^{\\left(2 \\, \\gamma\\left({\\rho}, z\\right)\\right)}}{f\\left({\\rho}, z\\right)} \\mathrm{d} z\\otimes \\mathrm{d} z</script></html>"
      ],
      "text/plain": [
       "g = -f(rh, z) dt*dt + f(rh, z)*w(rh, z) dt*dph + e^(2*r(rh, z))/f(rh, z) drh*drh + f(rh, z)*w(rh, z) dph*dt + (-f(rh, z)*w(rh, z)^2 + rh^2/f(rh, z)) dph*dph + e^(2*r(rh, z))/f(rh, z) dz*dz"
      ]
     },
     "execution_count": 164,
     "metadata": {},
     "output_type": "execute_result"
    }
   ],
   "source": [
    "\n",
    "\n",
    "g = M.metric('g')\n",
    "\n",
    "f = function('f')\n",
    "r = function('r',latex_name=r'\\gamma')\n",
    "orden=input()\n",
    "if orden=='w=/0':\n",
    "    w = function('w',latex_name=r'\\omega')\n",
    "elif orden=='w=0':\n",
    "    w(rh,z)=0\n",
    "g[0,0] = -f(rh,z)\n",
    "g[1,1] = 1/f(rh,z)*exp(2*r(rh,z))\n",
    "g[2,2] = -f(rh,z)*w(rh,z)**2+ 1/f(rh,z)*rh^2\n",
    "g[3,3] = 1/f(rh,z) *exp(2*r(rh,z))\n",
    "g[0,2] = f(rh,z)*w(rh,z)\n",
    "g.display()\n"
   ]
  },
  {
   "cell_type": "markdown",
   "metadata": {},
   "source": [
    "Viewing the metric components as a matrix:"
   ]
  },
  {
   "cell_type": "code",
   "execution_count": 165,
   "metadata": {},
   "outputs": [
    {
     "data": {
      "text/html": [
       "<html><script type=\"math/tex; mode=display\">\\newcommand{\\Bold}[1]{\\mathbf{#1}}\\left(\\begin{array}{rrrr}\n",
       "-f\\left({\\rho}, z\\right) & 0 & f\\left({\\rho}, z\\right) \\omega\\left({\\rho}, z\\right) & 0 \\\\\n",
       "0 & \\frac{e^{\\left(2 \\, \\gamma\\left({\\rho}, z\\right)\\right)}}{f\\left({\\rho}, z\\right)} & 0 & 0 \\\\\n",
       "f\\left({\\rho}, z\\right) \\omega\\left({\\rho}, z\\right) & 0 & -f\\left({\\rho}, z\\right) \\omega\\left({\\rho}, z\\right)^{2} + \\frac{{\\rho}^{2}}{f\\left({\\rho}, z\\right)} & 0 \\\\\n",
       "0 & 0 & 0 & \\frac{e^{\\left(2 \\, \\gamma\\left({\\rho}, z\\right)\\right)}}{f\\left({\\rho}, z\\right)}\n",
       "\\end{array}\\right)</script></html>"
      ],
      "text/plain": [
       "[                           -f(rh, z)                                    0                    f(rh, z)*w(rh, z)                                    0]\n",
       "[                                   0              e^(2*r(rh, z))/f(rh, z)                                    0                                    0]\n",
       "[                   f(rh, z)*w(rh, z)                                    0 -f(rh, z)*w(rh, z)^2 + rh^2/f(rh, z)                                    0]\n",
       "[                                   0                                    0                                    0              e^(2*r(rh, z))/f(rh, z)]"
      ]
     },
     "execution_count": 165,
     "metadata": {},
     "output_type": "execute_result"
    }
   ],
   "source": [
    "g[:]"
   ]
  },
  {
   "cell_type": "markdown",
   "metadata": {},
   "source": [
    "## Christoffel symbols\n"
   ]
  },
  {
   "cell_type": "code",
   "execution_count": 167,
   "metadata": {},
   "outputs": [
    {
     "data": {
      "text/html": [
       "<html><script type=\"math/tex; mode=display\">\\newcommand{\\Bold}[1]{\\mathbf{#1}}\\begin{array}{lcl} \\Gamma_{ \\phantom{\\, t} \\, t \\, {\\rho} }^{ \\, t \\phantom{\\, t} \\phantom{\\, {\\rho}} } & = & \\frac{f\\left({\\rho}, z\\right)^{3} \\omega\\left({\\rho}, z\\right) \\frac{\\partial\\,\\omega}{\\partial {\\rho}} + {\\rho}^{2} \\frac{\\partial\\,f}{\\partial {\\rho}}}{2 \\, {\\rho}^{2} f\\left({\\rho}, z\\right)} \\\\ \\Gamma_{ \\phantom{\\, t} \\, t \\, z }^{ \\, t \\phantom{\\, t} \\phantom{\\, z} } & = & \\frac{f\\left({\\rho}, z\\right)^{3} \\omega\\left({\\rho}, z\\right) \\frac{\\partial\\,\\omega}{\\partial z} + {\\rho}^{2} \\frac{\\partial\\,f}{\\partial z}}{2 \\, {\\rho}^{2} f\\left({\\rho}, z\\right)} \\\\ \\Gamma_{ \\phantom{\\, t} \\, {\\rho} \\, {\\phi} }^{ \\, t \\phantom{\\, {\\rho}} \\phantom{\\, {\\phi}} } & = & -\\frac{2 \\, {\\rho}^{2} \\omega\\left({\\rho}, z\\right) \\frac{\\partial\\,f}{\\partial {\\rho}} - 2 \\, {\\rho} f\\left({\\rho}, z\\right) \\omega\\left({\\rho}, z\\right) + {\\left(f\\left({\\rho}, z\\right)^{3} \\omega\\left({\\rho}, z\\right)^{2} + {\\rho}^{2} f\\left({\\rho}, z\\right)\\right)} \\frac{\\partial\\,\\omega}{\\partial {\\rho}}}{2 \\, {\\rho}^{2} f\\left({\\rho}, z\\right)} \\\\ \\Gamma_{ \\phantom{\\, t} \\, {\\phi} \\, z }^{ \\, t \\phantom{\\, {\\phi}} \\phantom{\\, z} } & = & -\\frac{2 \\, {\\rho}^{2} \\omega\\left({\\rho}, z\\right) \\frac{\\partial\\,f}{\\partial z} + {\\left(f\\left({\\rho}, z\\right)^{3} \\omega\\left({\\rho}, z\\right)^{2} + {\\rho}^{2} f\\left({\\rho}, z\\right)\\right)} \\frac{\\partial\\,\\omega}{\\partial z}}{2 \\, {\\rho}^{2} f\\left({\\rho}, z\\right)} \\\\ \\Gamma_{ \\phantom{\\, {\\rho}} \\, t \\, t }^{ \\, {\\rho} \\phantom{\\, t} \\phantom{\\, t} } & = & \\frac{1}{2} \\, e^{\\left(-2 \\, \\gamma\\left({\\rho}, z\\right)\\right)} f\\left({\\rho}, z\\right) \\frac{\\partial\\,f}{\\partial {\\rho}} \\\\ \\Gamma_{ \\phantom{\\, {\\rho}} \\, t \\, {\\phi} }^{ \\, {\\rho} \\phantom{\\, t} \\phantom{\\, {\\phi}} } & = & -\\frac{1}{2} \\, {\\left(f\\left({\\rho}, z\\right) \\omega\\left({\\rho}, z\\right) \\frac{\\partial\\,f}{\\partial {\\rho}} + f\\left({\\rho}, z\\right)^{2} \\frac{\\partial\\,\\omega}{\\partial {\\rho}}\\right)} e^{\\left(-2 \\, \\gamma\\left({\\rho}, z\\right)\\right)} \\\\ \\Gamma_{ \\phantom{\\, {\\rho}} \\, {\\rho} \\, {\\rho} }^{ \\, {\\rho} \\phantom{\\, {\\rho}} \\phantom{\\, {\\rho}} } & = & \\frac{2 \\, f\\left({\\rho}, z\\right) \\frac{\\partial\\,\\gamma}{\\partial {\\rho}} - \\frac{\\partial\\,f}{\\partial {\\rho}}}{2 \\, f\\left({\\rho}, z\\right)} \\\\ \\Gamma_{ \\phantom{\\, {\\rho}} \\, {\\rho} \\, z }^{ \\, {\\rho} \\phantom{\\, {\\rho}} \\phantom{\\, z} } & = & \\frac{2 \\, f\\left({\\rho}, z\\right) \\frac{\\partial\\,\\gamma}{\\partial z} - \\frac{\\partial\\,f}{\\partial z}}{2 \\, f\\left({\\rho}, z\\right)} \\\\ \\Gamma_{ \\phantom{\\, {\\rho}} \\, {\\phi} \\, {\\phi} }^{ \\, {\\rho} \\phantom{\\, {\\phi}} \\phantom{\\, {\\phi}} } & = & \\frac{{\\left(2 \\, f\\left({\\rho}, z\\right)^{3} \\omega\\left({\\rho}, z\\right) \\frac{\\partial\\,\\omega}{\\partial {\\rho}} - 2 \\, {\\rho} f\\left({\\rho}, z\\right) + {\\left(f\\left({\\rho}, z\\right)^{2} \\omega\\left({\\rho}, z\\right)^{2} + {\\rho}^{2}\\right)} \\frac{\\partial\\,f}{\\partial {\\rho}}\\right)} e^{\\left(-2 \\, \\gamma\\left({\\rho}, z\\right)\\right)}}{2 \\, f\\left({\\rho}, z\\right)} \\\\ \\Gamma_{ \\phantom{\\, {\\rho}} \\, z \\, z }^{ \\, {\\rho} \\phantom{\\, z} \\phantom{\\, z} } & = & -\\frac{2 \\, f\\left({\\rho}, z\\right) \\frac{\\partial\\,\\gamma}{\\partial {\\rho}} - \\frac{\\partial\\,f}{\\partial {\\rho}}}{2 \\, f\\left({\\rho}, z\\right)} \\\\ \\Gamma_{ \\phantom{\\, {\\phi}} \\, t \\, {\\rho} }^{ \\, {\\phi} \\phantom{\\, t} \\phantom{\\, {\\rho}} } & = & \\frac{f\\left({\\rho}, z\\right)^{2} \\frac{\\partial\\,\\omega}{\\partial {\\rho}}}{2 \\, {\\rho}^{2}} \\\\ \\Gamma_{ \\phantom{\\, {\\phi}} \\, t \\, z }^{ \\, {\\phi} \\phantom{\\, t} \\phantom{\\, z} } & = & \\frac{f\\left({\\rho}, z\\right)^{2} \\frac{\\partial\\,\\omega}{\\partial z}}{2 \\, {\\rho}^{2}} \\\\ \\Gamma_{ \\phantom{\\, {\\phi}} \\, {\\rho} \\, {\\phi} }^{ \\, {\\phi} \\phantom{\\, {\\rho}} \\phantom{\\, {\\phi}} } & = & -\\frac{f\\left({\\rho}, z\\right)^{3} \\omega\\left({\\rho}, z\\right) \\frac{\\partial\\,\\omega}{\\partial {\\rho}} + {\\rho}^{2} \\frac{\\partial\\,f}{\\partial {\\rho}} - 2 \\, {\\rho} f\\left({\\rho}, z\\right)}{2 \\, {\\rho}^{2} f\\left({\\rho}, z\\right)} \\\\ \\Gamma_{ \\phantom{\\, {\\phi}} \\, {\\phi} \\, z }^{ \\, {\\phi} \\phantom{\\, {\\phi}} \\phantom{\\, z} } & = & -\\frac{f\\left({\\rho}, z\\right)^{3} \\omega\\left({\\rho}, z\\right) \\frac{\\partial\\,\\omega}{\\partial z} + {\\rho}^{2} \\frac{\\partial\\,f}{\\partial z}}{2 \\, {\\rho}^{2} f\\left({\\rho}, z\\right)} \\\\ \\Gamma_{ \\phantom{\\, z} \\, t \\, t }^{ \\, z \\phantom{\\, t} \\phantom{\\, t} } & = & \\frac{1}{2} \\, e^{\\left(-2 \\, \\gamma\\left({\\rho}, z\\right)\\right)} f\\left({\\rho}, z\\right) \\frac{\\partial\\,f}{\\partial z} \\\\ \\Gamma_{ \\phantom{\\, z} \\, t \\, {\\phi} }^{ \\, z \\phantom{\\, t} \\phantom{\\, {\\phi}} } & = & -\\frac{1}{2} \\, {\\left(f\\left({\\rho}, z\\right) \\omega\\left({\\rho}, z\\right) \\frac{\\partial\\,f}{\\partial z} + f\\left({\\rho}, z\\right)^{2} \\frac{\\partial\\,\\omega}{\\partial z}\\right)} e^{\\left(-2 \\, \\gamma\\left({\\rho}, z\\right)\\right)} \\\\ \\Gamma_{ \\phantom{\\, z} \\, {\\rho} \\, {\\rho} }^{ \\, z \\phantom{\\, {\\rho}} \\phantom{\\, {\\rho}} } & = & -\\frac{2 \\, f\\left({\\rho}, z\\right) \\frac{\\partial\\,\\gamma}{\\partial z} - \\frac{\\partial\\,f}{\\partial z}}{2 \\, f\\left({\\rho}, z\\right)} \\\\ \\Gamma_{ \\phantom{\\, z} \\, {\\rho} \\, z }^{ \\, z \\phantom{\\, {\\rho}} \\phantom{\\, z} } & = & \\frac{2 \\, f\\left({\\rho}, z\\right) \\frac{\\partial\\,\\gamma}{\\partial {\\rho}} - \\frac{\\partial\\,f}{\\partial {\\rho}}}{2 \\, f\\left({\\rho}, z\\right)} \\\\ \\Gamma_{ \\phantom{\\, z} \\, {\\phi} \\, {\\phi} }^{ \\, z \\phantom{\\, {\\phi}} \\phantom{\\, {\\phi}} } & = & \\frac{{\\left(2 \\, f\\left({\\rho}, z\\right)^{3} \\omega\\left({\\rho}, z\\right) \\frac{\\partial\\,\\omega}{\\partial z} + {\\left(f\\left({\\rho}, z\\right)^{2} \\omega\\left({\\rho}, z\\right)^{2} + {\\rho}^{2}\\right)} \\frac{\\partial\\,f}{\\partial z}\\right)} e^{\\left(-2 \\, \\gamma\\left({\\rho}, z\\right)\\right)}}{2 \\, f\\left({\\rho}, z\\right)} \\\\ \\Gamma_{ \\phantom{\\, z} \\, z \\, z }^{ \\, z \\phantom{\\, z} \\phantom{\\, z} } & = & \\frac{2 \\, f\\left({\\rho}, z\\right) \\frac{\\partial\\,\\gamma}{\\partial z} - \\frac{\\partial\\,f}{\\partial z}}{2 \\, f\\left({\\rho}, z\\right)} \\end{array}</script></html>"
      ],
      "text/plain": [
       "Gam^t_t,rh = 1/2*(f(rh, z)^3*w(rh, z)*d(w)/drh + rh^2*d(f)/drh)/(rh^2*f(rh, z)) \n",
       "Gam^t_t,z = 1/2*(f(rh, z)^3*w(rh, z)*d(w)/dz + rh^2*d(f)/dz)/(rh^2*f(rh, z)) \n",
       "Gam^t_rh,ph = -1/2*(2*rh^2*w(rh, z)*d(f)/drh - 2*rh*f(rh, z)*w(rh, z) + (f(rh, z)^3*w(rh, z)^2 + rh^2*f(rh, z))*d(w)/drh)/(rh^2*f(rh, z)) \n",
       "Gam^t_ph,z = -1/2*(2*rh^2*w(rh, z)*d(f)/dz + (f(rh, z)^3*w(rh, z)^2 + rh^2*f(rh, z))*d(w)/dz)/(rh^2*f(rh, z)) \n",
       "Gam^rh_t,t = 1/2*e^(-2*r(rh, z))*f(rh, z)*d(f)/drh \n",
       "Gam^rh_t,ph = -1/2*(f(rh, z)*w(rh, z)*d(f)/drh + f(rh, z)^2*d(w)/drh)*e^(-2*r(rh, z)) \n",
       "Gam^rh_rh,rh = 1/2*(2*f(rh, z)*d(r)/drh - d(f)/drh)/f(rh, z) \n",
       "Gam^rh_rh,z = 1/2*(2*f(rh, z)*d(r)/dz - d(f)/dz)/f(rh, z) \n",
       "Gam^rh_ph,ph = 1/2*(2*f(rh, z)^3*w(rh, z)*d(w)/drh - 2*rh*f(rh, z) + (f(rh, z)^2*w(rh, z)^2 + rh^2)*d(f)/drh)*e^(-2*r(rh, z))/f(rh, z) \n",
       "Gam^rh_z,z = -1/2*(2*f(rh, z)*d(r)/drh - d(f)/drh)/f(rh, z) \n",
       "Gam^ph_t,rh = 1/2*f(rh, z)^2*d(w)/drh/rh^2 \n",
       "Gam^ph_t,z = 1/2*f(rh, z)^2*d(w)/dz/rh^2 \n",
       "Gam^ph_rh,ph = -1/2*(f(rh, z)^3*w(rh, z)*d(w)/drh + rh^2*d(f)/drh - 2*rh*f(rh, z))/(rh^2*f(rh, z)) \n",
       "Gam^ph_ph,z = -1/2*(f(rh, z)^3*w(rh, z)*d(w)/dz + rh^2*d(f)/dz)/(rh^2*f(rh, z)) \n",
       "Gam^z_t,t = 1/2*e^(-2*r(rh, z))*f(rh, z)*d(f)/dz \n",
       "Gam^z_t,ph = -1/2*(f(rh, z)*w(rh, z)*d(f)/dz + f(rh, z)^2*d(w)/dz)*e^(-2*r(rh, z)) \n",
       "Gam^z_rh,rh = -1/2*(2*f(rh, z)*d(r)/dz - d(f)/dz)/f(rh, z) \n",
       "Gam^z_rh,z = 1/2*(2*f(rh, z)*d(r)/drh - d(f)/drh)/f(rh, z) \n",
       "Gam^z_ph,ph = 1/2*(2*f(rh, z)^3*w(rh, z)*d(w)/dz + (f(rh, z)^2*w(rh, z)^2 + rh^2)*d(f)/dz)*e^(-2*r(rh, z))/f(rh, z) \n",
       "Gam^z_z,z = 1/2*(2*f(rh, z)*d(r)/dz - d(f)/dz)/f(rh, z) "
      ]
     },
     "execution_count": 167,
     "metadata": {},
     "output_type": "execute_result"
    }
   ],
   "source": [
    "g.christoffel_symbols_display()"
   ]
  },
  {
   "cell_type": "markdown",
   "metadata": {},
   "source": [
    "Accessing to a Christoffel symbol specified by its indices:"
   ]
  },
  {
   "cell_type": "markdown",
   "metadata": {},
   "source": [
    "## Cálculo del tensor de Ricci\n",
    "\n"
   ]
  },
  {
   "cell_type": "code",
   "execution_count": 170,
   "metadata": {},
   "outputs": [
    {
     "data": {
      "text/html": [
       "<html><script type=\"math/tex; mode=display\">\\newcommand{\\Bold}[1]{\\mathbf{#1}}\\mathrm{Ric}\\left(g\\right)</script></html>"
      ],
      "text/plain": [
       "Field of symmetric bilinear forms Ric(g) on the 4-dimensional Lorentzian manifold M"
      ]
     },
     "execution_count": 170,
     "metadata": {},
     "output_type": "execute_result"
    }
   ],
   "source": [
    "g.ricci()"
   ]
  },
  {
   "cell_type": "code",
   "execution_count": 171,
   "metadata": {},
   "outputs": [
    {
     "data": {
      "text/html": [
       "<html><script type=\"math/tex; mode=display\">\\newcommand{\\Bold}[1]{\\mathbf{#1}}\\mathrm{Ric}\\left(g\\right) = \\frac{{\\left(f\\left({\\rho}, z\\right)^{4} \\left(\\frac{\\partial\\,\\omega}{\\partial {\\rho}}\\right)^{2} + f\\left({\\rho}, z\\right)^{4} \\left(\\frac{\\partial\\,\\omega}{\\partial z}\\right)^{2} - {\\rho}^{2} \\left(\\frac{\\partial\\,f}{\\partial {\\rho}}\\right)^{2} + {\\rho}^{2} f\\left({\\rho}, z\\right) \\frac{\\partial^2\\,f}{\\partial {\\rho} ^ 2} - {\\rho}^{2} \\left(\\frac{\\partial\\,f}{\\partial z}\\right)^{2} + {\\rho}^{2} f\\left({\\rho}, z\\right) \\frac{\\partial^2\\,f}{\\partial z ^ 2} + {\\rho} f\\left({\\rho}, z\\right) \\frac{\\partial\\,f}{\\partial {\\rho}}\\right)} e^{\\left(-2 \\, \\gamma\\left({\\rho}, z\\right)\\right)}}{2 \\, {\\rho}^{2}} \\mathrm{d} t\\otimes \\mathrm{d} t -\\frac{{\\left(f\\left({\\rho}, z\\right)^{4} \\omega\\left({\\rho}, z\\right) \\left(\\frac{\\partial\\,\\omega}{\\partial {\\rho}}\\right)^{2} + f\\left({\\rho}, z\\right)^{4} \\omega\\left({\\rho}, z\\right) \\left(\\frac{\\partial\\,\\omega}{\\partial z}\\right)^{2} - {\\rho}^{2} \\omega\\left({\\rho}, z\\right) \\left(\\frac{\\partial\\,f}{\\partial {\\rho}}\\right)^{2} + {\\rho}^{2} f\\left({\\rho}, z\\right) \\omega\\left({\\rho}, z\\right) \\frac{\\partial^2\\,f}{\\partial {\\rho} ^ 2} - {\\rho}^{2} \\omega\\left({\\rho}, z\\right) \\left(\\frac{\\partial\\,f}{\\partial z}\\right)^{2} + {\\rho}^{2} f\\left({\\rho}, z\\right) \\omega\\left({\\rho}, z\\right) \\frac{\\partial^2\\,f}{\\partial z ^ 2} + {\\rho}^{2} f\\left({\\rho}, z\\right)^{2} \\frac{\\partial^2\\,\\omega}{\\partial {\\rho} ^ 2} + 2 \\, {\\rho}^{2} f\\left({\\rho}, z\\right) \\frac{\\partial\\,f}{\\partial z} \\frac{\\partial\\,\\omega}{\\partial z} + {\\rho}^{2} f\\left({\\rho}, z\\right)^{2} \\frac{\\partial^2\\,\\omega}{\\partial z ^ 2} + {\\rho} f\\left({\\rho}, z\\right) \\omega\\left({\\rho}, z\\right) \\frac{\\partial\\,f}{\\partial {\\rho}} + {\\left(2 \\, {\\rho}^{2} f\\left({\\rho}, z\\right) \\frac{\\partial\\,f}{\\partial {\\rho}} - {\\rho} f\\left({\\rho}, z\\right)^{2}\\right)} \\frac{\\partial\\,\\omega}{\\partial {\\rho}}\\right)} e^{\\left(-2 \\, \\gamma\\left({\\rho}, z\\right)\\right)}}{2 \\, {\\rho}^{2}} \\mathrm{d} t\\otimes \\mathrm{d} {\\phi} + \\left( \\frac{f\\left({\\rho}, z\\right)^{4} \\left(\\frac{\\partial\\,\\omega}{\\partial {\\rho}}\\right)^{2} - 2 \\, {\\rho}^{2} f\\left({\\rho}, z\\right)^{2} \\frac{\\partial^2\\,\\gamma}{\\partial {\\rho} ^ 2} - 2 \\, {\\rho}^{2} f\\left({\\rho}, z\\right)^{2} \\frac{\\partial^2\\,\\gamma}{\\partial z ^ 2} - 2 \\, {\\rho}^{2} \\left(\\frac{\\partial\\,f}{\\partial {\\rho}}\\right)^{2} + {\\rho}^{2} f\\left({\\rho}, z\\right) \\frac{\\partial^2\\,f}{\\partial {\\rho} ^ 2} - {\\rho}^{2} \\left(\\frac{\\partial\\,f}{\\partial z}\\right)^{2} + {\\rho}^{2} f\\left({\\rho}, z\\right) \\frac{\\partial^2\\,f}{\\partial z ^ 2} + 2 \\, {\\rho} f\\left({\\rho}, z\\right)^{2} \\frac{\\partial\\,\\gamma}{\\partial {\\rho}} + {\\rho} f\\left({\\rho}, z\\right) \\frac{\\partial\\,f}{\\partial {\\rho}}}{2 \\, {\\rho}^{2} f\\left({\\rho}, z\\right)^{2}} \\right) \\mathrm{d} {\\rho}\\otimes \\mathrm{d} {\\rho} + \\left( \\frac{f\\left({\\rho}, z\\right)^{4} \\frac{\\partial\\,\\omega}{\\partial {\\rho}} \\frac{\\partial\\,\\omega}{\\partial z} - {\\rho}^{2} \\frac{\\partial\\,f}{\\partial {\\rho}} \\frac{\\partial\\,f}{\\partial z} + 2 \\, {\\rho} f\\left({\\rho}, z\\right)^{2} \\frac{\\partial\\,\\gamma}{\\partial z}}{2 \\, {\\rho}^{2} f\\left({\\rho}, z\\right)^{2}} \\right) \\mathrm{d} {\\rho}\\otimes \\mathrm{d} z -\\frac{{\\left(f\\left({\\rho}, z\\right)^{4} \\omega\\left({\\rho}, z\\right) \\left(\\frac{\\partial\\,\\omega}{\\partial {\\rho}}\\right)^{2} + f\\left({\\rho}, z\\right)^{4} \\omega\\left({\\rho}, z\\right) \\left(\\frac{\\partial\\,\\omega}{\\partial z}\\right)^{2} - {\\rho}^{2} \\omega\\left({\\rho}, z\\right) \\left(\\frac{\\partial\\,f}{\\partial {\\rho}}\\right)^{2} + {\\rho}^{2} f\\left({\\rho}, z\\right) \\omega\\left({\\rho}, z\\right) \\frac{\\partial^2\\,f}{\\partial {\\rho} ^ 2} - {\\rho}^{2} \\omega\\left({\\rho}, z\\right) \\left(\\frac{\\partial\\,f}{\\partial z}\\right)^{2} + {\\rho}^{2} f\\left({\\rho}, z\\right) \\omega\\left({\\rho}, z\\right) \\frac{\\partial^2\\,f}{\\partial z ^ 2} + {\\rho}^{2} f\\left({\\rho}, z\\right)^{2} \\frac{\\partial^2\\,\\omega}{\\partial {\\rho} ^ 2} + 2 \\, {\\rho}^{2} f\\left({\\rho}, z\\right) \\frac{\\partial\\,f}{\\partial z} \\frac{\\partial\\,\\omega}{\\partial z} + {\\rho}^{2} f\\left({\\rho}, z\\right)^{2} \\frac{\\partial^2\\,\\omega}{\\partial z ^ 2} + {\\rho} f\\left({\\rho}, z\\right) \\omega\\left({\\rho}, z\\right) \\frac{\\partial\\,f}{\\partial {\\rho}} + {\\left(2 \\, {\\rho}^{2} f\\left({\\rho}, z\\right) \\frac{\\partial\\,f}{\\partial {\\rho}} - {\\rho} f\\left({\\rho}, z\\right)^{2}\\right)} \\frac{\\partial\\,\\omega}{\\partial {\\rho}}\\right)} e^{\\left(-2 \\, \\gamma\\left({\\rho}, z\\right)\\right)}}{2 \\, {\\rho}^{2}} \\mathrm{d} {\\phi}\\otimes \\mathrm{d} t + \\frac{{\\left(2 \\, {\\rho}^{2} f\\left({\\rho}, z\\right)^{4} \\omega\\left({\\rho}, z\\right) \\frac{\\partial^2\\,\\omega}{\\partial {\\rho} ^ 2} + 4 \\, {\\rho}^{2} f\\left({\\rho}, z\\right)^{3} \\omega\\left({\\rho}, z\\right) \\frac{\\partial\\,f}{\\partial z} \\frac{\\partial\\,\\omega}{\\partial z} + 2 \\, {\\rho}^{2} f\\left({\\rho}, z\\right)^{4} \\omega\\left({\\rho}, z\\right) \\frac{\\partial^2\\,\\omega}{\\partial z ^ 2} - {\\left({\\rho}^{2} f\\left({\\rho}, z\\right)^{2} \\omega\\left({\\rho}, z\\right)^{2} + {\\rho}^{4}\\right)} \\left(\\frac{\\partial\\,f}{\\partial {\\rho}}\\right)^{2} - {\\left({\\rho}^{2} f\\left({\\rho}, z\\right)^{2} \\omega\\left({\\rho}, z\\right)^{2} + {\\rho}^{4}\\right)} \\frac{\\partial\\,f}{\\partial z}^{2} + {\\left(f\\left({\\rho}, z\\right)^{6} \\omega\\left({\\rho}, z\\right)^{2} + {\\rho}^{2} f\\left({\\rho}, z\\right)^{4}\\right)} \\left(\\frac{\\partial\\,\\omega}{\\partial {\\rho}}\\right)^{2} + {\\left(f\\left({\\rho}, z\\right)^{6} \\omega\\left({\\rho}, z\\right)^{2} + {\\rho}^{2} f\\left({\\rho}, z\\right)^{4}\\right)} \\frac{\\partial\\,\\omega}{\\partial z}^{2} + {\\left({\\rho} f\\left({\\rho}, z\\right)^{3} \\omega\\left({\\rho}, z\\right)^{2} + {\\rho}^{3} f\\left({\\rho}, z\\right)\\right)} \\frac{\\partial\\,f}{\\partial {\\rho}} + {\\left({\\rho}^{2} f\\left({\\rho}, z\\right)^{3} \\omega\\left({\\rho}, z\\right)^{2} + {\\rho}^{4} f\\left({\\rho}, z\\right)\\right)} \\frac{\\partial^2\\,f}{\\partial {\\rho} ^ 2} + {\\left({\\rho}^{2} f\\left({\\rho}, z\\right)^{3} \\omega\\left({\\rho}, z\\right)^{2} + {\\rho}^{4} f\\left({\\rho}, z\\right)\\right)} \\frac{\\partial^2\\,f}{\\partial z ^ 2} + 2 \\, {\\left(2 \\, {\\rho}^{2} f\\left({\\rho}, z\\right)^{3} \\omega\\left({\\rho}, z\\right) \\frac{\\partial\\,f}{\\partial {\\rho}} - {\\rho} f\\left({\\rho}, z\\right)^{4} \\omega\\left({\\rho}, z\\right)\\right)} \\frac{\\partial\\,\\omega}{\\partial {\\rho}}\\right)} e^{\\left(-2 \\, \\gamma\\left({\\rho}, z\\right)\\right)}}{2 \\, {\\rho}^{2} f\\left({\\rho}, z\\right)^{2}} \\mathrm{d} {\\phi}\\otimes \\mathrm{d} {\\phi} + \\left( \\frac{f\\left({\\rho}, z\\right)^{4} \\frac{\\partial\\,\\omega}{\\partial {\\rho}} \\frac{\\partial\\,\\omega}{\\partial z} - {\\rho}^{2} \\frac{\\partial\\,f}{\\partial {\\rho}} \\frac{\\partial\\,f}{\\partial z} + 2 \\, {\\rho} f\\left({\\rho}, z\\right)^{2} \\frac{\\partial\\,\\gamma}{\\partial z}}{2 \\, {\\rho}^{2} f\\left({\\rho}, z\\right)^{2}} \\right) \\mathrm{d} z\\otimes \\mathrm{d} {\\rho} + \\left( \\frac{f\\left({\\rho}, z\\right)^{4} \\left(\\frac{\\partial\\,\\omega}{\\partial z}\\right)^{2} - 2 \\, {\\rho}^{2} f\\left({\\rho}, z\\right)^{2} \\frac{\\partial^2\\,\\gamma}{\\partial {\\rho} ^ 2} - 2 \\, {\\rho}^{2} f\\left({\\rho}, z\\right)^{2} \\frac{\\partial^2\\,\\gamma}{\\partial z ^ 2} - {\\rho}^{2} \\left(\\frac{\\partial\\,f}{\\partial {\\rho}}\\right)^{2} + {\\rho}^{2} f\\left({\\rho}, z\\right) \\frac{\\partial^2\\,f}{\\partial {\\rho} ^ 2} - 2 \\, {\\rho}^{2} \\left(\\frac{\\partial\\,f}{\\partial z}\\right)^{2} + {\\rho}^{2} f\\left({\\rho}, z\\right) \\frac{\\partial^2\\,f}{\\partial z ^ 2} - 2 \\, {\\rho} f\\left({\\rho}, z\\right)^{2} \\frac{\\partial\\,\\gamma}{\\partial {\\rho}} + {\\rho} f\\left({\\rho}, z\\right) \\frac{\\partial\\,f}{\\partial {\\rho}}}{2 \\, {\\rho}^{2} f\\left({\\rho}, z\\right)^{2}} \\right) \\mathrm{d} z\\otimes \\mathrm{d} z</script></html>"
      ],
      "text/plain": [
       "Ric(g) = 1/2*(f(rh, z)^4*(d(w)/drh)^2 + f(rh, z)^4*(d(w)/dz)^2 - rh^2*(d(f)/drh)^2 + rh^2*f(rh, z)*d^2(f)/drh^2 - rh^2*(d(f)/dz)^2 + rh^2*f(rh, z)*d^2(f)/dz^2 + rh*f(rh, z)*d(f)/drh)*e^(-2*r(rh, z))/rh^2 dt*dt - 1/2*(f(rh, z)^4*w(rh, z)*(d(w)/drh)^2 + f(rh, z)^4*w(rh, z)*(d(w)/dz)^2 - rh^2*w(rh, z)*(d(f)/drh)^2 + rh^2*f(rh, z)*w(rh, z)*d^2(f)/drh^2 - rh^2*w(rh, z)*(d(f)/dz)^2 + rh^2*f(rh, z)*w(rh, z)*d^2(f)/dz^2 + rh^2*f(rh, z)^2*d^2(w)/drh^2 + 2*rh^2*f(rh, z)*d(f)/dz*d(w)/dz + rh^2*f(rh, z)^2*d^2(w)/dz^2 + rh*f(rh, z)*w(rh, z)*d(f)/drh + (2*rh^2*f(rh, z)*d(f)/drh - rh*f(rh, z)^2)*d(w)/drh)*e^(-2*r(rh, z))/rh^2 dt*dph + 1/2*(f(rh, z)^4*(d(w)/drh)^2 - 2*rh^2*f(rh, z)^2*d^2(r)/drh^2 - 2*rh^2*f(rh, z)^2*d^2(r)/dz^2 - 2*rh^2*(d(f)/drh)^2 + rh^2*f(rh, z)*d^2(f)/drh^2 - rh^2*(d(f)/dz)^2 + rh^2*f(rh, z)*d^2(f)/dz^2 + 2*rh*f(rh, z)^2*d(r)/drh + rh*f(rh, z)*d(f)/drh)/(rh^2*f(rh, z)^2) drh*drh + 1/2*(f(rh, z)^4*d(w)/drh*d(w)/dz - rh^2*d(f)/drh*d(f)/dz + 2*rh*f(rh, z)^2*d(r)/dz)/(rh^2*f(rh, z)^2) drh*dz - 1/2*(f(rh, z)^4*w(rh, z)*(d(w)/drh)^2 + f(rh, z)^4*w(rh, z)*(d(w)/dz)^2 - rh^2*w(rh, z)*(d(f)/drh)^2 + rh^2*f(rh, z)*w(rh, z)*d^2(f)/drh^2 - rh^2*w(rh, z)*(d(f)/dz)^2 + rh^2*f(rh, z)*w(rh, z)*d^2(f)/dz^2 + rh^2*f(rh, z)^2*d^2(w)/drh^2 + 2*rh^2*f(rh, z)*d(f)/dz*d(w)/dz + rh^2*f(rh, z)^2*d^2(w)/dz^2 + rh*f(rh, z)*w(rh, z)*d(f)/drh + (2*rh^2*f(rh, z)*d(f)/drh - rh*f(rh, z)^2)*d(w)/drh)*e^(-2*r(rh, z))/rh^2 dph*dt + 1/2*(2*rh^2*f(rh, z)^4*w(rh, z)*d^2(w)/drh^2 + 4*rh^2*f(rh, z)^3*w(rh, z)*d(f)/dz*d(w)/dz + 2*rh^2*f(rh, z)^4*w(rh, z)*d^2(w)/dz^2 - (rh^2*f(rh, z)^2*w(rh, z)^2 + rh^4)*(d(f)/drh)^2 - (rh^2*f(rh, z)^2*w(rh, z)^2 + rh^4)*d(f)/dz^2 + (f(rh, z)^6*w(rh, z)^2 + rh^2*f(rh, z)^4)*(d(w)/drh)^2 + (f(rh, z)^6*w(rh, z)^2 + rh^2*f(rh, z)^4)*d(w)/dz^2 + (rh*f(rh, z)^3*w(rh, z)^2 + rh^3*f(rh, z))*d(f)/drh + (rh^2*f(rh, z)^3*w(rh, z)^2 + rh^4*f(rh, z))*d^2(f)/drh^2 + (rh^2*f(rh, z)^3*w(rh, z)^2 + rh^4*f(rh, z))*d^2(f)/dz^2 + 2*(2*rh^2*f(rh, z)^3*w(rh, z)*d(f)/drh - rh*f(rh, z)^4*w(rh, z))*d(w)/drh)*e^(-2*r(rh, z))/(rh^2*f(rh, z)^2) dph*dph + 1/2*(f(rh, z)^4*d(w)/drh*d(w)/dz - rh^2*d(f)/drh*d(f)/dz + 2*rh*f(rh, z)^2*d(r)/dz)/(rh^2*f(rh, z)^2) dz*drh + 1/2*(f(rh, z)^4*(d(w)/dz)^2 - 2*rh^2*f(rh, z)^2*d^2(r)/drh^2 - 2*rh^2*f(rh, z)^2*d^2(r)/dz^2 - rh^2*(d(f)/drh)^2 + rh^2*f(rh, z)*d^2(f)/drh^2 - 2*rh^2*(d(f)/dz)^2 + rh^2*f(rh, z)*d^2(f)/dz^2 - 2*rh*f(rh, z)^2*d(r)/drh + rh*f(rh, z)*d(f)/drh)/(rh^2*f(rh, z)^2) dz*dz"
      ]
     },
     "execution_count": 171,
     "metadata": {},
     "output_type": "execute_result"
    }
   ],
   "source": [
    "g.ricci().display()"
   ]
  },
  {
   "cell_type": "markdown",
   "metadata": {},
   "source": [
    "## Resolviendo la ecuación de Einstein"
   ]
  },
  {
   "cell_type": "code",
   "execution_count": 172,
   "metadata": {
    "scrolled": true
   },
   "outputs": [
    {
     "name": "stdout",
     "output_type": "stream",
     "text": [
      "Field of symmetric bilinear forms E on the 4-dimensional Lorentzian manifold M\n"
     ]
    },
    {
     "data": {
      "text/html": [
       "<html><script type=\"math/tex; mode=display\">\\newcommand{\\Bold}[1]{\\mathbf{#1}}\\begin{array}{lcl} E_{ \\, t \\, t }^{ \\phantom{\\, t}\\phantom{\\, t} } & = & \\frac{{\\left(f\\left({\\rho}, z\\right)^{4} \\left(\\frac{\\partial\\,\\omega}{\\partial {\\rho}}\\right)^{2} + f\\left({\\rho}, z\\right)^{4} \\left(\\frac{\\partial\\,\\omega}{\\partial z}\\right)^{2} - {\\rho}^{2} \\left(\\frac{\\partial\\,f}{\\partial {\\rho}}\\right)^{2} + {\\rho}^{2} f\\left({\\rho}, z\\right) \\frac{\\partial^2\\,f}{\\partial {\\rho} ^ 2} - {\\rho}^{2} \\left(\\frac{\\partial\\,f}{\\partial z}\\right)^{2} + {\\rho}^{2} f\\left({\\rho}, z\\right) \\frac{\\partial^2\\,f}{\\partial z ^ 2} + {\\rho} f\\left({\\rho}, z\\right) \\frac{\\partial\\,f}{\\partial {\\rho}}\\right)} e^{\\left(-2 \\, \\gamma\\left({\\rho}, z\\right)\\right)}}{2 \\, {\\rho}^{2}} \\\\ E_{ \\, t \\, {\\phi} }^{ \\phantom{\\, t}\\phantom{\\, {\\phi}} } & = & -\\frac{{\\left(f\\left({\\rho}, z\\right)^{4} \\omega\\left({\\rho}, z\\right) \\left(\\frac{\\partial\\,\\omega}{\\partial {\\rho}}\\right)^{2} + f\\left({\\rho}, z\\right)^{4} \\omega\\left({\\rho}, z\\right) \\left(\\frac{\\partial\\,\\omega}{\\partial z}\\right)^{2} - {\\rho}^{2} \\omega\\left({\\rho}, z\\right) \\left(\\frac{\\partial\\,f}{\\partial {\\rho}}\\right)^{2} + {\\rho}^{2} f\\left({\\rho}, z\\right) \\omega\\left({\\rho}, z\\right) \\frac{\\partial^2\\,f}{\\partial {\\rho} ^ 2} - {\\rho}^{2} \\omega\\left({\\rho}, z\\right) \\left(\\frac{\\partial\\,f}{\\partial z}\\right)^{2} + {\\rho}^{2} f\\left({\\rho}, z\\right) \\omega\\left({\\rho}, z\\right) \\frac{\\partial^2\\,f}{\\partial z ^ 2} + {\\rho}^{2} f\\left({\\rho}, z\\right)^{2} \\frac{\\partial^2\\,\\omega}{\\partial {\\rho} ^ 2} + 2 \\, {\\rho}^{2} f\\left({\\rho}, z\\right) \\frac{\\partial\\,f}{\\partial z} \\frac{\\partial\\,\\omega}{\\partial z} + {\\rho}^{2} f\\left({\\rho}, z\\right)^{2} \\frac{\\partial^2\\,\\omega}{\\partial z ^ 2} + {\\rho} f\\left({\\rho}, z\\right) \\omega\\left({\\rho}, z\\right) \\frac{\\partial\\,f}{\\partial {\\rho}} + {\\left(2 \\, {\\rho}^{2} f\\left({\\rho}, z\\right) \\frac{\\partial\\,f}{\\partial {\\rho}} - {\\rho} f\\left({\\rho}, z\\right)^{2}\\right)} \\frac{\\partial\\,\\omega}{\\partial {\\rho}}\\right)} e^{\\left(-2 \\, \\gamma\\left({\\rho}, z\\right)\\right)}}{2 \\, {\\rho}^{2}} \\\\ E_{ \\, {\\rho} \\, {\\rho} }^{ \\phantom{\\, {\\rho}}\\phantom{\\, {\\rho}} } & = & \\frac{f\\left({\\rho}, z\\right)^{4} \\left(\\frac{\\partial\\,\\omega}{\\partial {\\rho}}\\right)^{2} - 2 \\, {\\rho}^{2} f\\left({\\rho}, z\\right)^{2} \\frac{\\partial^2\\,\\gamma}{\\partial {\\rho} ^ 2} - 2 \\, {\\rho}^{2} f\\left({\\rho}, z\\right)^{2} \\frac{\\partial^2\\,\\gamma}{\\partial z ^ 2} - 2 \\, {\\rho}^{2} \\left(\\frac{\\partial\\,f}{\\partial {\\rho}}\\right)^{2} + {\\rho}^{2} f\\left({\\rho}, z\\right) \\frac{\\partial^2\\,f}{\\partial {\\rho} ^ 2} - {\\rho}^{2} \\left(\\frac{\\partial\\,f}{\\partial z}\\right)^{2} + {\\rho}^{2} f\\left({\\rho}, z\\right) \\frac{\\partial^2\\,f}{\\partial z ^ 2} + 2 \\, {\\rho} f\\left({\\rho}, z\\right)^{2} \\frac{\\partial\\,\\gamma}{\\partial {\\rho}} + {\\rho} f\\left({\\rho}, z\\right) \\frac{\\partial\\,f}{\\partial {\\rho}}}{2 \\, {\\rho}^{2} f\\left({\\rho}, z\\right)^{2}} \\\\ E_{ \\, {\\rho} \\, z }^{ \\phantom{\\, {\\rho}}\\phantom{\\, z} } & = & \\frac{f\\left({\\rho}, z\\right)^{4} \\frac{\\partial\\,\\omega}{\\partial {\\rho}} \\frac{\\partial\\,\\omega}{\\partial z} - {\\rho}^{2} \\frac{\\partial\\,f}{\\partial {\\rho}} \\frac{\\partial\\,f}{\\partial z} + 2 \\, {\\rho} f\\left({\\rho}, z\\right)^{2} \\frac{\\partial\\,\\gamma}{\\partial z}}{2 \\, {\\rho}^{2} f\\left({\\rho}, z\\right)^{2}} \\\\ E_{ \\, {\\phi} \\, t }^{ \\phantom{\\, {\\phi}}\\phantom{\\, t} } & = & -\\frac{{\\left(f\\left({\\rho}, z\\right)^{4} \\omega\\left({\\rho}, z\\right) \\left(\\frac{\\partial\\,\\omega}{\\partial {\\rho}}\\right)^{2} + f\\left({\\rho}, z\\right)^{4} \\omega\\left({\\rho}, z\\right) \\left(\\frac{\\partial\\,\\omega}{\\partial z}\\right)^{2} - {\\rho}^{2} \\omega\\left({\\rho}, z\\right) \\left(\\frac{\\partial\\,f}{\\partial {\\rho}}\\right)^{2} + {\\rho}^{2} f\\left({\\rho}, z\\right) \\omega\\left({\\rho}, z\\right) \\frac{\\partial^2\\,f}{\\partial {\\rho} ^ 2} - {\\rho}^{2} \\omega\\left({\\rho}, z\\right) \\left(\\frac{\\partial\\,f}{\\partial z}\\right)^{2} + {\\rho}^{2} f\\left({\\rho}, z\\right) \\omega\\left({\\rho}, z\\right) \\frac{\\partial^2\\,f}{\\partial z ^ 2} + {\\rho}^{2} f\\left({\\rho}, z\\right)^{2} \\frac{\\partial^2\\,\\omega}{\\partial {\\rho} ^ 2} + 2 \\, {\\rho}^{2} f\\left({\\rho}, z\\right) \\frac{\\partial\\,f}{\\partial z} \\frac{\\partial\\,\\omega}{\\partial z} + {\\rho}^{2} f\\left({\\rho}, z\\right)^{2} \\frac{\\partial^2\\,\\omega}{\\partial z ^ 2} + {\\rho} f\\left({\\rho}, z\\right) \\omega\\left({\\rho}, z\\right) \\frac{\\partial\\,f}{\\partial {\\rho}} + {\\left(2 \\, {\\rho}^{2} f\\left({\\rho}, z\\right) \\frac{\\partial\\,f}{\\partial {\\rho}} - {\\rho} f\\left({\\rho}, z\\right)^{2}\\right)} \\frac{\\partial\\,\\omega}{\\partial {\\rho}}\\right)} e^{\\left(-2 \\, \\gamma\\left({\\rho}, z\\right)\\right)}}{2 \\, {\\rho}^{2}} \\\\ E_{ \\, {\\phi} \\, {\\phi} }^{ \\phantom{\\, {\\phi}}\\phantom{\\, {\\phi}} } & = & \\frac{{\\left(2 \\, {\\rho}^{2} f\\left({\\rho}, z\\right)^{4} \\omega\\left({\\rho}, z\\right) \\frac{\\partial^2\\,\\omega}{\\partial {\\rho} ^ 2} + 4 \\, {\\rho}^{2} f\\left({\\rho}, z\\right)^{3} \\omega\\left({\\rho}, z\\right) \\frac{\\partial\\,f}{\\partial z} \\frac{\\partial\\,\\omega}{\\partial z} + 2 \\, {\\rho}^{2} f\\left({\\rho}, z\\right)^{4} \\omega\\left({\\rho}, z\\right) \\frac{\\partial^2\\,\\omega}{\\partial z ^ 2} - {\\left({\\rho}^{2} f\\left({\\rho}, z\\right)^{2} \\omega\\left({\\rho}, z\\right)^{2} + {\\rho}^{4}\\right)} \\left(\\frac{\\partial\\,f}{\\partial {\\rho}}\\right)^{2} - {\\left({\\rho}^{2} f\\left({\\rho}, z\\right)^{2} \\omega\\left({\\rho}, z\\right)^{2} + {\\rho}^{4}\\right)} \\frac{\\partial\\,f}{\\partial z}^{2} + {\\left(f\\left({\\rho}, z\\right)^{6} \\omega\\left({\\rho}, z\\right)^{2} + {\\rho}^{2} f\\left({\\rho}, z\\right)^{4}\\right)} \\left(\\frac{\\partial\\,\\omega}{\\partial {\\rho}}\\right)^{2} + {\\left(f\\left({\\rho}, z\\right)^{6} \\omega\\left({\\rho}, z\\right)^{2} + {\\rho}^{2} f\\left({\\rho}, z\\right)^{4}\\right)} \\frac{\\partial\\,\\omega}{\\partial z}^{2} + {\\left({\\rho} f\\left({\\rho}, z\\right)^{3} \\omega\\left({\\rho}, z\\right)^{2} + {\\rho}^{3} f\\left({\\rho}, z\\right)\\right)} \\frac{\\partial\\,f}{\\partial {\\rho}} + {\\left({\\rho}^{2} f\\left({\\rho}, z\\right)^{3} \\omega\\left({\\rho}, z\\right)^{2} + {\\rho}^{4} f\\left({\\rho}, z\\right)\\right)} \\frac{\\partial^2\\,f}{\\partial {\\rho} ^ 2} + {\\left({\\rho}^{2} f\\left({\\rho}, z\\right)^{3} \\omega\\left({\\rho}, z\\right)^{2} + {\\rho}^{4} f\\left({\\rho}, z\\right)\\right)} \\frac{\\partial^2\\,f}{\\partial z ^ 2} + 2 \\, {\\left(2 \\, {\\rho}^{2} f\\left({\\rho}, z\\right)^{3} \\omega\\left({\\rho}, z\\right) \\frac{\\partial\\,f}{\\partial {\\rho}} - {\\rho} f\\left({\\rho}, z\\right)^{4} \\omega\\left({\\rho}, z\\right)\\right)} \\frac{\\partial\\,\\omega}{\\partial {\\rho}}\\right)} e^{\\left(-2 \\, \\gamma\\left({\\rho}, z\\right)\\right)}}{2 \\, {\\rho}^{2} f\\left({\\rho}, z\\right)^{2}} \\\\ E_{ \\, z \\, {\\rho} }^{ \\phantom{\\, z}\\phantom{\\, {\\rho}} } & = & \\frac{f\\left({\\rho}, z\\right)^{4} \\frac{\\partial\\,\\omega}{\\partial {\\rho}} \\frac{\\partial\\,\\omega}{\\partial z} - {\\rho}^{2} \\frac{\\partial\\,f}{\\partial {\\rho}} \\frac{\\partial\\,f}{\\partial z} + 2 \\, {\\rho} f\\left({\\rho}, z\\right)^{2} \\frac{\\partial\\,\\gamma}{\\partial z}}{2 \\, {\\rho}^{2} f\\left({\\rho}, z\\right)^{2}} \\\\ E_{ \\, z \\, z }^{ \\phantom{\\, z}\\phantom{\\, z} } & = & \\frac{f\\left({\\rho}, z\\right)^{4} \\left(\\frac{\\partial\\,\\omega}{\\partial z}\\right)^{2} - 2 \\, {\\rho}^{2} f\\left({\\rho}, z\\right)^{2} \\frac{\\partial^2\\,\\gamma}{\\partial {\\rho} ^ 2} - 2 \\, {\\rho}^{2} f\\left({\\rho}, z\\right)^{2} \\frac{\\partial^2\\,\\gamma}{\\partial z ^ 2} - {\\rho}^{2} \\left(\\frac{\\partial\\,f}{\\partial {\\rho}}\\right)^{2} + {\\rho}^{2} f\\left({\\rho}, z\\right) \\frac{\\partial^2\\,f}{\\partial {\\rho} ^ 2} - 2 \\, {\\rho}^{2} \\left(\\frac{\\partial\\,f}{\\partial z}\\right)^{2} + {\\rho}^{2} f\\left({\\rho}, z\\right) \\frac{\\partial^2\\,f}{\\partial z ^ 2} - 2 \\, {\\rho} f\\left({\\rho}, z\\right)^{2} \\frac{\\partial\\,\\gamma}{\\partial {\\rho}} + {\\rho} f\\left({\\rho}, z\\right) \\frac{\\partial\\,f}{\\partial {\\rho}}}{2 \\, {\\rho}^{2} f\\left({\\rho}, z\\right)^{2}} \\end{array}</script></html>"
      ],
      "text/plain": [
       "E_t,t = 1/2*(f(rh, z)^4*(d(w)/drh)^2 + f(rh, z)^4*(d(w)/dz)^2 - rh^2*(d(f)/drh)^2 + rh^2*f(rh, z)*d^2(f)/drh^2 - rh^2*(d(f)/dz)^2 + rh^2*f(rh, z)*d^2(f)/dz^2 + rh*f(rh, z)*d(f)/drh)*e^(-2*r(rh, z))/rh^2 \n",
       "E_t,ph = -1/2*(f(rh, z)^4*w(rh, z)*(d(w)/drh)^2 + f(rh, z)^4*w(rh, z)*(d(w)/dz)^2 - rh^2*w(rh, z)*(d(f)/drh)^2 + rh^2*f(rh, z)*w(rh, z)*d^2(f)/drh^2 - rh^2*w(rh, z)*(d(f)/dz)^2 + rh^2*f(rh, z)*w(rh, z)*d^2(f)/dz^2 + rh^2*f(rh, z)^2*d^2(w)/drh^2 + 2*rh^2*f(rh, z)*d(f)/dz*d(w)/dz + rh^2*f(rh, z)^2*d^2(w)/dz^2 + rh*f(rh, z)*w(rh, z)*d(f)/drh + (2*rh^2*f(rh, z)*d(f)/drh - rh*f(rh, z)^2)*d(w)/drh)*e^(-2*r(rh, z))/rh^2 \n",
       "E_rh,rh = 1/2*(f(rh, z)^4*(d(w)/drh)^2 - 2*rh^2*f(rh, z)^2*d^2(r)/drh^2 - 2*rh^2*f(rh, z)^2*d^2(r)/dz^2 - 2*rh^2*(d(f)/drh)^2 + rh^2*f(rh, z)*d^2(f)/drh^2 - rh^2*(d(f)/dz)^2 + rh^2*f(rh, z)*d^2(f)/dz^2 + 2*rh*f(rh, z)^2*d(r)/drh + rh*f(rh, z)*d(f)/drh)/(rh^2*f(rh, z)^2) \n",
       "E_rh,z = 1/2*(f(rh, z)^4*d(w)/drh*d(w)/dz - rh^2*d(f)/drh*d(f)/dz + 2*rh*f(rh, z)^2*d(r)/dz)/(rh^2*f(rh, z)^2) \n",
       "E_ph,t = -1/2*(f(rh, z)^4*w(rh, z)*(d(w)/drh)^2 + f(rh, z)^4*w(rh, z)*(d(w)/dz)^2 - rh^2*w(rh, z)*(d(f)/drh)^2 + rh^2*f(rh, z)*w(rh, z)*d^2(f)/drh^2 - rh^2*w(rh, z)*(d(f)/dz)^2 + rh^2*f(rh, z)*w(rh, z)*d^2(f)/dz^2 + rh^2*f(rh, z)^2*d^2(w)/drh^2 + 2*rh^2*f(rh, z)*d(f)/dz*d(w)/dz + rh^2*f(rh, z)^2*d^2(w)/dz^2 + rh*f(rh, z)*w(rh, z)*d(f)/drh + (2*rh^2*f(rh, z)*d(f)/drh - rh*f(rh, z)^2)*d(w)/drh)*e^(-2*r(rh, z))/rh^2 \n",
       "E_ph,ph = 1/2*(2*rh^2*f(rh, z)^4*w(rh, z)*d^2(w)/drh^2 + 4*rh^2*f(rh, z)^3*w(rh, z)*d(f)/dz*d(w)/dz + 2*rh^2*f(rh, z)^4*w(rh, z)*d^2(w)/dz^2 - (rh^2*f(rh, z)^2*w(rh, z)^2 + rh^4)*(d(f)/drh)^2 - (rh^2*f(rh, z)^2*w(rh, z)^2 + rh^4)*d(f)/dz^2 + (f(rh, z)^6*w(rh, z)^2 + rh^2*f(rh, z)^4)*(d(w)/drh)^2 + (f(rh, z)^6*w(rh, z)^2 + rh^2*f(rh, z)^4)*d(w)/dz^2 + (rh*f(rh, z)^3*w(rh, z)^2 + rh^3*f(rh, z))*d(f)/drh + (rh^2*f(rh, z)^3*w(rh, z)^2 + rh^4*f(rh, z))*d^2(f)/drh^2 + (rh^2*f(rh, z)^3*w(rh, z)^2 + rh^4*f(rh, z))*d^2(f)/dz^2 + 2*(2*rh^2*f(rh, z)^3*w(rh, z)*d(f)/drh - rh*f(rh, z)^4*w(rh, z))*d(w)/drh)*e^(-2*r(rh, z))/(rh^2*f(rh, z)^2) \n",
       "E_z,rh = 1/2*(f(rh, z)^4*d(w)/drh*d(w)/dz - rh^2*d(f)/drh*d(f)/dz + 2*rh*f(rh, z)^2*d(r)/dz)/(rh^2*f(rh, z)^2) \n",
       "E_z,z = 1/2*(f(rh, z)^4*(d(w)/dz)^2 - 2*rh^2*f(rh, z)^2*d^2(r)/drh^2 - 2*rh^2*f(rh, z)^2*d^2(r)/dz^2 - rh^2*(d(f)/drh)^2 + rh^2*f(rh, z)*d^2(f)/drh^2 - 2*rh^2*(d(f)/dz)^2 + rh^2*f(rh, z)*d^2(f)/dz^2 - 2*rh*f(rh, z)^2*d(r)/drh + rh*f(rh, z)*d(f)/drh)/(rh^2*f(rh, z)^2) "
      ]
     },
     "execution_count": 172,
     "metadata": {},
     "output_type": "execute_result"
    }
   ],
   "source": [
    "EE= g.ricci()\n",
    "EE.set_name('E')\n",
    "print(EE)\n",
    "EE.display_comp()\n"
   ]
  },
  {
   "cell_type": "markdown",
   "metadata": {},
   "source": [
    "#### Result 1"
   ]
  },
  {
   "cell_type": "markdown",
   "metadata": {},
   "source": [
    "Simplificamos las ecuaciones y les asignamos nuevas variables eq añadidas con su respectivo número como eq0 y así sucesivamente.\n",
    "\n"
   ]
  },
  {
   "cell_type": "code",
   "execution_count": 173,
   "metadata": {},
   "outputs": [
    {
     "data": {
      "text/html": [
       "<html><script type=\"math/tex; mode=display\">\\newcommand{\\Bold}[1]{\\mathbf{#1}}{\\left(\\frac{\\frac{\\partial}{\\partial {\\rho}}f\\left({\\rho}, z\\right)}{{\\rho}} + \\frac{\\partial^{2}}{(\\partial {\\rho})^{2}}f\\left({\\rho}, z\\right) + \\frac{\\partial^{2}}{(\\partial z)^{2}}f\\left({\\rho}, z\\right)\\right)} f\\left({\\rho}, z\\right) = -{\\left(\\frac{\\frac{\\partial}{\\partial {\\rho}}\\omega\\left({\\rho}, z\\right)^{2}}{{\\rho}^{2}} + \\frac{\\frac{\\partial}{\\partial z}\\omega\\left({\\rho}, z\\right)^{2}}{{\\rho}^{2}}\\right)} f\\left({\\rho}, z\\right)^{4} + \\frac{\\partial}{\\partial {\\rho}}f\\left({\\rho}, z\\right)^{2} + \\frac{\\partial}{\\partial z}f\\left({\\rho}, z\\right)^{2}</script></html>"
      ],
      "text/plain": [
       "(diff(f(rh, z), rh)/rh + diff(f(rh, z), rh, rh) + diff(f(rh, z), z, z))*f(rh, z) == -(diff(w(rh, z), rh)^2/rh^2 + diff(w(rh, z), z)^2/rh^2)*f(rh, z)^4 + diff(f(rh, z), rh)^2 + diff(f(rh, z), z)^2"
      ]
     },
     "execution_count": 173,
     "metadata": {},
     "output_type": "execute_result"
    }
   ],
   "source": [
    "\n",
    "eq1=EE[0,0].expr()\n",
    "eq1= eq1.numerator()\n",
    "eq1= factor(eq1)\n",
    "eq1= eq1.operands()[0].factor()\n",
    "eq1= eq1==0\n",
    "if orden=='w=0':\n",
    "    eq1=eq1.multiply_both_sides(-1/rh)\n",
    "    eq1=eq1.expand()\n",
    "    eq1_left=eq1.left()\n",
    "    eq1=eq1-eq1_left.operands()[0]-eq1_left.operands()[2]\n",
    "    eq1_left= (eq1.left()).collect(f(rh,z))\n",
    "    eq1_left=eq1_left.collect(f(rh,z))\n",
    "    eq1= eq1_left==eq1.right()\n",
    "if orden=='w=/0':\n",
    "    aux_eq_1=-(eq1.left().operands()[0]+eq1.left().operands()[1]+eq1.left().operands()[2]+eq1.left().operands()[4])==-(eq1.left().operands()[0]+eq1.left().operands()[1]+eq1.left().operands()[2]+eq1.left().operands()[4])\n",
    "    eq1= eq1+aux_eq_1\n",
    "    eq1=eq1.multiply_both_sides(1/(rh^2))\n",
    "    eq1_left=eq1.left()\n",
    "    eq1_left=eq1_left.expand()\n",
    "    eq1_left=eq1_left.collect(f(rh,z))\n",
    "    laplacian_f_1= eq1_left.operands()[0].factor()\n",
    "    eq1_right=eq1.right()\n",
    "    eq1_right=eq1_right.expand()\n",
    "    eq1_right=eq1_right.collect(f(rh,z)^4)\n",
    "    eq1_right\n",
    "    eq1= eq1_left==eq1_right\n",
    "\n",
    "eq1"
   ]
  },
  {
   "cell_type": "markdown",
   "metadata": {},
   "source": [
    "\n",
    "\n",
    "Definimos los operadores diferenciales:\n",
    "$$\\Delta f = \\frac{\\partial^2\\,f}{\\partial {\\rho} ^ 2}+  \\frac{\\partial^2\\,f}{\\partial z ^ 2} + \\frac{1}{\\rho} \\frac{\\partial\\,f}{\\partial {\\rho}}$$\n",
    "\n",
    "$$ \\vec{\\nabla}f= \\frac{\\partial f}{\\partial \\rho}\\hat{e_{\\rho}} +\\frac{\\partial f}{\\partial z}\\hat{e_{z}} $$\n",
    "\n",
    "Usando los operadores obtenemos: \n",
    "$$ f\\Delta f =  \\left(\\vec{\\nabla}f\\right)^{2} -f^{4}\\rho^{-2}\\left(\\vec{\\nabla} \\omega\\right)^{2} $$\n",
    "\n"
   ]
  },
  {
   "cell_type": "markdown",
   "metadata": {},
   "source": [
    "#### Result 2"
   ]
  },
  {
   "cell_type": "markdown",
   "metadata": {},
   "source": [
    "Simplificamos la ecuación 2 y le asignamos su variable eq2."
   ]
  },
  {
   "cell_type": "code",
   "execution_count": 174,
   "metadata": {},
   "outputs": [
    {
     "data": {
      "text/html": [
       "<html><script type=\"math/tex; mode=display\">\\newcommand{\\Bold}[1]{\\mathbf{#1}}\\frac{\\partial}{\\partial {\\rho}}\\gamma\\left({\\rho}, z\\right) = -\\frac{f\\left({\\rho}, z\\right)^{2} \\frac{\\partial}{\\partial {\\rho}}\\omega\\left({\\rho}, z\\right)^{2}}{4 \\, {\\rho}} + \\frac{f\\left({\\rho}, z\\right)^{2} \\frac{\\partial}{\\partial z}\\omega\\left({\\rho}, z\\right)^{2}}{4 \\, {\\rho}} + \\frac{{\\rho} \\frac{\\partial}{\\partial {\\rho}}f\\left({\\rho}, z\\right)^{2}}{4 \\, f\\left({\\rho}, z\\right)^{2}} - \\frac{{\\rho} \\frac{\\partial}{\\partial z}f\\left({\\rho}, z\\right)^{2}}{4 \\, f\\left({\\rho}, z\\right)^{2}}</script></html>"
      ],
      "text/plain": [
       "diff(r(rh, z), rh) == -1/4*f(rh, z)^2*diff(w(rh, z), rh)^2/rh + 1/4*f(rh, z)^2*diff(w(rh, z), z)^2/rh + 1/4*rh*diff(f(rh, z), rh)^2/f(rh, z)^2 - 1/4*rh*diff(f(rh, z), z)^2/f(rh, z)^2"
      ]
     },
     "execution_count": 174,
     "metadata": {},
     "output_type": "execute_result"
    }
   ],
   "source": [
    "\n",
    "eq2=EE[1,1].expr();eq2\n",
    "eq2= eq2.numerator();eq2\n",
    "\n",
    "eq3=EE[3,3].expr();eq3\n",
    "eq3= eq3.numerator();eq3\n",
    "\n",
    "eq2_eq3= (eq2 - eq3)==0; eq2_eq3\n",
    "eq2_eq3_left=eq2_eq3.left()\n",
    "eq2_eq3_left_part_0= -eq2_eq3_left.operands()[0]==-eq2_eq3_left.operands()[0]\n",
    "eq2_eq3_left_part_1=-eq2_eq3_left.operands()[1]==-eq2_eq3_left.operands()[1]\n",
    "eq2_eq3= eq2_eq3 +eq2_eq3_left_part_0+eq2_eq3_left_part_1\n",
    "eq2_eq3= eq2_eq3.multiply_both_sides(1/(4*f(rh,z)**2))\n",
    "eq2_eq3=eq2_eq3.expand()\n",
    "if orden=='w=0':\n",
    "    eq2_eq3\n",
    "elif orden=='w=/0':\n",
    "    eq2_eq3=eq2_eq3.multiply_both_sides(1/(rh));eq2_eq3\n",
    "    eq2_eq3=eq2_eq3.expand()\n",
    "    eq2_eq3_left_parts=-eq2_eq3.left().operands()[0]-eq2_eq3.left().operands()[1]==-eq2_eq3.left().operands()[0]-eq2_eq3.left().operands()[1];par_gamma\n",
    "    eq2_eq3=eq2_eq3 +eq2_eq3_left_parts;eq2_eq3\n",
    "\n",
    "    \n",
    "    \n",
    "eq2_eq3"
   ]
  },
  {
   "cell_type": "markdown",
   "metadata": {},
   "source": [
    "\n"
   ]
  },
  {
   "cell_type": "markdown",
   "metadata": {},
   "source": [
    "#### Result 3"
   ]
  },
  {
   "cell_type": "code",
   "execution_count": 175,
   "metadata": {},
   "outputs": [
    {
     "data": {
      "text/html": [
       "<html><script type=\"math/tex; mode=display\">\\newcommand{\\Bold}[1]{\\mathbf{#1}}\\frac{\\partial^{2}}{(\\partial {\\rho})^{2}}\\gamma\\left({\\rho}, z\\right) + \\frac{\\partial^{2}}{(\\partial z)^{2}}\\gamma\\left({\\rho}, z\\right) = -\\frac{f\\left({\\rho}, z\\right)^{2} \\frac{\\partial}{\\partial {\\rho}}\\omega\\left({\\rho}, z\\right)^{2}}{4 \\, {\\rho}^{2}} - \\frac{f\\left({\\rho}, z\\right)^{2} \\frac{\\partial}{\\partial z}\\omega\\left({\\rho}, z\\right)^{2}}{4 \\, {\\rho}^{2}} - \\frac{\\frac{\\partial}{\\partial {\\rho}}f\\left({\\rho}, z\\right)^{2}}{4 \\, f\\left({\\rho}, z\\right)^{2}} - \\frac{\\frac{\\partial}{\\partial z}f\\left({\\rho}, z\\right)^{2}}{4 \\, f\\left({\\rho}, z\\right)^{2}}</script></html>"
      ],
      "text/plain": [
       "diff(r(rh, z), rh, rh) + diff(r(rh, z), z, z) == -1/4*f(rh, z)^2*diff(w(rh, z), rh)^2/rh^2 - 1/4*f(rh, z)^2*diff(w(rh, z), z)^2/rh^2 - 1/4*diff(f(rh, z), rh)^2/f(rh, z)^2 - 1/4*diff(f(rh, z), z)^2/f(rh, z)^2"
      ]
     },
     "execution_count": 175,
     "metadata": {},
     "output_type": "execute_result"
    }
   ],
   "source": [
    "\n",
    "eq2_eq3_second= eq2+eq3==0;eq2_eq3_second\n",
    "eq1_new=EE[0,0].expr()\n",
    "eq1_new= eq1_new.numerator()\n",
    "eq1_new= factor(eq1_new)\n",
    "eq1_new= eq1_new.operands()[0].factor()\n",
    "eq1_new=eq1_new==0\n",
    "\n",
    "if orden=='w=/0':    \n",
    "    eq2_eq3_second_eq1=eq2_eq3_second-(rh**2)*2*eq1\n",
    "elif orden=='w=0':\n",
    "    eq2_eq3_second_eq1= eq2_eq3_second+2*eq1_new\n",
    "eq2_eq3_second_eq1=eq2_eq3_second_eq1.expand()\n",
    "\n",
    "eq2_eq3_second_eq1_left= eq2_eq3_second_eq1.left()\n",
    "\n",
    "if orden=='w=0':\n",
    "    eq2_eq3_second_eq1_left_term_2= -eq2_eq3_second_eq1_left.operands()[2]==-eq2_eq3_second_eq1_left.operands()[2]\n",
    "    eq2_eq3_second_eq1_left_term_3=-eq2_eq3_second_eq1_left.operands()[3]==-eq2_eq3_second_eq1_left.operands()[3]\n",
    "    eq2_eq3_second_eq1=eq2_eq3_second_eq1+eq2_eq3_second_eq1_left_term_2+eq2_eq3_second_eq1_left_term_3\n",
    "    eq2_eq3_second_eq1=eq2_eq3_second_eq1.multiply_both_sides(-1/(4*(rh)*f(rh,z)**2))\n",
    "    eq2_eq3_second_eq1=eq2_eq3_second_eq1.expand()\n",
    "elif orden=='w=/0':\n",
    "    eq2_eq3_second_eq1_left_term_0=-eq2_eq3_second_eq1_left.operands()[0]==-eq2_eq3_second_eq1_left.operands()[0]\n",
    "    eq2_eq3_second_eq1_left_term_1=-eq2_eq3_second_eq1_left.operands()[1]==-eq2_eq3_second_eq1_left.operands()[1]\n",
    "    eq2_eq3_second_eq1_left_term_4=-eq2_eq3_second_eq1_left.operands()[4]==-eq2_eq3_second_eq1_left.operands()[4]\n",
    "    eq2_eq3_second_eq1_left_term_5=-eq2_eq3_second_eq1_left.operands()[5]==-eq2_eq3_second_eq1_left.operands()[5]\n",
    "    eq2_eq3_second_eq1=eq2_eq3_second_eq1+eq2_eq3_second_eq1_left_term_0+eq2_eq3_second_eq1_left_term_1+eq2_eq3_second_eq1_left_term_4+eq2_eq3_second_eq1_left_term_5\n",
    "    eq2_eq3_second_eq1=eq2_eq3_second_eq1.multiply_both_sides(-1/(4*(rh**2)*f(rh,z)**2))\n",
    "    eq2_eq3_second_eq1=eq2_eq3_second_eq1.expand()\n",
    "eq2_eq3_second_eq1\n",
    "\n",
    "   \n",
    "\n",
    "\n",
    "    \n"
   ]
  },
  {
   "cell_type": "markdown",
   "metadata": {},
   "source": [
    "#### Result 4\n"
   ]
  },
  {
   "cell_type": "code",
   "execution_count": 176,
   "metadata": {},
   "outputs": [
    {
     "data": {
      "text/html": [
       "<html><script type=\"math/tex; mode=display\">\\newcommand{\\Bold}[1]{\\mathbf{#1}}\\frac{\\partial}{\\partial z}\\gamma\\left({\\rho}, z\\right) = -\\frac{f\\left({\\rho}, z\\right)^{4} \\frac{\\partial}{\\partial {\\rho}}\\omega\\left({\\rho}, z\\right) \\frac{\\partial}{\\partial z}\\omega\\left({\\rho}, z\\right) - {\\rho}^{2} \\frac{\\partial}{\\partial {\\rho}}f\\left({\\rho}, z\\right) \\frac{\\partial}{\\partial z}f\\left({\\rho}, z\\right)}{2 \\, {\\rho} f\\left({\\rho}, z\\right)^{2}}</script></html>"
      ],
      "text/plain": [
       "diff(r(rh, z), z) == -1/2*(f(rh, z)^4*diff(w(rh, z), rh)*diff(w(rh, z), z) - rh^2*diff(f(rh, z), rh)*diff(f(rh, z), z))/(rh*f(rh, z)^2)"
      ]
     },
     "execution_count": 176,
     "metadata": {},
     "output_type": "execute_result"
    }
   ],
   "source": [
    "eq4= EE[1,3].expr();eq4\n",
    "eq4= eq4.numerator();eq4\n",
    "if orden=='w=/0':\n",
    "    eq4_terms_0_1= eq4.operands()[0]+eq4.operands()[1];eq4_terms\n",
    "    eq4_terms= -eq4_terms_0_1==-eq4_terms_0_1\n",
    "    eq4=eq4==0\n",
    "    eq4= eq4 +eq4_terms;eq4\n",
    "    eq4= eq4.multiply_both_sides(1/(2*rh*f(rh,z)**2));eq4\n",
    "elif orden =='w=0':\n",
    "    eq4=eq4==0\n",
    "    eq4_part_0= -eq4.left().operands()[0]==-eq4.left().operands()[0]\n",
    "    eq4= eq4+eq4_part_0\n",
    "    eq4= eq4.multiply_both_sides(1/(2*f(rh,z)**2));eq4\n",
    "    \n",
    "\n",
    "\n",
    "eq4\n"
   ]
  },
  {
   "cell_type": "markdown",
   "metadata": {},
   "source": [
    "#### Result 5"
   ]
  },
  {
   "cell_type": "code",
   "execution_count": 179,
   "metadata": {},
   "outputs": [
    {
     "data": {
      "text/html": [
       "<html><script type=\"math/tex; mode=display\">\\newcommand{\\Bold}[1]{\\mathbf{#1}}2 \\, {\\rho}^{2} f\\left({\\rho}, z\\right) \\frac{\\partial}{\\partial {\\rho}}f\\left({\\rho}, z\\right) \\frac{\\partial}{\\partial {\\rho}}\\omega\\left({\\rho}, z\\right) + {\\rho}^{2} f\\left({\\rho}, z\\right)^{2} \\frac{\\partial^{2}}{(\\partial {\\rho})^{2}}\\omega\\left({\\rho}, z\\right) + 2 \\, {\\rho}^{2} f\\left({\\rho}, z\\right) \\frac{\\partial}{\\partial z}f\\left({\\rho}, z\\right) \\frac{\\partial}{\\partial z}\\omega\\left({\\rho}, z\\right) + {\\rho}^{2} f\\left({\\rho}, z\\right)^{2} \\frac{\\partial^{2}}{(\\partial z)^{2}}\\omega\\left({\\rho}, z\\right) - 2 \\, {\\rho} f\\left({\\rho}, z\\right)^{2} \\frac{\\partial}{\\partial {\\rho}}\\omega\\left({\\rho}, z\\right) = -{\\rho} f\\left({\\rho}, z\\right)^{2} \\frac{\\partial}{\\partial {\\rho}}\\omega\\left({\\rho}, z\\right)</script></html>"
      ],
      "text/plain": [
       "2*rh^2*f(rh, z)*diff(f(rh, z), rh)*diff(w(rh, z), rh) + rh^2*f(rh, z)^2*diff(w(rh, z), rh, rh) + 2*rh^2*f(rh, z)*diff(f(rh, z), z)*diff(w(rh, z), z) + rh^2*f(rh, z)^2*diff(w(rh, z), z, z) - 2*rh*f(rh, z)^2*diff(w(rh, z), rh) == -rh*f(rh, z)^2*diff(w(rh, z), rh)"
      ]
     },
     "execution_count": 179,
     "metadata": {},
     "output_type": "execute_result"
    }
   ],
   "source": [
    "if orden=='w=/0':\n",
    "    eq5= EE[2,0].expr();eq5\n",
    "    eq5= eq5.numerator();eq5\n",
    "    eq5=eq5==0;eq5\n",
    "    eq5=eq5.multiply_both_sides(exp(2*r(rh,z)));eq5\n",
    "    eq6= EE[2,2].expr();eq6\n",
    "    eq6= eq6.numerator();eq6\n",
    "    eq6= eq6==0;eq6\n",
    "    eq6= eq6.multiply_both_sides(1/((f(rh,z)**2)*w(rh,z)));eq6\n",
    "    eq6=eq6.expand();eq6\n",
    "    eq6=eq6.multiply_both_sides(exp(2*r(rh,z)));eq6\n",
    "    eq6=eq6.expand();eq6\n",
    "\n",
    "    eq5_6= eq5+eq6;eq5_6\n",
    "    eq1_new= eq1*rh**4/((f(rh,z)**2)*w(rh,z))\n",
    "    eq1_new_right= eq1_new.right()\n",
    "    eq1_new_right_eq= eq1_new_right==eq1_new_right\n",
    "    eq1_new= eq1_new_right-eq1_new;eq1_new\n",
    "\n",
    "    eq_5_6_eq1_new= eq5_6+eq1_new\n",
    "    eq_5_6_eq1_new=eq_5_6_eq1_new.expand();eq_5_6_eq1_new\n",
    "    eq_5_6_eq1_new_left= eq_5_6_eq1_new.left();eq_5_6_eq1_new_left\n",
    "    eq_5_6_eq1_new_left_part= eq_5_6_eq1_new_left.operands()[4]==eq_5_6_eq1_new_left.operands()[4]\n",
    "    eq_5_6_eq1_new= eq_5_6_eq1_new+eq_5_6_eq1_new_left_part;eq_5_6_eq1_new\n",
    "eq_5_6_eq1_new\n",
    "\n"
   ]
  },
  {
   "cell_type": "markdown",
   "metadata": {},
   "source": [
    "Usando los operadores podemos reducir la expresión a: \n",
    "\n",
    "$$\\vec{\\nabla}.\\left(f^{2} \\rho^{-2}\\vec{\\nabla} \\omega\\right)=-\\rho f^{2} \\frac{\\partial \\omega}{\\partial \\rho} $$"
   ]
  }
 ],
 "metadata": {
  "kernelspec": {
   "display_name": "SageMath 9.1",
   "language": "sage",
   "name": "sagemath"
  },
  "language_info": {
   "codemirror_mode": {
    "name": "ipython",
    "version": 3
   },
   "file_extension": ".py",
   "mimetype": "text/x-python",
   "name": "python",
   "nbconvert_exporter": "python",
   "pygments_lexer": "ipython3",
   "version": "3.7.3"
  }
 },
 "nbformat": 4,
 "nbformat_minor": 2
}
