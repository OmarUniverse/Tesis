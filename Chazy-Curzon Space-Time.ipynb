{
 "cells": [
  {
   "cell_type": "markdown",
   "metadata": {},
   "source": [
    "# Chazy-Curzon Space-Time"
   ]
  },
  {
   "cell_type": "code",
   "execution_count": 1,
   "metadata": {},
   "outputs": [
    {
     "data": {
      "text/plain": [
       "'SageMath version 9.1, Release Date: 2020-05-20'"
      ]
     },
     "execution_count": 1,
     "metadata": {},
     "output_type": "execute_result"
    }
   ],
   "source": [
    "version()"
   ]
  },
  {
   "cell_type": "code",
   "execution_count": 2,
   "metadata": {},
   "outputs": [],
   "source": [
    "%display latex "
   ]
  },
  {
   "cell_type": "code",
   "execution_count": 3,
   "metadata": {},
   "outputs": [],
   "source": [
    "M=Manifold(4, 'M')\n",
    "M\n",
    "m= var('m')"
   ]
  },
  {
   "cell_type": "markdown",
   "metadata": {},
   "source": [
    "# Coordinates"
   ]
  },
  {
   "cell_type": "markdown",
   "metadata": {},
   "source": [
    "### Weyl Coordinates"
   ]
  },
  {
   "cell_type": "code",
   "execution_count": 4,
   "metadata": {},
   "outputs": [],
   "source": [
    "CC.<t, rh, ph, z> = M.chart(r\"t rho:(0,+oo):\\rho ph:(0,2*pi):\\phi z:(-oo,+oo)\")"
   ]
  },
  {
   "cell_type": "code",
   "execution_count": 5,
   "metadata": {},
   "outputs": [],
   "source": [
    "#CE.<t, r, th, ph> = M.chart(r\"t r:(0,+oo) th:(0,pi):\\theta ph:(0,2*pi):\\phi\")"
   ]
  },
  {
   "cell_type": "code",
   "execution_count": 6,
   "metadata": {},
   "outputs": [],
   "source": [
    "#CE_to_CC = CE.transition_map(CC, [t, sqrt(r**2-2*m*r)*(sin(th)),ph , (r-m)*cos(th)])\n",
    "#CE_to_CC.display()"
   ]
  },
  {
   "cell_type": "markdown",
   "metadata": {},
   "source": [
    "# Metric"
   ]
  },
  {
   "cell_type": "code",
   "execution_count": 7,
   "metadata": {},
   "outputs": [
    {
     "data": {
      "text/html": [
       "<html><script type=\"math/tex; mode=display\">\\newcommand{\\Bold}[1]{\\mathbf{#1}}g = -e^{\\left(-\\frac{2 \\, m}{\\sqrt{{\\rho}^{2} + z^{2}}}\\right)} \\mathrm{d} t\\otimes \\mathrm{d} t + e^{\\left(-\\frac{m^{2} {\\rho}^{2}}{{\\left({\\rho}^{2} + z^{2}\\right)}^{2}} + \\frac{2 \\, m}{\\sqrt{{\\rho}^{2} + z^{2}}}\\right)} \\mathrm{d} {\\rho}\\otimes \\mathrm{d} {\\rho} + {\\rho}^{2} e^{\\left(\\frac{2 \\, m}{\\sqrt{{\\rho}^{2} + z^{2}}}\\right)} \\mathrm{d} {\\phi}\\otimes \\mathrm{d} {\\phi} + e^{\\left(-\\frac{m^{2} {\\rho}^{2}}{{\\left({\\rho}^{2} + z^{2}\\right)}^{2}} + \\frac{2 \\, m}{\\sqrt{{\\rho}^{2} + z^{2}}}\\right)} \\mathrm{d} z\\otimes \\mathrm{d} z</script></html>"
      ],
      "text/plain": [
       "g = -e^(-2*m/sqrt(rho^2 + z^2)) dt*dt + e^(-m^2*rho^2/(rho^2 + z^2)^2 + 2*m/sqrt(rho^2 + z^2)) drho*drho + rho^2*e^(2*m/sqrt(rho^2 + z^2)) dph*dph + e^(-m^2*rho^2/(rho^2 + z^2)^2 + 2*m/sqrt(rho^2 + z^2)) dz*dz"
      ]
     },
     "execution_count": 7,
     "metadata": {},
     "output_type": "execute_result"
    }
   ],
   "source": [
    "psi = function('psi',latex_name=r'\\psi')\n",
    "g =  M.lorentzian_metric('g')\n",
    "\n",
    "g[0,0] = -exp(-2*m/sqrt(rh**2+z**2))\n",
    "g[1,1] = exp(2*m/sqrt(rh**2+z**2))*exp(-(m**2)*(rh**2)/(rh**2+z**2)**2)\n",
    "g[2,2] = (rh**2)*(exp(2*m/sqrt(rh**2+z**2)))\n",
    "g[3,3] = exp(2*m/sqrt(rh**2+z**2))*exp(-(m**2)*(rh**2)/(rh**2+z**2)**2)\n",
    "g.display()\n",
    "\n"
   ]
  },
  {
   "cell_type": "code",
   "execution_count": 8,
   "metadata": {},
   "outputs": [
    {
     "data": {
      "text/html": [
       "<html><script type=\"math/tex; mode=display\">\\newcommand{\\Bold}[1]{\\mathbf{#1}}\\left(\\begin{array}{rrrr}\n",
       "-e^{\\left(-\\frac{2 \\, m}{\\sqrt{{\\rho}^{2} + z^{2}}}\\right)} & 0 & 0 & 0 \\\\\n",
       "0 & e^{\\left(-\\frac{m^{2} {\\rho}^{2}}{{\\left({\\rho}^{2} + z^{2}\\right)}^{2}} + \\frac{2 \\, m}{\\sqrt{{\\rho}^{2} + z^{2}}}\\right)} & 0 & 0 \\\\\n",
       "0 & 0 & {\\rho}^{2} e^{\\left(\\frac{2 \\, m}{\\sqrt{{\\rho}^{2} + z^{2}}}\\right)} & 0 \\\\\n",
       "0 & 0 & 0 & e^{\\left(-\\frac{m^{2} {\\rho}^{2}}{{\\left({\\rho}^{2} + z^{2}\\right)}^{2}} + \\frac{2 \\, m}{\\sqrt{{\\rho}^{2} + z^{2}}}\\right)}\n",
       "\\end{array}\\right)</script></html>"
      ],
      "text/plain": [
       "[                           -e^(-2*m/sqrt(rho^2 + z^2))                                                      0                                                      0                                                      0]\n",
       "[                                                     0 e^(-m^2*rho^2/(rho^2 + z^2)^2 + 2*m/sqrt(rho^2 + z^2))                                                      0                                                      0]\n",
       "[                                                     0                                                      0                        rho^2*e^(2*m/sqrt(rho^2 + z^2))                                                      0]\n",
       "[                                                     0                                                      0                                                      0 e^(-m^2*rho^2/(rho^2 + z^2)^2 + 2*m/sqrt(rho^2 + z^2))]"
      ]
     },
     "execution_count": 8,
     "metadata": {},
     "output_type": "execute_result"
    }
   ],
   "source": [
    "g[:]"
   ]
  },
  {
   "cell_type": "markdown",
   "metadata": {},
   "source": [
    "# Christoffel symbols"
   ]
  },
  {
   "cell_type": "code",
   "execution_count": 9,
   "metadata": {},
   "outputs": [
    {
     "data": {
      "text/html": [
       "<html><script type=\"math/tex; mode=display\">\\newcommand{\\Bold}[1]{\\mathbf{#1}}\\begin{array}{lcl} \\Gamma_{ \\phantom{\\, t} \\, t \\, {\\rho} }^{ \\, t \\phantom{\\, t} \\phantom{\\, {\\rho}} } & = & \\frac{m {\\rho}}{{\\left({\\rho}^{2} + z^{2}\\right)}^{\\frac{3}{2}}} \\\\ \\Gamma_{ \\phantom{\\, t} \\, t \\, z }^{ \\, t \\phantom{\\, t} \\phantom{\\, z} } & = & \\frac{m z}{{\\left({\\rho}^{2} + z^{2}\\right)}^{\\frac{3}{2}}} \\\\ \\Gamma_{ \\phantom{\\, t} \\, {\\rho} \\, t }^{ \\, t \\phantom{\\, {\\rho}} \\phantom{\\, t} } & = & \\frac{m {\\rho}}{{\\left({\\rho}^{2} + z^{2}\\right)}^{\\frac{3}{2}}} \\\\ \\Gamma_{ \\phantom{\\, t} \\, z \\, t }^{ \\, t \\phantom{\\, z} \\phantom{\\, t} } & = & \\frac{m z}{{\\left({\\rho}^{2} + z^{2}\\right)}^{\\frac{3}{2}}} \\\\ \\Gamma_{ \\phantom{\\, {\\rho}} \\, t \\, t }^{ \\, {\\rho} \\phantom{\\, t} \\phantom{\\, t} } & = & \\frac{m {\\rho} e^{\\left(-\\frac{4 \\, m {\\rho}^{4}}{\\sqrt{{\\rho}^{2} + z^{2}} {\\rho}^{4} + 2 \\, \\sqrt{{\\rho}^{2} + z^{2}} {\\rho}^{2} z^{2} + \\sqrt{{\\rho}^{2} + z^{2}} z^{4}} - \\frac{8 \\, m {\\rho}^{2} z^{2}}{\\sqrt{{\\rho}^{2} + z^{2}} {\\rho}^{4} + 2 \\, \\sqrt{{\\rho}^{2} + z^{2}} {\\rho}^{2} z^{2} + \\sqrt{{\\rho}^{2} + z^{2}} z^{4}} - \\frac{4 \\, m z^{4}}{\\sqrt{{\\rho}^{2} + z^{2}} {\\rho}^{4} + 2 \\, \\sqrt{{\\rho}^{2} + z^{2}} {\\rho}^{2} z^{2} + \\sqrt{{\\rho}^{2} + z^{2}} z^{4}} + \\frac{m^{2} {\\rho}^{2}}{{\\rho}^{4} + 2 \\, {\\rho}^{2} z^{2} + z^{4}}\\right)}}{{\\left({\\rho}^{2} + z^{2}\\right)}^{\\frac{3}{2}}} \\\\ \\Gamma_{ \\phantom{\\, {\\rho}} \\, {\\rho} \\, {\\rho} }^{ \\, {\\rho} \\phantom{\\, {\\rho}} \\phantom{\\, {\\rho}} } & = & -\\frac{m {\\rho}^{5} + 2 \\, m {\\rho}^{3} z^{2} + m {\\rho} z^{4} - {\\left(m^{2} {\\rho}^{3} - m^{2} {\\rho} z^{2}\\right)} \\sqrt{{\\rho}^{2} + z^{2}}}{{\\left({\\rho}^{6} + 3 \\, {\\rho}^{4} z^{2} + 3 \\, {\\rho}^{2} z^{4} + z^{6}\\right)} \\sqrt{{\\rho}^{2} + z^{2}}} \\\\ \\Gamma_{ \\phantom{\\, {\\rho}} \\, {\\rho} \\, z }^{ \\, {\\rho} \\phantom{\\, {\\rho}} \\phantom{\\, z} } & = & -\\frac{m {\\rho}^{4} z + 2 \\, m {\\rho}^{2} z^{3} + m z^{5} - 2 \\, \\sqrt{{\\rho}^{2} + z^{2}} m^{2} {\\rho}^{2} z}{{\\left({\\rho}^{6} + 3 \\, {\\rho}^{4} z^{2} + 3 \\, {\\rho}^{2} z^{4} + z^{6}\\right)} \\sqrt{{\\rho}^{2} + z^{2}}} \\\\ \\Gamma_{ \\phantom{\\, {\\rho}} \\, {\\phi} \\, {\\phi} }^{ \\, {\\rho} \\phantom{\\, {\\phi}} \\phantom{\\, {\\phi}} } & = & \\frac{{\\left(m {\\rho}^{3} e^{\\left(\\frac{2 \\, m {\\rho}^{4}}{\\sqrt{{\\rho}^{2} + z^{2}} {\\rho}^{4} + 2 \\, \\sqrt{{\\rho}^{2} + z^{2}} {\\rho}^{2} z^{2} + \\sqrt{{\\rho}^{2} + z^{2}} z^{4}} + \\frac{4 \\, m {\\rho}^{2} z^{2}}{\\sqrt{{\\rho}^{2} + z^{2}} {\\rho}^{4} + 2 \\, \\sqrt{{\\rho}^{2} + z^{2}} {\\rho}^{2} z^{2} + \\sqrt{{\\rho}^{2} + z^{2}} z^{4}} + \\frac{2 \\, m z^{4}}{\\sqrt{{\\rho}^{2} + z^{2}} {\\rho}^{4} + 2 \\, \\sqrt{{\\rho}^{2} + z^{2}} {\\rho}^{2} z^{2} + \\sqrt{{\\rho}^{2} + z^{2}} z^{4}} + \\frac{m^{2} {\\rho}^{2}}{{\\rho}^{4} + 2 \\, {\\rho}^{2} z^{2} + z^{4}}\\right)} - {\\left({\\rho}^{3} + {\\rho} z^{2}\\right)} \\sqrt{{\\rho}^{2} + z^{2}} e^{\\left(\\frac{2 \\, m {\\rho}^{4}}{\\sqrt{{\\rho}^{2} + z^{2}} {\\rho}^{4} + 2 \\, \\sqrt{{\\rho}^{2} + z^{2}} {\\rho}^{2} z^{2} + \\sqrt{{\\rho}^{2} + z^{2}} z^{4}} + \\frac{4 \\, m {\\rho}^{2} z^{2}}{\\sqrt{{\\rho}^{2} + z^{2}} {\\rho}^{4} + 2 \\, \\sqrt{{\\rho}^{2} + z^{2}} {\\rho}^{2} z^{2} + \\sqrt{{\\rho}^{2} + z^{2}} z^{4}} + \\frac{2 \\, m z^{4}}{\\sqrt{{\\rho}^{2} + z^{2}} {\\rho}^{4} + 2 \\, \\sqrt{{\\rho}^{2} + z^{2}} {\\rho}^{2} z^{2} + \\sqrt{{\\rho}^{2} + z^{2}} z^{4}} + \\frac{m^{2} {\\rho}^{2}}{{\\rho}^{4} + 2 \\, {\\rho}^{2} z^{2} + z^{4}}\\right)}\\right)} e^{\\left(-\\frac{2 \\, m}{\\sqrt{{\\rho}^{2} + z^{2}}}\\right)}}{{\\left({\\rho}^{2} + z^{2}\\right)}^{\\frac{3}{2}}} \\\\ \\Gamma_{ \\phantom{\\, {\\rho}} \\, z \\, {\\rho} }^{ \\, {\\rho} \\phantom{\\, z} \\phantom{\\, {\\rho}} } & = & -\\frac{m {\\rho}^{4} z + 2 \\, m {\\rho}^{2} z^{3} + m z^{5} - 2 \\, \\sqrt{{\\rho}^{2} + z^{2}} m^{2} {\\rho}^{2} z}{{\\left({\\rho}^{6} + 3 \\, {\\rho}^{4} z^{2} + 3 \\, {\\rho}^{2} z^{4} + z^{6}\\right)} \\sqrt{{\\rho}^{2} + z^{2}}} \\\\ \\Gamma_{ \\phantom{\\, {\\rho}} \\, z \\, z }^{ \\, {\\rho} \\phantom{\\, z} \\phantom{\\, z} } & = & \\frac{m {\\rho}^{5} + 2 \\, m {\\rho}^{3} z^{2} + m {\\rho} z^{4} - {\\left(m^{2} {\\rho}^{3} - m^{2} {\\rho} z^{2}\\right)} \\sqrt{{\\rho}^{2} + z^{2}}}{{\\left({\\rho}^{6} + 3 \\, {\\rho}^{4} z^{2} + 3 \\, {\\rho}^{2} z^{4} + z^{6}\\right)} \\sqrt{{\\rho}^{2} + z^{2}}} \\\\ \\Gamma_{ \\phantom{\\, {\\phi}} \\, {\\rho} \\, {\\phi} }^{ \\, {\\phi} \\phantom{\\, {\\rho}} \\phantom{\\, {\\phi}} } & = & -\\frac{m {\\rho}^{2} - {\\left({\\rho}^{2} + z^{2}\\right)}^{\\frac{3}{2}}}{{\\left({\\rho}^{3} + {\\rho} z^{2}\\right)} \\sqrt{{\\rho}^{2} + z^{2}}} \\\\ \\Gamma_{ \\phantom{\\, {\\phi}} \\, {\\phi} \\, {\\rho} }^{ \\, {\\phi} \\phantom{\\, {\\phi}} \\phantom{\\, {\\rho}} } & = & -\\frac{m {\\rho}^{2} - {\\left({\\rho}^{2} + z^{2}\\right)}^{\\frac{3}{2}}}{{\\left({\\rho}^{3} + {\\rho} z^{2}\\right)} \\sqrt{{\\rho}^{2} + z^{2}}} \\\\ \\Gamma_{ \\phantom{\\, {\\phi}} \\, {\\phi} \\, z }^{ \\, {\\phi} \\phantom{\\, {\\phi}} \\phantom{\\, z} } & = & -\\frac{m z}{{\\left({\\rho}^{2} + z^{2}\\right)}^{\\frac{3}{2}}} \\\\ \\Gamma_{ \\phantom{\\, {\\phi}} \\, z \\, {\\phi} }^{ \\, {\\phi} \\phantom{\\, z} \\phantom{\\, {\\phi}} } & = & -\\frac{m z}{{\\left({\\rho}^{2} + z^{2}\\right)}^{\\frac{3}{2}}} \\\\ \\Gamma_{ \\phantom{\\, z} \\, t \\, t }^{ \\, z \\phantom{\\, t} \\phantom{\\, t} } & = & \\frac{m z e^{\\left(-\\frac{4 \\, m {\\rho}^{4}}{\\sqrt{{\\rho}^{2} + z^{2}} {\\rho}^{4} + 2 \\, \\sqrt{{\\rho}^{2} + z^{2}} {\\rho}^{2} z^{2} + \\sqrt{{\\rho}^{2} + z^{2}} z^{4}} - \\frac{8 \\, m {\\rho}^{2} z^{2}}{\\sqrt{{\\rho}^{2} + z^{2}} {\\rho}^{4} + 2 \\, \\sqrt{{\\rho}^{2} + z^{2}} {\\rho}^{2} z^{2} + \\sqrt{{\\rho}^{2} + z^{2}} z^{4}} - \\frac{4 \\, m z^{4}}{\\sqrt{{\\rho}^{2} + z^{2}} {\\rho}^{4} + 2 \\, \\sqrt{{\\rho}^{2} + z^{2}} {\\rho}^{2} z^{2} + \\sqrt{{\\rho}^{2} + z^{2}} z^{4}} + \\frac{m^{2} {\\rho}^{2}}{{\\rho}^{4} + 2 \\, {\\rho}^{2} z^{2} + z^{4}}\\right)}}{{\\left({\\rho}^{2} + z^{2}\\right)}^{\\frac{3}{2}}} \\\\ \\Gamma_{ \\phantom{\\, z} \\, {\\rho} \\, {\\rho} }^{ \\, z \\phantom{\\, {\\rho}} \\phantom{\\, {\\rho}} } & = & \\frac{m {\\rho}^{4} z + 2 \\, m {\\rho}^{2} z^{3} + m z^{5} - 2 \\, \\sqrt{{\\rho}^{2} + z^{2}} m^{2} {\\rho}^{2} z}{{\\left({\\rho}^{6} + 3 \\, {\\rho}^{4} z^{2} + 3 \\, {\\rho}^{2} z^{4} + z^{6}\\right)} \\sqrt{{\\rho}^{2} + z^{2}}} \\\\ \\Gamma_{ \\phantom{\\, z} \\, {\\rho} \\, z }^{ \\, z \\phantom{\\, {\\rho}} \\phantom{\\, z} } & = & -\\frac{m {\\rho}^{5} + 2 \\, m {\\rho}^{3} z^{2} + m {\\rho} z^{4} - {\\left(m^{2} {\\rho}^{3} - m^{2} {\\rho} z^{2}\\right)} \\sqrt{{\\rho}^{2} + z^{2}}}{{\\left({\\rho}^{6} + 3 \\, {\\rho}^{4} z^{2} + 3 \\, {\\rho}^{2} z^{4} + z^{6}\\right)} \\sqrt{{\\rho}^{2} + z^{2}}} \\\\ \\Gamma_{ \\phantom{\\, z} \\, {\\phi} \\, {\\phi} }^{ \\, z \\phantom{\\, {\\phi}} \\phantom{\\, {\\phi}} } & = & \\frac{m {\\rho}^{2} z e^{\\left(\\frac{m^{2} {\\rho}^{2}}{{\\rho}^{4} + 2 \\, {\\rho}^{2} z^{2} + z^{4}}\\right)}}{{\\left({\\rho}^{2} + z^{2}\\right)}^{\\frac{3}{2}}} \\\\ \\Gamma_{ \\phantom{\\, z} \\, z \\, {\\rho} }^{ \\, z \\phantom{\\, z} \\phantom{\\, {\\rho}} } & = & -\\frac{m {\\rho}^{5} + 2 \\, m {\\rho}^{3} z^{2} + m {\\rho} z^{4} - {\\left(m^{2} {\\rho}^{3} - m^{2} {\\rho} z^{2}\\right)} \\sqrt{{\\rho}^{2} + z^{2}}}{{\\left({\\rho}^{6} + 3 \\, {\\rho}^{4} z^{2} + 3 \\, {\\rho}^{2} z^{4} + z^{6}\\right)} \\sqrt{{\\rho}^{2} + z^{2}}} \\\\ \\Gamma_{ \\phantom{\\, z} \\, z \\, z }^{ \\, z \\phantom{\\, z} \\phantom{\\, z} } & = & -\\frac{m {\\rho}^{4} z + 2 \\, m {\\rho}^{2} z^{3} + m z^{5} - 2 \\, \\sqrt{{\\rho}^{2} + z^{2}} m^{2} {\\rho}^{2} z}{{\\left({\\rho}^{6} + 3 \\, {\\rho}^{4} z^{2} + 3 \\, {\\rho}^{2} z^{4} + z^{6}\\right)} \\sqrt{{\\rho}^{2} + z^{2}}} \\end{array}</script></html>"
      ],
      "text/plain": [
       "Gam^t_t,rho = m*rho/(rho^2 + z^2)^(3/2) \n",
       "Gam^t_t,z = m*z/(rho^2 + z^2)^(3/2) \n",
       "Gam^t_rho,t = m*rho/(rho^2 + z^2)^(3/2) \n",
       "Gam^t_z,t = m*z/(rho^2 + z^2)^(3/2) \n",
       "Gam^rho_t,t = m*rho*e^(-4*m*rho^4/(sqrt(rho^2 + z^2)*rho^4 + 2*sqrt(rho^2 + z^2)*rho^2*z^2 + sqrt(rho^2 + z^2)*z^4) - 8*m*rho^2*z^2/(sqrt(rho^2 + z^2)*rho^4 + 2*sqrt(rho^2 + z^2)*rho^2*z^2 + sqrt(rho^2 + z^2)*z^4) - 4*m*z^4/(sqrt(rho^2 + z^2)*rho^4 + 2*sqrt(rho^2 + z^2)*rho^2*z^2 + sqrt(rho^2 + z^2)*z^4) + m^2*rho^2/(rho^4 + 2*rho^2*z^2 + z^4))/(rho^2 + z^2)^(3/2) \n",
       "Gam^rho_rho,rho = -(m*rho^5 + 2*m*rho^3*z^2 + m*rho*z^4 - (m^2*rho^3 - m^2*rho*z^2)*sqrt(rho^2 + z^2))/((rho^6 + 3*rho^4*z^2 + 3*rho^2*z^4 + z^6)*sqrt(rho^2 + z^2)) \n",
       "Gam^rho_rho,z = -(m*rho^4*z + 2*m*rho^2*z^3 + m*z^5 - 2*sqrt(rho^2 + z^2)*m^2*rho^2*z)/((rho^6 + 3*rho^4*z^2 + 3*rho^2*z^4 + z^6)*sqrt(rho^2 + z^2)) \n",
       "Gam^rho_ph,ph = (m*rho^3*e^(2*m*rho^4/(sqrt(rho^2 + z^2)*rho^4 + 2*sqrt(rho^2 + z^2)*rho^2*z^2 + sqrt(rho^2 + z^2)*z^4) + 4*m*rho^2*z^2/(sqrt(rho^2 + z^2)*rho^4 + 2*sqrt(rho^2 + z^2)*rho^2*z^2 + sqrt(rho^2 + z^2)*z^4) + 2*m*z^4/(sqrt(rho^2 + z^2)*rho^4 + 2*sqrt(rho^2 + z^2)*rho^2*z^2 + sqrt(rho^2 + z^2)*z^4) + m^2*rho^2/(rho^4 + 2*rho^2*z^2 + z^4)) - (rho^3 + rho*z^2)*sqrt(rho^2 + z^2)*e^(2*m*rho^4/(sqrt(rho^2 + z^2)*rho^4 + 2*sqrt(rho^2 + z^2)*rho^2*z^2 + sqrt(rho^2 + z^2)*z^4) + 4*m*rho^2*z^2/(sqrt(rho^2 + z^2)*rho^4 + 2*sqrt(rho^2 + z^2)*rho^2*z^2 + sqrt(rho^2 + z^2)*z^4) + 2*m*z^4/(sqrt(rho^2 + z^2)*rho^4 + 2*sqrt(rho^2 + z^2)*rho^2*z^2 + sqrt(rho^2 + z^2)*z^4) + m^2*rho^2/(rho^4 + 2*rho^2*z^2 + z^4)))*e^(-2*m/sqrt(rho^2 + z^2))/(rho^2 + z^2)^(3/2) \n",
       "Gam^rho_z,rho = -(m*rho^4*z + 2*m*rho^2*z^3 + m*z^5 - 2*sqrt(rho^2 + z^2)*m^2*rho^2*z)/((rho^6 + 3*rho^4*z^2 + 3*rho^2*z^4 + z^6)*sqrt(rho^2 + z^2)) \n",
       "Gam^rho_z,z = (m*rho^5 + 2*m*rho^3*z^2 + m*rho*z^4 - (m^2*rho^3 - m^2*rho*z^2)*sqrt(rho^2 + z^2))/((rho^6 + 3*rho^4*z^2 + 3*rho^2*z^4 + z^6)*sqrt(rho^2 + z^2)) \n",
       "Gam^ph_rho,ph = -(m*rho^2 - (rho^2 + z^2)^(3/2))/((rho^3 + rho*z^2)*sqrt(rho^2 + z^2)) \n",
       "Gam^ph_ph,rho = -(m*rho^2 - (rho^2 + z^2)^(3/2))/((rho^3 + rho*z^2)*sqrt(rho^2 + z^2)) \n",
       "Gam^ph_ph,z = -m*z/(rho^2 + z^2)^(3/2) \n",
       "Gam^ph_z,ph = -m*z/(rho^2 + z^2)^(3/2) \n",
       "Gam^z_t,t = m*z*e^(-4*m*rho^4/(sqrt(rho^2 + z^2)*rho^4 + 2*sqrt(rho^2 + z^2)*rho^2*z^2 + sqrt(rho^2 + z^2)*z^4) - 8*m*rho^2*z^2/(sqrt(rho^2 + z^2)*rho^4 + 2*sqrt(rho^2 + z^2)*rho^2*z^2 + sqrt(rho^2 + z^2)*z^4) - 4*m*z^4/(sqrt(rho^2 + z^2)*rho^4 + 2*sqrt(rho^2 + z^2)*rho^2*z^2 + sqrt(rho^2 + z^2)*z^4) + m^2*rho^2/(rho^4 + 2*rho^2*z^2 + z^4))/(rho^2 + z^2)^(3/2) \n",
       "Gam^z_rho,rho = (m*rho^4*z + 2*m*rho^2*z^3 + m*z^5 - 2*sqrt(rho^2 + z^2)*m^2*rho^2*z)/((rho^6 + 3*rho^4*z^2 + 3*rho^2*z^4 + z^6)*sqrt(rho^2 + z^2)) \n",
       "Gam^z_rho,z = -(m*rho^5 + 2*m*rho^3*z^2 + m*rho*z^4 - (m^2*rho^3 - m^2*rho*z^2)*sqrt(rho^2 + z^2))/((rho^6 + 3*rho^4*z^2 + 3*rho^2*z^4 + z^6)*sqrt(rho^2 + z^2)) \n",
       "Gam^z_ph,ph = m*rho^2*z*e^(m^2*rho^2/(rho^4 + 2*rho^2*z^2 + z^4))/(rho^2 + z^2)^(3/2) \n",
       "Gam^z_z,rho = -(m*rho^5 + 2*m*rho^3*z^2 + m*rho*z^4 - (m^2*rho^3 - m^2*rho*z^2)*sqrt(rho^2 + z^2))/((rho^6 + 3*rho^4*z^2 + 3*rho^2*z^4 + z^6)*sqrt(rho^2 + z^2)) \n",
       "Gam^z_z,z = -(m*rho^4*z + 2*m*rho^2*z^3 + m*z^5 - 2*sqrt(rho^2 + z^2)*m^2*rho^2*z)/((rho^6 + 3*rho^4*z^2 + 3*rho^2*z^4 + z^6)*sqrt(rho^2 + z^2)) "
      ]
     },
     "execution_count": 9,
     "metadata": {},
     "output_type": "execute_result"
    }
   ],
   "source": [
    "nab = g.connection(name='nabla', latex_name=r'\\nabla')\n",
    "nab.display()"
   ]
  },
  {
   "cell_type": "markdown",
   "metadata": {},
   "source": [
    "# Riemann Tensor"
   ]
  },
  {
   "cell_type": "code",
   "execution_count": 10,
   "metadata": {},
   "outputs": [],
   "source": [
    "riem = nab.riemann()"
   ]
  },
  {
   "cell_type": "code",
   "execution_count": 11,
   "metadata": {},
   "outputs": [
    {
     "data": {
      "text/html": [
       "<html><script type=\"math/tex; mode=display\">\\newcommand{\\Bold}[1]{\\mathbf{#1}}\\begin{array}{lcl} \\mathrm{Riem}\\left(g\\right)_{ \\phantom{\\, t} \\, {\\rho} \\, t \\, {\\rho} }^{ \\, t \\phantom{\\, {\\rho}} \\phantom{\\, t} \\phantom{\\, {\\rho}} } & = & -\\frac{2 \\, m^{2} {\\rho}^{6} + 3 \\, m^{2} {\\rho}^{4} z^{2} - m^{2} z^{6} - {\\left(m^{3} {\\rho}^{4} + 2 \\, m {\\rho}^{6} - m z^{6} - 3 \\, {\\left(m^{3} {\\rho}^{2} - m {\\rho}^{4}\\right)} z^{2}\\right)} \\sqrt{{\\rho}^{2} + z^{2}}}{{\\rho}^{10} + 5 \\, {\\rho}^{8} z^{2} + 10 \\, {\\rho}^{6} z^{4} + 10 \\, {\\rho}^{4} z^{6} + 5 \\, {\\rho}^{2} z^{8} + z^{10}} \\\\ \\mathrm{Riem}\\left(g\\right)_{ \\phantom{\\, t} \\, {\\rho} \\, t \\, z }^{ \\, t \\phantom{\\, {\\rho}} \\phantom{\\, t} \\phantom{\\, z} } & = & \\frac{3 \\, m {\\rho} z^{5} - {\\left(m^{3} {\\rho} - 6 \\, m {\\rho}^{3}\\right)} z^{3} + 3 \\, {\\left(m^{3} {\\rho}^{3} + m {\\rho}^{5}\\right)} z - 3 \\, {\\left(m^{2} {\\rho}^{3} z + m^{2} {\\rho} z^{3}\\right)} \\sqrt{{\\rho}^{2} + z^{2}}}{{\\left({\\rho}^{8} + 4 \\, {\\rho}^{6} z^{2} + 6 \\, {\\rho}^{4} z^{4} + 4 \\, {\\rho}^{2} z^{6} + z^{8}\\right)} \\sqrt{{\\rho}^{2} + z^{2}}} \\\\ \\mathrm{Riem}\\left(g\\right)_{ \\phantom{\\, t} \\, {\\rho} \\, {\\rho} \\, t }^{ \\, t \\phantom{\\, {\\rho}} \\phantom{\\, {\\rho}} \\phantom{\\, t} } & = & \\frac{2 \\, m^{2} {\\rho}^{6} + 3 \\, m^{2} {\\rho}^{4} z^{2} - m^{2} z^{6} - {\\left(m^{3} {\\rho}^{4} + 2 \\, m {\\rho}^{6} - m z^{6} - 3 \\, {\\left(m^{3} {\\rho}^{2} - m {\\rho}^{4}\\right)} z^{2}\\right)} \\sqrt{{\\rho}^{2} + z^{2}}}{{\\rho}^{10} + 5 \\, {\\rho}^{8} z^{2} + 10 \\, {\\rho}^{6} z^{4} + 10 \\, {\\rho}^{4} z^{6} + 5 \\, {\\rho}^{2} z^{8} + z^{10}} \\\\ \\mathrm{Riem}\\left(g\\right)_{ \\phantom{\\, t} \\, {\\rho} \\, z \\, t }^{ \\, t \\phantom{\\, {\\rho}} \\phantom{\\, z} \\phantom{\\, t} } & = & -\\frac{3 \\, m {\\rho} z^{5} - {\\left(m^{3} {\\rho} - 6 \\, m {\\rho}^{3}\\right)} z^{3} + 3 \\, {\\left(m^{3} {\\rho}^{3} + m {\\rho}^{5}\\right)} z - 3 \\, {\\left(m^{2} {\\rho}^{3} z + m^{2} {\\rho} z^{3}\\right)} \\sqrt{{\\rho}^{2} + z^{2}}}{{\\left({\\rho}^{8} + 4 \\, {\\rho}^{6} z^{2} + 6 \\, {\\rho}^{4} z^{4} + 4 \\, {\\rho}^{2} z^{6} + z^{8}\\right)} \\sqrt{{\\rho}^{2} + z^{2}}} \\\\ \\mathrm{Riem}\\left(g\\right)_{ \\phantom{\\, t} \\, {\\phi} \\, t \\, {\\phi} }^{ \\, t \\phantom{\\, {\\phi}} \\phantom{\\, t} \\phantom{\\, {\\phi}} } & = & \\frac{{\\left(m^{2} {\\rho}^{2} e^{\\left(\\frac{2 \\, m {\\rho}^{4}}{\\sqrt{{\\rho}^{2} + z^{2}} {\\rho}^{4} + 2 \\, \\sqrt{{\\rho}^{2} + z^{2}} {\\rho}^{2} z^{2} + \\sqrt{{\\rho}^{2} + z^{2}} z^{4}} + \\frac{4 \\, m {\\rho}^{2} z^{2}}{\\sqrt{{\\rho}^{2} + z^{2}} {\\rho}^{4} + 2 \\, \\sqrt{{\\rho}^{2} + z^{2}} {\\rho}^{2} z^{2} + \\sqrt{{\\rho}^{2} + z^{2}} z^{4}} + \\frac{2 \\, m z^{4}}{\\sqrt{{\\rho}^{2} + z^{2}} {\\rho}^{4} + 2 \\, \\sqrt{{\\rho}^{2} + z^{2}} {\\rho}^{2} z^{2} + \\sqrt{{\\rho}^{2} + z^{2}} z^{4}} + \\frac{m^{2} {\\rho}^{2}}{{\\rho}^{4} + 2 \\, {\\rho}^{2} z^{2} + z^{4}}\\right)} - \\sqrt{{\\rho}^{2} + z^{2}} m {\\rho}^{2} e^{\\left(\\frac{2 \\, m {\\rho}^{4}}{\\sqrt{{\\rho}^{2} + z^{2}} {\\rho}^{4} + 2 \\, \\sqrt{{\\rho}^{2} + z^{2}} {\\rho}^{2} z^{2} + \\sqrt{{\\rho}^{2} + z^{2}} z^{4}} + \\frac{4 \\, m {\\rho}^{2} z^{2}}{\\sqrt{{\\rho}^{2} + z^{2}} {\\rho}^{4} + 2 \\, \\sqrt{{\\rho}^{2} + z^{2}} {\\rho}^{2} z^{2} + \\sqrt{{\\rho}^{2} + z^{2}} z^{4}} + \\frac{2 \\, m z^{4}}{\\sqrt{{\\rho}^{2} + z^{2}} {\\rho}^{4} + 2 \\, \\sqrt{{\\rho}^{2} + z^{2}} {\\rho}^{2} z^{2} + \\sqrt{{\\rho}^{2} + z^{2}} z^{4}} + \\frac{m^{2} {\\rho}^{2}}{{\\rho}^{4} + 2 \\, {\\rho}^{2} z^{2} + z^{4}}\\right)}\\right)} e^{\\left(-\\frac{2 \\, m}{\\sqrt{{\\rho}^{2} + z^{2}}}\\right)}}{{\\rho}^{4} + 2 \\, {\\rho}^{2} z^{2} + z^{4}} \\\\ \\mathrm{Riem}\\left(g\\right)_{ \\phantom{\\, t} \\, {\\phi} \\, {\\phi} \\, t }^{ \\, t \\phantom{\\, {\\phi}} \\phantom{\\, {\\phi}} \\phantom{\\, t} } & = & -\\frac{{\\left(m^{2} {\\rho}^{2} e^{\\left(\\frac{2 \\, m {\\rho}^{4}}{\\sqrt{{\\rho}^{2} + z^{2}} {\\rho}^{4} + 2 \\, \\sqrt{{\\rho}^{2} + z^{2}} {\\rho}^{2} z^{2} + \\sqrt{{\\rho}^{2} + z^{2}} z^{4}} + \\frac{4 \\, m {\\rho}^{2} z^{2}}{\\sqrt{{\\rho}^{2} + z^{2}} {\\rho}^{4} + 2 \\, \\sqrt{{\\rho}^{2} + z^{2}} {\\rho}^{2} z^{2} + \\sqrt{{\\rho}^{2} + z^{2}} z^{4}} + \\frac{2 \\, m z^{4}}{\\sqrt{{\\rho}^{2} + z^{2}} {\\rho}^{4} + 2 \\, \\sqrt{{\\rho}^{2} + z^{2}} {\\rho}^{2} z^{2} + \\sqrt{{\\rho}^{2} + z^{2}} z^{4}} + \\frac{m^{2} {\\rho}^{2}}{{\\rho}^{4} + 2 \\, {\\rho}^{2} z^{2} + z^{4}}\\right)} - \\sqrt{{\\rho}^{2} + z^{2}} m {\\rho}^{2} e^{\\left(\\frac{2 \\, m {\\rho}^{4}}{\\sqrt{{\\rho}^{2} + z^{2}} {\\rho}^{4} + 2 \\, \\sqrt{{\\rho}^{2} + z^{2}} {\\rho}^{2} z^{2} + \\sqrt{{\\rho}^{2} + z^{2}} z^{4}} + \\frac{4 \\, m {\\rho}^{2} z^{2}}{\\sqrt{{\\rho}^{2} + z^{2}} {\\rho}^{4} + 2 \\, \\sqrt{{\\rho}^{2} + z^{2}} {\\rho}^{2} z^{2} + \\sqrt{{\\rho}^{2} + z^{2}} z^{4}} + \\frac{2 \\, m z^{4}}{\\sqrt{{\\rho}^{2} + z^{2}} {\\rho}^{4} + 2 \\, \\sqrt{{\\rho}^{2} + z^{2}} {\\rho}^{2} z^{2} + \\sqrt{{\\rho}^{2} + z^{2}} z^{4}} + \\frac{m^{2} {\\rho}^{2}}{{\\rho}^{4} + 2 \\, {\\rho}^{2} z^{2} + z^{4}}\\right)}\\right)} e^{\\left(-\\frac{2 \\, m}{\\sqrt{{\\rho}^{2} + z^{2}}}\\right)}}{{\\rho}^{4} + 2 \\, {\\rho}^{2} z^{2} + z^{4}} \\\\ \\mathrm{Riem}\\left(g\\right)_{ \\phantom{\\, t} \\, z \\, t \\, {\\rho} }^{ \\, t \\phantom{\\, z} \\phantom{\\, t} \\phantom{\\, {\\rho}} } & = & \\frac{3 \\, m {\\rho} z^{5} - {\\left(m^{3} {\\rho} - 6 \\, m {\\rho}^{3}\\right)} z^{3} + 3 \\, {\\left(m^{3} {\\rho}^{3} + m {\\rho}^{5}\\right)} z - 3 \\, {\\left(m^{2} {\\rho}^{3} z + m^{2} {\\rho} z^{3}\\right)} \\sqrt{{\\rho}^{2} + z^{2}}}{{\\left({\\rho}^{8} + 4 \\, {\\rho}^{6} z^{2} + 6 \\, {\\rho}^{4} z^{4} + 4 \\, {\\rho}^{2} z^{6} + z^{8}\\right)} \\sqrt{{\\rho}^{2} + z^{2}}} \\\\ \\mathrm{Riem}\\left(g\\right)_{ \\phantom{\\, t} \\, z \\, t \\, z }^{ \\, t \\phantom{\\, z} \\phantom{\\, t} \\phantom{\\, z} } & = & \\frac{m^{2} {\\rho}^{6} - 3 \\, m^{2} {\\rho}^{2} z^{4} - 2 \\, m^{2} z^{6} - {\\left(m^{3} {\\rho}^{4} + m {\\rho}^{6} - 3 \\, m^{3} {\\rho}^{2} z^{2} - 3 \\, m {\\rho}^{2} z^{4} - 2 \\, m z^{6}\\right)} \\sqrt{{\\rho}^{2} + z^{2}}}{{\\rho}^{10} + 5 \\, {\\rho}^{8} z^{2} + 10 \\, {\\rho}^{6} z^{4} + 10 \\, {\\rho}^{4} z^{6} + 5 \\, {\\rho}^{2} z^{8} + z^{10}} \\\\ \\mathrm{Riem}\\left(g\\right)_{ \\phantom{\\, t} \\, z \\, {\\rho} \\, t }^{ \\, t \\phantom{\\, z} \\phantom{\\, {\\rho}} \\phantom{\\, t} } & = & -\\frac{3 \\, m {\\rho} z^{5} - {\\left(m^{3} {\\rho} - 6 \\, m {\\rho}^{3}\\right)} z^{3} + 3 \\, {\\left(m^{3} {\\rho}^{3} + m {\\rho}^{5}\\right)} z - 3 \\, {\\left(m^{2} {\\rho}^{3} z + m^{2} {\\rho} z^{3}\\right)} \\sqrt{{\\rho}^{2} + z^{2}}}{{\\left({\\rho}^{8} + 4 \\, {\\rho}^{6} z^{2} + 6 \\, {\\rho}^{4} z^{4} + 4 \\, {\\rho}^{2} z^{6} + z^{8}\\right)} \\sqrt{{\\rho}^{2} + z^{2}}} \\\\ \\mathrm{Riem}\\left(g\\right)_{ \\phantom{\\, t} \\, z \\, z \\, t }^{ \\, t \\phantom{\\, z} \\phantom{\\, z} \\phantom{\\, t} } & = & -\\frac{m^{2} {\\rho}^{6} - 3 \\, m^{2} {\\rho}^{2} z^{4} - 2 \\, m^{2} z^{6} - {\\left(m^{3} {\\rho}^{4} + m {\\rho}^{6} - 3 \\, m^{3} {\\rho}^{2} z^{2} - 3 \\, m {\\rho}^{2} z^{4} - 2 \\, m z^{6}\\right)} \\sqrt{{\\rho}^{2} + z^{2}}}{{\\rho}^{10} + 5 \\, {\\rho}^{8} z^{2} + 10 \\, {\\rho}^{6} z^{4} + 10 \\, {\\rho}^{4} z^{6} + 5 \\, {\\rho}^{2} z^{8} + z^{10}} \\\\ \\mathrm{Riem}\\left(g\\right)_{ \\phantom{\\, {\\rho}} \\, t \\, t \\, {\\rho} }^{ \\, {\\rho} \\phantom{\\, t} \\phantom{\\, t} \\phantom{\\, {\\rho}} } & = & \\frac{{\\left({\\left(m^{3} {\\rho}^{4} + 2 \\, m {\\rho}^{6} - m z^{6} - 3 \\, {\\left(m^{3} {\\rho}^{2} - m {\\rho}^{4}\\right)} z^{2}\\right)} \\sqrt{{\\rho}^{2} + z^{2}} e^{\\left(\\frac{4 \\, m {\\rho}^{4}}{\\sqrt{{\\rho}^{2} + z^{2}} {\\rho}^{4} + 2 \\, \\sqrt{{\\rho}^{2} + z^{2}} {\\rho}^{2} z^{2} + \\sqrt{{\\rho}^{2} + z^{2}} z^{4}} + \\frac{8 \\, m {\\rho}^{2} z^{2}}{\\sqrt{{\\rho}^{2} + z^{2}} {\\rho}^{4} + 2 \\, \\sqrt{{\\rho}^{2} + z^{2}} {\\rho}^{2} z^{2} + \\sqrt{{\\rho}^{2} + z^{2}} z^{4}} + \\frac{4 \\, m z^{4}}{\\sqrt{{\\rho}^{2} + z^{2}} {\\rho}^{4} + 2 \\, \\sqrt{{\\rho}^{2} + z^{2}} {\\rho}^{2} z^{2} + \\sqrt{{\\rho}^{2} + z^{2}} z^{4}} + \\frac{m^{2} {\\rho}^{2}}{{\\rho}^{4} + 2 \\, {\\rho}^{2} z^{2} + z^{4}}\\right)} - {\\left(2 \\, m^{2} {\\rho}^{6} + 3 \\, m^{2} {\\rho}^{4} z^{2} - m^{2} z^{6}\\right)} e^{\\left(\\frac{4 \\, m {\\rho}^{4}}{\\sqrt{{\\rho}^{2} + z^{2}} {\\rho}^{4} + 2 \\, \\sqrt{{\\rho}^{2} + z^{2}} {\\rho}^{2} z^{2} + \\sqrt{{\\rho}^{2} + z^{2}} z^{4}} + \\frac{8 \\, m {\\rho}^{2} z^{2}}{\\sqrt{{\\rho}^{2} + z^{2}} {\\rho}^{4} + 2 \\, \\sqrt{{\\rho}^{2} + z^{2}} {\\rho}^{2} z^{2} + \\sqrt{{\\rho}^{2} + z^{2}} z^{4}} + \\frac{4 \\, m z^{4}}{\\sqrt{{\\rho}^{2} + z^{2}} {\\rho}^{4} + 2 \\, \\sqrt{{\\rho}^{2} + z^{2}} {\\rho}^{2} z^{2} + \\sqrt{{\\rho}^{2} + z^{2}} z^{4}} + \\frac{m^{2} {\\rho}^{2}}{{\\rho}^{4} + 2 \\, {\\rho}^{2} z^{2} + z^{4}}\\right)}\\right)} e^{\\left(-\\frac{8 \\, m}{\\sqrt{{\\rho}^{2} + z^{2}}}\\right)}}{{\\rho}^{10} + 5 \\, {\\rho}^{8} z^{2} + 10 \\, {\\rho}^{6} z^{4} + 10 \\, {\\rho}^{4} z^{6} + 5 \\, {\\rho}^{2} z^{8} + z^{10}} \\\\ \\mathrm{Riem}\\left(g\\right)_{ \\phantom{\\, {\\rho}} \\, t \\, t \\, z }^{ \\, {\\rho} \\phantom{\\, t} \\phantom{\\, t} \\phantom{\\, z} } & = & -\\frac{{\\left(3 \\, {\\left(m^{2} {\\rho}^{3} z + m^{2} {\\rho} z^{3}\\right)} \\sqrt{{\\rho}^{2} + z^{2}} e^{\\left(\\frac{8 \\, m {\\rho}^{4}}{\\sqrt{{\\rho}^{2} + z^{2}} {\\rho}^{4} + 2 \\, \\sqrt{{\\rho}^{2} + z^{2}} {\\rho}^{2} z^{2} + \\sqrt{{\\rho}^{2} + z^{2}} z^{4}} + \\frac{16 \\, m {\\rho}^{2} z^{2}}{\\sqrt{{\\rho}^{2} + z^{2}} {\\rho}^{4} + 2 \\, \\sqrt{{\\rho}^{2} + z^{2}} {\\rho}^{2} z^{2} + \\sqrt{{\\rho}^{2} + z^{2}} z^{4}} + \\frac{8 \\, m z^{4}}{\\sqrt{{\\rho}^{2} + z^{2}} {\\rho}^{4} + 2 \\, \\sqrt{{\\rho}^{2} + z^{2}} {\\rho}^{2} z^{2} + \\sqrt{{\\rho}^{2} + z^{2}} z^{4}} + \\frac{m^{2} {\\rho}^{2}}{{\\rho}^{4} + 2 \\, {\\rho}^{2} z^{2} + z^{4}}\\right)} - {\\left(3 \\, m {\\rho} z^{5} - {\\left(m^{3} {\\rho} - 6 \\, m {\\rho}^{3}\\right)} z^{3} + 3 \\, {\\left(m^{3} {\\rho}^{3} + m {\\rho}^{5}\\right)} z\\right)} e^{\\left(\\frac{8 \\, m {\\rho}^{4}}{\\sqrt{{\\rho}^{2} + z^{2}} {\\rho}^{4} + 2 \\, \\sqrt{{\\rho}^{2} + z^{2}} {\\rho}^{2} z^{2} + \\sqrt{{\\rho}^{2} + z^{2}} z^{4}} + \\frac{16 \\, m {\\rho}^{2} z^{2}}{\\sqrt{{\\rho}^{2} + z^{2}} {\\rho}^{4} + 2 \\, \\sqrt{{\\rho}^{2} + z^{2}} {\\rho}^{2} z^{2} + \\sqrt{{\\rho}^{2} + z^{2}} z^{4}} + \\frac{8 \\, m z^{4}}{\\sqrt{{\\rho}^{2} + z^{2}} {\\rho}^{4} + 2 \\, \\sqrt{{\\rho}^{2} + z^{2}} {\\rho}^{2} z^{2} + \\sqrt{{\\rho}^{2} + z^{2}} z^{4}} + \\frac{m^{2} {\\rho}^{2}}{{\\rho}^{4} + 2 \\, {\\rho}^{2} z^{2} + z^{4}}\\right)}\\right)} e^{\\left(-\\frac{12 \\, m}{\\sqrt{{\\rho}^{2} + z^{2}}}\\right)}}{{\\left({\\rho}^{8} + 4 \\, {\\rho}^{6} z^{2} + 6 \\, {\\rho}^{4} z^{4} + 4 \\, {\\rho}^{2} z^{6} + z^{8}\\right)} \\sqrt{{\\rho}^{2} + z^{2}}} \\\\ \\mathrm{Riem}\\left(g\\right)_{ \\phantom{\\, {\\rho}} \\, t \\, {\\rho} \\, t }^{ \\, {\\rho} \\phantom{\\, t} \\phantom{\\, {\\rho}} \\phantom{\\, t} } & = & -\\frac{{\\left({\\left(m^{3} {\\rho}^{4} + 2 \\, m {\\rho}^{6} - m z^{6} - 3 \\, {\\left(m^{3} {\\rho}^{2} - m {\\rho}^{4}\\right)} z^{2}\\right)} \\sqrt{{\\rho}^{2} + z^{2}} e^{\\left(\\frac{4 \\, m {\\rho}^{4}}{\\sqrt{{\\rho}^{2} + z^{2}} {\\rho}^{4} + 2 \\, \\sqrt{{\\rho}^{2} + z^{2}} {\\rho}^{2} z^{2} + \\sqrt{{\\rho}^{2} + z^{2}} z^{4}} + \\frac{8 \\, m {\\rho}^{2} z^{2}}{\\sqrt{{\\rho}^{2} + z^{2}} {\\rho}^{4} + 2 \\, \\sqrt{{\\rho}^{2} + z^{2}} {\\rho}^{2} z^{2} + \\sqrt{{\\rho}^{2} + z^{2}} z^{4}} + \\frac{4 \\, m z^{4}}{\\sqrt{{\\rho}^{2} + z^{2}} {\\rho}^{4} + 2 \\, \\sqrt{{\\rho}^{2} + z^{2}} {\\rho}^{2} z^{2} + \\sqrt{{\\rho}^{2} + z^{2}} z^{4}} + \\frac{m^{2} {\\rho}^{2}}{{\\rho}^{4} + 2 \\, {\\rho}^{2} z^{2} + z^{4}}\\right)} - {\\left(2 \\, m^{2} {\\rho}^{6} + 3 \\, m^{2} {\\rho}^{4} z^{2} - m^{2} z^{6}\\right)} e^{\\left(\\frac{4 \\, m {\\rho}^{4}}{\\sqrt{{\\rho}^{2} + z^{2}} {\\rho}^{4} + 2 \\, \\sqrt{{\\rho}^{2} + z^{2}} {\\rho}^{2} z^{2} + \\sqrt{{\\rho}^{2} + z^{2}} z^{4}} + \\frac{8 \\, m {\\rho}^{2} z^{2}}{\\sqrt{{\\rho}^{2} + z^{2}} {\\rho}^{4} + 2 \\, \\sqrt{{\\rho}^{2} + z^{2}} {\\rho}^{2} z^{2} + \\sqrt{{\\rho}^{2} + z^{2}} z^{4}} + \\frac{4 \\, m z^{4}}{\\sqrt{{\\rho}^{2} + z^{2}} {\\rho}^{4} + 2 \\, \\sqrt{{\\rho}^{2} + z^{2}} {\\rho}^{2} z^{2} + \\sqrt{{\\rho}^{2} + z^{2}} z^{4}} + \\frac{m^{2} {\\rho}^{2}}{{\\rho}^{4} + 2 \\, {\\rho}^{2} z^{2} + z^{4}}\\right)}\\right)} e^{\\left(-\\frac{8 \\, m}{\\sqrt{{\\rho}^{2} + z^{2}}}\\right)}}{{\\rho}^{10} + 5 \\, {\\rho}^{8} z^{2} + 10 \\, {\\rho}^{6} z^{4} + 10 \\, {\\rho}^{4} z^{6} + 5 \\, {\\rho}^{2} z^{8} + z^{10}} \\\\ \\mathrm{Riem}\\left(g\\right)_{ \\phantom{\\, {\\rho}} \\, t \\, z \\, t }^{ \\, {\\rho} \\phantom{\\, t} \\phantom{\\, z} \\phantom{\\, t} } & = & \\frac{{\\left(3 \\, {\\left(m^{2} {\\rho}^{3} z + m^{2} {\\rho} z^{3}\\right)} \\sqrt{{\\rho}^{2} + z^{2}} e^{\\left(\\frac{8 \\, m {\\rho}^{4}}{\\sqrt{{\\rho}^{2} + z^{2}} {\\rho}^{4} + 2 \\, \\sqrt{{\\rho}^{2} + z^{2}} {\\rho}^{2} z^{2} + \\sqrt{{\\rho}^{2} + z^{2}} z^{4}} + \\frac{16 \\, m {\\rho}^{2} z^{2}}{\\sqrt{{\\rho}^{2} + z^{2}} {\\rho}^{4} + 2 \\, \\sqrt{{\\rho}^{2} + z^{2}} {\\rho}^{2} z^{2} + \\sqrt{{\\rho}^{2} + z^{2}} z^{4}} + \\frac{8 \\, m z^{4}}{\\sqrt{{\\rho}^{2} + z^{2}} {\\rho}^{4} + 2 \\, \\sqrt{{\\rho}^{2} + z^{2}} {\\rho}^{2} z^{2} + \\sqrt{{\\rho}^{2} + z^{2}} z^{4}} + \\frac{m^{2} {\\rho}^{2}}{{\\rho}^{4} + 2 \\, {\\rho}^{2} z^{2} + z^{4}}\\right)} - {\\left(3 \\, m {\\rho} z^{5} - {\\left(m^{3} {\\rho} - 6 \\, m {\\rho}^{3}\\right)} z^{3} + 3 \\, {\\left(m^{3} {\\rho}^{3} + m {\\rho}^{5}\\right)} z\\right)} e^{\\left(\\frac{8 \\, m {\\rho}^{4}}{\\sqrt{{\\rho}^{2} + z^{2}} {\\rho}^{4} + 2 \\, \\sqrt{{\\rho}^{2} + z^{2}} {\\rho}^{2} z^{2} + \\sqrt{{\\rho}^{2} + z^{2}} z^{4}} + \\frac{16 \\, m {\\rho}^{2} z^{2}}{\\sqrt{{\\rho}^{2} + z^{2}} {\\rho}^{4} + 2 \\, \\sqrt{{\\rho}^{2} + z^{2}} {\\rho}^{2} z^{2} + \\sqrt{{\\rho}^{2} + z^{2}} z^{4}} + \\frac{8 \\, m z^{4}}{\\sqrt{{\\rho}^{2} + z^{2}} {\\rho}^{4} + 2 \\, \\sqrt{{\\rho}^{2} + z^{2}} {\\rho}^{2} z^{2} + \\sqrt{{\\rho}^{2} + z^{2}} z^{4}} + \\frac{m^{2} {\\rho}^{2}}{{\\rho}^{4} + 2 \\, {\\rho}^{2} z^{2} + z^{4}}\\right)}\\right)} e^{\\left(-\\frac{12 \\, m}{\\sqrt{{\\rho}^{2} + z^{2}}}\\right)}}{{\\left({\\rho}^{8} + 4 \\, {\\rho}^{6} z^{2} + 6 \\, {\\rho}^{4} z^{4} + 4 \\, {\\rho}^{2} z^{6} + z^{8}\\right)} \\sqrt{{\\rho}^{2} + z^{2}}} \\\\ \\mathrm{Riem}\\left(g\\right)_{ \\phantom{\\, {\\rho}} \\, {\\phi} \\, {\\rho} \\, {\\phi} }^{ \\, {\\rho} \\phantom{\\, {\\phi}} \\phantom{\\, {\\rho}} \\phantom{\\, {\\phi}} } & = & \\frac{{\\left({\\left(m^{2} {\\rho}^{6} - m^{2} {\\rho}^{4} z^{2} - 2 \\, m^{2} {\\rho}^{2} z^{4}\\right)} \\sqrt{{\\rho}^{2} + z^{2}} e^{\\left(\\frac{2 \\, m {\\rho}^{4}}{\\sqrt{{\\rho}^{2} + z^{2}} {\\rho}^{4} + 2 \\, \\sqrt{{\\rho}^{2} + z^{2}} {\\rho}^{2} z^{2} + \\sqrt{{\\rho}^{2} + z^{2}} z^{4}} + \\frac{4 \\, m {\\rho}^{2} z^{2}}{\\sqrt{{\\rho}^{2} + z^{2}} {\\rho}^{4} + 2 \\, \\sqrt{{\\rho}^{2} + z^{2}} {\\rho}^{2} z^{2} + \\sqrt{{\\rho}^{2} + z^{2}} z^{4}} + \\frac{2 \\, m z^{4}}{\\sqrt{{\\rho}^{2} + z^{2}} {\\rho}^{4} + 2 \\, \\sqrt{{\\rho}^{2} + z^{2}} {\\rho}^{2} z^{2} + \\sqrt{{\\rho}^{2} + z^{2}} z^{4}} + \\frac{m^{2} {\\rho}^{2}}{{\\rho}^{4} + 2 \\, {\\rho}^{2} z^{2} + z^{4}}\\right)} - {\\left(m^{3} {\\rho}^{6} + m {\\rho}^{8} - 3 \\, m^{3} {\\rho}^{4} z^{2} - 3 \\, m {\\rho}^{4} z^{4} - 2 \\, m {\\rho}^{2} z^{6}\\right)} e^{\\left(\\frac{2 \\, m {\\rho}^{4}}{\\sqrt{{\\rho}^{2} + z^{2}} {\\rho}^{4} + 2 \\, \\sqrt{{\\rho}^{2} + z^{2}} {\\rho}^{2} z^{2} + \\sqrt{{\\rho}^{2} + z^{2}} z^{4}} + \\frac{4 \\, m {\\rho}^{2} z^{2}}{\\sqrt{{\\rho}^{2} + z^{2}} {\\rho}^{4} + 2 \\, \\sqrt{{\\rho}^{2} + z^{2}} {\\rho}^{2} z^{2} + \\sqrt{{\\rho}^{2} + z^{2}} z^{4}} + \\frac{2 \\, m z^{4}}{\\sqrt{{\\rho}^{2} + z^{2}} {\\rho}^{4} + 2 \\, \\sqrt{{\\rho}^{2} + z^{2}} {\\rho}^{2} z^{2} + \\sqrt{{\\rho}^{2} + z^{2}} z^{4}} + \\frac{m^{2} {\\rho}^{2}}{{\\rho}^{4} + 2 \\, {\\rho}^{2} z^{2} + z^{4}}\\right)}\\right)} e^{\\left(-\\frac{2 \\, m}{\\sqrt{{\\rho}^{2} + z^{2}}}\\right)}}{{\\left({\\rho}^{8} + 4 \\, {\\rho}^{6} z^{2} + 6 \\, {\\rho}^{4} z^{4} + 4 \\, {\\rho}^{2} z^{6} + z^{8}\\right)} \\sqrt{{\\rho}^{2} + z^{2}}} \\\\ \\mathrm{Riem}\\left(g\\right)_{ \\phantom{\\, {\\rho}} \\, {\\phi} \\, {\\phi} \\, {\\rho} }^{ \\, {\\rho} \\phantom{\\, {\\phi}} \\phantom{\\, {\\phi}} \\phantom{\\, {\\rho}} } & = & -\\frac{{\\left({\\left(m^{2} {\\rho}^{6} - m^{2} {\\rho}^{4} z^{2} - 2 \\, m^{2} {\\rho}^{2} z^{4}\\right)} \\sqrt{{\\rho}^{2} + z^{2}} e^{\\left(\\frac{2 \\, m {\\rho}^{4}}{\\sqrt{{\\rho}^{2} + z^{2}} {\\rho}^{4} + 2 \\, \\sqrt{{\\rho}^{2} + z^{2}} {\\rho}^{2} z^{2} + \\sqrt{{\\rho}^{2} + z^{2}} z^{4}} + \\frac{4 \\, m {\\rho}^{2} z^{2}}{\\sqrt{{\\rho}^{2} + z^{2}} {\\rho}^{4} + 2 \\, \\sqrt{{\\rho}^{2} + z^{2}} {\\rho}^{2} z^{2} + \\sqrt{{\\rho}^{2} + z^{2}} z^{4}} + \\frac{2 \\, m z^{4}}{\\sqrt{{\\rho}^{2} + z^{2}} {\\rho}^{4} + 2 \\, \\sqrt{{\\rho}^{2} + z^{2}} {\\rho}^{2} z^{2} + \\sqrt{{\\rho}^{2} + z^{2}} z^{4}} + \\frac{m^{2} {\\rho}^{2}}{{\\rho}^{4} + 2 \\, {\\rho}^{2} z^{2} + z^{4}}\\right)} - {\\left(m^{3} {\\rho}^{6} + m {\\rho}^{8} - 3 \\, m^{3} {\\rho}^{4} z^{2} - 3 \\, m {\\rho}^{4} z^{4} - 2 \\, m {\\rho}^{2} z^{6}\\right)} e^{\\left(\\frac{2 \\, m {\\rho}^{4}}{\\sqrt{{\\rho}^{2} + z^{2}} {\\rho}^{4} + 2 \\, \\sqrt{{\\rho}^{2} + z^{2}} {\\rho}^{2} z^{2} + \\sqrt{{\\rho}^{2} + z^{2}} z^{4}} + \\frac{4 \\, m {\\rho}^{2} z^{2}}{\\sqrt{{\\rho}^{2} + z^{2}} {\\rho}^{4} + 2 \\, \\sqrt{{\\rho}^{2} + z^{2}} {\\rho}^{2} z^{2} + \\sqrt{{\\rho}^{2} + z^{2}} z^{4}} + \\frac{2 \\, m z^{4}}{\\sqrt{{\\rho}^{2} + z^{2}} {\\rho}^{4} + 2 \\, \\sqrt{{\\rho}^{2} + z^{2}} {\\rho}^{2} z^{2} + \\sqrt{{\\rho}^{2} + z^{2}} z^{4}} + \\frac{m^{2} {\\rho}^{2}}{{\\rho}^{4} + 2 \\, {\\rho}^{2} z^{2} + z^{4}}\\right)}\\right)} e^{\\left(-\\frac{2 \\, m}{\\sqrt{{\\rho}^{2} + z^{2}}}\\right)}}{{\\left({\\rho}^{8} + 4 \\, {\\rho}^{6} z^{2} + 6 \\, {\\rho}^{4} z^{4} + 4 \\, {\\rho}^{2} z^{6} + z^{8}\\right)} \\sqrt{{\\rho}^{2} + z^{2}}} \\\\ \\mathrm{Riem}\\left(g\\right)_{ \\phantom{\\, {\\rho}} \\, {\\phi} \\, {\\phi} \\, z }^{ \\, {\\rho} \\phantom{\\, {\\phi}} \\phantom{\\, {\\phi}} \\phantom{\\, z} } & = & -\\frac{{\\left(3 \\, {\\left(m^{2} {\\rho}^{5} z + m^{2} {\\rho}^{3} z^{3}\\right)} \\sqrt{{\\rho}^{2} + z^{2}} e^{\\left(\\frac{2 \\, m {\\rho}^{4}}{\\sqrt{{\\rho}^{2} + z^{2}} {\\rho}^{4} + 2 \\, \\sqrt{{\\rho}^{2} + z^{2}} {\\rho}^{2} z^{2} + \\sqrt{{\\rho}^{2} + z^{2}} z^{4}} + \\frac{4 \\, m {\\rho}^{2} z^{2}}{\\sqrt{{\\rho}^{2} + z^{2}} {\\rho}^{4} + 2 \\, \\sqrt{{\\rho}^{2} + z^{2}} {\\rho}^{2} z^{2} + \\sqrt{{\\rho}^{2} + z^{2}} z^{4}} + \\frac{2 \\, m z^{4}}{\\sqrt{{\\rho}^{2} + z^{2}} {\\rho}^{4} + 2 \\, \\sqrt{{\\rho}^{2} + z^{2}} {\\rho}^{2} z^{2} + \\sqrt{{\\rho}^{2} + z^{2}} z^{4}} + \\frac{m^{2} {\\rho}^{2}}{{\\rho}^{4} + 2 \\, {\\rho}^{2} z^{2} + z^{4}}\\right)} - {\\left(3 \\, m {\\rho}^{3} z^{5} - {\\left(m^{3} {\\rho}^{3} - 6 \\, m {\\rho}^{5}\\right)} z^{3} + 3 \\, {\\left(m^{3} {\\rho}^{5} + m {\\rho}^{7}\\right)} z\\right)} e^{\\left(\\frac{2 \\, m {\\rho}^{4}}{\\sqrt{{\\rho}^{2} + z^{2}} {\\rho}^{4} + 2 \\, \\sqrt{{\\rho}^{2} + z^{2}} {\\rho}^{2} z^{2} + \\sqrt{{\\rho}^{2} + z^{2}} z^{4}} + \\frac{4 \\, m {\\rho}^{2} z^{2}}{\\sqrt{{\\rho}^{2} + z^{2}} {\\rho}^{4} + 2 \\, \\sqrt{{\\rho}^{2} + z^{2}} {\\rho}^{2} z^{2} + \\sqrt{{\\rho}^{2} + z^{2}} z^{4}} + \\frac{2 \\, m z^{4}}{\\sqrt{{\\rho}^{2} + z^{2}} {\\rho}^{4} + 2 \\, \\sqrt{{\\rho}^{2} + z^{2}} {\\rho}^{2} z^{2} + \\sqrt{{\\rho}^{2} + z^{2}} z^{4}} + \\frac{m^{2} {\\rho}^{2}}{{\\rho}^{4} + 2 \\, {\\rho}^{2} z^{2} + z^{4}}\\right)}\\right)} e^{\\left(-\\frac{2 \\, m}{\\sqrt{{\\rho}^{2} + z^{2}}}\\right)}}{{\\left({\\rho}^{8} + 4 \\, {\\rho}^{6} z^{2} + 6 \\, {\\rho}^{4} z^{4} + 4 \\, {\\rho}^{2} z^{6} + z^{8}\\right)} \\sqrt{{\\rho}^{2} + z^{2}}} \\\\ \\mathrm{Riem}\\left(g\\right)_{ \\phantom{\\, {\\rho}} \\, {\\phi} \\, z \\, {\\phi} }^{ \\, {\\rho} \\phantom{\\, {\\phi}} \\phantom{\\, z} \\phantom{\\, {\\phi}} } & = & \\frac{{\\left(3 \\, {\\left(m^{2} {\\rho}^{5} z + m^{2} {\\rho}^{3} z^{3}\\right)} \\sqrt{{\\rho}^{2} + z^{2}} e^{\\left(\\frac{2 \\, m {\\rho}^{4}}{\\sqrt{{\\rho}^{2} + z^{2}} {\\rho}^{4} + 2 \\, \\sqrt{{\\rho}^{2} + z^{2}} {\\rho}^{2} z^{2} + \\sqrt{{\\rho}^{2} + z^{2}} z^{4}} + \\frac{4 \\, m {\\rho}^{2} z^{2}}{\\sqrt{{\\rho}^{2} + z^{2}} {\\rho}^{4} + 2 \\, \\sqrt{{\\rho}^{2} + z^{2}} {\\rho}^{2} z^{2} + \\sqrt{{\\rho}^{2} + z^{2}} z^{4}} + \\frac{2 \\, m z^{4}}{\\sqrt{{\\rho}^{2} + z^{2}} {\\rho}^{4} + 2 \\, \\sqrt{{\\rho}^{2} + z^{2}} {\\rho}^{2} z^{2} + \\sqrt{{\\rho}^{2} + z^{2}} z^{4}} + \\frac{m^{2} {\\rho}^{2}}{{\\rho}^{4} + 2 \\, {\\rho}^{2} z^{2} + z^{4}}\\right)} - {\\left(3 \\, m {\\rho}^{3} z^{5} - {\\left(m^{3} {\\rho}^{3} - 6 \\, m {\\rho}^{5}\\right)} z^{3} + 3 \\, {\\left(m^{3} {\\rho}^{5} + m {\\rho}^{7}\\right)} z\\right)} e^{\\left(\\frac{2 \\, m {\\rho}^{4}}{\\sqrt{{\\rho}^{2} + z^{2}} {\\rho}^{4} + 2 \\, \\sqrt{{\\rho}^{2} + z^{2}} {\\rho}^{2} z^{2} + \\sqrt{{\\rho}^{2} + z^{2}} z^{4}} + \\frac{4 \\, m {\\rho}^{2} z^{2}}{\\sqrt{{\\rho}^{2} + z^{2}} {\\rho}^{4} + 2 \\, \\sqrt{{\\rho}^{2} + z^{2}} {\\rho}^{2} z^{2} + \\sqrt{{\\rho}^{2} + z^{2}} z^{4}} + \\frac{2 \\, m z^{4}}{\\sqrt{{\\rho}^{2} + z^{2}} {\\rho}^{4} + 2 \\, \\sqrt{{\\rho}^{2} + z^{2}} {\\rho}^{2} z^{2} + \\sqrt{{\\rho}^{2} + z^{2}} z^{4}} + \\frac{m^{2} {\\rho}^{2}}{{\\rho}^{4} + 2 \\, {\\rho}^{2} z^{2} + z^{4}}\\right)}\\right)} e^{\\left(-\\frac{2 \\, m}{\\sqrt{{\\rho}^{2} + z^{2}}}\\right)}}{{\\left({\\rho}^{8} + 4 \\, {\\rho}^{6} z^{2} + 6 \\, {\\rho}^{4} z^{4} + 4 \\, {\\rho}^{2} z^{6} + z^{8}\\right)} \\sqrt{{\\rho}^{2} + z^{2}}} \\\\ \\mathrm{Riem}\\left(g\\right)_{ \\phantom{\\, {\\rho}} \\, z \\, {\\rho} \\, z }^{ \\, {\\rho} \\phantom{\\, z} \\phantom{\\, {\\rho}} \\phantom{\\, z} } & = & \\frac{m^{2} - \\sqrt{{\\rho}^{2} + z^{2}} m}{{\\rho}^{4} + 2 \\, {\\rho}^{2} z^{2} + z^{4}} \\\\ \\mathrm{Riem}\\left(g\\right)_{ \\phantom{\\, {\\rho}} \\, z \\, z \\, {\\rho} }^{ \\, {\\rho} \\phantom{\\, z} \\phantom{\\, z} \\phantom{\\, {\\rho}} } & = & -\\frac{m^{2} - \\sqrt{{\\rho}^{2} + z^{2}} m}{{\\rho}^{4} + 2 \\, {\\rho}^{2} z^{2} + z^{4}} \\\\ \\mathrm{Riem}\\left(g\\right)_{ \\phantom{\\, {\\phi}} \\, t \\, t \\, {\\phi} }^{ \\, {\\phi} \\phantom{\\, t} \\phantom{\\, t} \\phantom{\\, {\\phi}} } & = & \\frac{{\\left(m^{2} e^{\\left(\\frac{4 \\, m {\\rho}^{4}}{\\sqrt{{\\rho}^{2} + z^{2}} {\\rho}^{4} + 2 \\, \\sqrt{{\\rho}^{2} + z^{2}} {\\rho}^{2} z^{2} + \\sqrt{{\\rho}^{2} + z^{2}} z^{4}} + \\frac{8 \\, m {\\rho}^{2} z^{2}}{\\sqrt{{\\rho}^{2} + z^{2}} {\\rho}^{4} + 2 \\, \\sqrt{{\\rho}^{2} + z^{2}} {\\rho}^{2} z^{2} + \\sqrt{{\\rho}^{2} + z^{2}} z^{4}} + \\frac{4 \\, m z^{4}}{\\sqrt{{\\rho}^{2} + z^{2}} {\\rho}^{4} + 2 \\, \\sqrt{{\\rho}^{2} + z^{2}} {\\rho}^{2} z^{2} + \\sqrt{{\\rho}^{2} + z^{2}} z^{4}} + \\frac{m^{2} {\\rho}^{2}}{{\\rho}^{4} + 2 \\, {\\rho}^{2} z^{2} + z^{4}}\\right)} - \\sqrt{{\\rho}^{2} + z^{2}} m e^{\\left(\\frac{4 \\, m {\\rho}^{4}}{\\sqrt{{\\rho}^{2} + z^{2}} {\\rho}^{4} + 2 \\, \\sqrt{{\\rho}^{2} + z^{2}} {\\rho}^{2} z^{2} + \\sqrt{{\\rho}^{2} + z^{2}} z^{4}} + \\frac{8 \\, m {\\rho}^{2} z^{2}}{\\sqrt{{\\rho}^{2} + z^{2}} {\\rho}^{4} + 2 \\, \\sqrt{{\\rho}^{2} + z^{2}} {\\rho}^{2} z^{2} + \\sqrt{{\\rho}^{2} + z^{2}} z^{4}} + \\frac{4 \\, m z^{4}}{\\sqrt{{\\rho}^{2} + z^{2}} {\\rho}^{4} + 2 \\, \\sqrt{{\\rho}^{2} + z^{2}} {\\rho}^{2} z^{2} + \\sqrt{{\\rho}^{2} + z^{2}} z^{4}} + \\frac{m^{2} {\\rho}^{2}}{{\\rho}^{4} + 2 \\, {\\rho}^{2} z^{2} + z^{4}}\\right)}\\right)} e^{\\left(-\\frac{8 \\, m}{\\sqrt{{\\rho}^{2} + z^{2}}}\\right)}}{{\\rho}^{4} + 2 \\, {\\rho}^{2} z^{2} + z^{4}} \\\\ \\mathrm{Riem}\\left(g\\right)_{ \\phantom{\\, {\\phi}} \\, t \\, {\\phi} \\, t }^{ \\, {\\phi} \\phantom{\\, t} \\phantom{\\, {\\phi}} \\phantom{\\, t} } & = & -\\frac{{\\left(m^{2} e^{\\left(\\frac{4 \\, m {\\rho}^{4}}{\\sqrt{{\\rho}^{2} + z^{2}} {\\rho}^{4} + 2 \\, \\sqrt{{\\rho}^{2} + z^{2}} {\\rho}^{2} z^{2} + \\sqrt{{\\rho}^{2} + z^{2}} z^{4}} + \\frac{8 \\, m {\\rho}^{2} z^{2}}{\\sqrt{{\\rho}^{2} + z^{2}} {\\rho}^{4} + 2 \\, \\sqrt{{\\rho}^{2} + z^{2}} {\\rho}^{2} z^{2} + \\sqrt{{\\rho}^{2} + z^{2}} z^{4}} + \\frac{4 \\, m z^{4}}{\\sqrt{{\\rho}^{2} + z^{2}} {\\rho}^{4} + 2 \\, \\sqrt{{\\rho}^{2} + z^{2}} {\\rho}^{2} z^{2} + \\sqrt{{\\rho}^{2} + z^{2}} z^{4}} + \\frac{m^{2} {\\rho}^{2}}{{\\rho}^{4} + 2 \\, {\\rho}^{2} z^{2} + z^{4}}\\right)} - \\sqrt{{\\rho}^{2} + z^{2}} m e^{\\left(\\frac{4 \\, m {\\rho}^{4}}{\\sqrt{{\\rho}^{2} + z^{2}} {\\rho}^{4} + 2 \\, \\sqrt{{\\rho}^{2} + z^{2}} {\\rho}^{2} z^{2} + \\sqrt{{\\rho}^{2} + z^{2}} z^{4}} + \\frac{8 \\, m {\\rho}^{2} z^{2}}{\\sqrt{{\\rho}^{2} + z^{2}} {\\rho}^{4} + 2 \\, \\sqrt{{\\rho}^{2} + z^{2}} {\\rho}^{2} z^{2} + \\sqrt{{\\rho}^{2} + z^{2}} z^{4}} + \\frac{4 \\, m z^{4}}{\\sqrt{{\\rho}^{2} + z^{2}} {\\rho}^{4} + 2 \\, \\sqrt{{\\rho}^{2} + z^{2}} {\\rho}^{2} z^{2} + \\sqrt{{\\rho}^{2} + z^{2}} z^{4}} + \\frac{m^{2} {\\rho}^{2}}{{\\rho}^{4} + 2 \\, {\\rho}^{2} z^{2} + z^{4}}\\right)}\\right)} e^{\\left(-\\frac{8 \\, m}{\\sqrt{{\\rho}^{2} + z^{2}}}\\right)}}{{\\rho}^{4} + 2 \\, {\\rho}^{2} z^{2} + z^{4}} \\\\ \\mathrm{Riem}\\left(g\\right)_{ \\phantom{\\, {\\phi}} \\, {\\rho} \\, {\\rho} \\, {\\phi} }^{ \\, {\\phi} \\phantom{\\, {\\rho}} \\phantom{\\, {\\rho}} \\phantom{\\, {\\phi}} } & = & \\frac{m^{3} {\\rho}^{4} + m {\\rho}^{6} - 3 \\, m^{3} {\\rho}^{2} z^{2} - 3 \\, m {\\rho}^{2} z^{4} - 2 \\, m z^{6} - {\\left(m^{2} {\\rho}^{4} - m^{2} {\\rho}^{2} z^{2} - 2 \\, m^{2} z^{4}\\right)} \\sqrt{{\\rho}^{2} + z^{2}}}{{\\left({\\rho}^{8} + 4 \\, {\\rho}^{6} z^{2} + 6 \\, {\\rho}^{4} z^{4} + 4 \\, {\\rho}^{2} z^{6} + z^{8}\\right)} \\sqrt{{\\rho}^{2} + z^{2}}} \\\\ \\mathrm{Riem}\\left(g\\right)_{ \\phantom{\\, {\\phi}} \\, {\\rho} \\, {\\phi} \\, {\\rho} }^{ \\, {\\phi} \\phantom{\\, {\\rho}} \\phantom{\\, {\\phi}} \\phantom{\\, {\\rho}} } & = & -\\frac{m^{3} {\\rho}^{4} + m {\\rho}^{6} - 3 \\, m^{3} {\\rho}^{2} z^{2} - 3 \\, m {\\rho}^{2} z^{4} - 2 \\, m z^{6} - {\\left(m^{2} {\\rho}^{4} - m^{2} {\\rho}^{2} z^{2} - 2 \\, m^{2} z^{4}\\right)} \\sqrt{{\\rho}^{2} + z^{2}}}{{\\left({\\rho}^{8} + 4 \\, {\\rho}^{6} z^{2} + 6 \\, {\\rho}^{4} z^{4} + 4 \\, {\\rho}^{2} z^{6} + z^{8}\\right)} \\sqrt{{\\rho}^{2} + z^{2}}} \\\\ \\mathrm{Riem}\\left(g\\right)_{ \\phantom{\\, {\\phi}} \\, {\\rho} \\, {\\phi} \\, z }^{ \\, {\\phi} \\phantom{\\, {\\rho}} \\phantom{\\, {\\phi}} \\phantom{\\, z} } & = & \\frac{3 \\, m^{2} {\\rho}^{5} z + 6 \\, m^{2} {\\rho}^{3} z^{3} + 3 \\, m^{2} {\\rho} z^{5} - {\\left(3 \\, m {\\rho} z^{5} - {\\left(m^{3} {\\rho} - 6 \\, m {\\rho}^{3}\\right)} z^{3} + 3 \\, {\\left(m^{3} {\\rho}^{3} + m {\\rho}^{5}\\right)} z\\right)} \\sqrt{{\\rho}^{2} + z^{2}}}{{\\rho}^{10} + 5 \\, {\\rho}^{8} z^{2} + 10 \\, {\\rho}^{6} z^{4} + 10 \\, {\\rho}^{4} z^{6} + 5 \\, {\\rho}^{2} z^{8} + z^{10}} \\\\ \\mathrm{Riem}\\left(g\\right)_{ \\phantom{\\, {\\phi}} \\, {\\rho} \\, z \\, {\\phi} }^{ \\, {\\phi} \\phantom{\\, {\\rho}} \\phantom{\\, z} \\phantom{\\, {\\phi}} } & = & -\\frac{3 \\, m^{2} {\\rho}^{5} z + 6 \\, m^{2} {\\rho}^{3} z^{3} + 3 \\, m^{2} {\\rho} z^{5} - {\\left(3 \\, m {\\rho} z^{5} - {\\left(m^{3} {\\rho} - 6 \\, m {\\rho}^{3}\\right)} z^{3} + 3 \\, {\\left(m^{3} {\\rho}^{3} + m {\\rho}^{5}\\right)} z\\right)} \\sqrt{{\\rho}^{2} + z^{2}}}{{\\rho}^{10} + 5 \\, {\\rho}^{8} z^{2} + 10 \\, {\\rho}^{6} z^{4} + 10 \\, {\\rho}^{4} z^{6} + 5 \\, {\\rho}^{2} z^{8} + z^{10}} \\\\ \\mathrm{Riem}\\left(g\\right)_{ \\phantom{\\, {\\phi}} \\, z \\, {\\rho} \\, {\\phi} }^{ \\, {\\phi} \\phantom{\\, z} \\phantom{\\, {\\rho}} \\phantom{\\, {\\phi}} } & = & \\frac{3 \\, m {\\rho} z^{5} - {\\left(m^{3} {\\rho} - 6 \\, m {\\rho}^{3}\\right)} z^{3} + 3 \\, {\\left(m^{3} {\\rho}^{3} + m {\\rho}^{5}\\right)} z - 3 \\, {\\left(m^{2} {\\rho}^{3} z + m^{2} {\\rho} z^{3}\\right)} \\sqrt{{\\rho}^{2} + z^{2}}}{{\\left({\\rho}^{8} + 4 \\, {\\rho}^{6} z^{2} + 6 \\, {\\rho}^{4} z^{4} + 4 \\, {\\rho}^{2} z^{6} + z^{8}\\right)} \\sqrt{{\\rho}^{2} + z^{2}}} \\\\ \\mathrm{Riem}\\left(g\\right)_{ \\phantom{\\, {\\phi}} \\, z \\, {\\phi} \\, {\\rho} }^{ \\, {\\phi} \\phantom{\\, z} \\phantom{\\, {\\phi}} \\phantom{\\, {\\rho}} } & = & -\\frac{3 \\, m {\\rho} z^{5} - {\\left(m^{3} {\\rho} - 6 \\, m {\\rho}^{3}\\right)} z^{3} + 3 \\, {\\left(m^{3} {\\rho}^{3} + m {\\rho}^{5}\\right)} z - 3 \\, {\\left(m^{2} {\\rho}^{3} z + m^{2} {\\rho} z^{3}\\right)} \\sqrt{{\\rho}^{2} + z^{2}}}{{\\left({\\rho}^{8} + 4 \\, {\\rho}^{6} z^{2} + 6 \\, {\\rho}^{4} z^{4} + 4 \\, {\\rho}^{2} z^{6} + z^{8}\\right)} \\sqrt{{\\rho}^{2} + z^{2}}} \\\\ \\mathrm{Riem}\\left(g\\right)_{ \\phantom{\\, {\\phi}} \\, z \\, {\\phi} \\, z }^{ \\, {\\phi} \\phantom{\\, z} \\phantom{\\, {\\phi}} \\phantom{\\, z} } & = & -\\frac{2 \\, m^{2} {\\rho}^{6} + 3 \\, m^{2} {\\rho}^{4} z^{2} - m^{2} z^{6} - {\\left(m^{3} {\\rho}^{4} + 2 \\, m {\\rho}^{6} - m z^{6} - 3 \\, {\\left(m^{3} {\\rho}^{2} - m {\\rho}^{4}\\right)} z^{2}\\right)} \\sqrt{{\\rho}^{2} + z^{2}}}{{\\rho}^{10} + 5 \\, {\\rho}^{8} z^{2} + 10 \\, {\\rho}^{6} z^{4} + 10 \\, {\\rho}^{4} z^{6} + 5 \\, {\\rho}^{2} z^{8} + z^{10}} \\\\ \\mathrm{Riem}\\left(g\\right)_{ \\phantom{\\, {\\phi}} \\, z \\, z \\, {\\phi} }^{ \\, {\\phi} \\phantom{\\, z} \\phantom{\\, z} \\phantom{\\, {\\phi}} } & = & \\frac{2 \\, m^{2} {\\rho}^{6} + 3 \\, m^{2} {\\rho}^{4} z^{2} - m^{2} z^{6} - {\\left(m^{3} {\\rho}^{4} + 2 \\, m {\\rho}^{6} - m z^{6} - 3 \\, {\\left(m^{3} {\\rho}^{2} - m {\\rho}^{4}\\right)} z^{2}\\right)} \\sqrt{{\\rho}^{2} + z^{2}}}{{\\rho}^{10} + 5 \\, {\\rho}^{8} z^{2} + 10 \\, {\\rho}^{6} z^{4} + 10 \\, {\\rho}^{4} z^{6} + 5 \\, {\\rho}^{2} z^{8} + z^{10}} \\\\ \\mathrm{Riem}\\left(g\\right)_{ \\phantom{\\, z} \\, t \\, t \\, {\\rho} }^{ \\, z \\phantom{\\, t} \\phantom{\\, t} \\phantom{\\, {\\rho}} } & = & -\\frac{{\\left(3 \\, {\\left(m^{2} {\\rho}^{3} z + m^{2} {\\rho} z^{3}\\right)} \\sqrt{{\\rho}^{2} + z^{2}} e^{\\left(\\frac{8 \\, m {\\rho}^{4}}{\\sqrt{{\\rho}^{2} + z^{2}} {\\rho}^{4} + 2 \\, \\sqrt{{\\rho}^{2} + z^{2}} {\\rho}^{2} z^{2} + \\sqrt{{\\rho}^{2} + z^{2}} z^{4}} + \\frac{16 \\, m {\\rho}^{2} z^{2}}{\\sqrt{{\\rho}^{2} + z^{2}} {\\rho}^{4} + 2 \\, \\sqrt{{\\rho}^{2} + z^{2}} {\\rho}^{2} z^{2} + \\sqrt{{\\rho}^{2} + z^{2}} z^{4}} + \\frac{8 \\, m z^{4}}{\\sqrt{{\\rho}^{2} + z^{2}} {\\rho}^{4} + 2 \\, \\sqrt{{\\rho}^{2} + z^{2}} {\\rho}^{2} z^{2} + \\sqrt{{\\rho}^{2} + z^{2}} z^{4}} + \\frac{m^{2} {\\rho}^{2}}{{\\rho}^{4} + 2 \\, {\\rho}^{2} z^{2} + z^{4}}\\right)} - {\\left(3 \\, m {\\rho} z^{5} - {\\left(m^{3} {\\rho} - 6 \\, m {\\rho}^{3}\\right)} z^{3} + 3 \\, {\\left(m^{3} {\\rho}^{3} + m {\\rho}^{5}\\right)} z\\right)} e^{\\left(\\frac{8 \\, m {\\rho}^{4}}{\\sqrt{{\\rho}^{2} + z^{2}} {\\rho}^{4} + 2 \\, \\sqrt{{\\rho}^{2} + z^{2}} {\\rho}^{2} z^{2} + \\sqrt{{\\rho}^{2} + z^{2}} z^{4}} + \\frac{16 \\, m {\\rho}^{2} z^{2}}{\\sqrt{{\\rho}^{2} + z^{2}} {\\rho}^{4} + 2 \\, \\sqrt{{\\rho}^{2} + z^{2}} {\\rho}^{2} z^{2} + \\sqrt{{\\rho}^{2} + z^{2}} z^{4}} + \\frac{8 \\, m z^{4}}{\\sqrt{{\\rho}^{2} + z^{2}} {\\rho}^{4} + 2 \\, \\sqrt{{\\rho}^{2} + z^{2}} {\\rho}^{2} z^{2} + \\sqrt{{\\rho}^{2} + z^{2}} z^{4}} + \\frac{m^{2} {\\rho}^{2}}{{\\rho}^{4} + 2 \\, {\\rho}^{2} z^{2} + z^{4}}\\right)}\\right)} e^{\\left(-\\frac{12 \\, m}{\\sqrt{{\\rho}^{2} + z^{2}}}\\right)}}{{\\left({\\rho}^{8} + 4 \\, {\\rho}^{6} z^{2} + 6 \\, {\\rho}^{4} z^{4} + 4 \\, {\\rho}^{2} z^{6} + z^{8}\\right)} \\sqrt{{\\rho}^{2} + z^{2}}} \\\\ \\mathrm{Riem}\\left(g\\right)_{ \\phantom{\\, z} \\, t \\, t \\, z }^{ \\, z \\phantom{\\, t} \\phantom{\\, t} \\phantom{\\, z} } & = & -\\frac{{\\left({\\left(m^{3} {\\rho}^{4} + m {\\rho}^{6} - 3 \\, m^{3} {\\rho}^{2} z^{2} - 3 \\, m {\\rho}^{2} z^{4} - 2 \\, m z^{6}\\right)} \\sqrt{{\\rho}^{2} + z^{2}} e^{\\left(\\frac{4 \\, m {\\rho}^{4}}{\\sqrt{{\\rho}^{2} + z^{2}} {\\rho}^{4} + 2 \\, \\sqrt{{\\rho}^{2} + z^{2}} {\\rho}^{2} z^{2} + \\sqrt{{\\rho}^{2} + z^{2}} z^{4}} + \\frac{8 \\, m {\\rho}^{2} z^{2}}{\\sqrt{{\\rho}^{2} + z^{2}} {\\rho}^{4} + 2 \\, \\sqrt{{\\rho}^{2} + z^{2}} {\\rho}^{2} z^{2} + \\sqrt{{\\rho}^{2} + z^{2}} z^{4}} + \\frac{4 \\, m z^{4}}{\\sqrt{{\\rho}^{2} + z^{2}} {\\rho}^{4} + 2 \\, \\sqrt{{\\rho}^{2} + z^{2}} {\\rho}^{2} z^{2} + \\sqrt{{\\rho}^{2} + z^{2}} z^{4}} + \\frac{m^{2} {\\rho}^{2}}{{\\rho}^{4} + 2 \\, {\\rho}^{2} z^{2} + z^{4}}\\right)} - {\\left(m^{2} {\\rho}^{6} - 3 \\, m^{2} {\\rho}^{2} z^{4} - 2 \\, m^{2} z^{6}\\right)} e^{\\left(\\frac{4 \\, m {\\rho}^{4}}{\\sqrt{{\\rho}^{2} + z^{2}} {\\rho}^{4} + 2 \\, \\sqrt{{\\rho}^{2} + z^{2}} {\\rho}^{2} z^{2} + \\sqrt{{\\rho}^{2} + z^{2}} z^{4}} + \\frac{8 \\, m {\\rho}^{2} z^{2}}{\\sqrt{{\\rho}^{2} + z^{2}} {\\rho}^{4} + 2 \\, \\sqrt{{\\rho}^{2} + z^{2}} {\\rho}^{2} z^{2} + \\sqrt{{\\rho}^{2} + z^{2}} z^{4}} + \\frac{4 \\, m z^{4}}{\\sqrt{{\\rho}^{2} + z^{2}} {\\rho}^{4} + 2 \\, \\sqrt{{\\rho}^{2} + z^{2}} {\\rho}^{2} z^{2} + \\sqrt{{\\rho}^{2} + z^{2}} z^{4}} + \\frac{m^{2} {\\rho}^{2}}{{\\rho}^{4} + 2 \\, {\\rho}^{2} z^{2} + z^{4}}\\right)}\\right)} e^{\\left(-\\frac{8 \\, m}{\\sqrt{{\\rho}^{2} + z^{2}}}\\right)}}{{\\rho}^{10} + 5 \\, {\\rho}^{8} z^{2} + 10 \\, {\\rho}^{6} z^{4} + 10 \\, {\\rho}^{4} z^{6} + 5 \\, {\\rho}^{2} z^{8} + z^{10}} \\\\ \\mathrm{Riem}\\left(g\\right)_{ \\phantom{\\, z} \\, t \\, {\\rho} \\, t }^{ \\, z \\phantom{\\, t} \\phantom{\\, {\\rho}} \\phantom{\\, t} } & = & \\frac{{\\left(3 \\, {\\left(m^{2} {\\rho}^{3} z + m^{2} {\\rho} z^{3}\\right)} \\sqrt{{\\rho}^{2} + z^{2}} e^{\\left(\\frac{8 \\, m {\\rho}^{4}}{\\sqrt{{\\rho}^{2} + z^{2}} {\\rho}^{4} + 2 \\, \\sqrt{{\\rho}^{2} + z^{2}} {\\rho}^{2} z^{2} + \\sqrt{{\\rho}^{2} + z^{2}} z^{4}} + \\frac{16 \\, m {\\rho}^{2} z^{2}}{\\sqrt{{\\rho}^{2} + z^{2}} {\\rho}^{4} + 2 \\, \\sqrt{{\\rho}^{2} + z^{2}} {\\rho}^{2} z^{2} + \\sqrt{{\\rho}^{2} + z^{2}} z^{4}} + \\frac{8 \\, m z^{4}}{\\sqrt{{\\rho}^{2} + z^{2}} {\\rho}^{4} + 2 \\, \\sqrt{{\\rho}^{2} + z^{2}} {\\rho}^{2} z^{2} + \\sqrt{{\\rho}^{2} + z^{2}} z^{4}} + \\frac{m^{2} {\\rho}^{2}}{{\\rho}^{4} + 2 \\, {\\rho}^{2} z^{2} + z^{4}}\\right)} - {\\left(3 \\, m {\\rho} z^{5} - {\\left(m^{3} {\\rho} - 6 \\, m {\\rho}^{3}\\right)} z^{3} + 3 \\, {\\left(m^{3} {\\rho}^{3} + m {\\rho}^{5}\\right)} z\\right)} e^{\\left(\\frac{8 \\, m {\\rho}^{4}}{\\sqrt{{\\rho}^{2} + z^{2}} {\\rho}^{4} + 2 \\, \\sqrt{{\\rho}^{2} + z^{2}} {\\rho}^{2} z^{2} + \\sqrt{{\\rho}^{2} + z^{2}} z^{4}} + \\frac{16 \\, m {\\rho}^{2} z^{2}}{\\sqrt{{\\rho}^{2} + z^{2}} {\\rho}^{4} + 2 \\, \\sqrt{{\\rho}^{2} + z^{2}} {\\rho}^{2} z^{2} + \\sqrt{{\\rho}^{2} + z^{2}} z^{4}} + \\frac{8 \\, m z^{4}}{\\sqrt{{\\rho}^{2} + z^{2}} {\\rho}^{4} + 2 \\, \\sqrt{{\\rho}^{2} + z^{2}} {\\rho}^{2} z^{2} + \\sqrt{{\\rho}^{2} + z^{2}} z^{4}} + \\frac{m^{2} {\\rho}^{2}}{{\\rho}^{4} + 2 \\, {\\rho}^{2} z^{2} + z^{4}}\\right)}\\right)} e^{\\left(-\\frac{12 \\, m}{\\sqrt{{\\rho}^{2} + z^{2}}}\\right)}}{{\\left({\\rho}^{8} + 4 \\, {\\rho}^{6} z^{2} + 6 \\, {\\rho}^{4} z^{4} + 4 \\, {\\rho}^{2} z^{6} + z^{8}\\right)} \\sqrt{{\\rho}^{2} + z^{2}}} \\\\ \\mathrm{Riem}\\left(g\\right)_{ \\phantom{\\, z} \\, t \\, z \\, t }^{ \\, z \\phantom{\\, t} \\phantom{\\, z} \\phantom{\\, t} } & = & \\frac{{\\left({\\left(m^{3} {\\rho}^{4} + m {\\rho}^{6} - 3 \\, m^{3} {\\rho}^{2} z^{2} - 3 \\, m {\\rho}^{2} z^{4} - 2 \\, m z^{6}\\right)} \\sqrt{{\\rho}^{2} + z^{2}} e^{\\left(\\frac{4 \\, m {\\rho}^{4}}{\\sqrt{{\\rho}^{2} + z^{2}} {\\rho}^{4} + 2 \\, \\sqrt{{\\rho}^{2} + z^{2}} {\\rho}^{2} z^{2} + \\sqrt{{\\rho}^{2} + z^{2}} z^{4}} + \\frac{8 \\, m {\\rho}^{2} z^{2}}{\\sqrt{{\\rho}^{2} + z^{2}} {\\rho}^{4} + 2 \\, \\sqrt{{\\rho}^{2} + z^{2}} {\\rho}^{2} z^{2} + \\sqrt{{\\rho}^{2} + z^{2}} z^{4}} + \\frac{4 \\, m z^{4}}{\\sqrt{{\\rho}^{2} + z^{2}} {\\rho}^{4} + 2 \\, \\sqrt{{\\rho}^{2} + z^{2}} {\\rho}^{2} z^{2} + \\sqrt{{\\rho}^{2} + z^{2}} z^{4}} + \\frac{m^{2} {\\rho}^{2}}{{\\rho}^{4} + 2 \\, {\\rho}^{2} z^{2} + z^{4}}\\right)} - {\\left(m^{2} {\\rho}^{6} - 3 \\, m^{2} {\\rho}^{2} z^{4} - 2 \\, m^{2} z^{6}\\right)} e^{\\left(\\frac{4 \\, m {\\rho}^{4}}{\\sqrt{{\\rho}^{2} + z^{2}} {\\rho}^{4} + 2 \\, \\sqrt{{\\rho}^{2} + z^{2}} {\\rho}^{2} z^{2} + \\sqrt{{\\rho}^{2} + z^{2}} z^{4}} + \\frac{8 \\, m {\\rho}^{2} z^{2}}{\\sqrt{{\\rho}^{2} + z^{2}} {\\rho}^{4} + 2 \\, \\sqrt{{\\rho}^{2} + z^{2}} {\\rho}^{2} z^{2} + \\sqrt{{\\rho}^{2} + z^{2}} z^{4}} + \\frac{4 \\, m z^{4}}{\\sqrt{{\\rho}^{2} + z^{2}} {\\rho}^{4} + 2 \\, \\sqrt{{\\rho}^{2} + z^{2}} {\\rho}^{2} z^{2} + \\sqrt{{\\rho}^{2} + z^{2}} z^{4}} + \\frac{m^{2} {\\rho}^{2}}{{\\rho}^{4} + 2 \\, {\\rho}^{2} z^{2} + z^{4}}\\right)}\\right)} e^{\\left(-\\frac{8 \\, m}{\\sqrt{{\\rho}^{2} + z^{2}}}\\right)}}{{\\rho}^{10} + 5 \\, {\\rho}^{8} z^{2} + 10 \\, {\\rho}^{6} z^{4} + 10 \\, {\\rho}^{4} z^{6} + 5 \\, {\\rho}^{2} z^{8} + z^{10}} \\\\ \\mathrm{Riem}\\left(g\\right)_{ \\phantom{\\, z} \\, {\\rho} \\, {\\rho} \\, z }^{ \\, z \\phantom{\\, {\\rho}} \\phantom{\\, {\\rho}} \\phantom{\\, z} } & = & -\\frac{m^{2} - \\sqrt{{\\rho}^{2} + z^{2}} m}{{\\rho}^{4} + 2 \\, {\\rho}^{2} z^{2} + z^{4}} \\\\ \\mathrm{Riem}\\left(g\\right)_{ \\phantom{\\, z} \\, {\\rho} \\, z \\, {\\rho} }^{ \\, z \\phantom{\\, {\\rho}} \\phantom{\\, z} \\phantom{\\, {\\rho}} } & = & \\frac{m^{2} - \\sqrt{{\\rho}^{2} + z^{2}} m}{{\\rho}^{4} + 2 \\, {\\rho}^{2} z^{2} + z^{4}} \\\\ \\mathrm{Riem}\\left(g\\right)_{ \\phantom{\\, z} \\, {\\phi} \\, {\\rho} \\, {\\phi} }^{ \\, z \\phantom{\\, {\\phi}} \\phantom{\\, {\\rho}} \\phantom{\\, {\\phi}} } & = & \\frac{{\\left(3 \\, {\\left(m^{2} {\\rho}^{5} z + m^{2} {\\rho}^{3} z^{3}\\right)} \\sqrt{{\\rho}^{2} + z^{2}} e^{\\left(\\frac{2 \\, m {\\rho}^{4}}{\\sqrt{{\\rho}^{2} + z^{2}} {\\rho}^{4} + 2 \\, \\sqrt{{\\rho}^{2} + z^{2}} {\\rho}^{2} z^{2} + \\sqrt{{\\rho}^{2} + z^{2}} z^{4}} + \\frac{4 \\, m {\\rho}^{2} z^{2}}{\\sqrt{{\\rho}^{2} + z^{2}} {\\rho}^{4} + 2 \\, \\sqrt{{\\rho}^{2} + z^{2}} {\\rho}^{2} z^{2} + \\sqrt{{\\rho}^{2} + z^{2}} z^{4}} + \\frac{2 \\, m z^{4}}{\\sqrt{{\\rho}^{2} + z^{2}} {\\rho}^{4} + 2 \\, \\sqrt{{\\rho}^{2} + z^{2}} {\\rho}^{2} z^{2} + \\sqrt{{\\rho}^{2} + z^{2}} z^{4}} + \\frac{m^{2} {\\rho}^{2}}{{\\rho}^{4} + 2 \\, {\\rho}^{2} z^{2} + z^{4}}\\right)} - {\\left(3 \\, m {\\rho}^{3} z^{5} - {\\left(m^{3} {\\rho}^{3} - 6 \\, m {\\rho}^{5}\\right)} z^{3} + 3 \\, {\\left(m^{3} {\\rho}^{5} + m {\\rho}^{7}\\right)} z\\right)} e^{\\left(\\frac{2 \\, m {\\rho}^{4}}{\\sqrt{{\\rho}^{2} + z^{2}} {\\rho}^{4} + 2 \\, \\sqrt{{\\rho}^{2} + z^{2}} {\\rho}^{2} z^{2} + \\sqrt{{\\rho}^{2} + z^{2}} z^{4}} + \\frac{4 \\, m {\\rho}^{2} z^{2}}{\\sqrt{{\\rho}^{2} + z^{2}} {\\rho}^{4} + 2 \\, \\sqrt{{\\rho}^{2} + z^{2}} {\\rho}^{2} z^{2} + \\sqrt{{\\rho}^{2} + z^{2}} z^{4}} + \\frac{2 \\, m z^{4}}{\\sqrt{{\\rho}^{2} + z^{2}} {\\rho}^{4} + 2 \\, \\sqrt{{\\rho}^{2} + z^{2}} {\\rho}^{2} z^{2} + \\sqrt{{\\rho}^{2} + z^{2}} z^{4}} + \\frac{m^{2} {\\rho}^{2}}{{\\rho}^{4} + 2 \\, {\\rho}^{2} z^{2} + z^{4}}\\right)}\\right)} e^{\\left(-\\frac{2 \\, m}{\\sqrt{{\\rho}^{2} + z^{2}}}\\right)}}{{\\left({\\rho}^{8} + 4 \\, {\\rho}^{6} z^{2} + 6 \\, {\\rho}^{4} z^{4} + 4 \\, {\\rho}^{2} z^{6} + z^{8}\\right)} \\sqrt{{\\rho}^{2} + z^{2}}} \\\\ \\mathrm{Riem}\\left(g\\right)_{ \\phantom{\\, z} \\, {\\phi} \\, {\\phi} \\, {\\rho} }^{ \\, z \\phantom{\\, {\\phi}} \\phantom{\\, {\\phi}} \\phantom{\\, {\\rho}} } & = & -\\frac{{\\left(3 \\, {\\left(m^{2} {\\rho}^{5} z + m^{2} {\\rho}^{3} z^{3}\\right)} \\sqrt{{\\rho}^{2} + z^{2}} e^{\\left(\\frac{2 \\, m {\\rho}^{4}}{\\sqrt{{\\rho}^{2} + z^{2}} {\\rho}^{4} + 2 \\, \\sqrt{{\\rho}^{2} + z^{2}} {\\rho}^{2} z^{2} + \\sqrt{{\\rho}^{2} + z^{2}} z^{4}} + \\frac{4 \\, m {\\rho}^{2} z^{2}}{\\sqrt{{\\rho}^{2} + z^{2}} {\\rho}^{4} + 2 \\, \\sqrt{{\\rho}^{2} + z^{2}} {\\rho}^{2} z^{2} + \\sqrt{{\\rho}^{2} + z^{2}} z^{4}} + \\frac{2 \\, m z^{4}}{\\sqrt{{\\rho}^{2} + z^{2}} {\\rho}^{4} + 2 \\, \\sqrt{{\\rho}^{2} + z^{2}} {\\rho}^{2} z^{2} + \\sqrt{{\\rho}^{2} + z^{2}} z^{4}} + \\frac{m^{2} {\\rho}^{2}}{{\\rho}^{4} + 2 \\, {\\rho}^{2} z^{2} + z^{4}}\\right)} - {\\left(3 \\, m {\\rho}^{3} z^{5} - {\\left(m^{3} {\\rho}^{3} - 6 \\, m {\\rho}^{5}\\right)} z^{3} + 3 \\, {\\left(m^{3} {\\rho}^{5} + m {\\rho}^{7}\\right)} z\\right)} e^{\\left(\\frac{2 \\, m {\\rho}^{4}}{\\sqrt{{\\rho}^{2} + z^{2}} {\\rho}^{4} + 2 \\, \\sqrt{{\\rho}^{2} + z^{2}} {\\rho}^{2} z^{2} + \\sqrt{{\\rho}^{2} + z^{2}} z^{4}} + \\frac{4 \\, m {\\rho}^{2} z^{2}}{\\sqrt{{\\rho}^{2} + z^{2}} {\\rho}^{4} + 2 \\, \\sqrt{{\\rho}^{2} + z^{2}} {\\rho}^{2} z^{2} + \\sqrt{{\\rho}^{2} + z^{2}} z^{4}} + \\frac{2 \\, m z^{4}}{\\sqrt{{\\rho}^{2} + z^{2}} {\\rho}^{4} + 2 \\, \\sqrt{{\\rho}^{2} + z^{2}} {\\rho}^{2} z^{2} + \\sqrt{{\\rho}^{2} + z^{2}} z^{4}} + \\frac{m^{2} {\\rho}^{2}}{{\\rho}^{4} + 2 \\, {\\rho}^{2} z^{2} + z^{4}}\\right)}\\right)} e^{\\left(-\\frac{2 \\, m}{\\sqrt{{\\rho}^{2} + z^{2}}}\\right)}}{{\\left({\\rho}^{8} + 4 \\, {\\rho}^{6} z^{2} + 6 \\, {\\rho}^{4} z^{4} + 4 \\, {\\rho}^{2} z^{6} + z^{8}\\right)} \\sqrt{{\\rho}^{2} + z^{2}}} \\\\ \\mathrm{Riem}\\left(g\\right)_{ \\phantom{\\, z} \\, {\\phi} \\, {\\phi} \\, z }^{ \\, z \\phantom{\\, {\\phi}} \\phantom{\\, {\\phi}} \\phantom{\\, z} } & = & \\frac{{\\left({\\left(2 \\, m^{2} {\\rho}^{6} + m^{2} {\\rho}^{4} z^{2} - m^{2} {\\rho}^{2} z^{4}\\right)} \\sqrt{{\\rho}^{2} + z^{2}} e^{\\left(\\frac{2 \\, m {\\rho}^{4}}{\\sqrt{{\\rho}^{2} + z^{2}} {\\rho}^{4} + 2 \\, \\sqrt{{\\rho}^{2} + z^{2}} {\\rho}^{2} z^{2} + \\sqrt{{\\rho}^{2} + z^{2}} z^{4}} + \\frac{4 \\, m {\\rho}^{2} z^{2}}{\\sqrt{{\\rho}^{2} + z^{2}} {\\rho}^{4} + 2 \\, \\sqrt{{\\rho}^{2} + z^{2}} {\\rho}^{2} z^{2} + \\sqrt{{\\rho}^{2} + z^{2}} z^{4}} + \\frac{2 \\, m z^{4}}{\\sqrt{{\\rho}^{2} + z^{2}} {\\rho}^{4} + 2 \\, \\sqrt{{\\rho}^{2} + z^{2}} {\\rho}^{2} z^{2} + \\sqrt{{\\rho}^{2} + z^{2}} z^{4}} + \\frac{m^{2} {\\rho}^{2}}{{\\rho}^{4} + 2 \\, {\\rho}^{2} z^{2} + z^{4}}\\right)} - {\\left(m^{3} {\\rho}^{6} + 2 \\, m {\\rho}^{8} - m {\\rho}^{2} z^{6} - 3 \\, {\\left(m^{3} {\\rho}^{4} - m {\\rho}^{6}\\right)} z^{2}\\right)} e^{\\left(\\frac{2 \\, m {\\rho}^{4}}{\\sqrt{{\\rho}^{2} + z^{2}} {\\rho}^{4} + 2 \\, \\sqrt{{\\rho}^{2} + z^{2}} {\\rho}^{2} z^{2} + \\sqrt{{\\rho}^{2} + z^{2}} z^{4}} + \\frac{4 \\, m {\\rho}^{2} z^{2}}{\\sqrt{{\\rho}^{2} + z^{2}} {\\rho}^{4} + 2 \\, \\sqrt{{\\rho}^{2} + z^{2}} {\\rho}^{2} z^{2} + \\sqrt{{\\rho}^{2} + z^{2}} z^{4}} + \\frac{2 \\, m z^{4}}{\\sqrt{{\\rho}^{2} + z^{2}} {\\rho}^{4} + 2 \\, \\sqrt{{\\rho}^{2} + z^{2}} {\\rho}^{2} z^{2} + \\sqrt{{\\rho}^{2} + z^{2}} z^{4}} + \\frac{m^{2} {\\rho}^{2}}{{\\rho}^{4} + 2 \\, {\\rho}^{2} z^{2} + z^{4}}\\right)}\\right)} e^{\\left(-\\frac{2 \\, m}{\\sqrt{{\\rho}^{2} + z^{2}}}\\right)}}{{\\left({\\rho}^{8} + 4 \\, {\\rho}^{6} z^{2} + 6 \\, {\\rho}^{4} z^{4} + 4 \\, {\\rho}^{2} z^{6} + z^{8}\\right)} \\sqrt{{\\rho}^{2} + z^{2}}} \\\\ \\mathrm{Riem}\\left(g\\right)_{ \\phantom{\\, z} \\, {\\phi} \\, z \\, {\\phi} }^{ \\, z \\phantom{\\, {\\phi}} \\phantom{\\, z} \\phantom{\\, {\\phi}} } & = & -\\frac{{\\left({\\left(2 \\, m^{2} {\\rho}^{6} + m^{2} {\\rho}^{4} z^{2} - m^{2} {\\rho}^{2} z^{4}\\right)} \\sqrt{{\\rho}^{2} + z^{2}} e^{\\left(\\frac{2 \\, m {\\rho}^{4}}{\\sqrt{{\\rho}^{2} + z^{2}} {\\rho}^{4} + 2 \\, \\sqrt{{\\rho}^{2} + z^{2}} {\\rho}^{2} z^{2} + \\sqrt{{\\rho}^{2} + z^{2}} z^{4}} + \\frac{4 \\, m {\\rho}^{2} z^{2}}{\\sqrt{{\\rho}^{2} + z^{2}} {\\rho}^{4} + 2 \\, \\sqrt{{\\rho}^{2} + z^{2}} {\\rho}^{2} z^{2} + \\sqrt{{\\rho}^{2} + z^{2}} z^{4}} + \\frac{2 \\, m z^{4}}{\\sqrt{{\\rho}^{2} + z^{2}} {\\rho}^{4} + 2 \\, \\sqrt{{\\rho}^{2} + z^{2}} {\\rho}^{2} z^{2} + \\sqrt{{\\rho}^{2} + z^{2}} z^{4}} + \\frac{m^{2} {\\rho}^{2}}{{\\rho}^{4} + 2 \\, {\\rho}^{2} z^{2} + z^{4}}\\right)} - {\\left(m^{3} {\\rho}^{6} + 2 \\, m {\\rho}^{8} - m {\\rho}^{2} z^{6} - 3 \\, {\\left(m^{3} {\\rho}^{4} - m {\\rho}^{6}\\right)} z^{2}\\right)} e^{\\left(\\frac{2 \\, m {\\rho}^{4}}{\\sqrt{{\\rho}^{2} + z^{2}} {\\rho}^{4} + 2 \\, \\sqrt{{\\rho}^{2} + z^{2}} {\\rho}^{2} z^{2} + \\sqrt{{\\rho}^{2} + z^{2}} z^{4}} + \\frac{4 \\, m {\\rho}^{2} z^{2}}{\\sqrt{{\\rho}^{2} + z^{2}} {\\rho}^{4} + 2 \\, \\sqrt{{\\rho}^{2} + z^{2}} {\\rho}^{2} z^{2} + \\sqrt{{\\rho}^{2} + z^{2}} z^{4}} + \\frac{2 \\, m z^{4}}{\\sqrt{{\\rho}^{2} + z^{2}} {\\rho}^{4} + 2 \\, \\sqrt{{\\rho}^{2} + z^{2}} {\\rho}^{2} z^{2} + \\sqrt{{\\rho}^{2} + z^{2}} z^{4}} + \\frac{m^{2} {\\rho}^{2}}{{\\rho}^{4} + 2 \\, {\\rho}^{2} z^{2} + z^{4}}\\right)}\\right)} e^{\\left(-\\frac{2 \\, m}{\\sqrt{{\\rho}^{2} + z^{2}}}\\right)}}{{\\left({\\rho}^{8} + 4 \\, {\\rho}^{6} z^{2} + 6 \\, {\\rho}^{4} z^{4} + 4 \\, {\\rho}^{2} z^{6} + z^{8}\\right)} \\sqrt{{\\rho}^{2} + z^{2}}} \\end{array}</script></html>"
      ],
      "text/plain": [
       "Riem(g)^t_rho,t,rho = -(2*m^2*rho^6 + 3*m^2*rho^4*z^2 - m^2*z^6 - (m^3*rho^4 + 2*m*rho^6 - m*z^6 - 3*(m^3*rho^2 - m*rho^4)*z^2)*sqrt(rho^2 + z^2))/(rho^10 + 5*rho^8*z^2 + 10*rho^6*z^4 + 10*rho^4*z^6 + 5*rho^2*z^8 + z^10) \n",
       "Riem(g)^t_rho,t,z = (3*m*rho*z^5 - (m^3*rho - 6*m*rho^3)*z^3 + 3*(m^3*rho^3 + m*rho^5)*z - 3*(m^2*rho^3*z + m^2*rho*z^3)*sqrt(rho^2 + z^2))/((rho^8 + 4*rho^6*z^2 + 6*rho^4*z^4 + 4*rho^2*z^6 + z^8)*sqrt(rho^2 + z^2)) \n",
       "Riem(g)^t_rho,rho,t = (2*m^2*rho^6 + 3*m^2*rho^4*z^2 - m^2*z^6 - (m^3*rho^4 + 2*m*rho^6 - m*z^6 - 3*(m^3*rho^2 - m*rho^4)*z^2)*sqrt(rho^2 + z^2))/(rho^10 + 5*rho^8*z^2 + 10*rho^6*z^4 + 10*rho^4*z^6 + 5*rho^2*z^8 + z^10) \n",
       "Riem(g)^t_rho,z,t = -(3*m*rho*z^5 - (m^3*rho - 6*m*rho^3)*z^3 + 3*(m^3*rho^3 + m*rho^5)*z - 3*(m^2*rho^3*z + m^2*rho*z^3)*sqrt(rho^2 + z^2))/((rho^8 + 4*rho^6*z^2 + 6*rho^4*z^4 + 4*rho^2*z^6 + z^8)*sqrt(rho^2 + z^2)) \n",
       "Riem(g)^t_ph,t,ph = (m^2*rho^2*e^(2*m*rho^4/(sqrt(rho^2 + z^2)*rho^4 + 2*sqrt(rho^2 + z^2)*rho^2*z^2 + sqrt(rho^2 + z^2)*z^4) + 4*m*rho^2*z^2/(sqrt(rho^2 + z^2)*rho^4 + 2*sqrt(rho^2 + z^2)*rho^2*z^2 + sqrt(rho^2 + z^2)*z^4) + 2*m*z^4/(sqrt(rho^2 + z^2)*rho^4 + 2*sqrt(rho^2 + z^2)*rho^2*z^2 + sqrt(rho^2 + z^2)*z^4) + m^2*rho^2/(rho^4 + 2*rho^2*z^2 + z^4)) - sqrt(rho^2 + z^2)*m*rho^2*e^(2*m*rho^4/(sqrt(rho^2 + z^2)*rho^4 + 2*sqrt(rho^2 + z^2)*rho^2*z^2 + sqrt(rho^2 + z^2)*z^4) + 4*m*rho^2*z^2/(sqrt(rho^2 + z^2)*rho^4 + 2*sqrt(rho^2 + z^2)*rho^2*z^2 + sqrt(rho^2 + z^2)*z^4) + 2*m*z^4/(sqrt(rho^2 + z^2)*rho^4 + 2*sqrt(rho^2 + z^2)*rho^2*z^2 + sqrt(rho^2 + z^2)*z^4) + m^2*rho^2/(rho^4 + 2*rho^2*z^2 + z^4)))*e^(-2*m/sqrt(rho^2 + z^2))/(rho^4 + 2*rho^2*z^2 + z^4) \n",
       "Riem(g)^t_ph,ph,t = -(m^2*rho^2*e^(2*m*rho^4/(sqrt(rho^2 + z^2)*rho^4 + 2*sqrt(rho^2 + z^2)*rho^2*z^2 + sqrt(rho^2 + z^2)*z^4) + 4*m*rho^2*z^2/(sqrt(rho^2 + z^2)*rho^4 + 2*sqrt(rho^2 + z^2)*rho^2*z^2 + sqrt(rho^2 + z^2)*z^4) + 2*m*z^4/(sqrt(rho^2 + z^2)*rho^4 + 2*sqrt(rho^2 + z^2)*rho^2*z^2 + sqrt(rho^2 + z^2)*z^4) + m^2*rho^2/(rho^4 + 2*rho^2*z^2 + z^4)) - sqrt(rho^2 + z^2)*m*rho^2*e^(2*m*rho^4/(sqrt(rho^2 + z^2)*rho^4 + 2*sqrt(rho^2 + z^2)*rho^2*z^2 + sqrt(rho^2 + z^2)*z^4) + 4*m*rho^2*z^2/(sqrt(rho^2 + z^2)*rho^4 + 2*sqrt(rho^2 + z^2)*rho^2*z^2 + sqrt(rho^2 + z^2)*z^4) + 2*m*z^4/(sqrt(rho^2 + z^2)*rho^4 + 2*sqrt(rho^2 + z^2)*rho^2*z^2 + sqrt(rho^2 + z^2)*z^4) + m^2*rho^2/(rho^4 + 2*rho^2*z^2 + z^4)))*e^(-2*m/sqrt(rho^2 + z^2))/(rho^4 + 2*rho^2*z^2 + z^4) \n",
       "Riem(g)^t_z,t,rho = (3*m*rho*z^5 - (m^3*rho - 6*m*rho^3)*z^3 + 3*(m^3*rho^3 + m*rho^5)*z - 3*(m^2*rho^3*z + m^2*rho*z^3)*sqrt(rho^2 + z^2))/((rho^8 + 4*rho^6*z^2 + 6*rho^4*z^4 + 4*rho^2*z^6 + z^8)*sqrt(rho^2 + z^2)) \n",
       "Riem(g)^t_z,t,z = (m^2*rho^6 - 3*m^2*rho^2*z^4 - 2*m^2*z^6 - (m^3*rho^4 + m*rho^6 - 3*m^3*rho^2*z^2 - 3*m*rho^2*z^4 - 2*m*z^6)*sqrt(rho^2 + z^2))/(rho^10 + 5*rho^8*z^2 + 10*rho^6*z^4 + 10*rho^4*z^6 + 5*rho^2*z^8 + z^10) \n",
       "Riem(g)^t_z,rho,t = -(3*m*rho*z^5 - (m^3*rho - 6*m*rho^3)*z^3 + 3*(m^3*rho^3 + m*rho^5)*z - 3*(m^2*rho^3*z + m^2*rho*z^3)*sqrt(rho^2 + z^2))/((rho^8 + 4*rho^6*z^2 + 6*rho^4*z^4 + 4*rho^2*z^6 + z^8)*sqrt(rho^2 + z^2)) \n",
       "Riem(g)^t_z,z,t = -(m^2*rho^6 - 3*m^2*rho^2*z^4 - 2*m^2*z^6 - (m^3*rho^4 + m*rho^6 - 3*m^3*rho^2*z^2 - 3*m*rho^2*z^4 - 2*m*z^6)*sqrt(rho^2 + z^2))/(rho^10 + 5*rho^8*z^2 + 10*rho^6*z^4 + 10*rho^4*z^6 + 5*rho^2*z^8 + z^10) \n",
       "Riem(g)^rho_t,t,rho = ((m^3*rho^4 + 2*m*rho^6 - m*z^6 - 3*(m^3*rho^2 - m*rho^4)*z^2)*sqrt(rho^2 + z^2)*e^(4*m*rho^4/(sqrt(rho^2 + z^2)*rho^4 + 2*sqrt(rho^2 + z^2)*rho^2*z^2 + sqrt(rho^2 + z^2)*z^4) + 8*m*rho^2*z^2/(sqrt(rho^2 + z^2)*rho^4 + 2*sqrt(rho^2 + z^2)*rho^2*z^2 + sqrt(rho^2 + z^2)*z^4) + 4*m*z^4/(sqrt(rho^2 + z^2)*rho^4 + 2*sqrt(rho^2 + z^2)*rho^2*z^2 + sqrt(rho^2 + z^2)*z^4) + m^2*rho^2/(rho^4 + 2*rho^2*z^2 + z^4)) - (2*m^2*rho^6 + 3*m^2*rho^4*z^2 - m^2*z^6)*e^(4*m*rho^4/(sqrt(rho^2 + z^2)*rho^4 + 2*sqrt(rho^2 + z^2)*rho^2*z^2 + sqrt(rho^2 + z^2)*z^4) + 8*m*rho^2*z^2/(sqrt(rho^2 + z^2)*rho^4 + 2*sqrt(rho^2 + z^2)*rho^2*z^2 + sqrt(rho^2 + z^2)*z^4) + 4*m*z^4/(sqrt(rho^2 + z^2)*rho^4 + 2*sqrt(rho^2 + z^2)*rho^2*z^2 + sqrt(rho^2 + z^2)*z^4) + m^2*rho^2/(rho^4 + 2*rho^2*z^2 + z^4)))*e^(-8*m/sqrt(rho^2 + z^2))/(rho^10 + 5*rho^8*z^2 + 10*rho^6*z^4 + 10*rho^4*z^6 + 5*rho^2*z^8 + z^10) \n",
       "Riem(g)^rho_t,t,z = -(3*(m^2*rho^3*z + m^2*rho*z^3)*sqrt(rho^2 + z^2)*e^(8*m*rho^4/(sqrt(rho^2 + z^2)*rho^4 + 2*sqrt(rho^2 + z^2)*rho^2*z^2 + sqrt(rho^2 + z^2)*z^4) + 16*m*rho^2*z^2/(sqrt(rho^2 + z^2)*rho^4 + 2*sqrt(rho^2 + z^2)*rho^2*z^2 + sqrt(rho^2 + z^2)*z^4) + 8*m*z^4/(sqrt(rho^2 + z^2)*rho^4 + 2*sqrt(rho^2 + z^2)*rho^2*z^2 + sqrt(rho^2 + z^2)*z^4) + m^2*rho^2/(rho^4 + 2*rho^2*z^2 + z^4)) - (3*m*rho*z^5 - (m^3*rho - 6*m*rho^3)*z^3 + 3*(m^3*rho^3 + m*rho^5)*z)*e^(8*m*rho^4/(sqrt(rho^2 + z^2)*rho^4 + 2*sqrt(rho^2 + z^2)*rho^2*z^2 + sqrt(rho^2 + z^2)*z^4) + 16*m*rho^2*z^2/(sqrt(rho^2 + z^2)*rho^4 + 2*sqrt(rho^2 + z^2)*rho^2*z^2 + sqrt(rho^2 + z^2)*z^4) + 8*m*z^4/(sqrt(rho^2 + z^2)*rho^4 + 2*sqrt(rho^2 + z^2)*rho^2*z^2 + sqrt(rho^2 + z^2)*z^4) + m^2*rho^2/(rho^4 + 2*rho^2*z^2 + z^4)))*e^(-12*m/sqrt(rho^2 + z^2))/((rho^8 + 4*rho^6*z^2 + 6*rho^4*z^4 + 4*rho^2*z^6 + z^8)*sqrt(rho^2 + z^2)) \n",
       "Riem(g)^rho_t,rho,t = -((m^3*rho^4 + 2*m*rho^6 - m*z^6 - 3*(m^3*rho^2 - m*rho^4)*z^2)*sqrt(rho^2 + z^2)*e^(4*m*rho^4/(sqrt(rho^2 + z^2)*rho^4 + 2*sqrt(rho^2 + z^2)*rho^2*z^2 + sqrt(rho^2 + z^2)*z^4) + 8*m*rho^2*z^2/(sqrt(rho^2 + z^2)*rho^4 + 2*sqrt(rho^2 + z^2)*rho^2*z^2 + sqrt(rho^2 + z^2)*z^4) + 4*m*z^4/(sqrt(rho^2 + z^2)*rho^4 + 2*sqrt(rho^2 + z^2)*rho^2*z^2 + sqrt(rho^2 + z^2)*z^4) + m^2*rho^2/(rho^4 + 2*rho^2*z^2 + z^4)) - (2*m^2*rho^6 + 3*m^2*rho^4*z^2 - m^2*z^6)*e^(4*m*rho^4/(sqrt(rho^2 + z^2)*rho^4 + 2*sqrt(rho^2 + z^2)*rho^2*z^2 + sqrt(rho^2 + z^2)*z^4) + 8*m*rho^2*z^2/(sqrt(rho^2 + z^2)*rho^4 + 2*sqrt(rho^2 + z^2)*rho^2*z^2 + sqrt(rho^2 + z^2)*z^4) + 4*m*z^4/(sqrt(rho^2 + z^2)*rho^4 + 2*sqrt(rho^2 + z^2)*rho^2*z^2 + sqrt(rho^2 + z^2)*z^4) + m^2*rho^2/(rho^4 + 2*rho^2*z^2 + z^4)))*e^(-8*m/sqrt(rho^2 + z^2))/(rho^10 + 5*rho^8*z^2 + 10*rho^6*z^4 + 10*rho^4*z^6 + 5*rho^2*z^8 + z^10) \n",
       "Riem(g)^rho_t,z,t = (3*(m^2*rho^3*z + m^2*rho*z^3)*sqrt(rho^2 + z^2)*e^(8*m*rho^4/(sqrt(rho^2 + z^2)*rho^4 + 2*sqrt(rho^2 + z^2)*rho^2*z^2 + sqrt(rho^2 + z^2)*z^4) + 16*m*rho^2*z^2/(sqrt(rho^2 + z^2)*rho^4 + 2*sqrt(rho^2 + z^2)*rho^2*z^2 + sqrt(rho^2 + z^2)*z^4) + 8*m*z^4/(sqrt(rho^2 + z^2)*rho^4 + 2*sqrt(rho^2 + z^2)*rho^2*z^2 + sqrt(rho^2 + z^2)*z^4) + m^2*rho^2/(rho^4 + 2*rho^2*z^2 + z^4)) - (3*m*rho*z^5 - (m^3*rho - 6*m*rho^3)*z^3 + 3*(m^3*rho^3 + m*rho^5)*z)*e^(8*m*rho^4/(sqrt(rho^2 + z^2)*rho^4 + 2*sqrt(rho^2 + z^2)*rho^2*z^2 + sqrt(rho^2 + z^2)*z^4) + 16*m*rho^2*z^2/(sqrt(rho^2 + z^2)*rho^4 + 2*sqrt(rho^2 + z^2)*rho^2*z^2 + sqrt(rho^2 + z^2)*z^4) + 8*m*z^4/(sqrt(rho^2 + z^2)*rho^4 + 2*sqrt(rho^2 + z^2)*rho^2*z^2 + sqrt(rho^2 + z^2)*z^4) + m^2*rho^2/(rho^4 + 2*rho^2*z^2 + z^4)))*e^(-12*m/sqrt(rho^2 + z^2))/((rho^8 + 4*rho^6*z^2 + 6*rho^4*z^4 + 4*rho^2*z^6 + z^8)*sqrt(rho^2 + z^2)) \n",
       "Riem(g)^rho_ph,rho,ph = ((m^2*rho^6 - m^2*rho^4*z^2 - 2*m^2*rho^2*z^4)*sqrt(rho^2 + z^2)*e^(2*m*rho^4/(sqrt(rho^2 + z^2)*rho^4 + 2*sqrt(rho^2 + z^2)*rho^2*z^2 + sqrt(rho^2 + z^2)*z^4) + 4*m*rho^2*z^2/(sqrt(rho^2 + z^2)*rho^4 + 2*sqrt(rho^2 + z^2)*rho^2*z^2 + sqrt(rho^2 + z^2)*z^4) + 2*m*z^4/(sqrt(rho^2 + z^2)*rho^4 + 2*sqrt(rho^2 + z^2)*rho^2*z^2 + sqrt(rho^2 + z^2)*z^4) + m^2*rho^2/(rho^4 + 2*rho^2*z^2 + z^4)) - (m^3*rho^6 + m*rho^8 - 3*m^3*rho^4*z^2 - 3*m*rho^4*z^4 - 2*m*rho^2*z^6)*e^(2*m*rho^4/(sqrt(rho^2 + z^2)*rho^4 + 2*sqrt(rho^2 + z^2)*rho^2*z^2 + sqrt(rho^2 + z^2)*z^4) + 4*m*rho^2*z^2/(sqrt(rho^2 + z^2)*rho^4 + 2*sqrt(rho^2 + z^2)*rho^2*z^2 + sqrt(rho^2 + z^2)*z^4) + 2*m*z^4/(sqrt(rho^2 + z^2)*rho^4 + 2*sqrt(rho^2 + z^2)*rho^2*z^2 + sqrt(rho^2 + z^2)*z^4) + m^2*rho^2/(rho^4 + 2*rho^2*z^2 + z^4)))*e^(-2*m/sqrt(rho^2 + z^2))/((rho^8 + 4*rho^6*z^2 + 6*rho^4*z^4 + 4*rho^2*z^6 + z^8)*sqrt(rho^2 + z^2)) \n",
       "Riem(g)^rho_ph,ph,rho = -((m^2*rho^6 - m^2*rho^4*z^2 - 2*m^2*rho^2*z^4)*sqrt(rho^2 + z^2)*e^(2*m*rho^4/(sqrt(rho^2 + z^2)*rho^4 + 2*sqrt(rho^2 + z^2)*rho^2*z^2 + sqrt(rho^2 + z^2)*z^4) + 4*m*rho^2*z^2/(sqrt(rho^2 + z^2)*rho^4 + 2*sqrt(rho^2 + z^2)*rho^2*z^2 + sqrt(rho^2 + z^2)*z^4) + 2*m*z^4/(sqrt(rho^2 + z^2)*rho^4 + 2*sqrt(rho^2 + z^2)*rho^2*z^2 + sqrt(rho^2 + z^2)*z^4) + m^2*rho^2/(rho^4 + 2*rho^2*z^2 + z^4)) - (m^3*rho^6 + m*rho^8 - 3*m^3*rho^4*z^2 - 3*m*rho^4*z^4 - 2*m*rho^2*z^6)*e^(2*m*rho^4/(sqrt(rho^2 + z^2)*rho^4 + 2*sqrt(rho^2 + z^2)*rho^2*z^2 + sqrt(rho^2 + z^2)*z^4) + 4*m*rho^2*z^2/(sqrt(rho^2 + z^2)*rho^4 + 2*sqrt(rho^2 + z^2)*rho^2*z^2 + sqrt(rho^2 + z^2)*z^4) + 2*m*z^4/(sqrt(rho^2 + z^2)*rho^4 + 2*sqrt(rho^2 + z^2)*rho^2*z^2 + sqrt(rho^2 + z^2)*z^4) + m^2*rho^2/(rho^4 + 2*rho^2*z^2 + z^4)))*e^(-2*m/sqrt(rho^2 + z^2))/((rho^8 + 4*rho^6*z^2 + 6*rho^4*z^4 + 4*rho^2*z^6 + z^8)*sqrt(rho^2 + z^2)) \n",
       "Riem(g)^rho_ph,ph,z = -(3*(m^2*rho^5*z + m^2*rho^3*z^3)*sqrt(rho^2 + z^2)*e^(2*m*rho^4/(sqrt(rho^2 + z^2)*rho^4 + 2*sqrt(rho^2 + z^2)*rho^2*z^2 + sqrt(rho^2 + z^2)*z^4) + 4*m*rho^2*z^2/(sqrt(rho^2 + z^2)*rho^4 + 2*sqrt(rho^2 + z^2)*rho^2*z^2 + sqrt(rho^2 + z^2)*z^4) + 2*m*z^4/(sqrt(rho^2 + z^2)*rho^4 + 2*sqrt(rho^2 + z^2)*rho^2*z^2 + sqrt(rho^2 + z^2)*z^4) + m^2*rho^2/(rho^4 + 2*rho^2*z^2 + z^4)) - (3*m*rho^3*z^5 - (m^3*rho^3 - 6*m*rho^5)*z^3 + 3*(m^3*rho^5 + m*rho^7)*z)*e^(2*m*rho^4/(sqrt(rho^2 + z^2)*rho^4 + 2*sqrt(rho^2 + z^2)*rho^2*z^2 + sqrt(rho^2 + z^2)*z^4) + 4*m*rho^2*z^2/(sqrt(rho^2 + z^2)*rho^4 + 2*sqrt(rho^2 + z^2)*rho^2*z^2 + sqrt(rho^2 + z^2)*z^4) + 2*m*z^4/(sqrt(rho^2 + z^2)*rho^4 + 2*sqrt(rho^2 + z^2)*rho^2*z^2 + sqrt(rho^2 + z^2)*z^4) + m^2*rho^2/(rho^4 + 2*rho^2*z^2 + z^4)))*e^(-2*m/sqrt(rho^2 + z^2))/((rho^8 + 4*rho^6*z^2 + 6*rho^4*z^4 + 4*rho^2*z^6 + z^8)*sqrt(rho^2 + z^2)) \n",
       "Riem(g)^rho_ph,z,ph = (3*(m^2*rho^5*z + m^2*rho^3*z^3)*sqrt(rho^2 + z^2)*e^(2*m*rho^4/(sqrt(rho^2 + z^2)*rho^4 + 2*sqrt(rho^2 + z^2)*rho^2*z^2 + sqrt(rho^2 + z^2)*z^4) + 4*m*rho^2*z^2/(sqrt(rho^2 + z^2)*rho^4 + 2*sqrt(rho^2 + z^2)*rho^2*z^2 + sqrt(rho^2 + z^2)*z^4) + 2*m*z^4/(sqrt(rho^2 + z^2)*rho^4 + 2*sqrt(rho^2 + z^2)*rho^2*z^2 + sqrt(rho^2 + z^2)*z^4) + m^2*rho^2/(rho^4 + 2*rho^2*z^2 + z^4)) - (3*m*rho^3*z^5 - (m^3*rho^3 - 6*m*rho^5)*z^3 + 3*(m^3*rho^5 + m*rho^7)*z)*e^(2*m*rho^4/(sqrt(rho^2 + z^2)*rho^4 + 2*sqrt(rho^2 + z^2)*rho^2*z^2 + sqrt(rho^2 + z^2)*z^4) + 4*m*rho^2*z^2/(sqrt(rho^2 + z^2)*rho^4 + 2*sqrt(rho^2 + z^2)*rho^2*z^2 + sqrt(rho^2 + z^2)*z^4) + 2*m*z^4/(sqrt(rho^2 + z^2)*rho^4 + 2*sqrt(rho^2 + z^2)*rho^2*z^2 + sqrt(rho^2 + z^2)*z^4) + m^2*rho^2/(rho^4 + 2*rho^2*z^2 + z^4)))*e^(-2*m/sqrt(rho^2 + z^2))/((rho^8 + 4*rho^6*z^2 + 6*rho^4*z^4 + 4*rho^2*z^6 + z^8)*sqrt(rho^2 + z^2)) \n",
       "Riem(g)^rho_z,rho,z = (m^2 - sqrt(rho^2 + z^2)*m)/(rho^4 + 2*rho^2*z^2 + z^4) \n",
       "Riem(g)^rho_z,z,rho = -(m^2 - sqrt(rho^2 + z^2)*m)/(rho^4 + 2*rho^2*z^2 + z^4) \n",
       "Riem(g)^ph_t,t,ph = (m^2*e^(4*m*rho^4/(sqrt(rho^2 + z^2)*rho^4 + 2*sqrt(rho^2 + z^2)*rho^2*z^2 + sqrt(rho^2 + z^2)*z^4) + 8*m*rho^2*z^2/(sqrt(rho^2 + z^2)*rho^4 + 2*sqrt(rho^2 + z^2)*rho^2*z^2 + sqrt(rho^2 + z^2)*z^4) + 4*m*z^4/(sqrt(rho^2 + z^2)*rho^4 + 2*sqrt(rho^2 + z^2)*rho^2*z^2 + sqrt(rho^2 + z^2)*z^4) + m^2*rho^2/(rho^4 + 2*rho^2*z^2 + z^4)) - sqrt(rho^2 + z^2)*m*e^(4*m*rho^4/(sqrt(rho^2 + z^2)*rho^4 + 2*sqrt(rho^2 + z^2)*rho^2*z^2 + sqrt(rho^2 + z^2)*z^4) + 8*m*rho^2*z^2/(sqrt(rho^2 + z^2)*rho^4 + 2*sqrt(rho^2 + z^2)*rho^2*z^2 + sqrt(rho^2 + z^2)*z^4) + 4*m*z^4/(sqrt(rho^2 + z^2)*rho^4 + 2*sqrt(rho^2 + z^2)*rho^2*z^2 + sqrt(rho^2 + z^2)*z^4) + m^2*rho^2/(rho^4 + 2*rho^2*z^2 + z^4)))*e^(-8*m/sqrt(rho^2 + z^2))/(rho^4 + 2*rho^2*z^2 + z^4) \n",
       "Riem(g)^ph_t,ph,t = -(m^2*e^(4*m*rho^4/(sqrt(rho^2 + z^2)*rho^4 + 2*sqrt(rho^2 + z^2)*rho^2*z^2 + sqrt(rho^2 + z^2)*z^4) + 8*m*rho^2*z^2/(sqrt(rho^2 + z^2)*rho^4 + 2*sqrt(rho^2 + z^2)*rho^2*z^2 + sqrt(rho^2 + z^2)*z^4) + 4*m*z^4/(sqrt(rho^2 + z^2)*rho^4 + 2*sqrt(rho^2 + z^2)*rho^2*z^2 + sqrt(rho^2 + z^2)*z^4) + m^2*rho^2/(rho^4 + 2*rho^2*z^2 + z^4)) - sqrt(rho^2 + z^2)*m*e^(4*m*rho^4/(sqrt(rho^2 + z^2)*rho^4 + 2*sqrt(rho^2 + z^2)*rho^2*z^2 + sqrt(rho^2 + z^2)*z^4) + 8*m*rho^2*z^2/(sqrt(rho^2 + z^2)*rho^4 + 2*sqrt(rho^2 + z^2)*rho^2*z^2 + sqrt(rho^2 + z^2)*z^4) + 4*m*z^4/(sqrt(rho^2 + z^2)*rho^4 + 2*sqrt(rho^2 + z^2)*rho^2*z^2 + sqrt(rho^2 + z^2)*z^4) + m^2*rho^2/(rho^4 + 2*rho^2*z^2 + z^4)))*e^(-8*m/sqrt(rho^2 + z^2))/(rho^4 + 2*rho^2*z^2 + z^4) \n",
       "Riem(g)^ph_rho,rho,ph = (m^3*rho^4 + m*rho^6 - 3*m^3*rho^2*z^2 - 3*m*rho^2*z^4 - 2*m*z^6 - (m^2*rho^4 - m^2*rho^2*z^2 - 2*m^2*z^4)*sqrt(rho^2 + z^2))/((rho^8 + 4*rho^6*z^2 + 6*rho^4*z^4 + 4*rho^2*z^6 + z^8)*sqrt(rho^2 + z^2)) \n",
       "Riem(g)^ph_rho,ph,rho = -(m^3*rho^4 + m*rho^6 - 3*m^3*rho^2*z^2 - 3*m*rho^2*z^4 - 2*m*z^6 - (m^2*rho^4 - m^2*rho^2*z^2 - 2*m^2*z^4)*sqrt(rho^2 + z^2))/((rho^8 + 4*rho^6*z^2 + 6*rho^4*z^4 + 4*rho^2*z^6 + z^8)*sqrt(rho^2 + z^2)) \n",
       "Riem(g)^ph_rho,ph,z = (3*m^2*rho^5*z + 6*m^2*rho^3*z^3 + 3*m^2*rho*z^5 - (3*m*rho*z^5 - (m^3*rho - 6*m*rho^3)*z^3 + 3*(m^3*rho^3 + m*rho^5)*z)*sqrt(rho^2 + z^2))/(rho^10 + 5*rho^8*z^2 + 10*rho^6*z^4 + 10*rho^4*z^6 + 5*rho^2*z^8 + z^10) \n",
       "Riem(g)^ph_rho,z,ph = -(3*m^2*rho^5*z + 6*m^2*rho^3*z^3 + 3*m^2*rho*z^5 - (3*m*rho*z^5 - (m^3*rho - 6*m*rho^3)*z^3 + 3*(m^3*rho^3 + m*rho^5)*z)*sqrt(rho^2 + z^2))/(rho^10 + 5*rho^8*z^2 + 10*rho^6*z^4 + 10*rho^4*z^6 + 5*rho^2*z^8 + z^10) \n",
       "Riem(g)^ph_z,rho,ph = (3*m*rho*z^5 - (m^3*rho - 6*m*rho^3)*z^3 + 3*(m^3*rho^3 + m*rho^5)*z - 3*(m^2*rho^3*z + m^2*rho*z^3)*sqrt(rho^2 + z^2))/((rho^8 + 4*rho^6*z^2 + 6*rho^4*z^4 + 4*rho^2*z^6 + z^8)*sqrt(rho^2 + z^2)) \n",
       "Riem(g)^ph_z,ph,rho = -(3*m*rho*z^5 - (m^3*rho - 6*m*rho^3)*z^3 + 3*(m^3*rho^3 + m*rho^5)*z - 3*(m^2*rho^3*z + m^2*rho*z^3)*sqrt(rho^2 + z^2))/((rho^8 + 4*rho^6*z^2 + 6*rho^4*z^4 + 4*rho^2*z^6 + z^8)*sqrt(rho^2 + z^2)) \n",
       "Riem(g)^ph_z,ph,z = -(2*m^2*rho^6 + 3*m^2*rho^4*z^2 - m^2*z^6 - (m^3*rho^4 + 2*m*rho^6 - m*z^6 - 3*(m^3*rho^2 - m*rho^4)*z^2)*sqrt(rho^2 + z^2))/(rho^10 + 5*rho^8*z^2 + 10*rho^6*z^4 + 10*rho^4*z^6 + 5*rho^2*z^8 + z^10) \n",
       "Riem(g)^ph_z,z,ph = (2*m^2*rho^6 + 3*m^2*rho^4*z^2 - m^2*z^6 - (m^3*rho^4 + 2*m*rho^6 - m*z^6 - 3*(m^3*rho^2 - m*rho^4)*z^2)*sqrt(rho^2 + z^2))/(rho^10 + 5*rho^8*z^2 + 10*rho^6*z^4 + 10*rho^4*z^6 + 5*rho^2*z^8 + z^10) \n",
       "Riem(g)^z_t,t,rho = -(3*(m^2*rho^3*z + m^2*rho*z^3)*sqrt(rho^2 + z^2)*e^(8*m*rho^4/(sqrt(rho^2 + z^2)*rho^4 + 2*sqrt(rho^2 + z^2)*rho^2*z^2 + sqrt(rho^2 + z^2)*z^4) + 16*m*rho^2*z^2/(sqrt(rho^2 + z^2)*rho^4 + 2*sqrt(rho^2 + z^2)*rho^2*z^2 + sqrt(rho^2 + z^2)*z^4) + 8*m*z^4/(sqrt(rho^2 + z^2)*rho^4 + 2*sqrt(rho^2 + z^2)*rho^2*z^2 + sqrt(rho^2 + z^2)*z^4) + m^2*rho^2/(rho^4 + 2*rho^2*z^2 + z^4)) - (3*m*rho*z^5 - (m^3*rho - 6*m*rho^3)*z^3 + 3*(m^3*rho^3 + m*rho^5)*z)*e^(8*m*rho^4/(sqrt(rho^2 + z^2)*rho^4 + 2*sqrt(rho^2 + z^2)*rho^2*z^2 + sqrt(rho^2 + z^2)*z^4) + 16*m*rho^2*z^2/(sqrt(rho^2 + z^2)*rho^4 + 2*sqrt(rho^2 + z^2)*rho^2*z^2 + sqrt(rho^2 + z^2)*z^4) + 8*m*z^4/(sqrt(rho^2 + z^2)*rho^4 + 2*sqrt(rho^2 + z^2)*rho^2*z^2 + sqrt(rho^2 + z^2)*z^4) + m^2*rho^2/(rho^4 + 2*rho^2*z^2 + z^4)))*e^(-12*m/sqrt(rho^2 + z^2))/((rho^8 + 4*rho^6*z^2 + 6*rho^4*z^4 + 4*rho^2*z^6 + z^8)*sqrt(rho^2 + z^2)) \n",
       "Riem(g)^z_t,t,z = -((m^3*rho^4 + m*rho^6 - 3*m^3*rho^2*z^2 - 3*m*rho^2*z^4 - 2*m*z^6)*sqrt(rho^2 + z^2)*e^(4*m*rho^4/(sqrt(rho^2 + z^2)*rho^4 + 2*sqrt(rho^2 + z^2)*rho^2*z^2 + sqrt(rho^2 + z^2)*z^4) + 8*m*rho^2*z^2/(sqrt(rho^2 + z^2)*rho^4 + 2*sqrt(rho^2 + z^2)*rho^2*z^2 + sqrt(rho^2 + z^2)*z^4) + 4*m*z^4/(sqrt(rho^2 + z^2)*rho^4 + 2*sqrt(rho^2 + z^2)*rho^2*z^2 + sqrt(rho^2 + z^2)*z^4) + m^2*rho^2/(rho^4 + 2*rho^2*z^2 + z^4)) - (m^2*rho^6 - 3*m^2*rho^2*z^4 - 2*m^2*z^6)*e^(4*m*rho^4/(sqrt(rho^2 + z^2)*rho^4 + 2*sqrt(rho^2 + z^2)*rho^2*z^2 + sqrt(rho^2 + z^2)*z^4) + 8*m*rho^2*z^2/(sqrt(rho^2 + z^2)*rho^4 + 2*sqrt(rho^2 + z^2)*rho^2*z^2 + sqrt(rho^2 + z^2)*z^4) + 4*m*z^4/(sqrt(rho^2 + z^2)*rho^4 + 2*sqrt(rho^2 + z^2)*rho^2*z^2 + sqrt(rho^2 + z^2)*z^4) + m^2*rho^2/(rho^4 + 2*rho^2*z^2 + z^4)))*e^(-8*m/sqrt(rho^2 + z^2))/(rho^10 + 5*rho^8*z^2 + 10*rho^6*z^4 + 10*rho^4*z^6 + 5*rho^2*z^8 + z^10) \n",
       "Riem(g)^z_t,rho,t = (3*(m^2*rho^3*z + m^2*rho*z^3)*sqrt(rho^2 + z^2)*e^(8*m*rho^4/(sqrt(rho^2 + z^2)*rho^4 + 2*sqrt(rho^2 + z^2)*rho^2*z^2 + sqrt(rho^2 + z^2)*z^4) + 16*m*rho^2*z^2/(sqrt(rho^2 + z^2)*rho^4 + 2*sqrt(rho^2 + z^2)*rho^2*z^2 + sqrt(rho^2 + z^2)*z^4) + 8*m*z^4/(sqrt(rho^2 + z^2)*rho^4 + 2*sqrt(rho^2 + z^2)*rho^2*z^2 + sqrt(rho^2 + z^2)*z^4) + m^2*rho^2/(rho^4 + 2*rho^2*z^2 + z^4)) - (3*m*rho*z^5 - (m^3*rho - 6*m*rho^3)*z^3 + 3*(m^3*rho^3 + m*rho^5)*z)*e^(8*m*rho^4/(sqrt(rho^2 + z^2)*rho^4 + 2*sqrt(rho^2 + z^2)*rho^2*z^2 + sqrt(rho^2 + z^2)*z^4) + 16*m*rho^2*z^2/(sqrt(rho^2 + z^2)*rho^4 + 2*sqrt(rho^2 + z^2)*rho^2*z^2 + sqrt(rho^2 + z^2)*z^4) + 8*m*z^4/(sqrt(rho^2 + z^2)*rho^4 + 2*sqrt(rho^2 + z^2)*rho^2*z^2 + sqrt(rho^2 + z^2)*z^4) + m^2*rho^2/(rho^4 + 2*rho^2*z^2 + z^4)))*e^(-12*m/sqrt(rho^2 + z^2))/((rho^8 + 4*rho^6*z^2 + 6*rho^4*z^4 + 4*rho^2*z^6 + z^8)*sqrt(rho^2 + z^2)) \n",
       "Riem(g)^z_t,z,t = ((m^3*rho^4 + m*rho^6 - 3*m^3*rho^2*z^2 - 3*m*rho^2*z^4 - 2*m*z^6)*sqrt(rho^2 + z^2)*e^(4*m*rho^4/(sqrt(rho^2 + z^2)*rho^4 + 2*sqrt(rho^2 + z^2)*rho^2*z^2 + sqrt(rho^2 + z^2)*z^4) + 8*m*rho^2*z^2/(sqrt(rho^2 + z^2)*rho^4 + 2*sqrt(rho^2 + z^2)*rho^2*z^2 + sqrt(rho^2 + z^2)*z^4) + 4*m*z^4/(sqrt(rho^2 + z^2)*rho^4 + 2*sqrt(rho^2 + z^2)*rho^2*z^2 + sqrt(rho^2 + z^2)*z^4) + m^2*rho^2/(rho^4 + 2*rho^2*z^2 + z^4)) - (m^2*rho^6 - 3*m^2*rho^2*z^4 - 2*m^2*z^6)*e^(4*m*rho^4/(sqrt(rho^2 + z^2)*rho^4 + 2*sqrt(rho^2 + z^2)*rho^2*z^2 + sqrt(rho^2 + z^2)*z^4) + 8*m*rho^2*z^2/(sqrt(rho^2 + z^2)*rho^4 + 2*sqrt(rho^2 + z^2)*rho^2*z^2 + sqrt(rho^2 + z^2)*z^4) + 4*m*z^4/(sqrt(rho^2 + z^2)*rho^4 + 2*sqrt(rho^2 + z^2)*rho^2*z^2 + sqrt(rho^2 + z^2)*z^4) + m^2*rho^2/(rho^4 + 2*rho^2*z^2 + z^4)))*e^(-8*m/sqrt(rho^2 + z^2))/(rho^10 + 5*rho^8*z^2 + 10*rho^6*z^4 + 10*rho^4*z^6 + 5*rho^2*z^8 + z^10) \n",
       "Riem(g)^z_rho,rho,z = -(m^2 - sqrt(rho^2 + z^2)*m)/(rho^4 + 2*rho^2*z^2 + z^4) \n",
       "Riem(g)^z_rho,z,rho = (m^2 - sqrt(rho^2 + z^2)*m)/(rho^4 + 2*rho^2*z^2 + z^4) \n",
       "Riem(g)^z_ph,rho,ph = (3*(m^2*rho^5*z + m^2*rho^3*z^3)*sqrt(rho^2 + z^2)*e^(2*m*rho^4/(sqrt(rho^2 + z^2)*rho^4 + 2*sqrt(rho^2 + z^2)*rho^2*z^2 + sqrt(rho^2 + z^2)*z^4) + 4*m*rho^2*z^2/(sqrt(rho^2 + z^2)*rho^4 + 2*sqrt(rho^2 + z^2)*rho^2*z^2 + sqrt(rho^2 + z^2)*z^4) + 2*m*z^4/(sqrt(rho^2 + z^2)*rho^4 + 2*sqrt(rho^2 + z^2)*rho^2*z^2 + sqrt(rho^2 + z^2)*z^4) + m^2*rho^2/(rho^4 + 2*rho^2*z^2 + z^4)) - (3*m*rho^3*z^5 - (m^3*rho^3 - 6*m*rho^5)*z^3 + 3*(m^3*rho^5 + m*rho^7)*z)*e^(2*m*rho^4/(sqrt(rho^2 + z^2)*rho^4 + 2*sqrt(rho^2 + z^2)*rho^2*z^2 + sqrt(rho^2 + z^2)*z^4) + 4*m*rho^2*z^2/(sqrt(rho^2 + z^2)*rho^4 + 2*sqrt(rho^2 + z^2)*rho^2*z^2 + sqrt(rho^2 + z^2)*z^4) + 2*m*z^4/(sqrt(rho^2 + z^2)*rho^4 + 2*sqrt(rho^2 + z^2)*rho^2*z^2 + sqrt(rho^2 + z^2)*z^4) + m^2*rho^2/(rho^4 + 2*rho^2*z^2 + z^4)))*e^(-2*m/sqrt(rho^2 + z^2))/((rho^8 + 4*rho^6*z^2 + 6*rho^4*z^4 + 4*rho^2*z^6 + z^8)*sqrt(rho^2 + z^2)) \n",
       "Riem(g)^z_ph,ph,rho = -(3*(m^2*rho^5*z + m^2*rho^3*z^3)*sqrt(rho^2 + z^2)*e^(2*m*rho^4/(sqrt(rho^2 + z^2)*rho^4 + 2*sqrt(rho^2 + z^2)*rho^2*z^2 + sqrt(rho^2 + z^2)*z^4) + 4*m*rho^2*z^2/(sqrt(rho^2 + z^2)*rho^4 + 2*sqrt(rho^2 + z^2)*rho^2*z^2 + sqrt(rho^2 + z^2)*z^4) + 2*m*z^4/(sqrt(rho^2 + z^2)*rho^4 + 2*sqrt(rho^2 + z^2)*rho^2*z^2 + sqrt(rho^2 + z^2)*z^4) + m^2*rho^2/(rho^4 + 2*rho^2*z^2 + z^4)) - (3*m*rho^3*z^5 - (m^3*rho^3 - 6*m*rho^5)*z^3 + 3*(m^3*rho^5 + m*rho^7)*z)*e^(2*m*rho^4/(sqrt(rho^2 + z^2)*rho^4 + 2*sqrt(rho^2 + z^2)*rho^2*z^2 + sqrt(rho^2 + z^2)*z^4) + 4*m*rho^2*z^2/(sqrt(rho^2 + z^2)*rho^4 + 2*sqrt(rho^2 + z^2)*rho^2*z^2 + sqrt(rho^2 + z^2)*z^4) + 2*m*z^4/(sqrt(rho^2 + z^2)*rho^4 + 2*sqrt(rho^2 + z^2)*rho^2*z^2 + sqrt(rho^2 + z^2)*z^4) + m^2*rho^2/(rho^4 + 2*rho^2*z^2 + z^4)))*e^(-2*m/sqrt(rho^2 + z^2))/((rho^8 + 4*rho^6*z^2 + 6*rho^4*z^4 + 4*rho^2*z^6 + z^8)*sqrt(rho^2 + z^2)) \n",
       "Riem(g)^z_ph,ph,z = ((2*m^2*rho^6 + m^2*rho^4*z^2 - m^2*rho^2*z^4)*sqrt(rho^2 + z^2)*e^(2*m*rho^4/(sqrt(rho^2 + z^2)*rho^4 + 2*sqrt(rho^2 + z^2)*rho^2*z^2 + sqrt(rho^2 + z^2)*z^4) + 4*m*rho^2*z^2/(sqrt(rho^2 + z^2)*rho^4 + 2*sqrt(rho^2 + z^2)*rho^2*z^2 + sqrt(rho^2 + z^2)*z^4) + 2*m*z^4/(sqrt(rho^2 + z^2)*rho^4 + 2*sqrt(rho^2 + z^2)*rho^2*z^2 + sqrt(rho^2 + z^2)*z^4) + m^2*rho^2/(rho^4 + 2*rho^2*z^2 + z^4)) - (m^3*rho^6 + 2*m*rho^8 - m*rho^2*z^6 - 3*(m^3*rho^4 - m*rho^6)*z^2)*e^(2*m*rho^4/(sqrt(rho^2 + z^2)*rho^4 + 2*sqrt(rho^2 + z^2)*rho^2*z^2 + sqrt(rho^2 + z^2)*z^4) + 4*m*rho^2*z^2/(sqrt(rho^2 + z^2)*rho^4 + 2*sqrt(rho^2 + z^2)*rho^2*z^2 + sqrt(rho^2 + z^2)*z^4) + 2*m*z^4/(sqrt(rho^2 + z^2)*rho^4 + 2*sqrt(rho^2 + z^2)*rho^2*z^2 + sqrt(rho^2 + z^2)*z^4) + m^2*rho^2/(rho^4 + 2*rho^2*z^2 + z^4)))*e^(-2*m/sqrt(rho^2 + z^2))/((rho^8 + 4*rho^6*z^2 + 6*rho^4*z^4 + 4*rho^2*z^6 + z^8)*sqrt(rho^2 + z^2)) \n",
       "Riem(g)^z_ph,z,ph = -((2*m^2*rho^6 + m^2*rho^4*z^2 - m^2*rho^2*z^4)*sqrt(rho^2 + z^2)*e^(2*m*rho^4/(sqrt(rho^2 + z^2)*rho^4 + 2*sqrt(rho^2 + z^2)*rho^2*z^2 + sqrt(rho^2 + z^2)*z^4) + 4*m*rho^2*z^2/(sqrt(rho^2 + z^2)*rho^4 + 2*sqrt(rho^2 + z^2)*rho^2*z^2 + sqrt(rho^2 + z^2)*z^4) + 2*m*z^4/(sqrt(rho^2 + z^2)*rho^4 + 2*sqrt(rho^2 + z^2)*rho^2*z^2 + sqrt(rho^2 + z^2)*z^4) + m^2*rho^2/(rho^4 + 2*rho^2*z^2 + z^4)) - (m^3*rho^6 + 2*m*rho^8 - m*rho^2*z^6 - 3*(m^3*rho^4 - m*rho^6)*z^2)*e^(2*m*rho^4/(sqrt(rho^2 + z^2)*rho^4 + 2*sqrt(rho^2 + z^2)*rho^2*z^2 + sqrt(rho^2 + z^2)*z^4) + 4*m*rho^2*z^2/(sqrt(rho^2 + z^2)*rho^4 + 2*sqrt(rho^2 + z^2)*rho^2*z^2 + sqrt(rho^2 + z^2)*z^4) + 2*m*z^4/(sqrt(rho^2 + z^2)*rho^4 + 2*sqrt(rho^2 + z^2)*rho^2*z^2 + sqrt(rho^2 + z^2)*z^4) + m^2*rho^2/(rho^4 + 2*rho^2*z^2 + z^4)))*e^(-2*m/sqrt(rho^2 + z^2))/((rho^8 + 4*rho^6*z^2 + 6*rho^4*z^4 + 4*rho^2*z^6 + z^8)*sqrt(rho^2 + z^2)) "
      ]
     },
     "execution_count": 11,
     "metadata": {},
     "output_type": "execute_result"
    }
   ],
   "source": [
    "riem.display_comp()"
   ]
  },
  {
   "cell_type": "code",
   "execution_count": 12,
   "metadata": {},
   "outputs": [
    {
     "data": {
      "text/html": [
       "<html><script type=\"math/tex; mode=display\">\\newcommand{\\Bold}[1]{\\mathbf{#1}}-\\frac{2 \\, m^{2} {\\rho}^{6} + 3 \\, m^{2} {\\rho}^{4} z^{2} - m^{2} z^{6} - {\\left(m^{3} {\\rho}^{4} + 2 \\, m {\\rho}^{6} - m z^{6} - 3 \\, {\\left(m^{3} {\\rho}^{2} - m {\\rho}^{4}\\right)} z^{2}\\right)} \\sqrt{{\\rho}^{2} + z^{2}}}{{\\rho}^{10} + 5 \\, {\\rho}^{8} z^{2} + 10 \\, {\\rho}^{6} z^{4} + 10 \\, {\\rho}^{4} z^{6} + 5 \\, {\\rho}^{2} z^{8} + z^{10}}</script></html>"
      ],
      "text/plain": [
       "-(2*m^2*rho^6 + 3*m^2*rho^4*z^2 - m^2*z^6 - (m^3*rho^4 + 2*m*rho^6 - m*z^6 - 3*(m^3*rho^2 - m*rho^4)*z^2)*sqrt(rho^2 + z^2))/(rho^10 + 5*rho^8*z^2 + 10*rho^6*z^4 + 10*rho^4*z^6 + 5*rho^2*z^8 + z^10)"
      ]
     },
     "execution_count": 12,
     "metadata": {},
     "output_type": "execute_result"
    }
   ],
   "source": [
    "riem[0,1,0,1]"
   ]
  },
  {
   "cell_type": "markdown",
   "metadata": {},
   "source": [
    "# Ricci tensor"
   ]
  },
  {
   "cell_type": "code",
   "execution_count": 13,
   "metadata": {},
   "outputs": [],
   "source": [
    "ric = nab.ricci()"
   ]
  },
  {
   "cell_type": "code",
   "execution_count": 14,
   "metadata": {},
   "outputs": [
    {
     "data": {
      "text/html": [
       "<html><script type=\"math/tex; mode=display\">\\newcommand{\\Bold}[1]{\\mathbf{#1}}\\mathrm{Ric}\\left(g\\right) = 0</script></html>"
      ],
      "text/plain": [
       "Ric(g) = 0"
      ]
     },
     "execution_count": 14,
     "metadata": {},
     "output_type": "execute_result"
    }
   ],
   "source": [
    "ric.display()"
   ]
  },
  {
   "cell_type": "markdown",
   "metadata": {},
   "source": [
    "# Ricci Scalar\n"
   ]
  },
  {
   "cell_type": "code",
   "execution_count": 15,
   "metadata": {},
   "outputs": [],
   "source": [
    "ric_sc=g.ricci_scalar()"
   ]
  },
  {
   "cell_type": "code",
   "execution_count": 16,
   "metadata": {},
   "outputs": [
    {
     "data": {
      "text/html": [
       "<html><script type=\"math/tex; mode=display\">\\newcommand{\\Bold}[1]{\\mathbf{#1}}\\begin{array}{llcl} \\mathrm{r}\\left(g\\right):& M & \\longrightarrow & \\mathbb{R} \\\\ & \\left(t, {\\rho}, {\\phi}, z\\right) & \\longmapsto & 0 \\end{array}</script></html>"
      ],
      "text/plain": [
       "r(g): M --> R\n",
       "   (t, rho, ph, z) |--> 0"
      ]
     },
     "execution_count": 16,
     "metadata": {},
     "output_type": "execute_result"
    }
   ],
   "source": [
    "ric_sc.display()"
   ]
  },
  {
   "cell_type": "markdown",
   "metadata": {},
   "source": [
    "# Kretschmann scalar"
   ]
  },
  {
   "cell_type": "code",
   "execution_count": 17,
   "metadata": {},
   "outputs": [],
   "source": [
    "K = riem.down(g)['_{abcd}'] * riem.up(g)['^{abcd}']\n"
   ]
  },
  {
   "cell_type": "code",
   "execution_count": 317,
   "metadata": {},
   "outputs": [
    {
     "data": {
      "text/html": [
       "<html><script type=\"math/tex; mode=display\">\\newcommand{\\Bold}[1]{\\mathbf{#1}}\\frac{16 \\, {\\left(m^{4} {\\rho}^{2} - 3 \\, \\sqrt{{\\rho}^{2} + z^{2}} m^{3} {\\rho}^{2} - 6 \\, {\\left({\\rho}^{2} + z^{2}\\right)}^{\\frac{5}{2}} m + 3 \\, {\\left(2 \\, m^{2} {\\rho}^{2} + m^{2} z^{2} + {\\left({\\rho}^{2} + z^{2}\\right)}^{2}\\right)} {\\left({\\rho}^{2} + z^{2}\\right)}\\right)} m^{2} e^{\\left(\\frac{2 \\, m^{2} {\\rho}^{2}}{{\\left({\\rho}^{2} + z^{2}\\right)}^{2}} - \\frac{4 \\, m}{\\sqrt{{\\rho}^{2} + z^{2}}}\\right)}}{{\\left({\\rho}^{2} + z^{2}\\right)}^{6}}</script></html>"
      ],
      "text/plain": [
       "16*(m^4*rho^2 - 3*sqrt(rho^2 + z^2)*m^3*rho^2 - 6*(rho^2 + z^2)^(5/2)*m + 3*(2*m^2*rho^2 + m^2*z^2 + (rho^2 + z^2)^2)*(rho^2 + z^2))*m^2*e^(2*m^2*rho^2/(rho^2 + z^2)^2 - 4*m/sqrt(rho^2 + z^2))/(rho^2 + z^2)^6"
      ]
     },
     "execution_count": 317,
     "metadata": {},
     "output_type": "execute_result"
    }
   ],
   "source": [
    "kr=K.expr() # Extraemos información del campo escalar\n",
    "\n",
    "# First exponent\n",
    "\n",
    "kr_den= kr.denominator()\n",
    "kr_num=kr*(kr_den)\n",
    "kr_num=simplify(kr_num)\n",
    "kr_num1=kr_num.operands()[0]\n",
    "kr_num1=kr_num1.operands()[0]\n",
    "exp1=simplify(kr_num1.operands()[1])\n",
    "exp1=exp1*kr_num.operands()[1]\n",
    "exp1_arg=simplify(ln(exp1))\n",
    "exp1_arg=simplify(exp1_arg.partial_fraction())\n",
    "exp1_arg_num=exp1_arg*exp1_arg.denominator()\n",
    "exp1_arg_num_0= exp1_arg_num.operands()[0]\n",
    "exp1_arg_1=exp1_arg_num_0/factor(exp1_arg.denominator())\n",
    "exp1_arg_num_1= exp1_arg_num.operands()[1]\n",
    "exp1_arg_2=exp1_arg_num_1/exp1_arg.denominator()\n",
    "exp1= exp(exp1_arg_1+exp1_arg_2)\n",
    "\n",
    "#second exponent\n",
    "\n",
    "kr_num3= kr_num.operands()[0]\n",
    "kr_num3=kr_num3.operands()[1]\n",
    "kr_num3=kr_num3.operands()[1]\n",
    "exp2=kr_num3*kr_num.operands()[1]\n",
    "exp2_arg= simplify(ln(exp2))\n",
    "exp2_arg=simplify(exp2_arg.partial_fraction())\n",
    "#exp2_arg= factor(exp2_arg)\n",
    "#exp2_arg_num= exp2_arg*exp2_arg.denominator()\n",
    "#exp2_arg_num=factor(exp2_arg_num)\n",
    "exp2_arg_num=exp2_arg*exp2_arg.denominator()\n",
    "exp2_arg_num_0= exp2_arg_num.operands()[0]\n",
    "exp2_arg_1=exp2_arg_num_0/factor(exp2_arg.denominator())\n",
    "exp2_arg_num_1= factor(expand(exp2_arg_num.operands()[1]))\n",
    "exp2_arg_2=exp2_arg_num_1/factor(exp2_arg.denominator())\n",
    "exp2= exp(exp2_arg_1+exp2_arg_2)\n",
    "\n",
    "\n",
    "#adding the similar term\n",
    "\n",
    "kr_num2=kr_num.operands()[0]\n",
    "kr_num2=kr_num2.operands()[2]\n",
    "kr_num2=kr_num2.operands()[1]\n",
    "kr_num2=kr_num2.operands()[0]\n",
    "kr_num2=kr_num2.operands()[0]\n",
    "a=factor(kr_num2)\n",
    "\n",
    "#the exponents are the same, we can sum factors\n",
    "bool(exp1==exp2)\n",
    "\n",
    "#factors \n",
    "\n",
    "factor_1= kr_num.operands()[0]\n",
    "factor_1=factor_1.operands()[0]\n",
    "factor_1=factor_1.operands()[0]\n",
    "\n",
    "\n",
    "factor_2=kr_num.operands()[0]\n",
    "factor_2=factor_2.operands()[1]\n",
    "factor_2=factor_2.operands()[0]\n",
    "factor_2\n",
    "\n",
    "sum_factor_1_factor_2= factor_1+factor_2\n",
    "sum_factor_1_factor_2=factor(sum_factor_1_factor_2)\n",
    "\n",
    "factor_3= kr_num.operands()[0]\n",
    "factor_3= factor_3.operands()[2]\n",
    "factor_3=factor_3.operands()[1]\n",
    "factor_3= factor_3.operands()[0]\n",
    "factor_3= factor_3.operands()[0]\n",
    "\n",
    "factor_4= kr_num.operands()[0]\n",
    "factor_4= factor_4.operands()[2]\n",
    "factor_4=factor_4.operands()[1]\n",
    "factor_4= factor_4.operands()[1]\n",
    "factor_4= factor_4.operands()[0]\n",
    "factor_4\n",
    "\n",
    "rad=kr_num.operands()[0]\n",
    "rad=rad.operands()[2]\n",
    "rad=-2*rad.operands()[0]\n",
    "\n",
    "sum_factor_3_factor_4= (factor_3+factor_4)*rad\n",
    "sum_factor_3_factor_4=factor(sum_factor_3_factor_4)\n",
    "\n",
    "kr_num_part= (sum_factor_1_factor_2+sum_factor_3_factor_4) # numerador del escalar sin el exponente\n",
    "\n",
    "kr_part= simplify(kr_num_part.factor()/factor(kr.denominator())) # escalar sin el exponente\n",
    "kr_num_part=kr_part.numerator()\n",
    "kr_num_part1= kr_num_part.operands()[0]# obviamos el 16m^2\n",
    "kr_num_part2= kr_num_part1.operands()[9]+kr_num_part1.operands()[10]+kr_num_part1.operands()[11]\n",
    "kr_num_part3=factor(kr_num_part2)\n",
    "kr_num_moment= factor(kr_num_part1 -kr_num_part2)\n",
    "kr_num_moment=kr_num_moment+kr_num_part3\n",
    "kr_num_part4= kr_num_part1.operands()[1]+kr_num_part1.operands()[2]+kr_num_part1.operands()[3]+kr_num_part1.operands()[4]+kr_num_part1.operands()[5]+kr_num_part1.operands()[6]+kr_num_part1.operands()[7]\n",
    "kr_num_part5= factor(kr_num_part4)\n",
    "kr_num_part6= kr_num_part5.operands()[0]\n",
    "kr_num_part7= kr_num_part6.operands()[1]+kr_num_part6.operands()[3]+kr_num_part6.operands()[4]\n",
    "kr_num_part8= factor(kr_num_part7)\n",
    "kr_num_moment_part=kr_num_part6-kr_num_part7\n",
    "kr_num_moment_part= kr_num_moment_part + kr_num_part8\n",
    "bool(kr_num_part6==kr_num_moment_part) # reemplazamos\n",
    "kr_num_part5= (kr_num_part5/kr_num_part6)*kr_num_moment_part\n",
    "kr_num_part4_1= kr_num_part5\n",
    "kr_num_moment=kr_num_moment-kr_num_part4\n",
    "kr_num_moment= kr_num_moment+kr_num_part4_1\n",
    "bool(kr_num_moment== kr_num_part1) #Los reemplazamos\n",
    "\n",
    "kr_num=16*(m^2)*kr_num_moment\n",
    "kr= kr_num/kr_part.denominator()*exp1 # Colocamos el exponente que quitamos al inicio\n",
    "kr #scalar final\n"
   ]
  }
 ],
 "metadata": {
  "kernelspec": {
   "display_name": "SageMath 9.1",
   "language": "sage",
   "name": "sagemath"
  },
  "language_info": {
   "codemirror_mode": {
    "name": "ipython",
    "version": 3
   },
   "file_extension": ".py",
   "mimetype": "text/x-python",
   "name": "python",
   "nbconvert_exporter": "python",
   "pygments_lexer": "ipython3",
   "version": "3.7.3"
  }
 },
 "nbformat": 4,
 "nbformat_minor": 2
}
